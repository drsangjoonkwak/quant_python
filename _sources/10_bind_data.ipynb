{
 "cells": [
  {
   "cell_type": "markdown",
   "metadata": {},
   "source": [
    "# 10. 데이터 정리하기"
   ]
  },
  {
   "cell_type": "markdown",
   "metadata": {},
   "source": [
    "지금까지 API와 크롤링을 통해 여러 금융 데이터를 수집하는 방법을 배웠습니다. 이번 장에서는 각각 csv 파일로 저장된 주가, 재무제표, 가치지표 데이터들을 하나로 합친 후 저장하는 과정을 살펴보겠습니다."
   ]
  },
  {
   "cell_type": "markdown",
   "metadata": {},
   "source": [
    "## 10.1 주가 정리하기"
   ]
  },
  {
   "cell_type": "markdown",
   "metadata": {},
   "source": [
    "주가는 data/KOR_price 폴더 내에 티커_price.csv 파일로 저장되어 있습니다. 해당 파일들을 불러온 후 데이터를 묶는 작업을 통해 하나의 파일로 합치는 방법을 알아보겠습니다."
   ]
  },
  {
   "cell_type": "code",
   "execution_count": 1,
   "metadata": {},
   "outputs": [
    {
     "name": "stderr",
     "output_type": "stream",
     "text": [
      "100%|█████████████████████████████████████████████████████████████████████████████| 2196/2196 [00:08<00:00, 267.97it/s]\n"
     ]
    }
   ],
   "source": [
    "import pandas as pd\n",
    "import numpy as np\n",
    "from tqdm import tqdm\n",
    "\n",
    "KOR_ticker = pd.read_csv('data/KOR_ticker.csv', index_col=0)\n",
    "KOR_ticker['종목코드'] = KOR_ticker['종목코드'].astype(np.str).str.zfill(6)\n",
    "\n",
    "price_list = {}\n",
    "\n",
    "for i in tqdm(range(0, len(KOR_ticker))):\n",
    "    name = KOR_ticker['종목코드'][i]\n",
    "    price_list[name] = pd.read_csv('data/KOR_price/'+name+'_price.csv', index_col=0)\n",
    "    \n",
    "price_list = pd.DataFrame({tic: data['Close'] for tic, data in price_list.items()})\n",
    "price_list = price_list.fillna(method='ffill')\n"
   ]
  },
  {
   "cell_type": "code",
   "execution_count": 3,
   "metadata": {},
   "outputs": [
    {
     "data": {
      "text/html": [
       "<div>\n",
       "<style scoped>\n",
       "    .dataframe tbody tr th:only-of-type {\n",
       "        vertical-align: middle;\n",
       "    }\n",
       "\n",
       "    .dataframe tbody tr th {\n",
       "        vertical-align: top;\n",
       "    }\n",
       "\n",
       "    .dataframe thead th {\n",
       "        text-align: right;\n",
       "    }\n",
       "</style>\n",
       "<table border=\"1\" class=\"dataframe\">\n",
       "  <thead>\n",
       "    <tr style=\"text-align: right;\">\n",
       "      <th></th>\n",
       "      <th>005930</th>\n",
       "      <th>000660</th>\n",
       "      <th>035420</th>\n",
       "      <th>051910</th>\n",
       "      <th>207940</th>\n",
       "      <th>035720</th>\n",
       "      <th>005380</th>\n",
       "      <th>006400</th>\n",
       "      <th>068270</th>\n",
       "      <th>000270</th>\n",
       "      <th>...</th>\n",
       "      <th>038160</th>\n",
       "      <th>033600</th>\n",
       "      <th>195440</th>\n",
       "      <th>058420</th>\n",
       "      <th>121890</th>\n",
       "      <th>114570</th>\n",
       "      <th>080440</th>\n",
       "      <th>347140</th>\n",
       "      <th>158310</th>\n",
       "      <th>028040</th>\n",
       "    </tr>\n",
       "  </thead>\n",
       "  <tbody>\n",
       "    <tr>\n",
       "      <th>2016-04-14</th>\n",
       "      <td>26000</td>\n",
       "      <td>27250</td>\n",
       "      <td>134791</td>\n",
       "      <td>338500</td>\n",
       "      <td>NaN</td>\n",
       "      <td>100300</td>\n",
       "      <td>152000</td>\n",
       "      <td>104000</td>\n",
       "      <td>102783</td>\n",
       "      <td>48050</td>\n",
       "      <td>...</td>\n",
       "      <td>NaN</td>\n",
       "      <td>1910</td>\n",
       "      <td>NaN</td>\n",
       "      <td>30125</td>\n",
       "      <td>7812</td>\n",
       "      <td>66222</td>\n",
       "      <td>8153</td>\n",
       "      <td>NaN</td>\n",
       "      <td>10800</td>\n",
       "      <td>4485.0</td>\n",
       "    </tr>\n",
       "    <tr>\n",
       "      <th>2016-04-15</th>\n",
       "      <td>26000</td>\n",
       "      <td>27650</td>\n",
       "      <td>134791</td>\n",
       "      <td>335000</td>\n",
       "      <td>NaN</td>\n",
       "      <td>101200</td>\n",
       "      <td>151500</td>\n",
       "      <td>106500</td>\n",
       "      <td>101102</td>\n",
       "      <td>48150</td>\n",
       "      <td>...</td>\n",
       "      <td>NaN</td>\n",
       "      <td>1930</td>\n",
       "      <td>NaN</td>\n",
       "      <td>29091</td>\n",
       "      <td>7841</td>\n",
       "      <td>67052</td>\n",
       "      <td>8153</td>\n",
       "      <td>NaN</td>\n",
       "      <td>10000</td>\n",
       "      <td>4590.0</td>\n",
       "    </tr>\n",
       "    <tr>\n",
       "      <th>2016-04-18</th>\n",
       "      <td>25980</td>\n",
       "      <td>27200</td>\n",
       "      <td>132388</td>\n",
       "      <td>337000</td>\n",
       "      <td>NaN</td>\n",
       "      <td>102200</td>\n",
       "      <td>154000</td>\n",
       "      <td>107500</td>\n",
       "      <td>98018</td>\n",
       "      <td>49050</td>\n",
       "      <td>...</td>\n",
       "      <td>NaN</td>\n",
       "      <td>1865</td>\n",
       "      <td>NaN</td>\n",
       "      <td>33419</td>\n",
       "      <td>7694</td>\n",
       "      <td>68579</td>\n",
       "      <td>8153</td>\n",
       "      <td>NaN</td>\n",
       "      <td>9530</td>\n",
       "      <td>4695.0</td>\n",
       "    </tr>\n",
       "    <tr>\n",
       "      <th>2016-04-19</th>\n",
       "      <td>25760</td>\n",
       "      <td>27450</td>\n",
       "      <td>133990</td>\n",
       "      <td>326500</td>\n",
       "      <td>NaN</td>\n",
       "      <td>102500</td>\n",
       "      <td>153000</td>\n",
       "      <td>106500</td>\n",
       "      <td>99046</td>\n",
       "      <td>48950</td>\n",
       "      <td>...</td>\n",
       "      <td>NaN</td>\n",
       "      <td>1900</td>\n",
       "      <td>NaN</td>\n",
       "      <td>38296</td>\n",
       "      <td>7664</td>\n",
       "      <td>68108</td>\n",
       "      <td>8153</td>\n",
       "      <td>NaN</td>\n",
       "      <td>10500</td>\n",
       "      <td>5630.0</td>\n",
       "    </tr>\n",
       "    <tr>\n",
       "      <th>2016-04-20</th>\n",
       "      <td>25980</td>\n",
       "      <td>27550</td>\n",
       "      <td>130986</td>\n",
       "      <td>322000</td>\n",
       "      <td>NaN</td>\n",
       "      <td>103100</td>\n",
       "      <td>151500</td>\n",
       "      <td>107000</td>\n",
       "      <td>96710</td>\n",
       "      <td>48350</td>\n",
       "      <td>...</td>\n",
       "      <td>NaN</td>\n",
       "      <td>1905</td>\n",
       "      <td>NaN</td>\n",
       "      <td>38643</td>\n",
       "      <td>7694</td>\n",
       "      <td>69050</td>\n",
       "      <td>8153</td>\n",
       "      <td>NaN</td>\n",
       "      <td>11050</td>\n",
       "      <td>5250.0</td>\n",
       "    </tr>\n",
       "  </tbody>\n",
       "</table>\n",
       "<p>5 rows × 2197 columns</p>\n",
       "</div>"
      ],
      "text/plain": [
       "            005930  000660  035420  051910  207940  035720  005380  006400  \\\n",
       "2016-04-14   26000   27250  134791  338500     NaN  100300  152000  104000   \n",
       "2016-04-15   26000   27650  134791  335000     NaN  101200  151500  106500   \n",
       "2016-04-18   25980   27200  132388  337000     NaN  102200  154000  107500   \n",
       "2016-04-19   25760   27450  133990  326500     NaN  102500  153000  106500   \n",
       "2016-04-20   25980   27550  130986  322000     NaN  103100  151500  107000   \n",
       "\n",
       "            068270  000270  ...  038160  033600  195440  058420  121890  \\\n",
       "2016-04-14  102783   48050  ...     NaN    1910     NaN   30125    7812   \n",
       "2016-04-15  101102   48150  ...     NaN    1930     NaN   29091    7841   \n",
       "2016-04-18   98018   49050  ...     NaN    1865     NaN   33419    7694   \n",
       "2016-04-19   99046   48950  ...     NaN    1900     NaN   38296    7664   \n",
       "2016-04-20   96710   48350  ...     NaN    1905     NaN   38643    7694   \n",
       "\n",
       "            114570  080440  347140  158310  028040  \n",
       "2016-04-14   66222    8153     NaN   10800  4485.0  \n",
       "2016-04-15   67052    8153     NaN   10000  4590.0  \n",
       "2016-04-18   68579    8153     NaN    9530  4695.0  \n",
       "2016-04-19   68108    8153     NaN   10500  5630.0  \n",
       "2016-04-20   69050    8153     NaN   11050  5250.0  \n",
       "\n",
       "[5 rows x 2197 columns]"
      ]
     },
     "execution_count": 3,
     "metadata": {},
     "output_type": "execute_result"
    }
   ],
   "source": [
    "price_list.head()"
   ]
  },
  {
   "cell_type": "code",
   "execution_count": 4,
   "metadata": {},
   "outputs": [
    {
     "data": {
      "text/html": [
       "<div>\n",
       "<style scoped>\n",
       "    .dataframe tbody tr th:only-of-type {\n",
       "        vertical-align: middle;\n",
       "    }\n",
       "\n",
       "    .dataframe tbody tr th {\n",
       "        vertical-align: top;\n",
       "    }\n",
       "\n",
       "    .dataframe thead th {\n",
       "        text-align: right;\n",
       "    }\n",
       "</style>\n",
       "<table border=\"1\" class=\"dataframe\">\n",
       "  <thead>\n",
       "    <tr style=\"text-align: right;\">\n",
       "      <th></th>\n",
       "      <th>005930</th>\n",
       "      <th>000660</th>\n",
       "      <th>035420</th>\n",
       "      <th>051910</th>\n",
       "      <th>207940</th>\n",
       "      <th>035720</th>\n",
       "      <th>005380</th>\n",
       "      <th>006400</th>\n",
       "      <th>068270</th>\n",
       "      <th>000270</th>\n",
       "      <th>...</th>\n",
       "      <th>038160</th>\n",
       "      <th>033600</th>\n",
       "      <th>195440</th>\n",
       "      <th>058420</th>\n",
       "      <th>121890</th>\n",
       "      <th>114570</th>\n",
       "      <th>080440</th>\n",
       "      <th>347140</th>\n",
       "      <th>158310</th>\n",
       "      <th>028040</th>\n",
       "    </tr>\n",
       "  </thead>\n",
       "  <tbody>\n",
       "    <tr>\n",
       "      <th>2021-04-08</th>\n",
       "      <td>84700</td>\n",
       "      <td>144000</td>\n",
       "      <td>381500</td>\n",
       "      <td>810000</td>\n",
       "      <td>763000.0</td>\n",
       "      <td>548000</td>\n",
       "      <td>231500</td>\n",
       "      <td>657000</td>\n",
       "      <td>311500</td>\n",
       "      <td>87100</td>\n",
       "      <td>...</td>\n",
       "      <td>862.0</td>\n",
       "      <td>179</td>\n",
       "      <td>2075.0</td>\n",
       "      <td>2160</td>\n",
       "      <td>739</td>\n",
       "      <td>620</td>\n",
       "      <td>498</td>\n",
       "      <td>2080.0</td>\n",
       "      <td>505</td>\n",
       "      <td>23.0</td>\n",
       "    </tr>\n",
       "    <tr>\n",
       "      <th>2021-04-09</th>\n",
       "      <td>83600</td>\n",
       "      <td>140000</td>\n",
       "      <td>383500</td>\n",
       "      <td>812000</td>\n",
       "      <td>770000.0</td>\n",
       "      <td>558000</td>\n",
       "      <td>228500</td>\n",
       "      <td>663000</td>\n",
       "      <td>309500</td>\n",
       "      <td>84600</td>\n",
       "      <td>...</td>\n",
       "      <td>862.0</td>\n",
       "      <td>179</td>\n",
       "      <td>2075.0</td>\n",
       "      <td>2160</td>\n",
       "      <td>739</td>\n",
       "      <td>620</td>\n",
       "      <td>498</td>\n",
       "      <td>2080.0</td>\n",
       "      <td>505</td>\n",
       "      <td>17.0</td>\n",
       "    </tr>\n",
       "    <tr>\n",
       "      <th>2021-04-12</th>\n",
       "      <td>83200</td>\n",
       "      <td>137500</td>\n",
       "      <td>385500</td>\n",
       "      <td>817000</td>\n",
       "      <td>782000.0</td>\n",
       "      <td>558000</td>\n",
       "      <td>226000</td>\n",
       "      <td>655000</td>\n",
       "      <td>310500</td>\n",
       "      <td>84300</td>\n",
       "      <td>...</td>\n",
       "      <td>862.0</td>\n",
       "      <td>179</td>\n",
       "      <td>2075.0</td>\n",
       "      <td>2160</td>\n",
       "      <td>739</td>\n",
       "      <td>620</td>\n",
       "      <td>498</td>\n",
       "      <td>2080.0</td>\n",
       "      <td>505</td>\n",
       "      <td>6.0</td>\n",
       "    </tr>\n",
       "    <tr>\n",
       "      <th>2021-04-13</th>\n",
       "      <td>84000</td>\n",
       "      <td>139500</td>\n",
       "      <td>388500</td>\n",
       "      <td>868000</td>\n",
       "      <td>784000.0</td>\n",
       "      <td>558000</td>\n",
       "      <td>230000</td>\n",
       "      <td>690000</td>\n",
       "      <td>316000</td>\n",
       "      <td>85500</td>\n",
       "      <td>...</td>\n",
       "      <td>862.0</td>\n",
       "      <td>179</td>\n",
       "      <td>2075.0</td>\n",
       "      <td>2160</td>\n",
       "      <td>739</td>\n",
       "      <td>620</td>\n",
       "      <td>498</td>\n",
       "      <td>2080.0</td>\n",
       "      <td>505</td>\n",
       "      <td>6.0</td>\n",
       "    </tr>\n",
       "    <tr>\n",
       "      <th>2021-04-14</th>\n",
       "      <td>83600</td>\n",
       "      <td>137000</td>\n",
       "      <td>393500</td>\n",
       "      <td>891000</td>\n",
       "      <td>789000.0</td>\n",
       "      <td>558000</td>\n",
       "      <td>234000</td>\n",
       "      <td>695000</td>\n",
       "      <td>313500</td>\n",
       "      <td>86700</td>\n",
       "      <td>...</td>\n",
       "      <td>862.0</td>\n",
       "      <td>179</td>\n",
       "      <td>2075.0</td>\n",
       "      <td>2160</td>\n",
       "      <td>739</td>\n",
       "      <td>620</td>\n",
       "      <td>498</td>\n",
       "      <td>2080.0</td>\n",
       "      <td>505</td>\n",
       "      <td>6.0</td>\n",
       "    </tr>\n",
       "  </tbody>\n",
       "</table>\n",
       "<p>5 rows × 2197 columns</p>\n",
       "</div>"
      ],
      "text/plain": [
       "            005930  000660  035420  051910    207940  035720  005380  006400  \\\n",
       "2021-04-08   84700  144000  381500  810000  763000.0  548000  231500  657000   \n",
       "2021-04-09   83600  140000  383500  812000  770000.0  558000  228500  663000   \n",
       "2021-04-12   83200  137500  385500  817000  782000.0  558000  226000  655000   \n",
       "2021-04-13   84000  139500  388500  868000  784000.0  558000  230000  690000   \n",
       "2021-04-14   83600  137000  393500  891000  789000.0  558000  234000  695000   \n",
       "\n",
       "            068270  000270  ...  038160  033600  195440  058420  121890  \\\n",
       "2021-04-08  311500   87100  ...   862.0     179  2075.0    2160     739   \n",
       "2021-04-09  309500   84600  ...   862.0     179  2075.0    2160     739   \n",
       "2021-04-12  310500   84300  ...   862.0     179  2075.0    2160     739   \n",
       "2021-04-13  316000   85500  ...   862.0     179  2075.0    2160     739   \n",
       "2021-04-14  313500   86700  ...   862.0     179  2075.0    2160     739   \n",
       "\n",
       "            114570  080440  347140  158310  028040  \n",
       "2021-04-08     620     498  2080.0     505    23.0  \n",
       "2021-04-09     620     498  2080.0     505    17.0  \n",
       "2021-04-12     620     498  2080.0     505     6.0  \n",
       "2021-04-13     620     498  2080.0     505     6.0  \n",
       "2021-04-14     620     498  2080.0     505     6.0  \n",
       "\n",
       "[5 rows x 2197 columns]"
      ]
     },
     "execution_count": 4,
     "metadata": {},
     "output_type": "execute_result"
    }
   ],
   "source": [
    "price_list.tail()"
   ]
  },
  {
   "cell_type": "markdown",
   "metadata": {},
   "source": [
    "1. 티커가 저장된 csv 파일을 불러온 후 티커를 6자리로 맞춰줍니다.\n",
    "2. 빈 딕셔너리인 price_list를 생성합니다.\n",
    "3. for loop 구문을 이용해 종목별 주가 데이터를 불러옵니다.\n",
    "4. 종가에 해당하는 Close만을 선택한 후, 데이터프레임 형태로 만듭니다.\n",
    "5. 간혹 결측치가 발생할 수 있으므로, `fillna()` 함수를 통해 결측치에는 전일 데이터를 사용합니다.\n",
    "\n",
    "해당 작업을 통해 개별 csv 파일로 흩어져 있던 가격 데이터가 하나의 데이터로 묶이게 됩니다."
   ]
  },
  {
   "cell_type": "code",
   "execution_count": 2,
   "metadata": {},
   "outputs": [],
   "source": [
    "price_list.to_csv('data/KOR_price.csv')"
   ]
  },
  {
   "cell_type": "markdown",
   "metadata": {
    "deletable": false,
    "editable": false,
    "run_control": {
     "frozen": true
    }
   },
   "source": [
    "마지막으로 해당 데이터를 data 폴더에 KOR_price.csv 파일로 저장합니다."
   ]
  },
  {
   "cell_type": "markdown",
   "metadata": {},
   "source": [
    "## 10.2 재무제표 정리하기"
   ]
  },
  {
   "cell_type": "markdown",
   "metadata": {},
   "source": [
    "재무제표는 data/KOR_fs 폴더 내 티커_fs.csv 파일로 저장되어 있습니다. 주가는 하나의 열로 이루어져 있어 데이터를 정리하는 것이 간단했지만, 재무제표는 각 종목별 재무 항목이 모두 달라 정리하기 번거롭습니다."
   ]
  },
  {
   "cell_type": "code",
   "execution_count": 1,
   "metadata": {},
   "outputs": [
    {
     "name": "stderr",
     "output_type": "stream",
     "text": [
      "100%|█████████████████████████████████████████████████████████████████████████████| 2196/2196 [00:04<00:00, 531.47it/s]\n"
     ]
    }
   ],
   "source": [
    "import pandas as pd\n",
    "import numpy as np\n",
    "from tqdm import tqdm\n",
    "\n",
    "KOR_ticker = pd.read_csv('data/KOR_ticker.csv', index_col=0)\n",
    "KOR_ticker['종목코드'] = KOR_ticker['종목코드'].astype(np.str).str.zfill(6)\n",
    "\n",
    "data_fs = {}\n",
    "\n",
    "for i in tqdm(range(0, len(KOR_ticker))):\n",
    "    name = KOR_ticker['종목코드'][i]\n",
    "    data_fs[name] = pd.read_csv('data/KOR_fs/'+name+'_fs.csv', index_col=0)"
   ]
  },
  {
   "cell_type": "markdown",
   "metadata": {},
   "source": [
    "주가와 동일하게 먼저 티커 데이터를 읽어온 후, 이를 바탕으로 종목별 재무제표 데이터를 읽어와 딕셔너리에 저장합니다."
   ]
  },
  {
   "cell_type": "code",
   "execution_count": 4,
   "metadata": {},
   "outputs": [
    {
     "data": {
      "text/plain": [
       "237"
      ]
     },
     "execution_count": 4,
     "metadata": {},
     "output_type": "execute_result"
    }
   ],
   "source": [
    "fs_item = data_fs['005930'].index\n",
    "len(fs_item)"
   ]
  },
  {
   "cell_type": "code",
   "execution_count": 5,
   "metadata": {},
   "outputs": [
    {
     "name": "stdout",
     "output_type": "stream",
     "text": [
      "Index(['매출액', '매출원가', '매출총이익', '판매비와관리비', '인건비', '유무형자산상각비', '연구개발비', '광고선전비',\n",
      "       '판매비', '관리비',\n",
      "       ...\n",
      "       '자기주식의취득', '자본구성항목의감소', '기타재무활동으로인한현금유출액', '기타재무활동으로인한현금흐름',\n",
      "       '영업투자재무활동기타현금흐름', '연결범위변동으로인한현금의증가', '환율변동효과', '현금및현금성자산의증가',\n",
      "       '기초현금및현금성자산', '기말현금및현금성자산'],\n",
      "      dtype='object', name='IFRS(연결)', length=237)\n"
     ]
    }
   ],
   "source": [
    "print(fs_item)"
   ]
  },
  {
   "cell_type": "markdown",
   "metadata": {},
   "source": [
    "다음으로 재무제표 항목의 기준을 정해줄 필요가 있습니다. 재무제표 작성 항목은 각 업종별로 상이하므로, 이를 모두 고려하면 지나치게 데이터가 커지게 됩니다. 또한 퀀트 투자에는 일반적이고 공통적인 항목을 주로 사용하므로 대표적인 재무 항목을 정해 이를 기준으로 데이터를 정리해도 충분합니다.\n",
    "\n",
    "따라서 기준점으로 첫 번째 리스트, 즉 삼성전자의 재무 항목을 선택합니다. 해당 기준을 바탕으로 재무제표 데이터를 정리하며, 전체 항목에 대한 정리 이전에 간단한 예시로 첫 번째 항목인 매출액 기준 데이터 정리를 살펴보겠습니다."
   ]
  },
  {
   "cell_type": "code",
   "execution_count": 6,
   "metadata": {},
   "outputs": [
    {
     "data": {
      "text/html": [
       "<div>\n",
       "<style scoped>\n",
       "    .dataframe tbody tr th:only-of-type {\n",
       "        vertical-align: middle;\n",
       "    }\n",
       "\n",
       "    .dataframe tbody tr th {\n",
       "        vertical-align: top;\n",
       "    }\n",
       "\n",
       "    .dataframe thead th {\n",
       "        text-align: right;\n",
       "    }\n",
       "</style>\n",
       "<table border=\"1\" class=\"dataframe\">\n",
       "  <thead>\n",
       "    <tr style=\"text-align: right;\">\n",
       "      <th></th>\n",
       "      <th></th>\n",
       "      <th>2017/12</th>\n",
       "      <th>2018/12</th>\n",
       "      <th>2019/12</th>\n",
       "      <th>2020/12</th>\n",
       "      <th>Blank</th>\n",
       "    </tr>\n",
       "  </thead>\n",
       "  <tbody>\n",
       "    <tr>\n",
       "      <th>005930</th>\n",
       "      <th>매출액</th>\n",
       "      <td>2395754.0</td>\n",
       "      <td>2437714.0</td>\n",
       "      <td>2304009.0</td>\n",
       "      <td>2368070.0</td>\n",
       "      <td>NaN</td>\n",
       "    </tr>\n",
       "    <tr>\n",
       "      <th>000660</th>\n",
       "      <th>매출액</th>\n",
       "      <td>301094.0</td>\n",
       "      <td>404451.0</td>\n",
       "      <td>269907.0</td>\n",
       "      <td>319004.0</td>\n",
       "      <td>NaN</td>\n",
       "    </tr>\n",
       "    <tr>\n",
       "      <th>035420</th>\n",
       "      <th>매출액</th>\n",
       "      <td>46785.0</td>\n",
       "      <td>55869.0</td>\n",
       "      <td>43562.0</td>\n",
       "      <td>53041.0</td>\n",
       "      <td>NaN</td>\n",
       "    </tr>\n",
       "    <tr>\n",
       "      <th>051910</th>\n",
       "      <th>매출액</th>\n",
       "      <td>256980.0</td>\n",
       "      <td>281830.0</td>\n",
       "      <td>273531.0</td>\n",
       "      <td>300765.0</td>\n",
       "      <td>NaN</td>\n",
       "    </tr>\n",
       "    <tr>\n",
       "      <th>207940</th>\n",
       "      <th>매출액</th>\n",
       "      <td>4646.0</td>\n",
       "      <td>5358.0</td>\n",
       "      <td>7016.0</td>\n",
       "      <td>11648.0</td>\n",
       "      <td>NaN</td>\n",
       "    </tr>\n",
       "  </tbody>\n",
       "</table>\n",
       "</div>"
      ],
      "text/plain": [
       "              2017/12    2018/12    2019/12    2020/12  Blank\n",
       "005930 매출액  2395754.0  2437714.0  2304009.0  2368070.0    NaN\n",
       "000660 매출액   301094.0   404451.0   269907.0   319004.0    NaN\n",
       "035420 매출액    46785.0    55869.0    43562.0    53041.0    NaN\n",
       "051910 매출액   256980.0   281830.0   273531.0   300765.0    NaN\n",
       "207940 매출액     4646.0     5358.0     7016.0    11648.0    NaN"
      ]
     },
     "execution_count": 6,
     "metadata": {},
     "output_type": "execute_result"
    }
   ],
   "source": [
    "select_fs = {}\n",
    "\n",
    "for i in data_fs:\n",
    "    # 해당 항목이 있을시 데이터를 선택\n",
    "    if '매출액' in data_fs[i].index:\n",
    "        select_fs[i] = data_fs[i].loc[['매출액'], :]\n",
    "    # 해당 항목이 존재하지 않을 시, NA로 된 데이터프레임 생성    \n",
    "    else:\n",
    "        select_fs[i] = pd.DataFrame({'Blank' : [np.nan]})\n",
    "        \n",
    "select_fs = pd.concat(select_fs, axis=0)      \n",
    "\n",
    "select_fs.head()"
   ]
  },
  {
   "cell_type": "markdown",
   "metadata": {},
   "source": [
    "1. select_fs의 빈 딕셔너리를 만들어 줍니다.\n",
    "2. 각 종목들의 재무제표 중(data_fs) 매출액이 존재한다면 해당 행을 저장하고, 그렇지 않으면 NA로 이루어진 빈 데이터프레임을 저장합니다.\n",
    "3. `concat()` 함수를 통해 행의 형태로 저장합니다.\n",
    "\n",
    "합쳐진 데이터를 살펴보면 Blank 열이 존재하며, 이는 매출액 항목이 없는 종목의 경우 NA 데이터 프레임을 저장해 생긴 결과입니다. 이를 고려해 데이터를 클렌징합니다."
   ]
  },
  {
   "cell_type": "code",
   "execution_count": 7,
   "metadata": {},
   "outputs": [
    {
     "data": {
      "text/html": [
       "<div>\n",
       "<style scoped>\n",
       "    .dataframe tbody tr th:only-of-type {\n",
       "        vertical-align: middle;\n",
       "    }\n",
       "\n",
       "    .dataframe tbody tr th {\n",
       "        vertical-align: top;\n",
       "    }\n",
       "\n",
       "    .dataframe thead th {\n",
       "        text-align: right;\n",
       "    }\n",
       "</style>\n",
       "<table border=\"1\" class=\"dataframe\">\n",
       "  <thead>\n",
       "    <tr style=\"text-align: right;\">\n",
       "      <th></th>\n",
       "      <th>2017/12</th>\n",
       "      <th>2018/12</th>\n",
       "      <th>2019/12</th>\n",
       "      <th>2020/12</th>\n",
       "    </tr>\n",
       "    <tr>\n",
       "      <th>종목코드</th>\n",
       "      <th></th>\n",
       "      <th></th>\n",
       "      <th></th>\n",
       "      <th></th>\n",
       "    </tr>\n",
       "  </thead>\n",
       "  <tbody>\n",
       "    <tr>\n",
       "      <th>005930</th>\n",
       "      <td>2395754.0</td>\n",
       "      <td>2437714.0</td>\n",
       "      <td>2304009.0</td>\n",
       "      <td>2368070.0</td>\n",
       "    </tr>\n",
       "    <tr>\n",
       "      <th>000660</th>\n",
       "      <td>301094.0</td>\n",
       "      <td>404451.0</td>\n",
       "      <td>269907.0</td>\n",
       "      <td>319004.0</td>\n",
       "    </tr>\n",
       "    <tr>\n",
       "      <th>035420</th>\n",
       "      <td>46785.0</td>\n",
       "      <td>55869.0</td>\n",
       "      <td>43562.0</td>\n",
       "      <td>53041.0</td>\n",
       "    </tr>\n",
       "    <tr>\n",
       "      <th>051910</th>\n",
       "      <td>256980.0</td>\n",
       "      <td>281830.0</td>\n",
       "      <td>273531.0</td>\n",
       "      <td>300765.0</td>\n",
       "    </tr>\n",
       "    <tr>\n",
       "      <th>207940</th>\n",
       "      <td>4646.0</td>\n",
       "      <td>5358.0</td>\n",
       "      <td>7016.0</td>\n",
       "      <td>11648.0</td>\n",
       "    </tr>\n",
       "  </tbody>\n",
       "</table>\n",
       "</div>"
      ],
      "text/plain": [
       "          2017/12    2018/12    2019/12    2020/12\n",
       "종목코드                                              \n",
       "005930  2395754.0  2437714.0  2304009.0  2368070.0\n",
       "000660   301094.0   404451.0   269907.0   319004.0\n",
       "035420    46785.0    55869.0    43562.0    53041.0\n",
       "051910   256980.0   281830.0   273531.0   300765.0\n",
       "207940     4646.0     5358.0     7016.0    11648.0"
      ]
     },
     "execution_count": 7,
     "metadata": {},
     "output_type": "execute_result"
    }
   ],
   "source": [
    "select_fs = select_fs.drop('Blank', axis = 1)\n",
    "select_fs = select_fs.sort_index(axis = 1)\n",
    "select_fs.index = KOR_ticker['종목코드']\n",
    "\n",
    "select_fs.head()"
   ]
  },
  {
   "cell_type": "markdown",
   "metadata": {},
   "source": [
    "1. `drop()` 함수를 통해 Blank 열을 삭제합니다.\n",
    "2. 열을 날짜 순서대로 정리합니다.\n",
    "3. 인덱스가 티커와 재무제표 항목 두개로 이루어져 있으므로, 티커만으로 변경합니다.\n",
    "\n",
    "해당 과정을 통해 전 종목의 매출액 데이터가 연도별로 정리되었습니다. for loop 구문을 이용해 모든 재무 항목에 대한 데이터를 정리하는 방법은 다음과 같습니다."
   ]
  },
  {
   "cell_type": "code",
   "execution_count": 8,
   "metadata": {},
   "outputs": [
    {
     "name": "stderr",
     "output_type": "stream",
     "text": [
      "100%|████████████████████████████████████████████████████████████████████████████████| 237/237 [08:06<00:00,  2.05s/it]\n"
     ]
    }
   ],
   "source": [
    "from tqdm import tqdm\n",
    "\n",
    "# 기준이 되는 재무제표 항목\n",
    "fs_item = data_fs['005930'].index\n",
    "\n",
    "fs_list = {}\n",
    "\n",
    "for i in tqdm(fs_item):    \n",
    "    \n",
    "    select_fs = {}\n",
    "\n",
    "    for j in data_fs:        \n",
    "        \n",
    "        # 해당 항목이 있으면 데이터 선택\n",
    "        if i in data_fs[j].index:\n",
    "            select_fs[j] = data_fs[j].loc[[i], :]\n",
    "        # 해당 항목 없으면 NA 데이터프레임 생성\n",
    "        else:\n",
    "            select_fs[j] = pd.DataFrame({'Blank' : [np.nan]})\n",
    "    \n",
    "    # 데이터 프레임으로 합쳐주기\n",
    "    select_fs = pd.concat(select_fs, axis=0)\n",
    "    \n",
    "    # 빈 컬럼 삭제 후 클렌징\n",
    "    select_fs = select_fs.loc[:, ~select_fs.columns.isin(['Blank'])]\n",
    "    select_fs = select_fs.sort_index(axis = 1)\n",
    "    select_fs.index = KOR_ticker['종목코드']\n",
    "    \n",
    "    fs_list[i] = select_fs"
   ]
  },
  {
   "cell_type": "markdown",
   "metadata": {
    "deletable": false,
    "editable": false,
    "run_control": {
     "frozen": true
    }
   },
   "source": [
    "위 과정을 거치면 각 재무 항목에 대한 전 종목의 연도별 데이터가 정리되어 있습니다."
   ]
  },
  {
   "cell_type": "code",
   "execution_count": 10,
   "metadata": {},
   "outputs": [],
   "source": [
    "import pickle\n",
    "\n",
    "with open('data/KOR_fs.pickle', 'wb') as f:\n",
    "    pickle.dump(fs_list, f, pickle.HIGHEST_PROTOCOL)"
   ]
  },
  {
   "cell_type": "markdown",
   "metadata": {
    "deletable": false,
    "editable": false,
    "run_control": {
     "frozen": true
    }
   },
   "source": [
    "마지막으로 해당 데이터를 data 폴더 내에 저장합니다. 딕셔너리 형태를 그대로 저장하기 위해 피클 형태로 저장합니다."
   ]
  },
  {
   "cell_type": "markdown",
   "metadata": {},
   "source": [
    "## 10.3 가치지표 정리하기"
   ]
  },
  {
   "cell_type": "markdown",
   "metadata": {},
   "source": [
    "가치지표는 data/KOR_value 폴더 내 티커_value.csv 파일로 저장되어 있습니다. 재무제표를 정리하는 방법과 거의 동일합니다."
   ]
  },
  {
   "cell_type": "code",
   "execution_count": 9,
   "metadata": {},
   "outputs": [],
   "source": [
    "import pandas as pd\n",
    "import numpy as np\n",
    "\n",
    "KOR_ticker = pd.read_csv('data/KOR_ticker.csv', index_col=0)\n",
    "KOR_ticker['종목코드'] = KOR_ticker['종목코드'].astype(np.str).str.zfill(6)"
   ]
  },
  {
   "cell_type": "code",
   "execution_count": 10,
   "metadata": {},
   "outputs": [
    {
     "name": "stderr",
     "output_type": "stream",
     "text": [
      "100%|█████████████████████████████████████████████████████████████████████████████| 2196/2196 [00:08<00:00, 271.12it/s]\n"
     ]
    }
   ],
   "source": [
    "from tqdm import tqdm\n",
    "\n",
    "data_value = {}\n",
    "\n",
    "for i in tqdm(range(0, len(KOR_ticker))):\n",
    "    name = KOR_ticker['종목코드'][i]\n",
    "    read_value = pd.read_csv('data/KOR_value/'+name+'_value.csv', index_col=0).transpose()     \n",
    "        \n",
    "    data_value[name] = read_value"
   ]
  },
  {
   "cell_type": "markdown",
   "metadata": {},
   "source": [
    "먼저 티커에 해당하는 파일을 불러온 후 `for loop` 구문을 통해 가치지표 데이터를 data_value 리스트에 저장합니다. 단, csv 내에 데이터가 {numref}`value_form`와 같이 행의 형태로 저장되어 있으므로, `transpose()` 함수를 이용해 형태를 바꿔줍니다."
   ]
  },
  {
   "cell_type": "markdown",
   "metadata": {},
   "source": [
    "```{table} 가치지표의 저장 예시\n",
    ":name: value_form\n",
    "\n",
    "| 밸류 | 내용 | \n",
    "| --- | --- |\n",
    "| PER | Number 1 |\n",
    "| PBR | Number 2 |\n",
    "| PCR | Number 3 |\n",
    "| PSR | Number 4 |\n",
    "```\n",
    "\n",
    "또한 가치지표가 없어 빈 데이터의 경우 NA로 채워주도록 합니다."
   ]
  },
  {
   "cell_type": "code",
   "execution_count": 11,
   "metadata": {},
   "outputs": [
    {
     "data": {
      "text/html": [
       "<div>\n",
       "<style scoped>\n",
       "    .dataframe tbody tr th:only-of-type {\n",
       "        vertical-align: middle;\n",
       "    }\n",
       "\n",
       "    .dataframe tbody tr th {\n",
       "        vertical-align: top;\n",
       "    }\n",
       "\n",
       "    .dataframe thead th {\n",
       "        text-align: right;\n",
       "    }\n",
       "</style>\n",
       "<table border=\"1\" class=\"dataframe\">\n",
       "  <thead>\n",
       "    <tr style=\"text-align: right;\">\n",
       "      <th></th>\n",
       "      <th></th>\n",
       "      <th>0</th>\n",
       "      <th>PBR</th>\n",
       "      <th>PCR</th>\n",
       "      <th>PER</th>\n",
       "      <th>PSR</th>\n",
       "    </tr>\n",
       "  </thead>\n",
       "  <tbody>\n",
       "    <tr>\n",
       "      <th>005930</th>\n",
       "      <th>2020/12</th>\n",
       "      <td>NaN</td>\n",
       "      <td>1.817233</td>\n",
       "      <td>7.680882</td>\n",
       "      <td>19.219868</td>\n",
       "      <td>2.117597</td>\n",
       "    </tr>\n",
       "    <tr>\n",
       "      <th>000660</th>\n",
       "      <th>2020/12</th>\n",
       "      <td>NaN</td>\n",
       "      <td>1.956426</td>\n",
       "      <td>8.246823</td>\n",
       "      <td>21.357349</td>\n",
       "      <td>3.183544</td>\n",
       "    </tr>\n",
       "    <tr>\n",
       "      <th>035420</th>\n",
       "      <th>2020/12</th>\n",
       "      <td>NaN</td>\n",
       "      <td>7.730534</td>\n",
       "      <td>44.096413</td>\n",
       "      <td>63.682596</td>\n",
       "      <td>12.031509</td>\n",
       "    </tr>\n",
       "    <tr>\n",
       "      <th>051910</th>\n",
       "      <th>2020/12</th>\n",
       "      <td>NaN</td>\n",
       "      <td>3.260929</td>\n",
       "      <td>10.490713</td>\n",
       "      <td>119.536000</td>\n",
       "      <td>2.037277</td>\n",
       "    </tr>\n",
       "    <tr>\n",
       "      <th>207940</th>\n",
       "      <th>2020/12</th>\n",
       "      <td>NaN</td>\n",
       "      <td>11.279760</td>\n",
       "      <td>256.671747</td>\n",
       "      <td>215.242158</td>\n",
       "      <td>44.534135</td>\n",
       "    </tr>\n",
       "  </tbody>\n",
       "</table>\n",
       "</div>"
      ],
      "text/plain": [
       "                 0        PBR         PCR         PER        PSR\n",
       "005930 2020/12 NaN   1.817233    7.680882   19.219868   2.117597\n",
       "000660 2020/12 NaN   1.956426    8.246823   21.357349   3.183544\n",
       "035420 2020/12 NaN   7.730534   44.096413   63.682596  12.031509\n",
       "051910 2020/12 NaN   3.260929   10.490713  119.536000   2.037277\n",
       "207940 2020/12 NaN  11.279760  256.671747  215.242158  44.534135"
      ]
     },
     "execution_count": 11,
     "metadata": {},
     "output_type": "execute_result"
    }
   ],
   "source": [
    "value_list = pd.concat(data_value, axis=0)\n",
    "\n",
    "value_list.head()"
   ]
  },
  {
   "cell_type": "markdown",
   "metadata": {},
   "source": [
    "`concat()` 함수를 통해 딕셔너리의 데이터들을 데이터프레임 형태로 묶어줍니다. 데이터를 확인해보면 PER, PBR, PCR, PSR 열 외에 불필요한 NA로 이루어진 열이 존재합니다. 해당 열을 삭제한 후 정리 작업을 하겠습니다."
   ]
  },
  {
   "cell_type": "code",
   "execution_count": 12,
   "metadata": {},
   "outputs": [
    {
     "data": {
      "text/html": [
       "<div>\n",
       "<style scoped>\n",
       "    .dataframe tbody tr th:only-of-type {\n",
       "        vertical-align: middle;\n",
       "    }\n",
       "\n",
       "    .dataframe tbody tr th {\n",
       "        vertical-align: top;\n",
       "    }\n",
       "\n",
       "    .dataframe thead th {\n",
       "        text-align: right;\n",
       "    }\n",
       "</style>\n",
       "<table border=\"1\" class=\"dataframe\">\n",
       "  <thead>\n",
       "    <tr style=\"text-align: right;\">\n",
       "      <th></th>\n",
       "      <th>PER</th>\n",
       "      <th>PBR</th>\n",
       "      <th>PCR</th>\n",
       "      <th>PSR</th>\n",
       "    </tr>\n",
       "    <tr>\n",
       "      <th>종목코드</th>\n",
       "      <th></th>\n",
       "      <th></th>\n",
       "      <th></th>\n",
       "      <th></th>\n",
       "    </tr>\n",
       "  </thead>\n",
       "  <tbody>\n",
       "    <tr>\n",
       "      <th>005930</th>\n",
       "      <td>19.219868</td>\n",
       "      <td>1.817233</td>\n",
       "      <td>7.680882</td>\n",
       "      <td>2.117597</td>\n",
       "    </tr>\n",
       "    <tr>\n",
       "      <th>000660</th>\n",
       "      <td>21.357349</td>\n",
       "      <td>1.956426</td>\n",
       "      <td>8.246823</td>\n",
       "      <td>3.183544</td>\n",
       "    </tr>\n",
       "    <tr>\n",
       "      <th>035420</th>\n",
       "      <td>63.682596</td>\n",
       "      <td>7.730534</td>\n",
       "      <td>44.096413</td>\n",
       "      <td>12.031509</td>\n",
       "    </tr>\n",
       "    <tr>\n",
       "      <th>051910</th>\n",
       "      <td>119.536000</td>\n",
       "      <td>3.260929</td>\n",
       "      <td>10.490713</td>\n",
       "      <td>2.037277</td>\n",
       "    </tr>\n",
       "    <tr>\n",
       "      <th>207940</th>\n",
       "      <td>215.242158</td>\n",
       "      <td>11.279760</td>\n",
       "      <td>256.671747</td>\n",
       "      <td>44.534135</td>\n",
       "    </tr>\n",
       "  </tbody>\n",
       "</table>\n",
       "</div>"
      ],
      "text/plain": [
       "               PER        PBR         PCR        PSR\n",
       "종목코드                                                \n",
       "005930   19.219868   1.817233    7.680882   2.117597\n",
       "000660   21.357349   1.956426    8.246823   3.183544\n",
       "035420   63.682596   7.730534   44.096413  12.031509\n",
       "051910  119.536000   3.260929   10.490713   2.037277\n",
       "207940  215.242158  11.279760  256.671747  44.534135"
      ]
     },
     "execution_count": 12,
     "metadata": {},
     "output_type": "execute_result"
    }
   ],
   "source": [
    "value_list = value_list.loc[:, ['PER', 'PBR', 'PCR', 'PSR']]\n",
    "value_list.index = KOR_ticker['종목코드']\n",
    "\n",
    "value_list.head()"
   ]
  },
  {
   "cell_type": "markdown",
   "metadata": {},
   "source": [
    "1. 열 이름이 가치지표에 해당하는 부분만 선택합니다.\n",
    "2. 인덱스를 티커로 변경합니다."
   ]
  },
  {
   "cell_type": "code",
   "execution_count": 13,
   "metadata": {},
   "outputs": [],
   "source": [
    "value_list.to_csv('data/KOR_value.csv')"
   ]
  },
  {
   "cell_type": "markdown",
   "metadata": {},
   "source": [
    "마지막으로 data 폴더 내에 KOR_value.csv 파일로 저장합니다."
   ]
  }
 ],
 "metadata": {
  "kernelspec": {
   "display_name": "Python 3",
   "language": "python",
   "name": "python3"
  },
  "language_info": {
   "codemirror_mode": {
    "name": "ipython",
    "version": 3
   },
   "file_extension": ".py",
   "mimetype": "text/x-python",
   "name": "python",
   "nbconvert_exporter": "python",
   "pygments_lexer": "ipython3",
   "version": "3.8.5"
  }
 },
 "nbformat": 4,
 "nbformat_minor": 4
}
