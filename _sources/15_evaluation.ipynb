{
 "cells": [
  {
   "cell_type": "code",
   "execution_count": 3,
   "metadata": {},
   "outputs": [],
   "source": [
    "import requests\n",
    "\n",
    "url = \"https://images.aqr.com/-/media/AQR/Documents/Insights/Data-Sets/Quality-Minus-Junk-Factors-Monthly.xlsx\"\n",
    "resp = requests.get(url)\n",
    "\n",
    "output = open('data/QMJ.xlsx', 'wb')\n",
    "output.write(resp.content)\n",
    "output.close()"
   ]
  },
  {
   "cell_type": "code",
   "execution_count": 5,
   "metadata": {},
   "outputs": [],
   "source": [
    "import pandas as pd\n",
    "\n",
    "xls_QMJ = pd.ExcelFile('data/QMJ.xlsx')"
   ]
  },
  {
   "cell_type": "code",
   "execution_count": 6,
   "metadata": {},
   "outputs": [
    {
     "data": {
      "text/plain": [
       "['QMJ Factors',\n",
       " 'Definition',\n",
       " 'Data Sources',\n",
       " '--> Additional Global Factors',\n",
       " 'MKT',\n",
       " 'SMB',\n",
       " 'HML FF',\n",
       " 'HML Devil',\n",
       " 'UMD',\n",
       " 'ME(t-1)',\n",
       " 'RF',\n",
       " 'Sources and Definitions',\n",
       " 'Disclosures']"
      ]
     },
     "execution_count": 6,
     "metadata": {},
     "output_type": "execute_result"
    }
   ],
   "source": [
    "xls_QMJ.sheet_names"
   ]
  },
  {
   "cell_type": "code",
   "execution_count": 16,
   "metadata": {},
   "outputs": [],
   "source": [
    "df_QMJ = xls_QMJ.parse(sheet_name = 'QMJ Factors', skiprows = 18)\n",
    "df_QMJ = df_QMJ.loc[df_QMJ['DATE'].notnull().values, ['DATE', 'Global']]\n",
    "\n",
    "df_MKT = xls_QMJ.parse(sheet_name = 'MKT', skiprows = 18)\n",
    "df_MKT = df_MKT.loc[df_MKT['DATE'].notnull().values, ['DATE', 'Global']]\n",
    "\n",
    "\n",
    "df_SMB = xls_QMJ.parse(sheet_name = 'SMB', skiprows = 18)\n",
    "df_SMB = df_SMB.loc[df_SMB['DATE'].notnull().values, ['DATE', 'Global']]\n",
    "\n",
    "df_HML = xls_QMJ.parse(sheet_name = 'HML Devil', skiprows = 18)\n",
    "df_HML = df_HML.loc[df_HML['DATE'].notnull().values, ['DATE', 'Global']]\n",
    "\n",
    "df_UMD = xls_QMJ.parse(sheet_name = 'UMD', skiprows = 18)\n",
    "df_UMD = df_UMD.loc[df_UMD['DATE'].notnull().values, ['DATE', 'Global']]\n",
    "\n",
    "df_RF = xls_QMJ.parse(sheet_name = 'RF', skiprows = 18)"
   ]
  },
  {
   "cell_type": "code",
   "execution_count": 26,
   "metadata": {},
   "outputs": [],
   "source": [
    "from functools import reduce\n",
    "\n",
    "df_list = [df_QMJ, df_MKT, df_SMB, df_HML, df_UMD, df_RF]\n",
    "\n",
    "df = reduce(lambda  left, right: pd.merge(left,right,on=['DATE'],\n",
    "                                          how='inner'), df_list).dropna()\n",
    "\n",
    "df.columns = ['DATE', 'QMJ', 'MKT', 'SMB', 'HML', 'UMD', 'RF']"
   ]
  },
  {
   "cell_type": "code",
   "execution_count": 27,
   "metadata": {},
   "outputs": [
    {
     "data": {
      "text/html": [
       "<div>\n",
       "<style scoped>\n",
       "    .dataframe tbody tr th:only-of-type {\n",
       "        vertical-align: middle;\n",
       "    }\n",
       "\n",
       "    .dataframe tbody tr th {\n",
       "        vertical-align: top;\n",
       "    }\n",
       "\n",
       "    .dataframe thead th {\n",
       "        text-align: right;\n",
       "    }\n",
       "</style>\n",
       "<table border=\"1\" class=\"dataframe\">\n",
       "  <thead>\n",
       "    <tr style=\"text-align: right;\">\n",
       "      <th></th>\n",
       "      <th>DATE</th>\n",
       "      <th>QMJ</th>\n",
       "      <th>MKT</th>\n",
       "      <th>SMB</th>\n",
       "      <th>HML</th>\n",
       "      <th>UMD</th>\n",
       "      <th>RF</th>\n",
       "    </tr>\n",
       "  </thead>\n",
       "  <tbody>\n",
       "    <tr>\n",
       "      <th>384</th>\n",
       "      <td>07/31/1989</td>\n",
       "      <td>0.012371</td>\n",
       "      <td>0.100141</td>\n",
       "      <td>-0.019710</td>\n",
       "      <td>-0.020359</td>\n",
       "      <td>0.022080</td>\n",
       "      <td>0.006658</td>\n",
       "    </tr>\n",
       "    <tr>\n",
       "      <th>385</th>\n",
       "      <td>08/31/1989</td>\n",
       "      <td>0.001429</td>\n",
       "      <td>-0.025248</td>\n",
       "      <td>0.020299</td>\n",
       "      <td>0.029662</td>\n",
       "      <td>-0.019099</td>\n",
       "      <td>0.006500</td>\n",
       "    </tr>\n",
       "    <tr>\n",
       "      <th>386</th>\n",
       "      <td>09/30/1989</td>\n",
       "      <td>0.003403</td>\n",
       "      <td>0.028691</td>\n",
       "      <td>0.024144</td>\n",
       "      <td>-0.013927</td>\n",
       "      <td>0.012080</td>\n",
       "      <td>0.006575</td>\n",
       "    </tr>\n",
       "    <tr>\n",
       "      <th>387</th>\n",
       "      <td>10/31/1989</td>\n",
       "      <td>0.031087</td>\n",
       "      <td>-0.040855</td>\n",
       "      <td>-0.011150</td>\n",
       "      <td>-0.011693</td>\n",
       "      <td>0.000345</td>\n",
       "      <td>0.006592</td>\n",
       "    </tr>\n",
       "    <tr>\n",
       "      <th>388</th>\n",
       "      <td>11/30/1989</td>\n",
       "      <td>0.007741</td>\n",
       "      <td>0.031000</td>\n",
       "      <td>-0.004366</td>\n",
       "      <td>-0.027178</td>\n",
       "      <td>0.008297</td>\n",
       "      <td>0.006475</td>\n",
       "    </tr>\n",
       "    <tr>\n",
       "      <th>...</th>\n",
       "      <td>...</td>\n",
       "      <td>...</td>\n",
       "      <td>...</td>\n",
       "      <td>...</td>\n",
       "      <td>...</td>\n",
       "      <td>...</td>\n",
       "      <td>...</td>\n",
       "    </tr>\n",
       "    <tr>\n",
       "      <th>757</th>\n",
       "      <td>08/31/2020</td>\n",
       "      <td>0.000284</td>\n",
       "      <td>0.063865</td>\n",
       "      <td>0.004438</td>\n",
       "      <td>0.000182</td>\n",
       "      <td>-0.010860</td>\n",
       "      <td>0.000075</td>\n",
       "    </tr>\n",
       "    <tr>\n",
       "      <th>758</th>\n",
       "      <td>09/30/2020</td>\n",
       "      <td>0.013606</td>\n",
       "      <td>-0.030732</td>\n",
       "      <td>0.012151</td>\n",
       "      <td>-0.031402</td>\n",
       "      <td>0.035866</td>\n",
       "      <td>0.000092</td>\n",
       "    </tr>\n",
       "    <tr>\n",
       "      <th>759</th>\n",
       "      <td>10/31/2020</td>\n",
       "      <td>0.009341</td>\n",
       "      <td>-0.022333</td>\n",
       "      <td>0.017241</td>\n",
       "      <td>0.013816</td>\n",
       "      <td>-0.007249</td>\n",
       "      <td>0.000083</td>\n",
       "    </tr>\n",
       "    <tr>\n",
       "      <th>760</th>\n",
       "      <td>11/30/2020</td>\n",
       "      <td>-0.081916</td>\n",
       "      <td>0.128086</td>\n",
       "      <td>0.027514</td>\n",
       "      <td>0.113377</td>\n",
       "      <td>-0.146656</td>\n",
       "      <td>0.000075</td>\n",
       "    </tr>\n",
       "    <tr>\n",
       "      <th>761</th>\n",
       "      <td>12/31/2020</td>\n",
       "      <td>-0.010404</td>\n",
       "      <td>0.046257</td>\n",
       "      <td>0.031592</td>\n",
       "      <td>-0.001584</td>\n",
       "      <td>0.000592</td>\n",
       "      <td>0.000067</td>\n",
       "    </tr>\n",
       "  </tbody>\n",
       "</table>\n",
       "<p>378 rows × 7 columns</p>\n",
       "</div>"
      ],
      "text/plain": [
       "           DATE       QMJ       MKT       SMB       HML       UMD        RF\n",
       "384  07/31/1989  0.012371  0.100141 -0.019710 -0.020359  0.022080  0.006658\n",
       "385  08/31/1989  0.001429 -0.025248  0.020299  0.029662 -0.019099  0.006500\n",
       "386  09/30/1989  0.003403  0.028691  0.024144 -0.013927  0.012080  0.006575\n",
       "387  10/31/1989  0.031087 -0.040855 -0.011150 -0.011693  0.000345  0.006592\n",
       "388  11/30/1989  0.007741  0.031000 -0.004366 -0.027178  0.008297  0.006475\n",
       "..          ...       ...       ...       ...       ...       ...       ...\n",
       "757  08/31/2020  0.000284  0.063865  0.004438  0.000182 -0.010860  0.000075\n",
       "758  09/30/2020  0.013606 -0.030732  0.012151 -0.031402  0.035866  0.000092\n",
       "759  10/31/2020  0.009341 -0.022333  0.017241  0.013816 -0.007249  0.000083\n",
       "760  11/30/2020 -0.081916  0.128086  0.027514  0.113377 -0.146656  0.000075\n",
       "761  12/31/2020 -0.010404  0.046257  0.031592 -0.001584  0.000592  0.000067\n",
       "\n",
       "[378 rows x 7 columns]"
      ]
     },
     "execution_count": 27,
     "metadata": {},
     "output_type": "execute_result"
    }
   ],
   "source": [
    "df"
   ]
  },
  {
   "cell_type": "code",
   "execution_count": 43,
   "metadata": {},
   "outputs": [],
   "source": [
    "df_select = df.loc[:, ['DATE', 'QMJ']].set_index('DATE')\n",
    "\n",
    "cum_ret  = (df_select + 1).cumprod()-1"
   ]
  },
  {
   "cell_type": "code",
   "execution_count": 51,
   "metadata": {},
   "outputs": [
    {
     "data": {
      "text/plain": [
       "<AxesSubplot:xlabel='DATE'>"
      ]
     },
     "execution_count": 51,
     "metadata": {},
     "output_type": "execute_result"
    },
    {
     "data": {
      "image/png": "[encoded data removed]",
      "text/plain": [
       "<Figure size 432x288 with 1 Axes>"
      ]
     },
     "metadata": {
      "needs_background": "light"
     },
     "output_type": "display_data"
    }
   ],
   "source": [
    "import matplotlib.pyplot as plt\n",
    "\n",
    "cum_ret.plot(legend = None)"
   ]
  },
  {
   "cell_type": "code",
   "execution_count": null,
   "metadata": {},
   "outputs": [],
   "source": []
  }
 ],
 "metadata": {
  "kernelspec": {
   "display_name": "Python 3",
   "language": "python",
   "name": "python3"
  },
  "language_info": {
   "codemirror_mode": {
    "name": "ipython",
    "version": 3
   },
   "file_extension": ".py",
   "mimetype": "text/x-python",
   "name": "python",
   "nbconvert_exporter": "python",
   "pygments_lexer": "ipython3",
   "version": "3.8.5"
  }
 },
 "nbformat": 4,
 "nbformat_minor": 4
}
