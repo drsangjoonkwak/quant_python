{
 "cells": [
  {
   "cell_type": "markdown",
   "metadata": {},
   "source": [
    "# 15. 성과 및 위험평가"
   ]
  },
  {
   "cell_type": "markdown",
   "metadata": {},
   "source": [
    "백테스트를 통해 포트폴리오 수익률을 구했다면, 이를 바탕으로 각종 성과 및 위험을 평가해야 합니다. 아무리 성과가 좋은 전략이라도 위험이 너무 크다면 투자를 하기 부담스럽습니다. 또한 전략의 수익률이 지속적으로 감소하는 추세라면 경쟁이 치열해져 더 이상 작동하지 않는 전략일 가능성도 있습니다.\n",
    "\n",
    "이번 장에서는 포트폴리오의 예시로 퀄리티 팩터를 종합적으로 고려한 QMJ(Quality Minus Junk) 팩터(Asness, Frazzini, and Pedersen 2019)의 수익률을 이용하겠습니다. QMJ 팩터란 우량성이 높은 종목들을 매수하고, 우량성이 낮은 종목들을 공매도하는 전략을 지수의 형태로 나타낸 것입니다. 해당 팩터의 수익률을 통해 성과 및 위험을 평가해보고, 회귀분석을 통해 다른 팩터와의 관계도 살펴보겠습니다.\n",
    "\n",
    "QMJ 팩터의 수익률은 AQR Capital Management의 Datasets[^aqr]에서 엑셀 파일을 다운로드 한 후 가공할 수도 있습니다. 그러나 해당 작업을 매번 하는 것은 지나치게 번거로우므로, 파이썬에서 엑셀 파일을 다운로드한 후 가공하겠습니다.\n",
    "\n",
    "[^aqr]: https://www.aqr.com/Insights/Datasets/Quality-Minus-Junk-Factors-Monthly"
   ]
  },
  {
   "cell_type": "code",
   "execution_count": 2,
   "metadata": {},
   "outputs": [],
   "source": [
    "import requests\n",
    "import pandas as pd\n",
    "\n",
    "url = \"https://images.aqr.com/-/media/AQR/Documents/Insights/Data-Sets/Quality-Minus-Junk-Factors-Monthly.xlsx\"\n",
    "resp = requests.get(url)\n",
    "\n",
    "output = open('data/QMJ.xlsx', 'wb')\n",
    "output.write(resp.content)\n",
    "output.close()"
   ]
  },
  {
   "cell_type": "code",
   "execution_count": 162,
   "metadata": {},
   "outputs": [
    {
     "data": {
      "text/plain": [
       "['QMJ Factors',\n",
       " 'Definition',\n",
       " 'Data Sources',\n",
       " '--> Additional Global Factors',\n",
       " 'MKT',\n",
       " 'SMB',\n",
       " 'HML FF',\n",
       " 'HML Devil',\n",
       " 'UMD',\n",
       " 'ME(t-1)',\n",
       " 'RF',\n",
       " 'Sources and Definitions',\n",
       " 'Disclosures']"
      ]
     },
     "execution_count": 162,
     "metadata": {},
     "output_type": "execute_result"
    }
   ],
   "source": [
    "xls_QMJ = pd.ExcelFile('data/QMJ.xlsx')\n",
    "xls_QMJ.sheet_names"
   ]
  },
  {
   "cell_type": "markdown",
   "metadata": {},
   "source": [
    "1. 해당 데이터의 엑셀 url을 저장합니다.\n",
    "2. `get()` 함수를 통해 페이지의 데이터를 불러옵니다.\n",
    "3. `open()` 함수를 통해 엑셀 파일을 생성하고, `write()` 함수를 통해 읽어온 엑셀 내용을 저장합니다. 그 후 `close()` 함수를 통해 파일 객체를 닫아줍니다.\n",
    "4. `ExcelFile()` 함수를 통해 엑셀 파일의 내용들을 불러옵니다.\n",
    "5. sheet_names을 통해 엑셀의 시트명들을 확인합니다.\n",
    "\n",
    "우리가 필요한 데이터는 수익률을 계산할 QMJ Factors, 회귀분석에 필요한 MKT, SMB, HML Devil, UMD, 무위험 이자율인 RF 시트의 데이터입니다."
   ]
  },
  {
   "cell_type": "code",
   "execution_count": 163,
   "metadata": {},
   "outputs": [],
   "source": [
    "df_QMJ = xls_QMJ.parse(sheet_name = 'QMJ Factors', skiprows = 18)\n",
    "df_QMJ = df_QMJ.loc[df_QMJ['DATE'].notnull().values, ['DATE', 'Global']]\n",
    "\n",
    "df_MKT = xls_QMJ.parse(sheet_name = 'MKT', skiprows = 18)\n",
    "df_MKT = df_MKT.loc[df_MKT['DATE'].notnull().values, ['DATE', 'Global']]\n",
    "\n",
    "\n",
    "df_SMB = xls_QMJ.parse(sheet_name = 'SMB', skiprows = 18)\n",
    "df_SMB = df_SMB.loc[df_SMB['DATE'].notnull().values, ['DATE', 'Global']]\n",
    "\n",
    "df_HML = xls_QMJ.parse(sheet_name = 'HML Devil', skiprows = 18)\n",
    "df_HML = df_HML.loc[df_HML['DATE'].notnull().values, ['DATE', 'Global']]\n",
    "\n",
    "df_UMD = xls_QMJ.parse(sheet_name = 'UMD', skiprows = 18)\n",
    "df_UMD = df_UMD.loc[df_UMD['DATE'].notnull().values, ['DATE', 'Global']]\n",
    "\n",
    "df_RF = xls_QMJ.parse(sheet_name = 'RF', skiprows = 18)"
   ]
  },
  {
   "cell_type": "markdown",
   "metadata": {},
   "source": [
    "xls_QMJ에 엑셀 데이터가 불러와 있으므로, `parse()` 함수 내에 원하는 시트명들을 입력합니다. 또한 각 시트 내 18행까지는 데이터를 설명하는 텍스트이므로, skiprows 인자를 통해 해당 부분은 읽어오지 않도록 합니다. DATE가 null이 아닌 행 중에서 날짜에 해당하는 DATE와 수익률에 해당하는 Global 열만을 선택합니다."
   ]
  },
  {
   "cell_type": "code",
   "execution_count": 164,
   "metadata": {},
   "outputs": [],
   "source": [
    "from functools import reduce\n",
    "\n",
    "df_list = [df_QMJ, df_MKT, df_SMB, df_HML, df_UMD, df_RF]\n",
    "df = reduce(lambda  left, right: pd.merge(left,right,on=['DATE'],\n",
    "                                          how='inner'), df_list).dropna()\n",
    "df.columns = ['DATE', 'QMJ', 'MKT', 'SMB', 'HML', 'UMD', 'RF']\n",
    "df['R_excess'] = df['QMJ'] - df['RF']\n",
    "df['Mkt_excess'] = df['MKT'] - df['RF']\n",
    "df = df.set_index('DATE')\n",
    "df.index = pd.DatetimeIndex(df.index)"
   ]
  },
  {
   "cell_type": "markdown",
   "metadata": {},
   "source": [
    "1. `merge()` 함수를 통해 DATE 기준으로 데이터를 묶어주어야 합니다. `reduce()` 함수를 통해 모든 데이터를 한번에 묶어주도록 하며, NA 데이터는 제거합니다.\n",
    "2. 열 이름을 입력합니다.\n",
    "3. QMJ 팩터 수익률에서 무위험 수익률을 차감해 초과수익률(R_excess)을 구해주며, 시장 수익률에서 무위험 수익률을 차감해 시장위험 프리미엄(Mkt_excess)을 계산해줍니다.\n",
    "4. DATE를 인덱스로 설정합니다.\n",
    "5. 인덱스를 DatetimeIndex 형태로 변경해줍니다.\n",
    "\n",
    "위 과정을 통해 구한 데이터를 바탕으로 성과 및 위험을 평가하겠습니다."
   ]
  },
  {
   "cell_type": "markdown",
   "metadata": {},
   "source": [
    "## 15.1 결과 측정 지표"
   ]
  },
  {
   "cell_type": "markdown",
   "metadata": {},
   "source": [
    "포트폴리오의 평가에서 가장 중요한 지표는 수익률과 위험입니다. 수익률은 누적수익률과 연율화 수익률, 연도별 수익률이 주요 지표이며, 위험은 변동성과 낙폭이 주요 지표입니다. 이 외에도 승률, 롤링 윈도우 값 등 다양한 지표를 살펴보기도 합니다. "
   ]
  },
  {
   "cell_type": "markdown",
   "metadata": {},
   "source": [
    "### 15.1.1 수익률 및 변동성"
   ]
  },
  {
   "cell_type": "code",
   "execution_count": 16,
   "metadata": {},
   "outputs": [
    {
     "data": {
      "image/png": "[encoded data removed]",
      "text/plain": [
       "<Figure size 720x432 with 1 Axes>"
      ]
     },
     "metadata": {
      "needs_background": "light"
     },
     "output_type": "display_data"
    }
   ],
   "source": [
    "from matplotlib import pyplot as plt\n",
    "import pandas as pd\n",
    "\n",
    "ret_cum = df['QMJ'].add(1).cumprod() - 1\n",
    "ret_cum.plot(figsize=(10, 6))\n",
    "plt.show()"
   ]
  },
  {
   "cell_type": "markdown",
   "metadata": {},
   "source": [
    "먼저 QMJ 팩터의 누적수익률을 그래프로 나타내봅니다. 장기간동안 우상향하는 모습을 보이고 있습니다."
   ]
  },
  {
   "cell_type": "code",
   "execution_count": 22,
   "metadata": {},
   "outputs": [
    {
     "data": {
      "text/plain": [
       "3.641751479791373"
      ]
     },
     "execution_count": 22,
     "metadata": {},
     "output_type": "execute_result"
    }
   ],
   "source": [
    "df['QMJ'].add(1).prod() - 1 # 누적수익률"
   ]
  },
  {
   "cell_type": "code",
   "execution_count": 21,
   "metadata": {},
   "outputs": [
    {
     "data": {
      "text/plain": [
       "0.05142507725480658"
      ]
     },
     "execution_count": 21,
     "metadata": {},
     "output_type": "execute_result"
    }
   ],
   "source": [
    "df['QMJ'].mean() * 12 # 연율화 수익률(산술)"
   ]
  },
  {
   "cell_type": "code",
   "execution_count": 20,
   "metadata": {},
   "outputs": [
    {
     "data": {
      "text/plain": [
       "0.04980505888870268"
      ]
     },
     "execution_count": 20,
     "metadata": {},
     "output_type": "execute_result"
    }
   ],
   "source": [
    "df['QMJ'].add(1).prod() ** (12/len(df)) - 1 # 연율화 수익률(기하)"
   ]
  },
  {
   "cell_type": "markdown",
   "metadata": {},
   "source": [
    "수익률 중 가장 많이보는 지표는 누적 수익률, 연율화 수익률(산술), 연율화 수익률(기하)입니다. 각 수익률을 구하는 법은 다음과 같습니다.\n",
    "\n",
    "1. 누적 수익률: $(1+r_1) \\times (1+r_2) \\times \\dots \\ \\times (1+r_n) - 1 = \\{\\prod_{i=1}^n(1+r_i)\\}-1$\n",
    "2. 연율화 수익률(산술): $\\frac{(r_1 + r_2 + \\dots + r_i)}{n} \\times scale$\n",
    "3. 연율화 수익률(기하): $\\{\\prod_{i=1}^n(1+r_i)\\}^{scale / Days} - 1$\n",
    "\n",
    "먼저 누적수익률은 각 수익률에 1을 더한 값을 모두 곱한 후 1을 빼면 됩니다. 연율화 수익률(산술)은 단순히 수익률의 평균을 구한 후 연율화를 위한 조정값($scale$)을 곱해주면 됩니다. 데이터가 일간일 경우 조정값은 252, 주간일 경우 52, 월간일 경우 12입니다. 현재 데이터는 월간 기준이므로 조정값은 12가 됩니다. 마지막으로 연율화 수익률(기하)은 각 수익률에 1을 더한 값의 곱을 구한 후 연율화를 위해 승수를 적용한 후 1을 빼주며, $Days$는 시계열의 관측 기간입니다."
   ]
  },
  {
   "cell_type": "code",
   "execution_count": 24,
   "metadata": {},
   "outputs": [
    {
     "data": {
      "text/plain": [
       "0.07398877010868485"
      ]
     },
     "execution_count": 24,
     "metadata": {},
     "output_type": "execute_result"
    }
   ],
   "source": [
    "import math\n",
    "\n",
    "df['QMJ'].std() * math.sqrt(12) # 연율화 변동성"
   ]
  },
  {
   "cell_type": "code",
   "execution_count": 28,
   "metadata": {},
   "outputs": [
    {
     "name": "stdout",
     "output_type": "stream",
     "text": [
      "0.2941252156884136\n"
     ]
    }
   ],
   "source": [
    "r = df['R_excess'].add(1).prod() ** (12/len(df)) - 1\n",
    "v = df['QMJ'].std() * math.sqrt(12) \n",
    "\n",
    "print(r/v) # 샤프지수"
   ]
  },
  {
   "cell_type": "markdown",
   "metadata": {},
   "source": [
    "위험으로 가장 많이 사용되는 지표는 변동성입니다. 연율화 변동성은 `std()` 함수를 통해 변동성을 계산한 후 조정값($\\sqrt{Days}$)을 곱해 계산합니다.\n",
    "\n",
    "샤프 지수(Sharpe Ratio)는 수익을 위험으로 나누어 위험 조정 수익률입니다. 해당 지수는 $\\frac {R_i - R_f}{\\sigma_i}$로 계산되며, 분자에는 포트폴리오 수익률에서 무위험 수익률을 차감한 값, 분모에는 포트폴리오의 변동성을 사용합니다."
   ]
  },
  {
   "cell_type": "markdown",
   "metadata": {},
   "source": [
    "### 15.1.2 낙폭과 최대낙폭"
   ]
  },
  {
   "cell_type": "markdown",
   "metadata": {},
   "source": [
    "먼저 낙폭(Drawdown)은 수익률이 하락한 후 반등하기 전까지 얼마나 하락했는지를 나타냅니다. 최대낙폭(Maximum Drawdown)은 이러한 낙폭 중 가장 값이 큰 값으로서, 최고점에서 최저점까지 얼마나 손실을 보는지를 나타냅니다. 투자를 함에 있어 수익률이 하락하는 것은 어쩔 수 없지만, 최대낙폭이 지나치게 큰 전략에 투자하는 것은 매우 위험한 선택이 될 수 있습니다.\n",
    "\n",
    "```{figure} image/drawdown.png\n",
    "---\n",
    "name: drawdown\n",
    "---\n",
    "낙폭과 최대낙폭\n",
    "```\n",
    "\n",
    "낙폭을 계산하는 법은 다음과 같으며, 전고점 대비 하락폭 만을 계산하게 됩니다.\n",
    "\n",
    "$$ 낙폭 = \\frac{현재\\ 누적\\ 수익률 - 최고\\ 누적\\ 수익률}{최고\\ 누적\\ 수익률} = \\frac{현재\\ 누적\\ 수익률}{최고\\ 누적\\ 수익률}- 1$$\n",
    "\n",
    "이를 계산하는 방법은 다음과 같습니다."
   ]
  },
  {
   "cell_type": "code",
   "execution_count": 71,
   "metadata": {},
   "outputs": [
    {
     "data": {
      "text/plain": [
       "DATE\n",
       "1989-07-31    0.000000\n",
       "1989-08-31    0.000000\n",
       "1989-09-30    0.000000\n",
       "1989-10-31    0.000000\n",
       "1989-11-30    0.000000\n",
       "                ...   \n",
       "2020-09-30   -0.030402\n",
       "2020-10-31   -0.021389\n",
       "2020-11-30   -0.102006\n",
       "2020-12-31   -0.111877\n",
       "2021-01-31   -0.135515\n",
       "Name: QMJ, Length: 379, dtype: float64"
      ]
     },
     "execution_count": 71,
     "metadata": {},
     "output_type": "execute_result"
    }
   ],
   "source": [
    "def drawdown(R) :\n",
    "    Return_cumulative = R.add(1).cumprod()\n",
    "    maxCumulativeReturn  = Return_cumulative.cummax()\n",
    "    dd = Return_cumulative/maxCumulativeReturn - 1\n",
    "    \n",
    "    return(dd)\n",
    "\n",
    "drawdown(df['QMJ'])"
   ]
  },
  {
   "cell_type": "markdown",
   "metadata": {},
   "source": [
    "1. 먼저 누적수익률을 계산합니다.\n",
    "2. `cummax()` 함수를 통해 누적 최댓값을 계산합니다.\n",
    "3. 낙폭의 수식에 맞게 둘 간의 차이를 계산합니다.\n",
    "\n",
    "QMJ 팩터의 초기에는 수익률이 계속해서 최고점을 기록해 낙폭이 0으로 계산되지만, 시간이 지남에 따라 하락을 하게되면 낙폭은 전고점 대비 얼마나 떨어졌는가를 나타냅니다."
   ]
  },
  {
   "cell_type": "code",
   "execution_count": 67,
   "metadata": {},
   "outputs": [
    {
     "data": {
      "image/png": "[encoded data removed]",
      "text/plain": [
       "<Figure size 720x432 with 2 Axes>"
      ]
     },
     "metadata": {
      "needs_background": "light"
     },
     "output_type": "display_data"
    }
   ],
   "source": [
    "from matplotlib import pyplot as plt\n",
    "from matplotlib import gridspec\n",
    "\n",
    "ret_cum = df['QMJ'].add(1).cumprod() - 1\n",
    "ret_dd = drawdown(df['QMJ'])\n",
    "\n",
    "fig = plt.subplots(figsize=(10, 6), sharex=True)\n",
    "gs = gridspec.GridSpec(nrows = 2, ncols = 1, height_ratios=[3, 1])\n",
    "ax1 = plt.subplot(gs[0])\n",
    "ax1 = ret_cum.plot.area()\n",
    "ax1.set_xlabel('')\n",
    "ax1.axes.xaxis.set_ticks([])\n",
    "\n",
    "ax2 = plt.subplot(gs[1])\n",
    "ax2 = ret_dd.plot.area(color = 'r', alpha = 0.2)\n",
    "ax2.set_xlabel('')\n",
    "\n",
    "plt.subplots_adjust(wspace=0, hspace=0)\n",
    "plt.show()"
   ]
  },
  {
   "cell_type": "markdown",
   "metadata": {},
   "source": [
    "누적수익률과 낙폭을 함께 그림으로 나타내보면 그 이해가 더 쉽습니다. 수익률이 전고점을 돌파하는 기간에서는 낙폭이 0으로 계산됩니다.\n",
    "\n",
    "최대낙폭은 낙폭이 가장 심한 경우, 즉 고점에서 투자해 가장 큰 손실을 볼 수 있는 최악의 경우를 나타냅니다. 이를 낙폭에서 `min()` 함수를 통해 계산이 가능합니다."
   ]
  },
  {
   "cell_type": "code",
   "execution_count": 13,
   "metadata": {},
   "outputs": [
    {
     "data": {
      "text/plain": [
       "-0.2133532229958336"
      ]
     },
     "execution_count": 13,
     "metadata": {},
     "output_type": "execute_result"
    }
   ],
   "source": [
    "drawdown(df['QMJ']).min()"
   ]
  },
  {
   "cell_type": "markdown",
   "metadata": {},
   "source": [
    "역대 낙폭이 가장 심했던 순서대로 낙폭의 정도, 하락기간과 상승 기간, 원금이 회복되는데 소요된 기간 등을 보는 것도 중요합니다. 아래 코드는 이를 함수 형태로 짠 것입니다."
   ]
  },
  {
   "cell_type": "code",
   "execution_count": 75,
   "metadata": {},
   "outputs": [],
   "source": [
    "def tableDrawdown(R, n = 5) :\n",
    "    \n",
    "    Return_cumulative = R.add(1).cumprod()\n",
    "    maxCumulativeReturn  = Return_cumulative.cummax()\n",
    "    dd = 1 - Return_cumulative/maxCumulativeReturn\n",
    "\n",
    "    df_bind = pd.concat([R, Return_cumulative, maxCumulativeReturn, dd], axis = 1)\n",
    "    df_bind.columns = ['Return', 'Cum Ret', 'Max', 'Drawdown']\n",
    "\n",
    "    groups = df_bind.groupby(df_bind['Max'])\n",
    "    dd = groups[['Drawdown']].apply(lambda x: x[x['Drawdown'] == x['Drawdown'].max()])\n",
    "    dd = dd.sort_values('Drawdown', ascending=False).head(n)\n",
    "    \n",
    "    def drawdown_table(dd, index_list) :\n",
    "        group_max, date_max = index_list\n",
    "        ddGroup = df_bind[df_bind['Max'] == group_max]\n",
    "\n",
    "        group_start = ddGroup[0:1].index[0]    \n",
    "        group_end = ddGroup.tail(1).index[0]\n",
    "\n",
    "        group_length = len(ddGroup)\n",
    "        group_dd = round(ddGroup['Drawdown'].max(), 4)\n",
    "        group_dd_length = len(ddGroup[ddGroup.index <= date_max])\n",
    "\n",
    "        group_rec = group_length - group_dd_length\n",
    "\n",
    "        return group_start, date_max, group_end, group_dd, group_length, group_dd_length, group_rec\n",
    "    \n",
    "    dd_col = ('From','Through','To', 'Depth','Length','Drop','Recovery')\n",
    "    df_dd = pd.DataFrame(columns = dd_col)\n",
    "\n",
    "    for i in range(0, n) :\n",
    "        index_list = dd.iloc[[i], :].index.tolist()[0]\n",
    "        df_dd.loc[i] = drawdown_table(df,index_list)\n",
    "        \n",
    "    return(df_dd)"
   ]
  },
  {
   "cell_type": "code",
   "execution_count": 76,
   "metadata": {},
   "outputs": [
    {
     "data": {
      "text/html": [
       "<div>\n",
       "<style scoped>\n",
       "    .dataframe tbody tr th:only-of-type {\n",
       "        vertical-align: middle;\n",
       "    }\n",
       "\n",
       "    .dataframe tbody tr th {\n",
       "        vertical-align: top;\n",
       "    }\n",
       "\n",
       "    .dataframe thead th {\n",
       "        text-align: right;\n",
       "    }\n",
       "</style>\n",
       "<table border=\"1\" class=\"dataframe\">\n",
       "  <thead>\n",
       "    <tr style=\"text-align: right;\">\n",
       "      <th></th>\n",
       "      <th>From</th>\n",
       "      <th>Through</th>\n",
       "      <th>To</th>\n",
       "      <th>Depth</th>\n",
       "      <th>Length</th>\n",
       "      <th>Drop</th>\n",
       "      <th>Recovery</th>\n",
       "    </tr>\n",
       "  </thead>\n",
       "  <tbody>\n",
       "    <tr>\n",
       "      <th>0</th>\n",
       "      <td>2002-09-30</td>\n",
       "      <td>2004-01-31</td>\n",
       "      <td>2008-07-31</td>\n",
       "      <td>0.2134</td>\n",
       "      <td>71</td>\n",
       "      <td>17</td>\n",
       "      <td>54</td>\n",
       "    </tr>\n",
       "    <tr>\n",
       "      <th>1</th>\n",
       "      <td>2009-02-28</td>\n",
       "      <td>2009-09-30</td>\n",
       "      <td>2012-04-30</td>\n",
       "      <td>0.1998</td>\n",
       "      <td>39</td>\n",
       "      <td>8</td>\n",
       "      <td>31</td>\n",
       "    </tr>\n",
       "    <tr>\n",
       "      <th>2</th>\n",
       "      <td>1992-10-31</td>\n",
       "      <td>1993-08-31</td>\n",
       "      <td>1996-12-31</td>\n",
       "      <td>0.1408</td>\n",
       "      <td>51</td>\n",
       "      <td>11</td>\n",
       "      <td>40</td>\n",
       "    </tr>\n",
       "    <tr>\n",
       "      <th>3</th>\n",
       "      <td>2020-03-31</td>\n",
       "      <td>2021-01-31</td>\n",
       "      <td>2021-01-31</td>\n",
       "      <td>0.1355</td>\n",
       "      <td>11</td>\n",
       "      <td>11</td>\n",
       "      <td>0</td>\n",
       "    </tr>\n",
       "    <tr>\n",
       "      <th>4</th>\n",
       "      <td>1998-09-30</td>\n",
       "      <td>1999-04-30</td>\n",
       "      <td>2000-04-30</td>\n",
       "      <td>0.0869</td>\n",
       "      <td>20</td>\n",
       "      <td>8</td>\n",
       "      <td>12</td>\n",
       "    </tr>\n",
       "  </tbody>\n",
       "</table>\n",
       "</div>"
      ],
      "text/plain": [
       "        From    Through         To   Depth Length Drop Recovery\n",
       "0 2002-09-30 2004-01-31 2008-07-31  0.2134     71   17       54\n",
       "1 2009-02-28 2009-09-30 2012-04-30  0.1998     39    8       31\n",
       "2 1992-10-31 1993-08-31 1996-12-31  0.1408     51   11       40\n",
       "3 2020-03-31 2021-01-31 2021-01-31  0.1355     11   11        0\n",
       "4 1998-09-30 1999-04-30 2000-04-30  0.0869     20    8       12"
      ]
     },
     "execution_count": 76,
     "metadata": {},
     "output_type": "execute_result"
    }
   ],
   "source": [
    "tableDrawdown(df['QMJ'], n = 5)"
   ]
  },
  {
   "cell_type": "markdown",
   "metadata": {},
   "source": [
    "- From: 하락 시작 시점\n",
    "- Through: 낙폭 최대 시점\n",
    "- To: 전고점 회복 시점\n",
    "- Depth: 낙폭 정도\n",
    "- Length: 하락 이후 전고점 회복까지 기간\n",
    "- Drop: 하락 기간\n",
    "- Recovery: 회복 기간\n",
    "\n",
    "2002년 9월에 투자할 경우 2004년 1월까지 무려 17개월간 21.34%가 하락한 후, 54개월이 지난 후에야 전고점을 회복하게 됩니다. 즉 원금이 회복하는데 71개월이나 걸리게 됩니다."
   ]
  },
  {
   "cell_type": "code",
   "execution_count": 82,
   "metadata": {},
   "outputs": [
    {
     "data": {
      "text/plain": [
       "0.1019996916904431"
      ]
     },
     "execution_count": 82,
     "metadata": {},
     "output_type": "execute_result"
    }
   ],
   "source": [
    "r = df['R_excess'].add(1).prod() ** (12/len(df)) - 1\n",
    "mdd = abs(drawdown(df['QMJ']).min())\n",
    "\n",
    "r/mdd # 칼마 지수"
   ]
  },
  {
   "cell_type": "markdown",
   "metadata": {},
   "source": [
    "칼마 지수(Calmar Ratio)는 샤프 지수에서 분자를 최대 낙폭으로 변경한 것으로써, 초과 수익률을 최대낙폭으로 나눈 값입니다. 이는 특히나 안정적인 절대 수익률을 추구하는 헤지펀드에서 많이 참조하는 지표입니다."
   ]
  },
  {
   "cell_type": "markdown",
   "metadata": {},
   "source": [
    "### 15.1.3 연도별 수익률"
   ]
  },
  {
   "cell_type": "markdown",
   "metadata": {},
   "source": [
    "연도별로 수익률을 계산하는 법은 다음과 같습니다."
   ]
  },
  {
   "cell_type": "code",
   "execution_count": 166,
   "metadata": {},
   "outputs": [
    {
     "data": {
      "text/plain": [
       "DATE\n",
       "1989    0.076947\n",
       "1990    0.219906\n",
       "1991    0.010863\n",
       "1992    0.029826\n",
       "1993   -0.093064\n",
       "Name: QMJ, dtype: float64"
      ]
     },
     "execution_count": 166,
     "metadata": {},
     "output_type": "execute_result"
    }
   ],
   "source": [
    "ret_yr = df['QMJ'].resample('Y').apply(lambda x: (x+1).prod() - 1)\n",
    "ret_yr.index = ret_yr.index.strftime('%Y')\n",
    "\n",
    "ret_yr.head()"
   ]
  },
  {
   "cell_type": "markdown",
   "metadata": {},
   "source": [
    "1. `resample()` 함수를 통해 연도별로 묶어주며, `apply()` 함수를 통해 누적수익률을 계산합니다.\n",
    "2. `strftime()` 함수를 통해 연도에 해당하는 숫자만 인덱스에 남겨둡니다.\n",
    "\n",
    "이번에는 연도별 수익률을 그래프로 나타내보도록 하겠습니다."
   ]
  },
  {
   "cell_type": "code",
   "execution_count": 269,
   "metadata": {},
   "outputs": [
    {
     "data": {
      "image/png": "[encoded data removed]",
      "text/plain": [
       "<Figure size 1080x720 with 1 Axes>"
      ]
     },
     "metadata": {
      "needs_background": "light"
     },
     "output_type": "display_data"
    }
   ],
   "source": [
    "from matplotlib import pyplot as plt\n",
    "\n",
    "ax = ret_yr.plot.bar(figsize=(15, 10), width = 0.8, alpha = 0.3)\n",
    "ax.set_xlim(-1.1, len(ret_yr) + 0.1)\n",
    "plt.xlabel('')\n",
    "plt.xticks(rotation=45)\n",
    "\n",
    "totals = []\n",
    "for i in ax.patches:\n",
    "    totals.append(i.get_height())\n",
    "total = sum(totals)\n",
    "\n",
    "for i in ax.patches:    \n",
    "    h = 0.01 if i.get_height() > 0 else -0.01\n",
    "    ax.text(i.get_x(), i.get_height() + h,\n",
    "            str(round((i.get_height() * 100), 1)) + '%',\n",
    "                color='dimgrey', size = 8, fontweight=\"bold\")\n",
    "\n",
    "plt.show()"
   ]
  },
  {
   "cell_type": "markdown",
   "metadata": {},
   "source": [
    "위에서 계산된 연도별 수익률을 막대 그래프와 텍스트로 나타내면, 포트폴리오의 수익률 추이가 더욱 쉽게 확인됩니다."
   ]
  },
  {
   "cell_type": "markdown",
   "metadata": {},
   "source": [
    "### 15.1.4 승률 및 롤링 윈도우 값"
   ]
  },
  {
   "cell_type": "markdown",
   "metadata": {},
   "source": [
    "승률이란 포트폴리오가 벤치마크 대비 높은 성과를 기록한 비율을 의미하며 다음과 같이 계산됩니다.\n",
    "\n",
    "$$\\frac { 포트폴리오\\ 수익률 > 벤치마크인\\ 횟수}{전체\\ 기간}$$\n",
    "\n",
    "벤치마크가 S&P 500 지수, KOSPI 200 지수처럼 구체적으로 존재하는 경우도 있지만, 절대수익을 추구하는 경우에는 이러한 벤치마크가 0 혹은 무위험 수익률이 되기도 합니다. 승률을 계산하는 법은 다음과 같습니다."
   ]
  },
  {
   "cell_type": "code",
   "execution_count": 270,
   "metadata": {},
   "outputs": [
    {
     "data": {
      "text/plain": [
       "0.5884"
      ]
     },
     "execution_count": 270,
     "metadata": {},
     "output_type": "execute_result"
    }
   ],
   "source": [
    "def UpsideFrequency(R, MAR = 0):\n",
    "    R = R.dropna()\n",
    "    ratio = (R > MAR).sum() / len(R)\n",
    "    return(round(ratio, 4))\n",
    "\n",
    "UpsideFrequency(df['QMJ'], 0)"
   ]
  },
  {
   "cell_type": "markdown",
   "metadata": {},
   "source": [
    "1. NA 데이터를 제거합니다.\n",
    "2. 수익률이 벤치마크(MAR) 대비 높았던 횟수를 합한 후, 이를 전체 기간으로 나눠줍니다.\n",
    "\n",
    "이를 통해 QMJ 팩터의 월간 기준 수익률이 플러스를 기록했던 비율이 계산됩니다.\n",
    "\n",
    "위에서 구한 각종 지표들은 투자자가 포트폴리오의 시작부터 현재까지 투자를 했다는 전제 하에 계산됩니다. 그러나 투자를 시작하는 시점은 사람마다 다르기에, 무작위 시점에 투자했을 때 향후 n개월 후 승률 혹은 연율화 수익률 등을 계산할 필요도 있습니다. 이러한 기법을 롤링 윈도우라고 합니다."
   ]
  },
  {
   "cell_type": "code",
   "execution_count": 301,
   "metadata": {},
   "outputs": [
    {
     "name": "stdout",
     "output_type": "stream",
     "text": [
      "12M: 0.7582 \n",
      " 24M: 0.7978 \n",
      " 36M: 0.8779\n"
     ]
    }
   ],
   "source": [
    "roll_12 = (df['QMJ']+1).rolling(12).apply(np.prod) ** (12/12) - 1\n",
    "roll_12_ratio = UpsideFrequency(roll_12, 0)\n",
    "\n",
    "roll_24 = (df['QMJ']+1).rolling(24).apply(np.prod) ** (12/24) - 1\n",
    "roll_24_ratio = UpsideFrequency(roll_24, 0)\n",
    "\n",
    "roll_36 = (df['QMJ']+1).rolling(36).apply(np.prod) ** (12/36) - 1\n",
    "roll_36_ratio = UpsideFrequency(roll_36, 0)\n",
    "\n",
    "print(\"12M:\", roll_12_ratio, \"\\n\",\n",
    "      \"24M:\", roll_24_ratio, \"\\n\",\n",
    "      \"36M:\", roll_36_ratio)"
   ]
  },
  {
   "cell_type": "markdown",
   "metadata": {},
   "source": [
    "롤링 윈도우 승률은 무작위 시점에 투자했을 시 미래 n개월 동안의 연율화 수익률을 구하고, 해당 값이 벤치마크 대비 수익이 높았던 비율을 계산합니다. 만일 12개월 롤링 윈도우 승률이 100%라면, 어떠한 시점에 투자해도 12개월 후에는 언제나 벤치마크를 이겼음을 의미합니다. 반면 아무리 연율화 수익률이 높은 전략도 이러한 롤링 윈도우 승률이 지나치게 낮다면, 단순히 한 번의 운으로 인해 수익률이 높은 것처럼 보일수 있습니다.\n",
    "\n",
    "함수를 이용해 해당 값을 구하는 과정은 다음과 같습니다.\n",
    "\n",
    "1. 포트폴리오 수익률에 1을 더해준 후 원하는 `rolling()` 내부에 원하는 롤링 기간을 입력합니다. 그 후 롤링 기간에 해당하는 값들을 곱해준 뒤 승수를 취해 연율화를 해준 후, 1을 빼 롤링 연율화 수익률을 계산합니다.\n",
    "2. 위에서 만든 `UpsideFrequency` 값을 통해 승률을 구합니다.\n",
    "\n",
    "해당 과정을 통해 12개월, 24개월, 36개월 롤링 승률이 계산되며, 투자 기간이 길어질수록 승률이 높아집니다."
   ]
  },
  {
   "cell_type": "code",
   "execution_count": 307,
   "metadata": {},
   "outputs": [
    {
     "data": {
      "image/png": "[encoded data removed]",
      "text/plain": [
       "<Figure size 720x432 with 3 Axes>"
      ]
     },
     "metadata": {
      "needs_background": "light"
     },
     "output_type": "display_data"
    }
   ],
   "source": [
    "fig, axes = plt.subplots(3, 1, figsize=(10, 6), sharex=True)\n",
    "\n",
    "ax1 = plt.subplot(311)\n",
    "ax1 = roll_12.plot()\n",
    "ax1.axhline(y = 0, color='r', linestyle='-')\n",
    "ax1.set_title('12M Rolling Annualized Return')\n",
    "ax1.set_xlabel('')\n",
    "\n",
    "ax2 = plt.subplot(312)\n",
    "ax2 = roll_24.plot()\n",
    "ax2.axhline(y = 0, color='r', linestyle='-')\n",
    "ax2.set_title('24M Rolling Annualized Return')\n",
    "ax2.set_xlabel('')\n",
    "\n",
    "ax3 = plt.subplot(313)\n",
    "ax3 = roll_36.plot()\n",
    "ax3.axhline(y = 0, color='r', linestyle='-')\n",
    "ax3.set_title('36M Rolling Annualized Return')\n",
    "ax3.set_xlabel('')\n",
    "\n",
    "fig.tight_layout() \n",
    "plt.show()"
   ]
  },
  {
   "cell_type": "markdown",
   "metadata": {},
   "source": [
    "롤링 윈도우 연율화 수익률 역시 매우 중요한 지표입니다. 해당 값이 지속적으로 하락할 경우 전략이 더 이상 동작하지 않는 것인지 혹은 가장 험난한 시기를 지났기에 인내심을 갖고 기다려야 할지 판단해야 합니다."
   ]
  },
  {
   "cell_type": "markdown",
   "metadata": {},
   "source": [
    "## 15.2 팩터 회귀분석 및 테이블로 나타내기"
   ]
  },
  {
   "cell_type": "markdown",
   "metadata": {},
   "source": [
    "포트폴리오 수익률에 대한 성과 평가만큼 중요한 것이, 수익률이 어디에서 발생했는가에 대한 요인을 분석하는 것입니다. 베타를 통한 개별 주식과 주식시장과의 관계를 시작으로, 수익률을 설명하기 위한 여러 모형들이 개발되고 발표되었습니다. 그중 일반적으로 많이 사용되는 모형은 기존의 CAPM에 사이즈 팩터(SMB), 밸류 팩터(HML)를 추가한 파마-프렌치의 3팩터 모형(Fama and French 1993), 그리고 3팩터 모형에 모멘텀 팩터(UMD)를 추가한 카하트의 4팩터 모형(Carhart 1997)입니다.\n",
    "\n",
    "QMJ 팩터를 위 4개 팩터에 회귀분석한 결과를 토대로, 퀄리티 팩터의 수익률에 대한 요인 분석을 해보겠습니다."
   ]
  },
  {
   "cell_type": "code",
   "execution_count": 303,
   "metadata": {},
   "outputs": [
    {
     "data": {
      "text/html": [
       "<table class=\"simpletable\">\n",
       "<caption>OLS Regression Results</caption>\n",
       "<tr>\n",
       "  <th>Dep. Variable:</th>        <td>R_excess</td>     <th>  R-squared:         </th> <td>   0.639</td>\n",
       "</tr>\n",
       "<tr>\n",
       "  <th>Model:</th>                   <td>OLS</td>       <th>  Adj. R-squared:    </th> <td>   0.635</td>\n",
       "</tr>\n",
       "<tr>\n",
       "  <th>Method:</th>             <td>Least Squares</td>  <th>  F-statistic:       </th> <td>   165.4</td>\n",
       "</tr>\n",
       "<tr>\n",
       "  <th>Date:</th>             <td>Sat, 27 Feb 2021</td> <th>  Prob (F-statistic):</th> <td>2.26e-81</td>\n",
       "</tr>\n",
       "<tr>\n",
       "  <th>Time:</th>                 <td>12:32:03</td>     <th>  Log-Likelihood:    </th> <td>  1115.0</td>\n",
       "</tr>\n",
       "<tr>\n",
       "  <th>No. Observations:</th>      <td>   379</td>      <th>  AIC:               </th> <td>  -2220.</td>\n",
       "</tr>\n",
       "<tr>\n",
       "  <th>Df Residuals:</th>          <td>   374</td>      <th>  BIC:               </th> <td>  -2200.</td>\n",
       "</tr>\n",
       "<tr>\n",
       "  <th>Df Model:</th>              <td>     4</td>      <th>                     </th>     <td> </td>   \n",
       "</tr>\n",
       "<tr>\n",
       "  <th>Covariance Type:</th>      <td>nonrobust</td>    <th>                     </th>     <td> </td>   \n",
       "</tr>\n",
       "</table>\n",
       "<table class=\"simpletable\">\n",
       "<tr>\n",
       "       <td></td>         <th>coef</th>     <th>std err</th>      <th>t</th>      <th>P>|t|</th>  <th>[0.025</th>    <th>0.975]</th>  \n",
       "</tr>\n",
       "<tr>\n",
       "  <th>Intercept</th>  <td>    0.0025</td> <td>    0.001</td> <td>    3.598</td> <td> 0.000</td> <td>    0.001</td> <td>    0.004</td>\n",
       "</tr>\n",
       "<tr>\n",
       "  <th>Mkt_excess</th> <td>   -0.2618</td> <td>    0.016</td> <td>  -16.097</td> <td> 0.000</td> <td>   -0.294</td> <td>   -0.230</td>\n",
       "</tr>\n",
       "<tr>\n",
       "  <th>SMB</th>        <td>   -0.3516</td> <td>    0.036</td> <td>   -9.790</td> <td> 0.000</td> <td>   -0.422</td> <td>   -0.281</td>\n",
       "</tr>\n",
       "<tr>\n",
       "  <th>HML</th>        <td>   -0.0979</td> <td>    0.033</td> <td>   -3.004</td> <td> 0.003</td> <td>   -0.162</td> <td>   -0.034</td>\n",
       "</tr>\n",
       "<tr>\n",
       "  <th>UMD</th>        <td>    0.0816</td> <td>    0.026</td> <td>    3.079</td> <td> 0.002</td> <td>    0.029</td> <td>    0.134</td>\n",
       "</tr>\n",
       "</table>\n",
       "<table class=\"simpletable\">\n",
       "<tr>\n",
       "  <th>Omnibus:</th>       <td>17.285</td> <th>  Durbin-Watson:     </th> <td>   1.862</td>\n",
       "</tr>\n",
       "<tr>\n",
       "  <th>Prob(Omnibus):</th> <td> 0.000</td> <th>  Jarque-Bera (JB):  </th> <td>  38.883</td>\n",
       "</tr>\n",
       "<tr>\n",
       "  <th>Skew:</th>          <td> 0.166</td> <th>  Prob(JB):          </th> <td>3.60e-09</td>\n",
       "</tr>\n",
       "<tr>\n",
       "  <th>Kurtosis:</th>      <td> 4.534</td> <th>  Cond. No.          </th> <td>    60.1</td>\n",
       "</tr>\n",
       "</table><br/><br/>Notes:<br/>[1] Standard Errors assume that the covariance matrix of the errors is correctly specified."
      ],
      "text/plain": [
       "<class 'statsmodels.iolib.summary.Summary'>\n",
       "\"\"\"\n",
       "                            OLS Regression Results                            \n",
       "==============================================================================\n",
       "Dep. Variable:               R_excess   R-squared:                       0.639\n",
       "Model:                            OLS   Adj. R-squared:                  0.635\n",
       "Method:                 Least Squares   F-statistic:                     165.4\n",
       "Date:                Sat, 27 Feb 2021   Prob (F-statistic):           2.26e-81\n",
       "Time:                        12:32:03   Log-Likelihood:                 1115.0\n",
       "No. Observations:                 379   AIC:                            -2220.\n",
       "Df Residuals:                     374   BIC:                            -2200.\n",
       "Df Model:                           4                                         \n",
       "Covariance Type:            nonrobust                                         \n",
       "==============================================================================\n",
       "                 coef    std err          t      P>|t|      [0.025      0.975]\n",
       "------------------------------------------------------------------------------\n",
       "Intercept      0.0025      0.001      3.598      0.000       0.001       0.004\n",
       "Mkt_excess    -0.2618      0.016    -16.097      0.000      -0.294      -0.230\n",
       "SMB           -0.3516      0.036     -9.790      0.000      -0.422      -0.281\n",
       "HML           -0.0979      0.033     -3.004      0.003      -0.162      -0.034\n",
       "UMD            0.0816      0.026      3.079      0.002       0.029       0.134\n",
       "==============================================================================\n",
       "Omnibus:                       17.285   Durbin-Watson:                   1.862\n",
       "Prob(Omnibus):                  0.000   Jarque-Bera (JB):               38.883\n",
       "Skew:                           0.166   Prob(JB):                     3.60e-09\n",
       "Kurtosis:                       4.534   Cond. No.                         60.1\n",
       "==============================================================================\n",
       "\n",
       "Notes:\n",
       "[1] Standard Errors assume that the covariance matrix of the errors is correctly specified.\n",
       "\"\"\""
      ]
     },
     "execution_count": 303,
     "metadata": {},
     "output_type": "execute_result"
    }
   ],
   "source": [
    "import statsmodels.formula.api as smf\n",
    "\n",
    "reg = smf.ols('R_excess  ~ Mkt_excess  + SMB + HML + UMD', data = df).fit()\n",
    "reg.summary()"
   ]
  },
  {
   "cell_type": "markdown",
   "metadata": {},
   "source": [
    "먼저 우리가 구한 데이터를 통해 다음과 같은 회귀분석을 실시합니다. 즉 QMJ 팩터의 초과수익률을 시장위험 프리미엄, 사이즈 팩터, 밸류 팩터, 모멘텀 팩터에 회귀분석을 수행합니다.\n",
    "\n",
    "$$QMJ - R_f= \\alpha + \\beta_m \\ [R_m - R_f] + \\beta_{SMB} R_{SMB} + \\beta_{HML} R_{HML} + \\beta_{UMD} R_{UMD}$$\n",
    "\n",
    "`ols()` 함수 내에서 R_excess는 $QMJ - R_f$와 동일하며, Mkt_excess는 $R_m - R_f$와 동일합니다. 베타의 절댓값이 크다는 의미는 QMJ 팩터의 수익률이 해당 팩터와의 관계가 높다는 의미이며, 양수일 경우에는 양의 관계가, 음수일 경우에는 음의 관계가 높다는 의미입니다. 또한 t값 혹은 P값을 통해 관계가 얼마나 유의한지도 확인할 수 있습니다.\n",
    "\n",
    "1. 시장 베타에 해당하는 $\\beta_m$은 로 음숫값을 보이며, 퀄리티 팩터의 경우 시장과 역의 관계에 있다고 볼 수 있습니다. 또한 t값이 2보다 훨씬 크므로 충분히 유의합니다.\n",
    "2. 사이즈 베타에 해당하는 $\\beta_{SMB}$ 역시 음숫값을 보입니다. 즉 퀄리티 팩터는 소형주보다는 대형주 수익률과 관계가 있으며, t값 역시 충분히 유의합니다.\n",
    "3. 밸류 베타에 해당하는 $\\beta_{HML}$ 역시 음숫값을 보입니다. 즉 퀄리티와 밸류 간의 관계에서 살펴본 것처럼, 두 팩터는 서로 역의 관계가 있습니다. t값 역시 유의합니다.\n",
    "4. 모멘텀 베타에 해당하는 $\\beta_{UMD}$는 양의 관계가 있으며, 모멘텀 팩터가 좋은 시기에 퀄리티 팩터도 좋을 수 있습니다. t값 또한 유의하다고 볼 수 있습니다.\n",
    "5. 이러한 설명변수를 제외하고도 월간 초과수익률에 해당하는 $\\alpha$(Intercept)는 양의 값이며, t값 역시 유의합니다. 즉, 퀄리티 팩터는 기존의 여러 팩터들로 설명되지 않는 새로운 팩터라고도 볼 수 있습니다.\n"
   ]
  },
  {
   "cell_type": "code",
   "execution_count": 96,
   "metadata": {},
   "outputs": [
    {
     "data": {
      "text/html": [
       "<div>\n",
       "<style scoped>\n",
       "    .dataframe tbody tr th:only-of-type {\n",
       "        vertical-align: middle;\n",
       "    }\n",
       "\n",
       "    .dataframe tbody tr th {\n",
       "        vertical-align: top;\n",
       "    }\n",
       "\n",
       "    .dataframe thead th {\n",
       "        text-align: right;\n",
       "    }\n",
       "</style>\n",
       "<table border=\"1\" class=\"dataframe\">\n",
       "  <thead>\n",
       "    <tr style=\"text-align: right;\">\n",
       "      <th></th>\n",
       "      <th>coef</th>\n",
       "      <th>std err</th>\n",
       "      <th>t</th>\n",
       "      <th>P&gt;|t|</th>\n",
       "      <th>[0.025</th>\n",
       "      <th>0.975]</th>\n",
       "    </tr>\n",
       "  </thead>\n",
       "  <tbody>\n",
       "    <tr>\n",
       "      <th>Intercept</th>\n",
       "      <td>0.0026</td>\n",
       "      <td>0.001</td>\n",
       "      <td>3.654</td>\n",
       "      <td>0.000</td>\n",
       "      <td>0.001</td>\n",
       "      <td>0.004</td>\n",
       "    </tr>\n",
       "    <tr>\n",
       "      <th>Mkt_excess</th>\n",
       "      <td>-0.2621</td>\n",
       "      <td>0.016</td>\n",
       "      <td>-16.110</td>\n",
       "      <td>0.000</td>\n",
       "      <td>-0.294</td>\n",
       "      <td>-0.230</td>\n",
       "    </tr>\n",
       "    <tr>\n",
       "      <th>SMB</th>\n",
       "      <td>-0.3464</td>\n",
       "      <td>0.036</td>\n",
       "      <td>-9.589</td>\n",
       "      <td>0.000</td>\n",
       "      <td>-0.417</td>\n",
       "      <td>-0.275</td>\n",
       "    </tr>\n",
       "    <tr>\n",
       "      <th>HML</th>\n",
       "      <td>-0.0977</td>\n",
       "      <td>0.033</td>\n",
       "      <td>-2.997</td>\n",
       "      <td>0.003</td>\n",
       "      <td>-0.162</td>\n",
       "      <td>-0.034</td>\n",
       "    </tr>\n",
       "    <tr>\n",
       "      <th>UMD</th>\n",
       "      <td>0.0814</td>\n",
       "      <td>0.026</td>\n",
       "      <td>3.072</td>\n",
       "      <td>0.002</td>\n",
       "      <td>0.029</td>\n",
       "      <td>0.134</td>\n",
       "    </tr>\n",
       "  </tbody>\n",
       "</table>\n",
       "</div>"
      ],
      "text/plain": [
       "              coef  std err       t  P>|t|  [0.025  0.975]\n",
       "Intercept   0.0026    0.001   3.654  0.000   0.001   0.004\n",
       "Mkt_excess -0.2621    0.016 -16.110  0.000  -0.294  -0.230\n",
       "SMB        -0.3464    0.036  -9.589  0.000  -0.417  -0.275\n",
       "HML        -0.0977    0.033  -2.997  0.003  -0.162  -0.034\n",
       "UMD         0.0814    0.026   3.072  0.002   0.029   0.134"
      ]
     },
     "execution_count": 96,
     "metadata": {},
     "output_type": "execute_result"
    }
   ],
   "source": [
    "pd.read_html(reg.summary().tables[1].as_html(),header = 0,index_col = 0)[0]"
   ]
  },
  {
   "cell_type": "markdown",
   "metadata": {},
   "source": [
    "`read_html()` 함수를 사용하면 분석 결과 중 계수에 해당하는 값만을 요약해서 볼 수 있습니다."
   ]
  },
  {
   "cell_type": "code",
   "execution_count": 104,
   "metadata": {},
   "outputs": [
    {
     "data": {
      "text/html": [
       "<table style=\"text-align:center\"><tr><td colspan=\"2\" style=\"border-bottom: 1px solid black\"></td></tr><tr><td style=\"text-align:left\"></td><td colspan=\"1\"><em>Dependent variable:R_excess</em></td></tr><tr><td style=\"text-align:left\"></td><tr><td style=\"text-align:left\"></td><td>(1)</td></tr><tr><td colspan=\"2\" style=\"border-bottom: 1px solid black\"></td></tr><tr><td style=\"text-align:left\">HML</td><td>-0.098<sup>***</sup></td></tr><tr><td style=\"text-align:left\"></td><td>(0.033)</td></tr><tr><td style=\"text-align:left\">Intercept</td><td>0.003<sup>***</sup></td></tr><tr><td style=\"text-align:left\"></td><td>(0.001)</td></tr><tr><td style=\"text-align:left\">Mkt_excess</td><td>-0.262<sup>***</sup></td></tr><tr><td style=\"text-align:left\"></td><td>(0.016)</td></tr><tr><td style=\"text-align:left\">SMB</td><td>-0.346<sup>***</sup></td></tr><tr><td style=\"text-align:left\"></td><td>(0.036)</td></tr><tr><td style=\"text-align:left\">UMD</td><td>0.081<sup>***</sup></td></tr><tr><td style=\"text-align:left\"></td><td>(0.026)</td></tr><td colspan=\"2\" style=\"border-bottom: 1px solid black\"></td></tr><tr><td style=\"text-align: left\">Observations</td><td>378</td></tr><tr><td style=\"text-align: left\">R<sup>2</sup></td><td>0.638</td></tr><tr><td style=\"text-align: left\">Adjusted R<sup>2</sup></td><td>0.634</td></tr><tr><td style=\"text-align: left\">Residual Std. Error</td><td>0.013 (df=373)</td></tr><tr><td style=\"text-align: left\">F Statistic</td><td>164.255<sup>***</sup> (df=4; 373)</td></tr><tr><td colspan=\"2\" style=\"border-bottom: 1px solid black\"></td></tr><tr><td style=\"text-align: left\">Note:</td>\n",
       " <td colspan=\"1\" style=\"text-align: right\">\n",
       "  <sup>*</sup>p&lt;0.1;\n",
       "  <sup>**</sup>p&lt;0.05;\n",
       "  <sup>***</sup>p&lt;0.01\n",
       " </td></tr></table>"
      ],
      "text/plain": [
       "<IPython.core.display.HTML object>"
      ]
     },
     "execution_count": 104,
     "metadata": {},
     "output_type": "execute_result"
    }
   ],
   "source": [
    "from stargazer.stargazer import Stargazer\n",
    "from IPython.core.display import HTML\n",
    "\n",
    "stargazer = Stargazer([reg])\n",
    "HTML(stargazer.render_html())"
   ]
  },
  {
   "cell_type": "markdown",
   "metadata": {},
   "source": [
    "stargazer 패키지를 사용하면, 회귀분석 결과를 논문에서 많이 사용되는 테이블 형식으로 손쉽게 출력할 수 있으며, 이를 그대로 복사해 보고서에 사용할 수 있습니다."
   ]
  }
 ],
 "metadata": {
  "kernelspec": {
   "display_name": "Python 3",
   "language": "python",
   "name": "python3"
  },
  "language_info": {
   "codemirror_mode": {
    "name": "ipython",
    "version": 3
   },
   "file_extension": ".py",
   "mimetype": "text/x-python",
   "name": "python",
   "nbconvert_exporter": "python",
   "pygments_lexer": "ipython3",
   "version": "3.8.5"
  }
 },
 "nbformat": 4,
 "nbformat_minor": 4
}
