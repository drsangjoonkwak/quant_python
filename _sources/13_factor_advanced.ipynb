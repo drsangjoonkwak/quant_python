{
 "cells": [
  {
   "cell_type": "markdown",
   "metadata": {},
   "source": [
    "# 13. 퀀트 전략을 이용한 종목선정 (심화)"
   ]
  },
  {
   "cell_type": "markdown",
   "metadata": {},
   "source": [
    "지난 장에서는 팩터를 이용한 투자 전략의 기본이 되는 저변동성, 모멘텀, 밸류, 퀄리티 전략에 대해 알아보았습니다. 물론 이러한 단일 팩터를 이용한 투자도 장기적으로 우수한 성과를 보이지만, 여러 팩터를 결합하거나 정밀하게 전략을 만든다면 더욱 우수한 성과를 거둘 수 있습니다.\n",
    "\n",
    "이번 장에서는 섹터별 효과를 없앤 후 포트폴리오를 구성하는 방법, 이상치 데이터 제거 및 팩터 결합 방법, 그리고 멀티팩터 구성 방법을 알아보겠습니다."
   ]
  },
  {
   "cell_type": "markdown",
   "metadata": {},
   "source": [
    "## 13.1 섹터 중립 포트폴리오"
   ]
  },
  {
   "cell_type": "markdown",
   "metadata": {},
   "source": [
    "팩터 전략의 단점 중 하나는 선택된 종목들이 특정 섹터로 쏠리는 경우가 있다는 점입니다. 특히 과거 수익률을 토대로 종목을 선정하는 모멘텀 전략은 특정 섹터의 호황기에 동일한 섹터의 모든 종목이 함께 움직이는 경향이 있어 이러한 쏠림이 심할 수 있습니다.\n",
    "\n",
    "먼저 지난 장에서 배운 12개월 모멘텀을 이용한 포트폴리오 구성 방법을 다시 살펴보겠습니다."
   ]
  },
  {
   "cell_type": "code",
   "execution_count": 1,
   "metadata": {},
   "outputs": [],
   "source": [
    "import pandas as pd\n",
    "import numpy as np\n",
    "from statistics import stdev \n",
    "\n",
    "KOR_ticker = pd.read_csv('data/KOR_ticker.csv', index_col=0)\n",
    "KOR_ticker['종목코드'] = KOR_ticker['종목코드'].astype(np.str).str.zfill(6)\n",
    "KOR_price = pd.read_csv('data/KOR_price.csv', index_col = 0)\n",
    "\n",
    "ret = KOR_price.pct_change()\n",
    "ret_12m = ret.iloc[-252: ].apply(lambda x: (x+1).prod()-1)\n",
    "\n",
    "invest_mom = (ret_12m.rank(ascending = False) <= 30).values"
   ]
  },
  {
   "cell_type": "markdown",
   "metadata": {},
   "source": [
    "기존의 코드와 동일하게, 티커 및 주식 가격 데이터를 불러온 후 최근 12개월 수익률을 구해 상위 30종목을 선택합니다."
   ]
  },
  {
   "cell_type": "code",
   "execution_count": 2,
   "metadata": {},
   "outputs": [],
   "source": [
    "KOR_sector = pd.read_csv('data/KOR_sector.csv', index_col = 0)\n",
    "KOR_sector['CMP_CD'] = KOR_sector['CMP_CD'].astype(np.str).str.zfill(6)\n",
    "\n",
    "data_market = pd.merge(KOR_ticker, KOR_sector, left_on=['종목코드','종목명'], right_on = ['CMP_CD','CMP_KOR'], how='left')"
   ]
  },
  {
   "cell_type": "markdown",
   "metadata": {},
   "source": [
    "해당 종목들의 섹터 정보를 추가로 살펴보기 위해, 섹터 데이터를 불러온 후 merge() 함수를 이용해 티커와 결합해 data_market에 저장합니다. 섹터별 종목수를 확인해보도록 하겠습니다."
   ]
  },
  {
   "cell_type": "code",
   "execution_count": 3,
   "metadata": {},
   "outputs": [
    {
     "data": {
      "image/png": "[encoded data removed]",
      "text/plain": [
       "<Figure size 720x432 with 1 Axes>"
      ]
     },
     "metadata": {
      "needs_background": "light"
     },
     "output_type": "display_data"
    }
   ],
   "source": [
    "import matplotlib.pyplot as plt\n",
    "\n",
    "mom_sector = pd.DataFrame(data_market[invest_mom]['SEC_NM_KOR'].value_counts())\n",
    "\n",
    "plt.rc('font', family = 'Malgun Gothic')\n",
    "mom_sector.plot.barh(figsize = (10, 6), legend = False)\n",
    "plt.gca().invert_yaxis()\n",
    "\n",
    "for y, x in enumerate(mom_sector['SEC_NM_KOR']):\n",
    "    plt.annotate(str(x), xy=(x, y), va='center')"
   ]
  },
  {
   "cell_type": "markdown",
   "metadata": {},
   "source": [
    "`value_counts()` 함수를 통해 섹터별 종목수를 계산해준 후 이를 그림으로 나타내보면, 특정 섹터에 대부분의 종목이 몰려 있음이 확인됩니다. 따라서 여러 종목으로 포트폴리오를 구성했지만, 이를 분해해보면 특정 섹터에 쏠림이 심하다는 것을 알 수 있습니다. 이러한 섹터 쏠림 현상을 제거한 **섹터 중립 포트폴리오**를 구성해보겠습니다."
   ]
  },
  {
   "cell_type": "code",
   "execution_count": 4,
   "metadata": {},
   "outputs": [],
   "source": [
    "data_market['ret'] = ret_12m.values\n",
    "data_select = data_market[['종목코드', '종목명', 'SEC_NM_KOR', 'ret']]\n",
    "\n",
    "sector_neutral = data_select.groupby('SEC_NM_KOR', dropna=False).ret.apply(lambda x: (x - x.mean())/x.std())"
   ]
  },
  {
   "cell_type": "markdown",
   "metadata": {},
   "source": [
    "1. data_market의 ret 열에 미리 계산한 12개월 수익률 정보를 입력합니다.\n",
    "1. data_market에서 종목코드, 종목명, 섹터 정보, 12개월 수익률을 선택합니다.\n",
    "2. `groupby()` 함수를 통해 섹터별 그룹을 만들어 준 후, `apply()` 함수를 이용해 그룹별 수익률의 Z-Score를 구합니다. Z-Score는 $\\frac{x-\\mu}{\\sigma}$로 계산됩니다.\n",
    "\n",
    "위의 정규화 과정을 살펴보면, 전체 종목에서 12개월 수익률을 비교하는 것이 아닌 각 섹터별로 수익률의 강도를 비교하게 됩니다. 따라서 특정 종목의 과거 수익률이 전체 종목과 비교해서 높았더라도 해당 섹터 내에서의 순위가 낮다면, Z-Score 값은 낮아집니다.\n",
    "\n",
    "따라서 섹터별 정규화 과정을 거친 값으로 비교 분석을 한다면, 섹터 효과가 제거된 포트폴리오를 구성할 수 있습니다."
   ]
  },
  {
   "cell_type": "code",
   "execution_count": 5,
   "metadata": {},
   "outputs": [
    {
     "data": {
      "image/png": "[encoded data removed]",
      "text/plain": [
       "<Figure size 720x432 with 1 Axes>"
      ]
     },
     "metadata": {
      "needs_background": "light"
     },
     "output_type": "display_data"
    }
   ],
   "source": [
    "import matplotlib.pyplot as plt\n",
    "\n",
    "invest_mom_neutral  = (sector_neutral.rank(ascending = False) <= 30).values\n",
    "mom_sector_neutral = pd.DataFrame(data_market[invest_mom_neutral]['SEC_NM_KOR'].value_counts())\n",
    "\n",
    "plt.rc('font', family = 'Malgun Gothic')\n",
    "mom_sector_neutral.plot.barh(figsize = (10, 6), legend = False)\n",
    "plt.gca().invert_yaxis()\n",
    "\n",
    "for y, x in enumerate(mom_sector_neutral['SEC_NM_KOR']):\n",
    "    plt.annotate(str(x), xy=(x, y), va='center')"
   ]
  },
  {
   "cell_type": "markdown",
   "metadata": {},
   "source": [
    "정규화된 값의 랭킹이 높은 상위 30종목을 선택하며, 내림차순으로 계산합니다.. 해당 포트폴리오의 섹터별 구성종목을 확인해보면, 단순하게 포트폴리오를 구성한 것에 대비하여 여러 섹터에 종목이 분산되어 있습니다.\n",
    "\n",
    "이처럼 `groupby()` 함수를 통해 손쉽게 그룹별 중립화를 할 수 있으며, 글로벌 투자를 하는 경우에는 지역, 국가, 섹터별로도 중립화된 포트폴리오를 구성하기도 합니다."
   ]
  },
  {
   "cell_type": "markdown",
   "metadata": {},
   "source": [
    "## 13.2 마법공식"
   ]
  },
  {
   "cell_type": "markdown",
   "metadata": {},
   "source": [
    "하나의 팩터만을 보고 투자하는 것보다, 둘 혹은 그 이상의 팩터를 결합해 투자해야 훨씬 좋은 포트폴리오를 구성할 수 있으며, 이러한 방법을 멀티팩터라고 합니다. 그중에서도 밸류와 퀄리티의 조합은 전통적으로 많이 사용된 방법이며, 대표적인 예가 조엘 그린블라트의 마법공식입니다. 이에 앞서, 퀄리티와 밸류 간의 관계, 마법공식의 정의와 구성 방법을 알아보겠습니다."
   ]
  },
  {
   "cell_type": "markdown",
   "metadata": {},
   "source": [
    "### 13.2.1 퀄리티와 밸류 간의 관계"
   ]
  },
  {
   "cell_type": "markdown",
   "metadata": {},
   "source": [
    "투자의 정석 중 하나는 **좋은 기업을 싸게 사는 것**입니다. 이를 팩터의 관점에서 이해하면 퀄리티 팩터와 밸류 팩터로 이해할 수도 있습니다.\n",
    "\n",
    "여러 논문에 따르면 흔히 밸류 팩터와 퀄리티 팩터는 반대의 관계에 있습니다. 먼저 가치주들은 위험이 크기 때문에 시장에서 소외를 받아 저평가가 이루어지는 것이며, 이러한 위험에 대한 대가로 밸류 팩터의 수익률이 높게 됩니다. 반대로 사람들은 우량주에 기꺼이 프리미엄을 지불하려 하기 때문에 퀄리티 팩터의 수익률이 높기도 합니다. 이는 마치 동전의 양면과 같지만, 장기적으로 가치주와 우량주 모두 우수한 성과를 기록합니다. 먼저 퀄리티의 지표인 매출총이익과 밸류 지표인 PBR을 통해 둘 사이의 관계를 확인해 보겠습니다."
   ]
  },
  {
   "cell_type": "code",
   "execution_count": 6,
   "metadata": {},
   "outputs": [
    {
     "data": {
      "text/html": [
       "<div>\n",
       "<style scoped>\n",
       "    .dataframe tbody tr th:only-of-type {\n",
       "        vertical-align: middle;\n",
       "    }\n",
       "\n",
       "    .dataframe tbody tr th {\n",
       "        vertical-align: top;\n",
       "    }\n",
       "\n",
       "    .dataframe thead th {\n",
       "        text-align: right;\n",
       "    }\n",
       "</style>\n",
       "<table border=\"1\" class=\"dataframe\">\n",
       "  <thead>\n",
       "    <tr style=\"text-align: right;\">\n",
       "      <th></th>\n",
       "      <th>PBR</th>\n",
       "      <th>GPA</th>\n",
       "    </tr>\n",
       "  </thead>\n",
       "  <tbody>\n",
       "    <tr>\n",
       "      <th>PBR</th>\n",
       "      <td>1.000000</td>\n",
       "      <td>-0.203685</td>\n",
       "    </tr>\n",
       "    <tr>\n",
       "      <th>GPA</th>\n",
       "      <td>-0.203685</td>\n",
       "      <td>1.000000</td>\n",
       "    </tr>\n",
       "  </tbody>\n",
       "</table>\n",
       "</div>"
      ],
      "text/plain": [
       "          PBR       GPA\n",
       "PBR  1.000000 -0.203685\n",
       "GPA -0.203685  1.000000"
      ]
     },
     "execution_count": 6,
     "metadata": {},
     "output_type": "execute_result"
    }
   ],
   "source": [
    "import pandas as pd\n",
    "import numpy as np\n",
    "import pickle\n",
    "from datetime import date\n",
    "\n",
    "KOR_ticker = pd.read_csv('data/KOR_ticker.csv', index_col=0)\n",
    "KOR_ticker['종목코드'] = KOR_ticker['종목코드'].astype(np.str).str.zfill(6)\n",
    "\n",
    "KOR_value = pd.read_csv('data/KOR_value.csv', index_col=0)\n",
    "KOR_value.index = KOR_value.index.astype(np.str).str.zfill(6)\n",
    "\n",
    "with open('data/KOR_fs.pickle', 'rb') as f:\n",
    "    KOR_fs = pickle.load(f)\n",
    "\n",
    "# PBR\n",
    "data_pbr = KOR_value.loc[:, 'PBR']    \n",
    "\n",
    "# GPA\n",
    "if date.today().month in(1,2,3,4):\n",
    "    num_col = KOR_fs['매출액'].columns.str[0:4].get_loc(str(date.today().year - 2))\n",
    "else:\n",
    "    num_col = KOR_fs['매출액'].columns.str[0:4].get_loc(str(date.today().year - 1))\n",
    "    \n",
    "data_gpa = (KOR_fs['매출총이익'] / KOR_fs['자산']).iloc[:, num_col]    \n",
    "\n",
    "# Bind & Rank\n",
    "data_bind = pd.concat([data_pbr, data_gpa], axis = 1)\n",
    "data_bind.columns = ['PBR', 'GPA']\n",
    "data_bind_rank = pd.concat([data_bind['PBR'].rank(), data_bind['GPA'].rank(ascending = False)], axis = 1)\n",
    "\n",
    "# correlation\n",
    "data_bind_rank.corr()"
   ]
  },
  {
   "cell_type": "markdown",
   "metadata": {},
   "source": [
    "1. 티커와 밸류, 재무제표 데이터를 불러옵니다.\n",
    "2. 밸류 데이터에서 PBR 지표만 선택합니다.\n",
    "3. 재무제표 데이터에서 GPA(매출총이익/자산)을 구합니다.\n",
    "4. 두 데이터를 합쳐준 후 PBR은 오름차순, GPA는 내림차순으로 랭킹을 구합니다.\n",
    "5. 랭킹의 상관관계를 구합니다. \n",
    "\n",
    "PBR과 GPA 간에는 음의 상관관계가 있음이 확인됩니다. 이번에는 PBR의 분위수별 GPA 평균값을 구하겠습니다."
   ]
  },
  {
   "cell_type": "code",
   "execution_count": 7,
   "metadata": {},
   "outputs": [
    {
     "data": {
      "image/png": "[encoded data removed]",
      "text/plain": [
       "<Figure size 720x432 with 1 Axes>"
      ]
     },
     "metadata": {
      "needs_background": "light"
     },
     "output_type": "display_data"
    }
   ],
   "source": [
    "import matplotlib.pyplot as plt\n",
    "\n",
    "data_bind['PBR_quantile'] = pd.qcut(data_bind['PBR'], q = 5, labels = range(1, 6))\n",
    "data_bind_group = data_bind.dropna().groupby('PBR_quantile').mean('GPA')\n",
    "\n",
    "fig, ax = plt.subplots(figsize=(10, 6))\n",
    "plt.rc('font', family = 'Malgun Gothic')\n",
    "plt.bar(x = np.arange(5), height = data_bind_group['GPA'])\n",
    "plt.xlabel('PBR')\n",
    "plt.ylabel('GPA')\n",
    "\n",
    "plt.show()"
   ]
  },
  {
   "cell_type": "markdown",
   "metadata": {},
   "source": [
    "1. `qcut()` 함수를 이용해 PBR을 5분위수로 나누어줍니다.\n",
    "2. NA가 있는 데이터는 제외하며, `groupby()` 함수를 통해 PBR의 분위수별 그룹을 묶어줍니다. 그 후, 각 PBR 그룹별 GPA의 평균값을 구합니다.\n",
    "3. 위 데이터를 그림으로 나타냅니다.\n",
    "\n",
    "그림에서 알 수 있듯이 PBR이 낮을수록 GPA도 낮으며, 즉 가치주일수록 우량성은 떨어집니다. 반면에 PBR이 높을수록 GPA도 높으며, 이는 주식의 가격이 비쌀수록 우량성도 높다는 뜻입니다. 이를 이용해 밸류 팩터와 퀄리티 팩터 간의 관계를 나타내면 다음과 같습니다.\n",
    "\n",
    "```{figure} image/tableqv.png\n",
    "---\n",
    "name: tableqv\n",
    "---\n",
    "밸류 팩터와 퀄리티 팩터간의 관계\n",
    "```\n",
    "주가가 쌀수록 기업의 우량성은 떨어지며(①번), 반대로 기업의 우량성이 좋으면 주식은 비싼 경향(③번)이 있습니다. 물론 우량성도 떨어지고 비싸기만한 주식(②번)을 사려는 사람들 아마 없을 겁니다. 결과적으로 우리가 원하는 최고의 주식은 우량성이 있으면서도 가격은 싼 주식(④번)입니다."
   ]
  },
  {
   "cell_type": "markdown",
   "metadata": {},
   "source": [
    "### 13.2.2 마법공식 이해하기"
   ]
  },
  {
   "cell_type": "markdown",
   "metadata": {},
   "source": [
    "마법공식이란 고담 캐피탈의 설립자이자 전설적인 투자자 조엘 그린블라트에 의해 알려진 투자 방법입니다. 그는 본인의 책 《주식 시장을 이기는 작은 책》에서 투자를 하는데 있어 중요한 두 가지 지표가 있으며, 이를 혼합하면 뛰어난 성과를 기록할 수 있다고 했습니다.\n",
    " \n",
    "첫 번째 지표는 **이율(Earnings Yield)** 로서 기업의 수익을 기업의 가치로 나는 값입니다. 이는 PER의 역수와 비슷하며, 밸류 지표 중 하나입니다. 두 번째 지표는 **투하자본 수익률(Return on Capital)** 로서 기업의 수익을 투자한 자본으로 나눈 값입니다. 이는 ROE와도 비슷하며, 퀄리티 지표 중 하나입니다. 마법공식은 이 두 가지 지표의 랭킹을 각각 구한 후 랭킹의 합 기준 상위 30개 종목을 1년간 보유한 후 매도하는 전략입니다.\n",
    "\n",
    "해당 전략은 국내 투자자들에게도 많이 사랑받는 전략이지만 두 지표를 계산하기 위한 데이터를 수집하기 어려워 많은 투자자들이 이율 대신 PER를 사용하고, 투하자본 수익률 대신 ROE를 사용합니다. 그러나 우리가 수집한 데이터를 통해 충분히 원래의 마법공식을 구현할 수 있습니다.\n",
    "\n",
    "```{table} 마법공식의 구성 요소\n",
    ":name: magic_formula\n",
    "\n",
    "| 팩터 | Value | Quality |\n",
    "|----|----|----|\n",
    "| 지표 | 이율 (Earnings Yield) | 투하자본 수익률 (Return On Capital) |\n",
    "| 계산 | $\\frac{이자\\ 및\\ 법인세\\ 차감전이익}{기업\\ 가치}$ | $\\frac{이자\\ 및\\ 법인세\\ 차감전이익}{투하\\ 자본}$|\n",
    "```"
   ]
  },
  {
   "cell_type": "markdown",
   "metadata": {},
   "source": [
    "### 13.2.3 마법공식 구성하기"
   ]
  },
  {
   "cell_type": "markdown",
   "metadata": {},
   "source": [
    "재무제표 항목을 통해 이율과 투하자본 수익률을 계산하고, 이를 통해 마법공식 포트폴리오를 구성하겠습니다. 먼저 밸류 지표에 해당하는 이익수익률을 계산해보겠습니다. 이익수익률은 이자 및 법인세 차감전이익(EBIT)을 기업가치(시가총액 + 순차입금)로 나눈 값입니다. 이를 분해하면 다음과 같습니다.\n",
    "\n",
    "$$ \\begin{align} 이익수익률 &= \\frac{이자\\ 및\\ 법인세\\ 차감전이익}{기업\\ 가치} \\\\ &= \\frac{이자\\ 및\\ 법인세\\ 차감전이익}{시가총액 + 순차입금} \n",
    "\\\\ &= \\frac{당기순이익 + 법인세 + 이자비용}{시가총액 + 총부채 - 여유자금}\n",
    "\\\\ &= \\frac{당기순이익 + 법인세 + 이자비용}{시가총액 + 총부채 - (현금 - max(0, 유동부채 - 유동자산 + 현금))} \\end{align} $$"
   ]
  },
  {
   "cell_type": "code",
   "execution_count": 8,
   "metadata": {},
   "outputs": [],
   "source": [
    "import pandas as pd\n",
    "import numpy as np\n",
    "import pickle\n",
    "from datetime import date\n",
    "\n",
    "KOR_ticker = pd.read_csv('data/KOR_ticker.csv', index_col=0)\n",
    "KOR_ticker['종목코드'] = KOR_ticker['종목코드'].astype(np.str).str.zfill(6)\n",
    "\n",
    "KOR_value = pd.read_csv('data/KOR_value.csv', index_col=0)\n",
    "KOR_value.index = KOR_value.index.astype(np.str).str.zfill(6)\n",
    "\n",
    "with open('data/KOR_fs.pickle', 'rb') as f:\n",
    "    KOR_fs = pickle.load(f)\n",
    "    \n",
    "if date.today().month in(1,2,3):\n",
    "    num_col = KOR_fs['매출액'].columns.str[0:4].get_loc(str(date.today().year - 2))\n",
    "else:\n",
    "    num_col = KOR_fs['매출액'].columns.str[0:4].get_loc(str(date.today().year - 1))\n",
    "    \n",
    "# 분자\n",
    "magic_ebit = (KOR_fs['지배주주순이익'] + KOR_fs['법인세비용'] + KOR_fs['이자비용']).iloc[:, num_col]    \n",
    "\n",
    "# 분모\n",
    "magic_cap = KOR_value['PER'] * KOR_fs['지배주주순이익'].iloc[:, num_col]\n",
    "magic_debt = KOR_fs['부채'].iloc[:, num_col]\n",
    "magic_excess_cash_1  = (KOR_fs['유동부채'] - KOR_fs['유동자산'] + KOR_fs['현금및현금성자산']).iloc[:, num_col]\n",
    "magic_excess_cash_1[magic_excess_cash_1<0] = 0\n",
    "magic_excess_cash_2  = KOR_fs['현금및현금성자산'].iloc[:, num_col] - magic_excess_cash_1\n",
    "magic_ev  = magic_cap + magic_debt - magic_excess_cash_2\n",
    "\n",
    "# 이익수익률\n",
    "magic_ey = magic_ebit / magic_ev"
   ]
  },
  {
   "cell_type": "markdown",
   "metadata": {},
   "source": [
    "가치지표, 재무제표, 티커 데이터를 불러온 후 재무제표 열 개수를 구합니다. 그후 분자와 분모 항목에 해당하는 부분을 하나씩 계산합니다. 먼저 분자 부분인 이자및 법인세 차감전이익은 지배주주 순이익에 법인세비용과 이자비용을 더해준 후 최근년도 데이터를 선택합니다.\n",
    "\n",
    "분모 부분은 시가총액, 총 부채, 여유자금 총 세 가지로 구성되어 있습니다.\n",
    "\n",
    "1. 우리가 가지고 있는 밸류 데이터와 재무제표 데이터를 통해 시가총액을 역산할 수 있습니다. PER 값에 Earnings를 곱해주면 시가총액이 계산됩니다. 이를 통해 계산된 시가총액을 HTS나 금융 웹사이트의 값과 비교하면 거의 비슷함이 확인됩니다.\n",
    "\n",
    "$$ \\begin{align}\n",
    "PER \\times Earnings & = \\frac{Price}{Earnings/Shares} \\times Earnings \\\\\n",
    "& = \\frac{Price \\times Shares}{Earnings} \\times Earnings \\\\\n",
    "& = Price \\times Shares = Market\\,Cap\n",
    "\\end{align} $$\n",
    "\n",
    "2. 총 부채는 부채 항목을 사용합니다.\n",
    "3. 여유자금은 두 단계에 걸쳐 계산합니다. 먼저 **유동부채 - 유동자산 + 현금** 값을 구해준 후 0보다 작은 값은 모두 0으로 바꿔줍니다. 이 값을 현금 및 현금성자산 항목에서 차감해 최종적인 여유자금을 구합니다.\n",
    "\n",
    "분자와 분모 부분을 나누어주면 이익수익률을 계산할 수 있습니다.\n",
    "\n",
    "다음으로 퀄리티 지표에 해당하는 투하자본 수익률을 계산하겠습니다. 해당 값은 이자 및 법인세 차감전이익(EBIT)를 투하자본(IC)으로 나누어 계산되며, 이를 분해하면 다음과 같습니다.\n",
    "\n",
    "$$ \\begin{align}\n",
    "투하자본\\ 수익률 & = \\frac{이자\\ 및\\ 법인세\\ 차감전이익}{투하자본} \\\\\n",
    "& = \\frac{당기순이익 + 법인세 + 이자비용}{(유동자산 - 유동부채) + (비유동자산 - 감가상각비)}\n",
    "\\end{align} $$"
   ]
  },
  {
   "cell_type": "code",
   "execution_count": 9,
   "metadata": {},
   "outputs": [],
   "source": [
    "magic_ic = ((KOR_fs['유동자산'] - KOR_fs['유동부채']) + (KOR_fs['비유동자산'] - KOR_fs['감가상각비'])).iloc[:, num_col]\n",
    "magic_roc = magic_ebit / magic_ic"
   ]
  },
  {
   "cell_type": "markdown",
   "metadata": {},
   "source": [
    "투하자본 수익률은 비교적 쉽게 계산할 수 있습니다. 분모에 해당하는 투하자본의 경우 재무제표 항목을 그대로 사용하면 되며, 분자인 이자 및 법인세 차감전이익은 위에서 이미 구해둔 값을 사용하면 됩니다.\n",
    "\n",
    "이제 두 지표를 활용해 마법공식 포트폴리오를 구성하겠습니다."
   ]
  },
  {
   "cell_type": "code",
   "execution_count": 10,
   "metadata": {},
   "outputs": [
    {
     "data": {
      "text/html": [
       "<div>\n",
       "<style scoped>\n",
       "    .dataframe tbody tr th:only-of-type {\n",
       "        vertical-align: middle;\n",
       "    }\n",
       "\n",
       "    .dataframe tbody tr th {\n",
       "        vertical-align: top;\n",
       "    }\n",
       "\n",
       "    .dataframe thead th {\n",
       "        text-align: right;\n",
       "    }\n",
       "</style>\n",
       "<table border=\"1\" class=\"dataframe\">\n",
       "  <thead>\n",
       "    <tr style=\"text-align: right;\">\n",
       "      <th></th>\n",
       "      <th>종목코드</th>\n",
       "      <th>종목명</th>\n",
       "      <th>이익수익률</th>\n",
       "      <th>투하자본수익률</th>\n",
       "    </tr>\n",
       "  </thead>\n",
       "  <tbody>\n",
       "    <tr>\n",
       "      <th>68</th>\n",
       "      <td>096530</td>\n",
       "      <td>씨젠</td>\n",
       "      <td>0.139</td>\n",
       "      <td>0.951</td>\n",
       "    </tr>\n",
       "    <tr>\n",
       "      <th>282</th>\n",
       "      <td>036830</td>\n",
       "      <td>솔브레인홀딩스</td>\n",
       "      <td>1.251</td>\n",
       "      <td>1.282</td>\n",
       "    </tr>\n",
       "    <tr>\n",
       "      <th>413</th>\n",
       "      <td>024720</td>\n",
       "      <td>한국콜마홀딩스</td>\n",
       "      <td>0.217</td>\n",
       "      <td>0.246</td>\n",
       "    </tr>\n",
       "    <tr>\n",
       "      <th>416</th>\n",
       "      <td>033290</td>\n",
       "      <td>코웰패션</td>\n",
       "      <td>0.131</td>\n",
       "      <td>0.272</td>\n",
       "    </tr>\n",
       "    <tr>\n",
       "      <th>440</th>\n",
       "      <td>206640</td>\n",
       "      <td>바디텍메드</td>\n",
       "      <td>0.109</td>\n",
       "      <td>0.461</td>\n",
       "    </tr>\n",
       "    <tr>\n",
       "      <th>456</th>\n",
       "      <td>068290</td>\n",
       "      <td>삼성출판사</td>\n",
       "      <td>0.121</td>\n",
       "      <td>0.357</td>\n",
       "    </tr>\n",
       "    <tr>\n",
       "      <th>472</th>\n",
       "      <td>009410</td>\n",
       "      <td>태영건설</td>\n",
       "      <td>0.195</td>\n",
       "      <td>0.355</td>\n",
       "    </tr>\n",
       "    <tr>\n",
       "      <th>477</th>\n",
       "      <td>064550</td>\n",
       "      <td>바이오니아</td>\n",
       "      <td>0.116</td>\n",
       "      <td>0.370</td>\n",
       "    </tr>\n",
       "    <tr>\n",
       "      <th>498</th>\n",
       "      <td>035890</td>\n",
       "      <td>서희건설</td>\n",
       "      <td>0.185</td>\n",
       "      <td>0.276</td>\n",
       "    </tr>\n",
       "    <tr>\n",
       "      <th>518</th>\n",
       "      <td>034810</td>\n",
       "      <td>해성산업</td>\n",
       "      <td>0.369</td>\n",
       "      <td>0.369</td>\n",
       "    </tr>\n",
       "    <tr>\n",
       "      <th>548</th>\n",
       "      <td>298540</td>\n",
       "      <td>더네이쳐홀딩스</td>\n",
       "      <td>0.136</td>\n",
       "      <td>0.289</td>\n",
       "    </tr>\n",
       "    <tr>\n",
       "      <th>604</th>\n",
       "      <td>038290</td>\n",
       "      <td>마크로젠</td>\n",
       "      <td>0.211</td>\n",
       "      <td>0.418</td>\n",
       "    </tr>\n",
       "    <tr>\n",
       "      <th>803</th>\n",
       "      <td>084650</td>\n",
       "      <td>랩지노믹스</td>\n",
       "      <td>0.208</td>\n",
       "      <td>0.635</td>\n",
       "    </tr>\n",
       "    <tr>\n",
       "      <th>885</th>\n",
       "      <td>352700</td>\n",
       "      <td>씨앤투스성진</td>\n",
       "      <td>0.152</td>\n",
       "      <td>0.588</td>\n",
       "    </tr>\n",
       "    <tr>\n",
       "      <th>938</th>\n",
       "      <td>031980</td>\n",
       "      <td>피에스케이홀딩스</td>\n",
       "      <td>0.251</td>\n",
       "      <td>0.263</td>\n",
       "    </tr>\n",
       "    <tr>\n",
       "      <th>1040</th>\n",
       "      <td>000700</td>\n",
       "      <td>유수홀딩스</td>\n",
       "      <td>0.639</td>\n",
       "      <td>0.276</td>\n",
       "    </tr>\n",
       "    <tr>\n",
       "      <th>1136</th>\n",
       "      <td>263690</td>\n",
       "      <td>디알젬</td>\n",
       "      <td>0.132</td>\n",
       "      <td>0.408</td>\n",
       "    </tr>\n",
       "    <tr>\n",
       "      <th>1199</th>\n",
       "      <td>238490</td>\n",
       "      <td>힘스</td>\n",
       "      <td>0.143</td>\n",
       "      <td>0.249</td>\n",
       "    </tr>\n",
       "    <tr>\n",
       "      <th>1279</th>\n",
       "      <td>002870</td>\n",
       "      <td>신풍제지</td>\n",
       "      <td>0.330</td>\n",
       "      <td>0.457</td>\n",
       "    </tr>\n",
       "    <tr>\n",
       "      <th>1331</th>\n",
       "      <td>053980</td>\n",
       "      <td>오상자이엘</td>\n",
       "      <td>0.146</td>\n",
       "      <td>0.390</td>\n",
       "    </tr>\n",
       "    <tr>\n",
       "      <th>1376</th>\n",
       "      <td>046940</td>\n",
       "      <td>우원개발</td>\n",
       "      <td>0.160</td>\n",
       "      <td>0.265</td>\n",
       "    </tr>\n",
       "    <tr>\n",
       "      <th>1419</th>\n",
       "      <td>083550</td>\n",
       "      <td>케이엠</td>\n",
       "      <td>0.266</td>\n",
       "      <td>0.361</td>\n",
       "    </tr>\n",
       "    <tr>\n",
       "      <th>1466</th>\n",
       "      <td>090710</td>\n",
       "      <td>휴림로봇</td>\n",
       "      <td>0.271</td>\n",
       "      <td>0.582</td>\n",
       "    </tr>\n",
       "    <tr>\n",
       "      <th>1507</th>\n",
       "      <td>105840</td>\n",
       "      <td>우진</td>\n",
       "      <td>0.267</td>\n",
       "      <td>0.229</td>\n",
       "    </tr>\n",
       "    <tr>\n",
       "      <th>1509</th>\n",
       "      <td>137940</td>\n",
       "      <td>넥스트아이</td>\n",
       "      <td>0.509</td>\n",
       "      <td>0.436</td>\n",
       "    </tr>\n",
       "    <tr>\n",
       "      <th>1512</th>\n",
       "      <td>016250</td>\n",
       "      <td>SGC이테크건설</td>\n",
       "      <td>0.326</td>\n",
       "      <td>1.655</td>\n",
       "    </tr>\n",
       "    <tr>\n",
       "      <th>1585</th>\n",
       "      <td>037350</td>\n",
       "      <td>성도이엔지</td>\n",
       "      <td>0.521</td>\n",
       "      <td>0.473</td>\n",
       "    </tr>\n",
       "    <tr>\n",
       "      <th>1605</th>\n",
       "      <td>032940</td>\n",
       "      <td>원익</td>\n",
       "      <td>0.485</td>\n",
       "      <td>0.448</td>\n",
       "    </tr>\n",
       "    <tr>\n",
       "      <th>1869</th>\n",
       "      <td>007120</td>\n",
       "      <td>미래아이앤지</td>\n",
       "      <td>1.029</td>\n",
       "      <td>0.271</td>\n",
       "    </tr>\n",
       "    <tr>\n",
       "      <th>1875</th>\n",
       "      <td>016100</td>\n",
       "      <td>리더스코스메틱</td>\n",
       "      <td>0.142</td>\n",
       "      <td>0.313</td>\n",
       "    </tr>\n",
       "    <tr>\n",
       "      <th>1912</th>\n",
       "      <td>000440</td>\n",
       "      <td>중앙에너비스</td>\n",
       "      <td>0.365</td>\n",
       "      <td>0.396</td>\n",
       "    </tr>\n",
       "  </tbody>\n",
       "</table>\n",
       "</div>"
      ],
      "text/plain": [
       "        종목코드       종목명  이익수익률  투하자본수익률\n",
       "68    096530        씨젠  0.139    0.951\n",
       "282   036830   솔브레인홀딩스  1.251    1.282\n",
       "413   024720   한국콜마홀딩스  0.217    0.246\n",
       "416   033290      코웰패션  0.131    0.272\n",
       "440   206640     바디텍메드  0.109    0.461\n",
       "456   068290     삼성출판사  0.121    0.357\n",
       "472   009410      태영건설  0.195    0.355\n",
       "477   064550     바이오니아  0.116    0.370\n",
       "498   035890      서희건설  0.185    0.276\n",
       "518   034810      해성산업  0.369    0.369\n",
       "548   298540   더네이쳐홀딩스  0.136    0.289\n",
       "604   038290      마크로젠  0.211    0.418\n",
       "803   084650     랩지노믹스  0.208    0.635\n",
       "885   352700    씨앤투스성진  0.152    0.588\n",
       "938   031980  피에스케이홀딩스  0.251    0.263\n",
       "1040  000700     유수홀딩스  0.639    0.276\n",
       "1136  263690       디알젬  0.132    0.408\n",
       "1199  238490        힘스  0.143    0.249\n",
       "1279  002870      신풍제지  0.330    0.457\n",
       "1331  053980     오상자이엘  0.146    0.390\n",
       "1376  046940      우원개발  0.160    0.265\n",
       "1419  083550       케이엠  0.266    0.361\n",
       "1466  090710      휴림로봇  0.271    0.582\n",
       "1507  105840        우진  0.267    0.229\n",
       "1509  137940     넥스트아이  0.509    0.436\n",
       "1512  016250  SGC이테크건설  0.326    1.655\n",
       "1585  037350     성도이엔지  0.521    0.473\n",
       "1605  032940        원익  0.485    0.448\n",
       "1869  007120    미래아이앤지  1.029    0.271\n",
       "1875  016100   리더스코스메틱  0.142    0.313\n",
       "1912  000440    중앙에너비스  0.365    0.396"
      ]
     },
     "execution_count": 10,
     "metadata": {},
     "output_type": "execute_result"
    }
   ],
   "source": [
    "invest_magic = (magic_ey.rank(ascending = False) + magic_roc.rank(ascending = False)).rank() <= 30\n",
    "\n",
    "invest_magic_df = KOR_ticker.loc[invest_magic.values, ['종목코드', '종목명']]\n",
    "invest_magic_df['이익수익률'] = magic_ey[invest_magic].values.round(3)\n",
    "invest_magic_df['투하자본수익률'] = magic_roc[invest_magic].values.round(3)\n",
    "\n",
    "invest_magic_df"
   ]
  },
  {
   "cell_type": "markdown",
   "metadata": {},
   "source": [
    "이익수익률과 투하자본 수익률의 랭킹을 내림차순으로 각각 구해주며, 두 값의 합의 랭킹 기준 상위 30종목을 선택한 후 종목코드, 종목명과 각 지표를 확인합니다. 마법공식을 통해 선택된 종목은 상대적으로 퀄리티와 밸류가 우수한 종목이라 볼 수 있습니다."
   ]
  },
  {
   "cell_type": "markdown",
   "metadata": {},
   "source": [
    "## 13.3 이상치 데이터 제거 및 팩터의 결합"
   ]
  },
  {
   "cell_type": "markdown",
   "metadata": {},
   "source": [
    "모든 데이터 분석에서 중요한 문제 중 하나가 이상치(극단치, Outlier) 데이터를 어떻게 처리할 것인가입니다. 과거 12개월 수익률이 10배인 주식이 과연 모멘텀 관점에서 좋기만 한 주식인지, ROE가 100% 넘는 주식이 과연 퀄리티 관점에서 좋기만 한 주식인지 고민이 되기 마련입니다.\n",
    "\n",
    "따라서 이러한 이상치를 제외하고 분석할지, 포함해서 분석할지를 판단해야 합니다. 만일 이상치를 포함한다면 그대로 사용할 것인지, 보정해 사용할 것인지도 판단해야 합니다.\n",
    "\n",
    "우리가 가지고 있는 데이터에서 이상치 데이터를 탐색해보겠습니다."
   ]
  },
  {
   "cell_type": "code",
   "execution_count": 30,
   "metadata": {},
   "outputs": [
    {
     "name": "stdout",
     "output_type": "stream",
     "text": [
      "64.08200046969698\n"
     ]
    }
   ],
   "source": [
    "import pandas as pd\n",
    "\n",
    "KOR_value = pd.read_csv('data/KOR_value.csv', index_col=0)\n",
    "PBR_max = KOR_value['PBR'].max()\n",
    "\n",
    "print(PBR_max)"
   ]
  },
  {
   "cell_type": "code",
   "execution_count": 31,
   "metadata": {},
   "outputs": [
    {
     "data": {
      "image/png": "[encoded data removed]",
      "text/plain": [
       "<Figure size 720x432 with 1 Axes>"
      ]
     },
     "metadata": {
      "needs_background": "light"
     },
     "output_type": "display_data"
    }
   ],
   "source": [
    "KOR_value['PBR'].plot.hist(bins = 100, figsize = (10, 6))\n",
    "plt.show()"
   ]
  },
  {
   "cell_type": "markdown",
   "metadata": {},
   "source": [
    "국내 종목들의 PBR 히스토그램을 그려보면 오른쪽으로 꼬리가 매우 긴 분포를 보이고 있습니다. 이는 PBR이 무려 수백대인 이상치 데이터가 있기 때문입니다. 이처럼 모든 팩터 지표에는 극단치 데이터가 있기 마련이며, 이를 처리하는 방법을 알아보겠습니다."
   ]
  },
  {
   "cell_type": "markdown",
   "metadata": {},
   "source": [
    "### 10.3.1 트림(Trim): 이상치 데이터 삭제"
   ]
  },
  {
   "cell_type": "markdown",
   "metadata": {},
   "source": [
    "트림은 이상치 데이터를 삭제하는 방법입니다. 위의 예제에서 이상치에 해당하는 상하위 1% 데이터를 삭제하겠습니다."
   ]
  },
  {
   "cell_type": "code",
   "execution_count": 13,
   "metadata": {},
   "outputs": [
    {
     "data": {
      "image/png": "[encoded data removed]",
      "text/plain": [
       "<Figure size 720x432 with 1 Axes>"
      ]
     },
     "metadata": {
      "needs_background": "light"
     },
     "output_type": "display_data"
    }
   ],
   "source": [
    "q_low = KOR_value['PBR'].quantile(0.01)\n",
    "q_hi  = KOR_value['PBR'].quantile(0.99)\n",
    "\n",
    "value_trim = KOR_value.loc[(KOR_value[\"PBR\"] > q_low) & (KOR_value[\"PBR\"] < q_hi), ['PBR']]\n",
    "\n",
    "fig, ax = plt.subplots(figsize=(10, 6))\n",
    "n, bins, patches = plt.hist(value_trim, bins=100)"
   ]
  },
  {
   "cell_type": "markdown",
   "metadata": {},
   "source": [
    "`quantile()` 함수를 통해 백분위를 구한 후 상하위 1%에 해당하는 데이터를 제외한 데이터만 선택했습니다. 결과적으로 지나치게 PBR이 낮은 종목과 높은 종목은 제거되어 x축의 스케일이 많이 줄어든 모습입니다.\n",
    "\n",
    "평균이나 분산같이 통곗값을 구하는 과정에서는 이상치 데이터를 제거하는 것이 바람직할 수 있습니다. 그러나 팩터를 이용해 포트폴리오를 구하는 과정에서 해당 방법은 조심스럽게 사용되어야 합니다. 데이터의 손실이 발생하게 되며, 제거된 종목 중 정말로 좋은 종목이 있을 수도 있기 때문입니다."
   ]
  },
  {
   "cell_type": "markdown",
   "metadata": {},
   "source": [
    "### 13.3.2 윈저라이징(Winsorizing): 이상치 데이터 대체"
   ]
  },
  {
   "cell_type": "markdown",
   "metadata": {},
   "source": [
    "포트폴리오 구성에서는 일반적으로 이상치 데이터를 다른 데이터로 대체하는 윈저라이징 방법이 사용됩니다. 예를 들어 상위 1%를 초과하는 데이터는 1% 값으로 대체하며, 하위 1% 미만의 데이터는 1% 데이터로 대체합니다. 즉, 좌우로 울타리를 쳐놓고 해당 범위를 넘어가는 값을 강제로 울타리에 맞춰줍니다."
   ]
  },
  {
   "cell_type": "code",
   "execution_count": 14,
   "metadata": {},
   "outputs": [
    {
     "data": {
      "image/png": "[encoded data removed]",
      "text/plain": [
       "<Figure size 720x432 with 1 Axes>"
      ]
     },
     "metadata": {
      "needs_background": "light"
     },
     "output_type": "display_data"
    }
   ],
   "source": [
    "value_winsor = KOR_value[['PBR']].copy()\n",
    "value_winsor.loc[value_winsor[\"PBR\"] < q_low , 'PBR'] = q_low\n",
    "value_winsor.loc[value_winsor[\"PBR\"] > q_hi , 'PBR'] = q_hi\n",
    "\n",
    "fig, ax = plt.subplots(figsize=(10, 6))\n",
    "n, bins, patches  = plt.hist(value_winsor, bins=100)\n",
    "patches[0].set_fc('red')\n",
    "patches[-1].set_fc('red')"
   ]
  },
  {
   "cell_type": "markdown",
   "metadata": {},
   "source": [
    "먼저 PBR 데이터를 카피해준 후, 상하위 1%를 초과하는 값들은 해당 기준으로 변경해줍니다. 그림을 살펴보면 x축 양 끝부분의 막대가 길어진 것으 확인할 수 있습니다. "
   ]
  },
  {
   "cell_type": "markdown",
   "metadata": {},
   "source": [
    "### 13.3.3 팩터의 결합 방법"
   ]
  },
  {
   "cell_type": "markdown",
   "metadata": {},
   "source": [
    "밸류 지표의 결합, 퀄리티 지표의 결합, 마법공식 포트폴리오를 구성할 때 단순히 랭킹을 더하는 방법을 사용했습니다. 물론 투자 종목수가 얼마 되지 않거나, 개인 투자자의 입장에서는 이러한 방법이 가장 단순하면서도 효과적일수 있습니다. 그러나 전문투자자의 입장이거나 팩터를 분석하는 업무를 할 경우 이처럼 단순히 랭킹을 더하는 방법은 여러 가지 문제를 안고 있습니다."
   ]
  },
  {
   "cell_type": "code",
   "execution_count": 15,
   "metadata": {},
   "outputs": [
    {
     "data": {
      "image/png": "[encoded data removed]",
      "text/plain": [
       "<Figure size 720x432 with 4 Axes>"
      ]
     },
     "metadata": {
      "needs_background": "light"
     },
     "output_type": "display_data"
    }
   ],
   "source": [
    "value_rank = KOR_value.rank(axis = 0)\n",
    "\n",
    "fig, axes = plt.subplots(2, 2, figsize=(10, 6), sharex=True)\n",
    "for n, ax in enumerate(axes.flatten()):\n",
    "    ax.hist(value_rank.iloc[:, n])                   \n",
    "    ax.set_title(value_rank.columns[n], size = 12)\n",
    "\n",
    "fig.tight_layout() "
   ]
  },
  {
   "cell_type": "markdown",
   "metadata": {},
   "source": [
    "앞의 그림은 각 밸류 지표의 랭킹을 구한 후 히스토그램으로 나타낸 것입니다. 랭킹을 구하는 것의 가장 큰 장점은 극단치로 인한 효과가 사라진다는 점과 균등한 분포를 가진다는 점입니다.\n",
    "\n",
    "그러나 각 지표의 x축을 보면 최댓값이 서로 다릅니다. 이는 지표별 결측치로 인해 유효 데이터의 개수가 달라 나타나는 현상이며, 서로 다른 범위의 분포를 단순히 합치는 것은 좋은 방법이 아닙니다. 예를 들어 A, B, C, D 팩터에 각각 비중을 40%, 30%, 20%, 10% 부여해 포트폴리오를 구성한다고 가정해봅시다. 각 랭킹은 분포의 범위가 다르므로, 랭킹과 비중의 가중평균을 통해 포트폴리오를 구성하면 왜곡된 결과를 발생시킵니다.\n",
    "\n",
    "이러한 문제를 해결하는 가장 좋은 방법은 랭킹을 구한 후 이를 Z-Score로 정규화하는 것입니다."
   ]
  },
  {
   "cell_type": "code",
   "execution_count": 33,
   "metadata": {},
   "outputs": [
    {
     "data": {
      "image/png": "[encoded data removed]",
      "text/plain": [
       "<Figure size 720x432 with 4 Axes>"
      ]
     },
     "metadata": {
      "needs_background": "light"
     },
     "output_type": "display_data"
    }
   ],
   "source": [
    "plt.rc('font', family = 'Malgun Gothic')\n",
    "\n",
    "from scipy.stats import zscore\n",
    "\n",
    "value_rank = KOR_value.rank(axis = 0)\n",
    "value_rank_z = value_rank.apply(zscore, nan_policy='omit')\n",
    "\n",
    "fig, axes = plt.subplots(2, 2, figsize=(10, 6), sharex=True, sharey = True)\n",
    "for n, ax in enumerate(axes.flatten()):\n",
    "    ax.hist(value_rank_z.iloc[:, n])                   \n",
    "    ax.set_title(value_rank.columns[n], size = 12)\n",
    "\n",
    "fig.tight_layout() "
   ]
  },
  {
   "cell_type": "markdown",
   "metadata": {},
   "source": [
    "`rank()` 함수를 통해 랭킹을 구한 후, `apply(zscore)` 함수를 통해 정규화를 해주었습니다. 기본적으로 랭킹의 분포가 가진 극단치 효과가 사라지는 점과 균등 분포의 장점을 유지하고 있으며, 분포의 범위 역시 거의 동일하게 바뀌었습니다.\n",
    "\n",
    "이처럼 여러 팩터를 결합해 포트폴리오를 구성하고자 하는 경우, 먼저 각 팩터(지표)별 랭킹을 정규화한 뒤 더해야 왜곡 효과가 제거되어 안정적입니다.\n",
    "\n",
    "$$Z - Score(Rank(Factor\\ A)) + Z - Score(Rank(Factor\\ B)) +\\dots + Z - Score(Rank(Factor\\ N))$$"
   ]
  },
  {
   "cell_type": "markdown",
   "metadata": {},
   "source": [
    "## 13.4 멀티팩터 포트폴리오"
   ]
  },
  {
   "cell_type": "markdown",
   "metadata": {},
   "source": [
    "앞에서 배웠던 팩터 이론들과 결합 방법들을 응용해 멀티팩터 포트폴리오를 구성해보겠습니다. 각 팩터에 사용되는 지표는 다음과 같습니다.\n",
    "\n",
    "- 퀄리티: 자기자본이익률, 매출총이익, 영업활동현금흐름\n",
    "- 밸류: PER, PBR, PSR, PCR\n",
    "- 모멘텀: 3개월 수익률, 6개월 수익률, 12개월 수익률"
   ]
  },
  {
   "cell_type": "code",
   "execution_count": 17,
   "metadata": {},
   "outputs": [],
   "source": [
    "import pandas as pd\n",
    "import numpy as np\n",
    "from statistics import stdev \n",
    "import pickle\n",
    "from datetime import date\n",
    "import matplotlib.pyplot as plt\n",
    "from scipy.stats import zscore\n",
    "import seaborn as sns\n",
    "\n",
    "KOR_ticker = pd.read_csv('data/KOR_ticker.csv', index_col=0)\n",
    "KOR_ticker['종목코드'] = KOR_ticker['종목코드'].astype(np.str).str.zfill(6)\n",
    "\n",
    "KOR_value = pd.read_csv('data/KOR_value.csv', index_col=0)\n",
    "KOR_value.index = KOR_value.index.astype(np.str).str.zfill(6)\n",
    "\n",
    "KOR_price = pd.read_csv('data/KOR_price.csv', index_col = 0)\n",
    "with open('data/KOR_fs.pickle', 'rb') as f:\n",
    "    KOR_fs = pickle.load(f)"
   ]
  },
  {
   "cell_type": "markdown",
   "metadata": {},
   "source": [
    "먼저 재무제표, 가치지표, 주가 데이터를 불러옵니다."
   ]
  },
  {
   "cell_type": "code",
   "execution_count": 35,
   "metadata": {},
   "outputs": [
    {
     "data": {
      "image/png": "[encoded data removed]",
      "text/plain": [
       "<Figure size 432x288 with 1 Axes>"
      ]
     },
     "metadata": {
      "needs_background": "light"
     },
     "output_type": "display_data"
    }
   ],
   "source": [
    "if date.today().month in(1,2,3):\n",
    "    num_col = KOR_fs['매출액'].columns.str[0:4].get_loc(str(date.today().year - 2))\n",
    "else:\n",
    "    num_col = KOR_fs['매출액'].columns.str[0:4].get_loc(str(date.today().year - 1))\n",
    "    \n",
    "q_roe = (KOR_fs['지배주주순이익'] / KOR_fs['자본']).iloc[:, num_col]\n",
    "q_gpa = (KOR_fs['매출총이익'] / KOR_fs['자산']).iloc[:, num_col]\n",
    "q_cfo = (KOR_fs['영업활동으로인한현금흐름'] / KOR_fs['자산']).iloc[:, num_col]\n",
    "\n",
    "q_profit = pd.concat([q_roe, q_gpa, q_cfo], axis = 1)\n",
    "q_profit.columns = ['ROE', 'GPA', 'CFO']    \n",
    "\n",
    "factor_quality = q_profit.rank(ascending = False, axis = 0).apply(zscore, nan_policy='omit').sum(axis = 1, skipna=False)\n",
    "\n",
    "factor_quality.plot.hist()\n",
    "plt.show()"
   ]
  },
  {
   "cell_type": "markdown",
   "metadata": {},
   "source": [
    "첫 번째로 퀄리티 지표를 계산해줍니다. 먼저 자기자본이익률, 매출총이익, 영업활동현금흐름을 계산해줍니다. 지표를 하나의 데이터프레임으로 합친 후, 각 지표별 랭킹을 구합니다. 그 후 표준화를 위해 Z-Score를 계산한 후 종목별로 합쳐줍니다. Z-Score의 히스토그램을 살펴보면 이상치가 없이 중앙에 데이터가 많이 분포되어 있습니다."
   ]
  },
  {
   "cell_type": "code",
   "execution_count": 36,
   "metadata": {},
   "outputs": [
    {
     "data": {
      "image/png": "[encoded data removed]",
      "text/plain": [
       "<Figure size 432x288 with 1 Axes>"
      ]
     },
     "metadata": {
      "needs_background": "light"
     },
     "output_type": "display_data"
    }
   ],
   "source": [
    "factor_value = KOR_value.rank(axis = 0).apply(zscore, nan_policy='omit').sum(axis = 1, skipna=False)\n",
    "\n",
    "factor_value.plot.hist()\n",
    "plt.show()"
   ]
  },
  {
   "cell_type": "markdown",
   "metadata": {},
   "source": [
    "두 번째로 밸류 지표를 계산해줍니다. 밸류 지표는 이미 테이블 형태로 들어와 있으며, 랭킹과 표준화를 거쳐 합을 구해줍니다. 역시나 이상치가 없이 중앙에 데이터가 많이 분포되어 있습니다."
   ]
  },
  {
   "cell_type": "code",
   "execution_count": 20,
   "metadata": {},
   "outputs": [
    {
     "data": {
      "image/png": "[encoded data removed]",
      "text/plain": [
       "<Figure size 432x288 with 1 Axes>"
      ]
     },
     "metadata": {
      "needs_background": "light"
     },
     "output_type": "display_data"
    }
   ],
   "source": [
    "ret = KOR_price.pct_change()\n",
    "\n",
    "ret_3m = ret.iloc[-60: ].apply(lambda x: (x+1).prod()-1)\n",
    "ret_6m = ret.iloc[-120: ].apply(lambda x: (x+1).prod()-1)\n",
    "ret_12m = ret.iloc[-252: ].apply(lambda x: (x+1).prod()-1)\n",
    "\n",
    "ret_bind = pd.concat([ret_3m, ret_6m, ret_12m], axis = 1)\n",
    "ret_bind.columns = ['3M', '6M', '12M']\n",
    "factor_mom = ret_bind.rank(ascending = False, axis = 0).apply(zscore, nan_policy='omit').sum(axis = 1, skipna=False)\n",
    "\n",
    "factor_mom.plot.hist()\n",
    "plt.show()"
   ]
  },
  {
   "cell_type": "markdown",
   "metadata": {},
   "source": [
    "마지막으로 모멘텀 지표를 계산해줍니다. 최근 60일, 120일, 252일 주가를 통해 3개월, 6개월, 12개월 수익률을 구해준 후 하나의 데이터프레임으로 묶어줍니다. 그 후 내림차순 기준 랭킹과 표준화를 거쳐 합을 구합니다."
   ]
  },
  {
   "cell_type": "code",
   "execution_count": 21,
   "metadata": {},
   "outputs": [
    {
     "data": {
      "image/png": "[encoded data removed]",
      "text/plain": [
       "<Figure size 720x432 with 2 Axes>"
      ]
     },
     "metadata": {
      "needs_background": "light"
     },
     "output_type": "display_data"
    }
   ],
   "source": [
    "factor_bind = pd.concat([factor_quality, factor_value, factor_mom], axis = 1)\n",
    "factor_bind.columns = ['Quality', 'Value', 'Momentum']\n",
    "\n",
    "fig, ax = plt.subplots(figsize=(10, 6))\n",
    "sns.heatmap(factor_bind.corr(), annot = True, annot_kws = {\"size\" : 16},\n",
    "            vmin=0, vmax=1, center= 0.5, cmap= 'coolwarm', square = True)\n",
    "plt.show()"
   ]
  },
  {
   "cell_type": "markdown",
   "metadata": {},
   "source": [
    "퀄리티, 밸류, 모멘텀 팩터 간의 랭크의 서로 간 상관관계가 매우 낮으며, 여러 팩터를 동시에 고려함으로서 분산효과를 기대할 수 있습니다."
   ]
  },
  {
   "cell_type": "code",
   "execution_count": 22,
   "metadata": {},
   "outputs": [],
   "source": [
    "factor_allocation = [0.33, 0.33, 0.33]\n",
    "\n",
    "factor_qvm = (factor_bind.apply(zscore, nan_policy='omit') * factor_allocation).sum(axis = 1, skipna=False)\n",
    "invest_qvm = (factor_qvm.rank() <= 30).values"
   ]
  },
  {
   "cell_type": "markdown",
   "metadata": {},
   "source": [
    "계산된 팩터들을 토대로 최종 포트폴리오를 구성해보겠습니다. 각 팩터의 분포가 역시나 다르기 때문에 다시 한번 Z-Score로 정규화해주며, 각 팩터에 동일한 비중인 0.33을 곱한 후 이를 더합니다. 물론 팩터별 비중을 [0.2, 0.4, 0.4]와 같이 다르게 줄 수도 있으며, 이는 어떠한 팩터를 더욱 중요하게 생각하는지 혹은 더욱 좋게 보는지에 따라 조정이 가능합니다. 최종적으로 해당 값의 랭킹 기준 상위 30종목을 선택합니다.\n",
    "\n",
    "선택된 종목들의 분포를 확인해보기 이전에, 이상치 데이터로 인해 히스토그램이 잘 보이지 않는 문제 해결을 위해 앞서 이상치 데이터를 삭제하는(트림) 함수를 만들도록 하겠습니다."
   ]
  },
  {
   "cell_type": "code",
   "execution_count": 23,
   "metadata": {},
   "outputs": [],
   "source": [
    "def remove_outlier(df, cutoff = 0.01):\n",
    "    q_low = df.quantile(cutoff)\n",
    "    q_hi = df.quantile(1 - cutoff)\n",
    "    \n",
    "    df_trim = df.loc[(df > q_low) & (df < q_hi)]\n",
    "    \n",
    "    return(df_trim)"
   ]
  },
  {
   "cell_type": "markdown",
   "metadata": {},
   "source": [
    "상하위 cutoff에 해당하는 데이터는 삭제해주도록 합니다. 이제 멀티팩터 기준 선정된 포트폴리오가 퀄리티, 밸류, 모멘텀 기준 어느 정도에 위치해 있는지 확인해보도록 하겠습니다."
   ]
  },
  {
   "cell_type": "code",
   "execution_count": 24,
   "metadata": {},
   "outputs": [
    {
     "name": "stderr",
     "output_type": "stream",
     "text": [
      "C:\\Users\\leebi\\Anaconda3\\lib\\site-packages\\matplotlib\\backends\\backend_agg.py:238: RuntimeWarning: Glyph 8722 missing from current font.\n",
      "  font.set_text(s, 0.0, flags=flags)\n",
      "C:\\Users\\leebi\\Anaconda3\\lib\\site-packages\\matplotlib\\backends\\backend_agg.py:201: RuntimeWarning: Glyph 8722 missing from current font.\n",
      "  font.set_text(s, 0, flags=flags)\n"
     ]
    },
    {
     "data": {
      "image/png": "[encoded data removed]",
      "text/plain": [
       "<Figure size 1152x720 with 3 Axes>"
      ]
     },
     "metadata": {
      "needs_background": "light"
     },
     "output_type": "display_data"
    }
   ],
   "source": [
    "data = q_profit\n",
    "n = len(data.columns)\n",
    "fig = plt.subplots(figsize = (16, 10) )\n",
    "\n",
    "for i in range(n):  \n",
    "    \n",
    "    plt.subplot(n, 1, i+1)\n",
    "\n",
    "    df = data.iloc[:, i]\n",
    "    df_mod = remove_outlier(df)    \n",
    "    l = len(df_mod)\n",
    "    \n",
    "    plt.hist(df_mod,  bins = l, alpha = 0.5)             \n",
    "    plt.hist(df.iloc[invest_qvm], bins = 30, color = 'r', alpha = 0.5, label = 'QVM')\n",
    "    plt.yscale('log')\n",
    "    plt.legend(loc=\"upper right\")\n",
    "    plt.gca().title.set_text(data.columns[i])    \n",
    "\n",
    "plt.show()    "
   ]
  },
  {
   "cell_type": "markdown",
   "metadata": {},
   "source": [
    "파란색은 전종목의 각 퀄리티 지표 별 히스토그램이며, 붉은색은 선택된 종목의 퀄리티 지표 별 히스토그램입니다. $y$축은 비교의 편의를 위해 로그로 치환했습니다. 대부분 종목의 퀄리티가 상위권에 위치하고 있음이 확인됩니다."
   ]
  },
  {
   "cell_type": "code",
   "execution_count": 25,
   "metadata": {},
   "outputs": [
    {
     "data": {
      "image/png": "[encoded data removed]",
      "text/plain": [
       "<Figure size 1152x720 with 4 Axes>"
      ]
     },
     "metadata": {
      "needs_background": "light"
     },
     "output_type": "display_data"
    }
   ],
   "source": [
    "data = KOR_value\n",
    "n = len(data.columns)\n",
    "fig = plt.subplots(figsize = (16, 10) )\n",
    "\n",
    "for i in range(n):  \n",
    "    \n",
    "    plt.subplot(n, 1, i+1)\n",
    "\n",
    "    df = data.iloc[:, i]\n",
    "    df_mod = remove_outlier(df)    \n",
    "    l = len(df_mod)\n",
    "    \n",
    "    plt.hist(df_mod,  bins = l, alpha = 0.5)             \n",
    "    plt.hist(df.iloc[invest_qvm], bins = 30, color = 'r', alpha = 0.5, label = 'QVM')\n",
    "    plt.yscale('log')\n",
    "    plt.legend(loc=\"upper right\")\n",
    "    plt.gca().title.set_text(data.columns[i])    \n",
    "\n",
    "plt.show()    "
   ]
  },
  {
   "cell_type": "markdown",
   "metadata": {},
   "source": [
    "이번에는 밸류 지표의 분포입니다. 대부분 종목이 좌측에 분포하여 밸류가 낮음이 확인됩니다."
   ]
  },
  {
   "cell_type": "code",
   "execution_count": 26,
   "metadata": {},
   "outputs": [
    {
     "name": "stderr",
     "output_type": "stream",
     "text": [
      "C:\\Users\\leebi\\Anaconda3\\lib\\site-packages\\matplotlib\\backends\\backend_agg.py:238: RuntimeWarning: Glyph 8722 missing from current font.\n",
      "  font.set_text(s, 0.0, flags=flags)\n",
      "C:\\Users\\leebi\\Anaconda3\\lib\\site-packages\\matplotlib\\backends\\backend_agg.py:201: RuntimeWarning: Glyph 8722 missing from current font.\n",
      "  font.set_text(s, 0, flags=flags)\n"
     ]
    },
    {
     "data": {
      "image/png": "[encoded data removed]",
      "text/plain": [
       "<Figure size 1152x720 with 3 Axes>"
      ]
     },
     "metadata": {
      "needs_background": "light"
     },
     "output_type": "display_data"
    }
   ],
   "source": [
    "data = ret_bind\n",
    "n = len(data.columns)\n",
    "fig = plt.subplots(figsize = (16, 10) )\n",
    "\n",
    "for i in range(n):  \n",
    "    \n",
    "    plt.subplot(n, 1, i+1)\n",
    "\n",
    "    df = data.iloc[:, i]\n",
    "    df_mod = remove_outlier(df) \n",
    "    df_mod = df_mod[df_mod != 0]\n",
    "    l = len(df_mod)\n",
    "    \n",
    "    plt.hist(df_mod,  bins = l, alpha = 0.5)             \n",
    "    plt.hist(df.iloc[invest_qvm], bins = 30, color = 'r', alpha = 0.5, label = 'QVM')\n",
    "    plt.yscale('log')\n",
    "    plt.legend(loc=\"upper right\")\n",
    "    plt.gca().title.set_text(data.columns[i])    \n",
    "\n",
    "plt.show()    "
   ]
  },
  {
   "cell_type": "markdown",
   "metadata": {},
   "source": [
    "마지막으로 모멘텀 지표의 분포에서는 거래정지로 인해 수익률이 0인 데이터 제외해줍니다. 역시나 대부분의 종목들이 우측에 분포하여 최근 수익률이 높은 종목임이 확인됩니다."
   ]
  },
  {
   "cell_type": "code",
   "execution_count": 27,
   "metadata": {},
   "outputs": [
    {
     "data": {
      "text/html": [
       "<div>\n",
       "<style scoped>\n",
       "    .dataframe tbody tr th:only-of-type {\n",
       "        vertical-align: middle;\n",
       "    }\n",
       "\n",
       "    .dataframe tbody tr th {\n",
       "        vertical-align: top;\n",
       "    }\n",
       "\n",
       "    .dataframe thead th {\n",
       "        text-align: right;\n",
       "    }\n",
       "</style>\n",
       "<table border=\"1\" class=\"dataframe\">\n",
       "  <thead>\n",
       "    <tr style=\"text-align: right;\">\n",
       "      <th></th>\n",
       "      <th>종목명</th>\n",
       "      <th>ROE</th>\n",
       "      <th>GPA</th>\n",
       "      <th>CFO</th>\n",
       "      <th>PER</th>\n",
       "      <th>PBR</th>\n",
       "      <th>PCR</th>\n",
       "      <th>PSR</th>\n",
       "      <th>3M</th>\n",
       "      <th>6M</th>\n",
       "      <th>12M</th>\n",
       "    </tr>\n",
       "  </thead>\n",
       "  <tbody>\n",
       "    <tr>\n",
       "      <th>066570</th>\n",
       "      <td>LG전자</td>\n",
       "      <td>0.11</td>\n",
       "      <td>0.34</td>\n",
       "      <td>0.10</td>\n",
       "      <td>13.09</td>\n",
       "      <td>1.47</td>\n",
       "      <td>5.57</td>\n",
       "      <td>0.41</td>\n",
       "      <td>0.14</td>\n",
       "      <td>0.76</td>\n",
       "      <td>2.13</td>\n",
       "    </tr>\n",
       "    <tr>\n",
       "      <th>298020</th>\n",
       "      <td>효성티앤씨</td>\n",
       "      <td>0.19</td>\n",
       "      <td>0.18</td>\n",
       "      <td>0.20</td>\n",
       "      <td>18.10</td>\n",
       "      <td>3.46</td>\n",
       "      <td>4.38</td>\n",
       "      <td>0.48</td>\n",
       "      <td>1.29</td>\n",
       "      <td>2.88</td>\n",
       "      <td>4.20</td>\n",
       "    </tr>\n",
       "    <tr>\n",
       "      <th>120110</th>\n",
       "      <td>코오롱인더</td>\n",
       "      <td>0.09</td>\n",
       "      <td>0.21</td>\n",
       "      <td>0.10</td>\n",
       "      <td>8.22</td>\n",
       "      <td>0.73</td>\n",
       "      <td>3.35</td>\n",
       "      <td>0.41</td>\n",
       "      <td>0.45</td>\n",
       "      <td>0.65</td>\n",
       "      <td>1.11</td>\n",
       "    </tr>\n",
       "    <tr>\n",
       "      <th>001120</th>\n",
       "      <td>LG상사</td>\n",
       "      <td>0.17</td>\n",
       "      <td>0.14</td>\n",
       "      <td>0.05</td>\n",
       "      <td>4.00</td>\n",
       "      <td>0.68</td>\n",
       "      <td>4.68</td>\n",
       "      <td>0.11</td>\n",
       "      <td>0.17</td>\n",
       "      <td>1.02</td>\n",
       "      <td>1.63</td>\n",
       "    </tr>\n",
       "    <tr>\n",
       "      <th>014830</th>\n",
       "      <td>유니드</td>\n",
       "      <td>0.10</td>\n",
       "      <td>0.18</td>\n",
       "      <td>0.14</td>\n",
       "      <td>8.02</td>\n",
       "      <td>0.79</td>\n",
       "      <td>3.91</td>\n",
       "      <td>0.69</td>\n",
       "      <td>0.43</td>\n",
       "      <td>0.55</td>\n",
       "      <td>1.00</td>\n",
       "    </tr>\n",
       "    <tr>\n",
       "      <th>003070</th>\n",
       "      <td>코오롱글로벌</td>\n",
       "      <td>0.17</td>\n",
       "      <td>0.17</td>\n",
       "      <td>0.12</td>\n",
       "      <td>6.52</td>\n",
       "      <td>1.11</td>\n",
       "      <td>1.78</td>\n",
       "      <td>0.14</td>\n",
       "      <td>0.12</td>\n",
       "      <td>0.13</td>\n",
       "      <td>1.99</td>\n",
       "    </tr>\n",
       "    <tr>\n",
       "      <th>035890</th>\n",
       "      <td>서희건설</td>\n",
       "      <td>0.23</td>\n",
       "      <td>0.19</td>\n",
       "      <td>0.19</td>\n",
       "      <td>3.51</td>\n",
       "      <td>0.81</td>\n",
       "      <td>1.85</td>\n",
       "      <td>0.34</td>\n",
       "      <td>0.13</td>\n",
       "      <td>0.58</td>\n",
       "      <td>1.05</td>\n",
       "    </tr>\n",
       "    <tr>\n",
       "      <th>084010</th>\n",
       "      <td>대한제강</td>\n",
       "      <td>0.09</td>\n",
       "      <td>0.14</td>\n",
       "      <td>0.21</td>\n",
       "      <td>8.98</td>\n",
       "      <td>0.80</td>\n",
       "      <td>2.21</td>\n",
       "      <td>0.40</td>\n",
       "      <td>0.62</td>\n",
       "      <td>1.55</td>\n",
       "      <td>2.52</td>\n",
       "    </tr>\n",
       "    <tr>\n",
       "      <th>002310</th>\n",
       "      <td>아세아제지</td>\n",
       "      <td>0.09</td>\n",
       "      <td>0.17</td>\n",
       "      <td>0.12</td>\n",
       "      <td>8.66</td>\n",
       "      <td>0.74</td>\n",
       "      <td>4.43</td>\n",
       "      <td>0.64</td>\n",
       "      <td>0.35</td>\n",
       "      <td>0.72</td>\n",
       "      <td>0.90</td>\n",
       "    </tr>\n",
       "    <tr>\n",
       "      <th>002020</th>\n",
       "      <td>코오롱</td>\n",
       "      <td>0.17</td>\n",
       "      <td>0.16</td>\n",
       "      <td>0.09</td>\n",
       "      <td>2.74</td>\n",
       "      <td>0.48</td>\n",
       "      <td>1.23</td>\n",
       "      <td>0.08</td>\n",
       "      <td>0.47</td>\n",
       "      <td>0.56</td>\n",
       "      <td>1.58</td>\n",
       "    </tr>\n",
       "    <tr>\n",
       "      <th>136490</th>\n",
       "      <td>선진</td>\n",
       "      <td>0.22</td>\n",
       "      <td>0.23</td>\n",
       "      <td>0.10</td>\n",
       "      <td>4.89</td>\n",
       "      <td>1.07</td>\n",
       "      <td>3.61</td>\n",
       "      <td>0.30</td>\n",
       "      <td>0.28</td>\n",
       "      <td>0.74</td>\n",
       "      <td>1.53</td>\n",
       "    </tr>\n",
       "    <tr>\n",
       "      <th>079980</th>\n",
       "      <td>휴비스</td>\n",
       "      <td>0.17</td>\n",
       "      <td>0.14</td>\n",
       "      <td>0.10</td>\n",
       "      <td>4.85</td>\n",
       "      <td>0.84</td>\n",
       "      <td>4.46</td>\n",
       "      <td>0.43</td>\n",
       "      <td>0.39</td>\n",
       "      <td>0.33</td>\n",
       "      <td>1.19</td>\n",
       "    </tr>\n",
       "    <tr>\n",
       "      <th>042420</th>\n",
       "      <td>네오위즈홀딩스</td>\n",
       "      <td>0.08</td>\n",
       "      <td>0.39</td>\n",
       "      <td>0.10</td>\n",
       "      <td>7.11</td>\n",
       "      <td>0.58</td>\n",
       "      <td>5.16</td>\n",
       "      <td>1.27</td>\n",
       "      <td>1.48</td>\n",
       "      <td>1.56</td>\n",
       "      <td>1.95</td>\n",
       "    </tr>\n",
       "    <tr>\n",
       "      <th>016450</th>\n",
       "      <td>한세예스24홀딩스</td>\n",
       "      <td>0.07</td>\n",
       "      <td>0.32</td>\n",
       "      <td>0.06</td>\n",
       "      <td>7.18</td>\n",
       "      <td>0.52</td>\n",
       "      <td>3.55</td>\n",
       "      <td>0.14</td>\n",
       "      <td>0.35</td>\n",
       "      <td>0.66</td>\n",
       "      <td>1.08</td>\n",
       "    </tr>\n",
       "    <tr>\n",
       "      <th>045100</th>\n",
       "      <td>한양이엔지</td>\n",
       "      <td>0.13</td>\n",
       "      <td>0.17</td>\n",
       "      <td>0.14</td>\n",
       "      <td>7.75</td>\n",
       "      <td>1.01</td>\n",
       "      <td>5.01</td>\n",
       "      <td>0.49</td>\n",
       "      <td>0.23</td>\n",
       "      <td>0.80</td>\n",
       "      <td>1.31</td>\n",
       "    </tr>\n",
       "    <tr>\n",
       "      <th>025000</th>\n",
       "      <td>KPX케미칼</td>\n",
       "      <td>0.12</td>\n",
       "      <td>0.19</td>\n",
       "      <td>0.17</td>\n",
       "      <td>5.08</td>\n",
       "      <td>0.60</td>\n",
       "      <td>3.01</td>\n",
       "      <td>0.43</td>\n",
       "      <td>0.20</td>\n",
       "      <td>0.36</td>\n",
       "      <td>0.47</td>\n",
       "    </tr>\n",
       "    <tr>\n",
       "      <th>013580</th>\n",
       "      <td>계룡건설</td>\n",
       "      <td>0.16</td>\n",
       "      <td>0.13</td>\n",
       "      <td>0.09</td>\n",
       "      <td>3.16</td>\n",
       "      <td>0.49</td>\n",
       "      <td>1.53</td>\n",
       "      <td>0.13</td>\n",
       "      <td>0.07</td>\n",
       "      <td>0.53</td>\n",
       "      <td>1.48</td>\n",
       "    </tr>\n",
       "    <tr>\n",
       "      <th>004960</th>\n",
       "      <td>한신공영</td>\n",
       "      <td>0.17</td>\n",
       "      <td>0.11</td>\n",
       "      <td>0.12</td>\n",
       "      <td>2.62</td>\n",
       "      <td>0.45</td>\n",
       "      <td>1.31</td>\n",
       "      <td>0.18</td>\n",
       "      <td>0.29</td>\n",
       "      <td>0.76</td>\n",
       "      <td>0.93</td>\n",
       "    </tr>\n",
       "    <tr>\n",
       "      <th>004540</th>\n",
       "      <td>깨끗한나라</td>\n",
       "      <td>0.18</td>\n",
       "      <td>0.23</td>\n",
       "      <td>0.11</td>\n",
       "      <td>7.32</td>\n",
       "      <td>1.29</td>\n",
       "      <td>4.48</td>\n",
       "      <td>0.47</td>\n",
       "      <td>0.75</td>\n",
       "      <td>0.61</td>\n",
       "      <td>1.03</td>\n",
       "    </tr>\n",
       "    <tr>\n",
       "      <th>000490</th>\n",
       "      <td>대동공업</td>\n",
       "      <td>0.06</td>\n",
       "      <td>0.19</td>\n",
       "      <td>0.08</td>\n",
       "      <td>12.91</td>\n",
       "      <td>0.80</td>\n",
       "      <td>3.71</td>\n",
       "      <td>0.29</td>\n",
       "      <td>0.38</td>\n",
       "      <td>0.59</td>\n",
       "      <td>1.64</td>\n",
       "    </tr>\n",
       "    <tr>\n",
       "      <th>023600</th>\n",
       "      <td>삼보판지</td>\n",
       "      <td>0.08</td>\n",
       "      <td>0.16</td>\n",
       "      <td>0.10</td>\n",
       "      <td>7.01</td>\n",
       "      <td>0.58</td>\n",
       "      <td>4.37</td>\n",
       "      <td>0.63</td>\n",
       "      <td>0.33</td>\n",
       "      <td>0.91</td>\n",
       "      <td>1.21</td>\n",
       "    </tr>\n",
       "    <tr>\n",
       "      <th>066620</th>\n",
       "      <td>국보디자인</td>\n",
       "      <td>0.11</td>\n",
       "      <td>0.17</td>\n",
       "      <td>0.16</td>\n",
       "      <td>10.86</td>\n",
       "      <td>1.20</td>\n",
       "      <td>4.66</td>\n",
       "      <td>0.69</td>\n",
       "      <td>0.51</td>\n",
       "      <td>0.63</td>\n",
       "      <td>0.97</td>\n",
       "    </tr>\n",
       "    <tr>\n",
       "      <th>058430</th>\n",
       "      <td>포스코강판</td>\n",
       "      <td>0.03</td>\n",
       "      <td>0.12</td>\n",
       "      <td>0.20</td>\n",
       "      <td>28.76</td>\n",
       "      <td>0.80</td>\n",
       "      <td>1.82</td>\n",
       "      <td>0.20</td>\n",
       "      <td>0.66</td>\n",
       "      <td>0.98</td>\n",
       "      <td>1.99</td>\n",
       "    </tr>\n",
       "    <tr>\n",
       "      <th>071460</th>\n",
       "      <td>위니아딤채</td>\n",
       "      <td>0.11</td>\n",
       "      <td>0.35</td>\n",
       "      <td>0.13</td>\n",
       "      <td>11.52</td>\n",
       "      <td>1.25</td>\n",
       "      <td>2.12</td>\n",
       "      <td>0.16</td>\n",
       "      <td>0.49</td>\n",
       "      <td>0.57</td>\n",
       "      <td>0.67</td>\n",
       "    </tr>\n",
       "    <tr>\n",
       "      <th>058850</th>\n",
       "      <td>KTcs</td>\n",
       "      <td>0.06</td>\n",
       "      <td>2.42</td>\n",
       "      <td>0.13</td>\n",
       "      <td>11.91</td>\n",
       "      <td>0.75</td>\n",
       "      <td>2.53</td>\n",
       "      <td>0.14</td>\n",
       "      <td>0.26</td>\n",
       "      <td>0.53</td>\n",
       "      <td>0.92</td>\n",
       "    </tr>\n",
       "    <tr>\n",
       "      <th>036710</th>\n",
       "      <td>심텍홀딩스</td>\n",
       "      <td>0.07</td>\n",
       "      <td>0.24</td>\n",
       "      <td>0.26</td>\n",
       "      <td>4.85</td>\n",
       "      <td>0.35</td>\n",
       "      <td>0.53</td>\n",
       "      <td>0.09</td>\n",
       "      <td>-0.00</td>\n",
       "      <td>0.23</td>\n",
       "      <td>1.44</td>\n",
       "    </tr>\n",
       "    <tr>\n",
       "      <th>037400</th>\n",
       "      <td>우리조명</td>\n",
       "      <td>0.03</td>\n",
       "      <td>0.15</td>\n",
       "      <td>0.10</td>\n",
       "      <td>18.34</td>\n",
       "      <td>0.57</td>\n",
       "      <td>1.49</td>\n",
       "      <td>0.06</td>\n",
       "      <td>0.73</td>\n",
       "      <td>1.34</td>\n",
       "      <td>3.56</td>\n",
       "    </tr>\n",
       "    <tr>\n",
       "      <th>049800</th>\n",
       "      <td>우진플라임</td>\n",
       "      <td>0.13</td>\n",
       "      <td>0.20</td>\n",
       "      <td>0.11</td>\n",
       "      <td>12.00</td>\n",
       "      <td>1.54</td>\n",
       "      <td>3.23</td>\n",
       "      <td>0.46</td>\n",
       "      <td>0.60</td>\n",
       "      <td>1.17</td>\n",
       "      <td>2.44</td>\n",
       "    </tr>\n",
       "    <tr>\n",
       "      <th>009180</th>\n",
       "      <td>한솔로지스틱스</td>\n",
       "      <td>0.16</td>\n",
       "      <td>0.22</td>\n",
       "      <td>0.20</td>\n",
       "      <td>10.47</td>\n",
       "      <td>1.67</td>\n",
       "      <td>2.37</td>\n",
       "      <td>0.18</td>\n",
       "      <td>0.15</td>\n",
       "      <td>0.71</td>\n",
       "      <td>1.90</td>\n",
       "    </tr>\n",
       "    <tr>\n",
       "      <th>060380</th>\n",
       "      <td>동양에스텍</td>\n",
       "      <td>0.09</td>\n",
       "      <td>0.13</td>\n",
       "      <td>0.10</td>\n",
       "      <td>10.54</td>\n",
       "      <td>0.96</td>\n",
       "      <td>4.50</td>\n",
       "      <td>0.30</td>\n",
       "      <td>0.75</td>\n",
       "      <td>1.05</td>\n",
       "      <td>1.38</td>\n",
       "    </tr>\n",
       "  </tbody>\n",
       "</table>\n",
       "</div>"
      ],
      "text/plain": [
       "              종목명   ROE   GPA   CFO    PER   PBR   PCR   PSR    3M    6M   12M\n",
       "066570       LG전자  0.11  0.34  0.10  13.09  1.47  5.57  0.41  0.14  0.76  2.13\n",
       "298020      효성티앤씨  0.19  0.18  0.20  18.10  3.46  4.38  0.48  1.29  2.88  4.20\n",
       "120110      코오롱인더  0.09  0.21  0.10   8.22  0.73  3.35  0.41  0.45  0.65  1.11\n",
       "001120       LG상사  0.17  0.14  0.05   4.00  0.68  4.68  0.11  0.17  1.02  1.63\n",
       "014830        유니드  0.10  0.18  0.14   8.02  0.79  3.91  0.69  0.43  0.55  1.00\n",
       "003070     코오롱글로벌  0.17  0.17  0.12   6.52  1.11  1.78  0.14  0.12  0.13  1.99\n",
       "035890       서희건설  0.23  0.19  0.19   3.51  0.81  1.85  0.34  0.13  0.58  1.05\n",
       "084010       대한제강  0.09  0.14  0.21   8.98  0.80  2.21  0.40  0.62  1.55  2.52\n",
       "002310      아세아제지  0.09  0.17  0.12   8.66  0.74  4.43  0.64  0.35  0.72  0.90\n",
       "002020        코오롱  0.17  0.16  0.09   2.74  0.48  1.23  0.08  0.47  0.56  1.58\n",
       "136490         선진  0.22  0.23  0.10   4.89  1.07  3.61  0.30  0.28  0.74  1.53\n",
       "079980        휴비스  0.17  0.14  0.10   4.85  0.84  4.46  0.43  0.39  0.33  1.19\n",
       "042420    네오위즈홀딩스  0.08  0.39  0.10   7.11  0.58  5.16  1.27  1.48  1.56  1.95\n",
       "016450  한세예스24홀딩스  0.07  0.32  0.06   7.18  0.52  3.55  0.14  0.35  0.66  1.08\n",
       "045100      한양이엔지  0.13  0.17  0.14   7.75  1.01  5.01  0.49  0.23  0.80  1.31\n",
       "025000     KPX케미칼  0.12  0.19  0.17   5.08  0.60  3.01  0.43  0.20  0.36  0.47\n",
       "013580       계룡건설  0.16  0.13  0.09   3.16  0.49  1.53  0.13  0.07  0.53  1.48\n",
       "004960       한신공영  0.17  0.11  0.12   2.62  0.45  1.31  0.18  0.29  0.76  0.93\n",
       "004540      깨끗한나라  0.18  0.23  0.11   7.32  1.29  4.48  0.47  0.75  0.61  1.03\n",
       "000490       대동공업  0.06  0.19  0.08  12.91  0.80  3.71  0.29  0.38  0.59  1.64\n",
       "023600       삼보판지  0.08  0.16  0.10   7.01  0.58  4.37  0.63  0.33  0.91  1.21\n",
       "066620      국보디자인  0.11  0.17  0.16  10.86  1.20  4.66  0.69  0.51  0.63  0.97\n",
       "058430      포스코강판  0.03  0.12  0.20  28.76  0.80  1.82  0.20  0.66  0.98  1.99\n",
       "071460      위니아딤채  0.11  0.35  0.13  11.52  1.25  2.12  0.16  0.49  0.57  0.67\n",
       "058850       KTcs  0.06  2.42  0.13  11.91  0.75  2.53  0.14  0.26  0.53  0.92\n",
       "036710      심텍홀딩스  0.07  0.24  0.26   4.85  0.35  0.53  0.09 -0.00  0.23  1.44\n",
       "037400       우리조명  0.03  0.15  0.10  18.34  0.57  1.49  0.06  0.73  1.34  3.56\n",
       "049800      우진플라임  0.13  0.20  0.11  12.00  1.54  3.23  0.46  0.60  1.17  2.44\n",
       "009180    한솔로지스틱스  0.16  0.22  0.20  10.47  1.67  2.37  0.18  0.15  0.71  1.90\n",
       "060380      동양에스텍  0.09  0.13  0.10  10.54  0.96  4.50  0.30  0.75  1.05  1.38"
      ]
     },
     "execution_count": 27,
     "metadata": {},
     "output_type": "execute_result"
    }
   ],
   "source": [
    "from functools import reduce\n",
    "\n",
    "invest_qvm_df = KOR_ticker[invest_qvm][['종목코드', '종목명']].set_index('종목코드')\n",
    "df_list = [invest_qvm_df, # 티커\n",
    "           q_profit[invest_qvm].round(2), # 퀄리티\n",
    "           KOR_value[invest_qvm].round(2), # 밸류\n",
    "           ret_bind[invest_qvm].round(2)] # 모멘텀\n",
    "\n",
    "df = reduce(lambda left, right: pd.merge(left, right, left_index = True, right_index = True, how='inner'), df_list)\n",
    "\n",
    "df"
   ]
  },
  {
   "cell_type": "markdown",
   "metadata": {},
   "source": [
    "포트폴리오 내 종목들을 대상으로 팩터별 지표를 나타냈습니다. 전반적으로 퀄리티는 높고 밸류는 낮으며, 모멘텀은 높은 모습을 보입니다. 물론 특정 팩터의 강도가 약하더라도 나머지 팩터의 강도가 충분히 강하다면, 포트폴리오에 편입되는 모습을 보이기도 합니다."
   ]
  },
  {
   "cell_type": "code",
   "execution_count": 28,
   "metadata": {},
   "outputs": [
    {
     "data": {
      "text/plain": [
       "ROE    0.110\n",
       "GPA    0.180\n",
       "CFO    0.115\n",
       "PER    7.885\n",
       "PBR    0.800\n",
       "PCR    3.450\n",
       "PSR    0.320\n",
       "3M     0.365\n",
       "6M     0.685\n",
       "12M    1.410\n",
       "dtype: float64"
      ]
     },
     "execution_count": 28,
     "metadata": {},
     "output_type": "execute_result"
    }
   ],
   "source": [
    "df.median()"
   ]
  },
  {
   "cell_type": "markdown",
   "metadata": {},
   "source": [
    "마지막으로 포트폴리오 내 종목들의 지표별 평균을 확인해 봅니다."
   ]
  }
 ],
 "metadata": {
  "kernelspec": {
   "display_name": "Python 3",
   "language": "python",
   "name": "python3"
  },
  "language_info": {
   "codemirror_mode": {
    "name": "ipython",
    "version": 3
   },
   "file_extension": ".py",
   "mimetype": "text/x-python",
   "name": "python",
   "nbconvert_exporter": "python",
   "pygments_lexer": "ipython3",
   "version": "3.8.5"
  }
 },
 "nbformat": 4,
 "nbformat_minor": 4
}
