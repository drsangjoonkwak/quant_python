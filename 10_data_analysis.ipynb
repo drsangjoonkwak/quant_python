{
 "cells": [
  {
   "cell_type": "markdown",
   "metadata": {},
   "source": [
    "# 8.1 종목정보 데이터 분석"
   ]
  },
  {
   "cell_type": "code",
   "execution_count": 166,
   "metadata": {},
   "outputs": [],
   "source": [
    "import pandas as pd\n",
    "import numpy as np\n",
    "\n",
    "KOR_ticker = pd.read_csv('data/KOR_ticker.csv', index_col=0)\n",
    "KOR_ticker['종목코드'] = KOR_ticker['종목코드'].astype(np.str).str.zfill(6)"
   ]
  },
  {
   "cell_type": "code",
   "execution_count": 167,
   "metadata": {},
   "outputs": [],
   "source": [
    "KOR_sector = pd.read_csv('data/KOR_sector.csv', index_col=0)\n",
    "KOR_sector['CMP_CD'] = KOR_sector['CMP_CD'].astype(np.str).str.zfill(6)"
   ]
  },
  {
   "cell_type": "markdown",
   "metadata": {},
   "source": [
    "- 데이터 합치기"
   ]
  },
  {
   "cell_type": "code",
   "execution_count": 168,
   "metadata": {},
   "outputs": [],
   "source": [
    "data_market = pd.merge(KOR_ticker, KOR_sector, left_on=['종목코드','종목명'], right_on = ['CMP_CD','CMP_KOR'], how='left')"
   ]
  },
  {
   "cell_type": "code",
   "execution_count": 169,
   "metadata": {},
   "outputs": [
    {
     "data": {
      "text/html": [
       "<div>\n",
       "<style scoped>\n",
       "    .dataframe tbody tr th:only-of-type {\n",
       "        vertical-align: middle;\n",
       "    }\n",
       "\n",
       "    .dataframe tbody tr th {\n",
       "        vertical-align: top;\n",
       "    }\n",
       "\n",
       "    .dataframe thead th {\n",
       "        text-align: right;\n",
       "    }\n",
       "</style>\n",
       "<table border=\"1\" class=\"dataframe\">\n",
       "  <thead>\n",
       "    <tr style=\"text-align: right;\">\n",
       "      <th></th>\n",
       "      <th>종목코드</th>\n",
       "      <th>종목명</th>\n",
       "      <th>시장구분</th>\n",
       "      <th>업종명</th>\n",
       "      <th>종가</th>\n",
       "      <th>대비</th>\n",
       "      <th>등락률</th>\n",
       "      <th>시가총액</th>\n",
       "      <th>EPS</th>\n",
       "      <th>PER</th>\n",
       "      <th>...</th>\n",
       "      <th>CMP_KOR</th>\n",
       "      <th>MKT_VAL</th>\n",
       "      <th>WGT</th>\n",
       "      <th>S_WGT</th>\n",
       "      <th>CAL_WGT</th>\n",
       "      <th>SEC_CD</th>\n",
       "      <th>SEC_NM_KOR</th>\n",
       "      <th>SEQ</th>\n",
       "      <th>TOP60</th>\n",
       "      <th>APT_SHR_CNT</th>\n",
       "    </tr>\n",
       "  </thead>\n",
       "  <tbody>\n",
       "    <tr>\n",
       "      <th>0</th>\n",
       "      <td>005930</td>\n",
       "      <td>삼성전자</td>\n",
       "      <td>KOSPI</td>\n",
       "      <td>전기전자</td>\n",
       "      <td>88800</td>\n",
       "      <td>5900</td>\n",
       "      <td>7.12</td>\n",
       "      <td>530116690440000</td>\n",
       "      <td>3166.0</td>\n",
       "      <td>28.05</td>\n",
       "      <td>...</td>\n",
       "      <td>삼성전자</td>\n",
       "      <td>378782703.0</td>\n",
       "      <td>60.33</td>\n",
       "      <td>60.33</td>\n",
       "      <td>1.0</td>\n",
       "      <td>G45</td>\n",
       "      <td>IT</td>\n",
       "      <td>1.0</td>\n",
       "      <td>0.0</td>\n",
       "      <td>4.477337e+09</td>\n",
       "    </tr>\n",
       "    <tr>\n",
       "      <th>1</th>\n",
       "      <td>000660</td>\n",
       "      <td>SK하이닉스</td>\n",
       "      <td>KOSPI</td>\n",
       "      <td>전기전자</td>\n",
       "      <td>138000</td>\n",
       "      <td>3500</td>\n",
       "      <td>2.60</td>\n",
       "      <td>100464326370000</td>\n",
       "      <td>2943.0</td>\n",
       "      <td>46.89</td>\n",
       "      <td>...</td>\n",
       "      <td>SK하이닉스</td>\n",
       "      <td>70033828.0</td>\n",
       "      <td>11.15</td>\n",
       "      <td>71.48</td>\n",
       "      <td>1.0</td>\n",
       "      <td>G45</td>\n",
       "      <td>IT</td>\n",
       "      <td>2.0</td>\n",
       "      <td>0.0</td>\n",
       "      <td>5.387218e+08</td>\n",
       "    </tr>\n",
       "    <tr>\n",
       "      <th>2</th>\n",
       "      <td>051910</td>\n",
       "      <td>LG화학</td>\n",
       "      <td>KOSPI</td>\n",
       "      <td>화학</td>\n",
       "      <td>999000</td>\n",
       "      <td>37000</td>\n",
       "      <td>3.85</td>\n",
       "      <td>70521750657000</td>\n",
       "      <td>4085.0</td>\n",
       "      <td>244.55</td>\n",
       "      <td>...</td>\n",
       "      <td>LG화학</td>\n",
       "      <td>45133920.0</td>\n",
       "      <td>36.70</td>\n",
       "      <td>36.70</td>\n",
       "      <td>1.0</td>\n",
       "      <td>G15</td>\n",
       "      <td>소재</td>\n",
       "      <td>1.0</td>\n",
       "      <td>5.0</td>\n",
       "      <td>4.517910e+07</td>\n",
       "    </tr>\n",
       "    <tr>\n",
       "      <th>3</th>\n",
       "      <td>207940</td>\n",
       "      <td>삼성바이오로직스</td>\n",
       "      <td>KOSPI</td>\n",
       "      <td>의약품</td>\n",
       "      <td>837000</td>\n",
       "      <td>18000</td>\n",
       "      <td>2.20</td>\n",
       "      <td>55380105000000</td>\n",
       "      <td>3067.0</td>\n",
       "      <td>272.91</td>\n",
       "      <td>...</td>\n",
       "      <td>삼성바이오로직스</td>\n",
       "      <td>13646531.0</td>\n",
       "      <td>8.77</td>\n",
       "      <td>41.20</td>\n",
       "      <td>1.0</td>\n",
       "      <td>G35</td>\n",
       "      <td>건강관리</td>\n",
       "      <td>3.0</td>\n",
       "      <td>16.0</td>\n",
       "      <td>1.654125e+07</td>\n",
       "    </tr>\n",
       "    <tr>\n",
       "      <th>4</th>\n",
       "      <td>005380</td>\n",
       "      <td>현대차</td>\n",
       "      <td>KOSPI</td>\n",
       "      <td>운수장비</td>\n",
       "      <td>246000</td>\n",
       "      <td>40000</td>\n",
       "      <td>19.42</td>\n",
       "      <td>52562374002000</td>\n",
       "      <td>11310.0</td>\n",
       "      <td>21.75</td>\n",
       "      <td>...</td>\n",
       "      <td>현대차</td>\n",
       "      <td>34620656.0</td>\n",
       "      <td>19.76</td>\n",
       "      <td>19.76</td>\n",
       "      <td>1.0</td>\n",
       "      <td>G25</td>\n",
       "      <td>경기관련소비재</td>\n",
       "      <td>1.0</td>\n",
       "      <td>6.0</td>\n",
       "      <td>1.410210e+08</td>\n",
       "    </tr>\n",
       "  </tbody>\n",
       "</table>\n",
       "<p>5 rows × 28 columns</p>\n",
       "</div>"
      ],
      "text/plain": [
       "     종목코드       종목명   시장구분   업종명      종가     대비    등락률             시가총액  \\\n",
       "0  005930      삼성전자  KOSPI  전기전자   88800   5900   7.12  530116690440000   \n",
       "1  000660    SK하이닉스  KOSPI  전기전자  138000   3500   2.60  100464326370000   \n",
       "2  051910      LG화학  KOSPI    화학  999000  37000   3.85   70521750657000   \n",
       "3  207940  삼성바이오로직스  KOSPI   의약품  837000  18000   2.20   55380105000000   \n",
       "4  005380       현대차  KOSPI  운수장비  246000  40000  19.42   52562374002000   \n",
       "\n",
       "       EPS     PER  ...   CMP_KOR      MKT_VAL    WGT  S_WGT CAL_WGT SEC_CD  \\\n",
       "0   3166.0   28.05  ...      삼성전자  378782703.0  60.33  60.33     1.0    G45   \n",
       "1   2943.0   46.89  ...    SK하이닉스   70033828.0  11.15  71.48     1.0    G45   \n",
       "2   4085.0  244.55  ...      LG화학   45133920.0  36.70  36.70     1.0    G15   \n",
       "3   3067.0  272.91  ...  삼성바이오로직스   13646531.0   8.77  41.20     1.0    G35   \n",
       "4  11310.0   21.75  ...       현대차   34620656.0  19.76  19.76     1.0    G25   \n",
       "\n",
       "   SEC_NM_KOR  SEQ TOP60   APT_SHR_CNT  \n",
       "0          IT  1.0   0.0  4.477337e+09  \n",
       "1          IT  2.0   0.0  5.387218e+08  \n",
       "2          소재  1.0   5.0  4.517910e+07  \n",
       "3        건강관리  3.0  16.0  1.654125e+07  \n",
       "4     경기관련소비재  1.0   6.0  1.410210e+08  \n",
       "\n",
       "[5 rows x 28 columns]"
      ]
     },
     "execution_count": 169,
     "metadata": {},
     "output_type": "execute_result"
    }
   ],
   "source": [
    "data_market.head()"
   ]
  },
  {
   "cell_type": "markdown",
   "metadata": {},
   "source": [
    "- ROE 컬럼 만들기"
   ]
  },
  {
   "cell_type": "code",
   "execution_count": 171,
   "metadata": {},
   "outputs": [],
   "source": [
    "data_market['ROE'] = data_market['PBR'] / data_market['PER']"
   ]
  },
  {
   "cell_type": "code",
   "execution_count": 172,
   "metadata": {},
   "outputs": [
    {
     "data": {
      "text/html": [
       "<div>\n",
       "<style scoped>\n",
       "    .dataframe tbody tr th:only-of-type {\n",
       "        vertical-align: middle;\n",
       "    }\n",
       "\n",
       "    .dataframe tbody tr th {\n",
       "        vertical-align: top;\n",
       "    }\n",
       "\n",
       "    .dataframe thead th {\n",
       "        text-align: right;\n",
       "    }\n",
       "</style>\n",
       "<table border=\"1\" class=\"dataframe\">\n",
       "  <thead>\n",
       "    <tr style=\"text-align: right;\">\n",
       "      <th></th>\n",
       "      <th>종목명</th>\n",
       "      <th>ROE</th>\n",
       "    </tr>\n",
       "  </thead>\n",
       "  <tbody>\n",
       "    <tr>\n",
       "      <th>0</th>\n",
       "      <td>삼성전자</td>\n",
       "      <td>0.084492</td>\n",
       "    </tr>\n",
       "    <tr>\n",
       "      <th>1</th>\n",
       "      <td>SK하이닉스</td>\n",
       "      <td>0.044786</td>\n",
       "    </tr>\n",
       "    <tr>\n",
       "      <th>2</th>\n",
       "      <td>LG화학</td>\n",
       "      <td>0.018810</td>\n",
       "    </tr>\n",
       "    <tr>\n",
       "      <th>3</th>\n",
       "      <td>삼성바이오로직스</td>\n",
       "      <td>0.046609</td>\n",
       "    </tr>\n",
       "    <tr>\n",
       "      <th>4</th>\n",
       "      <td>현대차</td>\n",
       "      <td>0.044598</td>\n",
       "    </tr>\n",
       "  </tbody>\n",
       "</table>\n",
       "</div>"
      ],
      "text/plain": [
       "        종목명       ROE\n",
       "0      삼성전자  0.084492\n",
       "1    SK하이닉스  0.044786\n",
       "2      LG화학  0.018810\n",
       "3  삼성바이오로직스  0.046609\n",
       "4       현대차  0.044598"
      ]
     },
     "execution_count": 172,
     "metadata": {},
     "output_type": "execute_result"
    }
   ],
   "source": [
    "data_market.loc[:, ['종목명', 'ROE']].head()"
   ]
  },
  {
   "cell_type": "markdown",
   "metadata": {},
   "source": [
    "- 간단한 필터"
   ]
  },
  {
   "cell_type": "code",
   "execution_count": 173,
   "metadata": {},
   "outputs": [
    {
     "data": {
      "text/html": [
       "<div>\n",
       "<style scoped>\n",
       "    .dataframe tbody tr th:only-of-type {\n",
       "        vertical-align: middle;\n",
       "    }\n",
       "\n",
       "    .dataframe tbody tr th {\n",
       "        vertical-align: top;\n",
       "    }\n",
       "\n",
       "    .dataframe thead th {\n",
       "        text-align: right;\n",
       "    }\n",
       "</style>\n",
       "<table border=\"1\" class=\"dataframe\">\n",
       "  <thead>\n",
       "    <tr style=\"text-align: right;\">\n",
       "      <th></th>\n",
       "      <th>종목명</th>\n",
       "      <th>PBR</th>\n",
       "    </tr>\n",
       "  </thead>\n",
       "  <tbody>\n",
       "    <tr>\n",
       "      <th>4</th>\n",
       "      <td>현대차</td>\n",
       "      <td>0.97</td>\n",
       "    </tr>\n",
       "    <tr>\n",
       "      <th>11</th>\n",
       "      <td>기아차</td>\n",
       "      <td>0.96</td>\n",
       "    </tr>\n",
       "    <tr>\n",
       "      <th>13</th>\n",
       "      <td>POSCO</td>\n",
       "      <td>0.58</td>\n",
       "    </tr>\n",
       "    <tr>\n",
       "      <th>18</th>\n",
       "      <td>SK텔레콤</td>\n",
       "      <td>0.93</td>\n",
       "    </tr>\n",
       "    <tr>\n",
       "      <th>20</th>\n",
       "      <td>KB금융</td>\n",
       "      <td>0.50</td>\n",
       "    </tr>\n",
       "  </tbody>\n",
       "</table>\n",
       "</div>"
      ],
      "text/plain": [
       "      종목명   PBR\n",
       "4     현대차  0.97\n",
       "11    기아차  0.96\n",
       "13  POSCO  0.58\n",
       "18  SK텔레콤  0.93\n",
       "20   KB금융  0.50"
      ]
     },
     "execution_count": 173,
     "metadata": {},
     "output_type": "execute_result"
    }
   ],
   "source": [
    "data_market.loc[data_market.PBR < 1, ['종목명', 'PBR']].head()"
   ]
  },
  {
   "cell_type": "code",
   "execution_count": 174,
   "metadata": {},
   "outputs": [
    {
     "data": {
      "text/html": [
       "<div>\n",
       "<style scoped>\n",
       "    .dataframe tbody tr th:only-of-type {\n",
       "        vertical-align: middle;\n",
       "    }\n",
       "\n",
       "    .dataframe tbody tr th {\n",
       "        vertical-align: top;\n",
       "    }\n",
       "\n",
       "    .dataframe thead th {\n",
       "        text-align: right;\n",
       "    }\n",
       "</style>\n",
       "<table border=\"1\" class=\"dataframe\">\n",
       "  <thead>\n",
       "    <tr style=\"text-align: right;\">\n",
       "      <th></th>\n",
       "      <th>종목명</th>\n",
       "      <th>PBR</th>\n",
       "      <th>PER</th>\n",
       "      <th>ROE</th>\n",
       "    </tr>\n",
       "  </thead>\n",
       "  <tbody>\n",
       "    <tr>\n",
       "      <th>94</th>\n",
       "      <td>GS건설</td>\n",
       "      <td>0.84</td>\n",
       "      <td>7.47</td>\n",
       "      <td>0.112450</td>\n",
       "    </tr>\n",
       "    <tr>\n",
       "      <th>109</th>\n",
       "      <td>대림산업</td>\n",
       "      <td>0.54</td>\n",
       "      <td>4.82</td>\n",
       "      <td>0.112033</td>\n",
       "    </tr>\n",
       "    <tr>\n",
       "      <th>117</th>\n",
       "      <td>메리츠증권</td>\n",
       "      <td>0.66</td>\n",
       "      <td>4.07</td>\n",
       "      <td>0.162162</td>\n",
       "    </tr>\n",
       "    <tr>\n",
       "      <th>126</th>\n",
       "      <td>신세계</td>\n",
       "      <td>0.62</td>\n",
       "      <td>4.70</td>\n",
       "      <td>0.131915</td>\n",
       "    </tr>\n",
       "    <tr>\n",
       "      <th>154</th>\n",
       "      <td>HDC현대산업개발</td>\n",
       "      <td>0.60</td>\n",
       "      <td>3.22</td>\n",
       "      <td>0.186335</td>\n",
       "    </tr>\n",
       "  </tbody>\n",
       "</table>\n",
       "</div>"
      ],
      "text/plain": [
       "           종목명   PBR   PER       ROE\n",
       "94        GS건설  0.84  7.47  0.112450\n",
       "109       대림산업  0.54  4.82  0.112033\n",
       "117      메리츠증권  0.66  4.07  0.162162\n",
       "126        신세계  0.62  4.70  0.131915\n",
       "154  HDC현대산업개발  0.60  3.22  0.186335"
      ]
     },
     "execution_count": 174,
     "metadata": {},
     "output_type": "execute_result"
    }
   ],
   "source": [
    "data_market.loc[(data_market.PBR < 1) & (data_market.PER < 20) & (data_market.ROE > 0.1), ['종목명', 'PBR', 'PER', 'ROE']].head()"
   ]
  },
  {
   "cell_type": "markdown",
   "metadata": {},
   "source": [
    "- 요약 통곗값 계산"
   ]
  },
  {
   "cell_type": "code",
   "execution_count": 175,
   "metadata": {},
   "outputs": [
    {
     "data": {
      "text/plain": [
       "count    2145.000000\n",
       "mean        3.765753\n",
       "std        17.823384\n",
       "min         0.140000\n",
       "25%         0.800000\n",
       "50%         1.520000\n",
       "75%         2.910000\n",
       "max       577.590000\n",
       "Name: PBR, dtype: float64"
      ]
     },
     "execution_count": 175,
     "metadata": {},
     "output_type": "execute_result"
    }
   ],
   "source": [
    "data_market['PBR'].describe()"
   ]
  },
  {
   "cell_type": "code",
   "execution_count": 176,
   "metadata": {},
   "outputs": [
    {
     "data": {
      "text/html": [
       "<div>\n",
       "<style scoped>\n",
       "    .dataframe tbody tr th:only-of-type {\n",
       "        vertical-align: middle;\n",
       "    }\n",
       "\n",
       "    .dataframe tbody tr th {\n",
       "        vertical-align: top;\n",
       "    }\n",
       "\n",
       "    .dataframe thead th {\n",
       "        text-align: right;\n",
       "    }\n",
       "</style>\n",
       "<table border=\"1\" class=\"dataframe\">\n",
       "  <thead>\n",
       "    <tr style=\"text-align: right;\">\n",
       "      <th></th>\n",
       "      <th>종목명</th>\n",
       "      <th>PBR</th>\n",
       "    </tr>\n",
       "  </thead>\n",
       "  <tbody>\n",
       "    <tr>\n",
       "      <th>1818</th>\n",
       "      <td>감마누</td>\n",
       "      <td>0.14</td>\n",
       "    </tr>\n",
       "    <tr>\n",
       "      <th>1865</th>\n",
       "      <td>휴스틸</td>\n",
       "      <td>0.15</td>\n",
       "    </tr>\n",
       "    <tr>\n",
       "      <th>2168</th>\n",
       "      <td>지스마트글로벌</td>\n",
       "      <td>0.15</td>\n",
       "    </tr>\n",
       "    <tr>\n",
       "      <th>641</th>\n",
       "      <td>세아홀딩스</td>\n",
       "      <td>0.16</td>\n",
       "    </tr>\n",
       "    <tr>\n",
       "      <th>1732</th>\n",
       "      <td>경동인베스트</td>\n",
       "      <td>0.18</td>\n",
       "    </tr>\n",
       "  </tbody>\n",
       "</table>\n",
       "</div>"
      ],
      "text/plain": [
       "          종목명   PBR\n",
       "1818      감마누  0.14\n",
       "1865      휴스틸  0.15\n",
       "2168  지스마트글로벌  0.15\n",
       "641     세아홀딩스  0.16\n",
       "1732   경동인베스트  0.18"
      ]
     },
     "execution_count": 176,
     "metadata": {},
     "output_type": "execute_result"
    }
   ],
   "source": [
    "data_market.loc[:, ['종목명', 'PBR']].sort_values('PBR').head()"
   ]
  },
  {
   "cell_type": "code",
   "execution_count": 177,
   "metadata": {},
   "outputs": [
    {
     "data": {
      "text/html": [
       "<div>\n",
       "<style scoped>\n",
       "    .dataframe tbody tr th:only-of-type {\n",
       "        vertical-align: middle;\n",
       "    }\n",
       "\n",
       "    .dataframe tbody tr th {\n",
       "        vertical-align: top;\n",
       "    }\n",
       "\n",
       "    .dataframe thead th {\n",
       "        text-align: right;\n",
       "    }\n",
       "</style>\n",
       "<table border=\"1\" class=\"dataframe\">\n",
       "  <thead>\n",
       "    <tr style=\"text-align: right;\">\n",
       "      <th></th>\n",
       "      <th>종목명</th>\n",
       "      <th>ROE</th>\n",
       "    </tr>\n",
       "  </thead>\n",
       "  <tbody>\n",
       "    <tr>\n",
       "      <th>2080</th>\n",
       "      <td>이엠앤아이</td>\n",
       "      <td>4.414634</td>\n",
       "    </tr>\n",
       "    <tr>\n",
       "      <th>377</th>\n",
       "      <td>한진중공업</td>\n",
       "      <td>1.755396</td>\n",
       "    </tr>\n",
       "    <tr>\n",
       "      <th>1100</th>\n",
       "      <td>양지사</td>\n",
       "      <td>0.738739</td>\n",
       "    </tr>\n",
       "    <tr>\n",
       "      <th>475</th>\n",
       "      <td>이엔드디</td>\n",
       "      <td>0.665945</td>\n",
       "    </tr>\n",
       "    <tr>\n",
       "      <th>151</th>\n",
       "      <td>명신산업</td>\n",
       "      <td>0.634926</td>\n",
       "    </tr>\n",
       "  </tbody>\n",
       "</table>\n",
       "</div>"
      ],
      "text/plain": [
       "        종목명       ROE\n",
       "2080  이엠앤아이  4.414634\n",
       "377   한진중공업  1.755396\n",
       "1100    양지사  0.738739\n",
       "475    이엔드디  0.665945\n",
       "151    명신산업  0.634926"
      ]
     },
     "execution_count": 177,
     "metadata": {},
     "output_type": "execute_result"
    }
   ],
   "source": [
    "data_market.loc[:, ['종목명', 'ROE']].sort_values('ROE', ascending=False).head()"
   ]
  },
  {
   "cell_type": "markdown",
   "metadata": {},
   "source": [
    "- 순위 계산"
   ]
  },
  {
   "cell_type": "code",
   "execution_count": 178,
   "metadata": {},
   "outputs": [
    {
     "data": {
      "text/html": [
       "<div>\n",
       "<style scoped>\n",
       "    .dataframe tbody tr th:only-of-type {\n",
       "        vertical-align: middle;\n",
       "    }\n",
       "\n",
       "    .dataframe tbody tr th {\n",
       "        vertical-align: top;\n",
       "    }\n",
       "\n",
       "    .dataframe thead th {\n",
       "        text-align: right;\n",
       "    }\n",
       "</style>\n",
       "<table border=\"1\" class=\"dataframe\">\n",
       "  <thead>\n",
       "    <tr style=\"text-align: right;\">\n",
       "      <th></th>\n",
       "      <th>종목명</th>\n",
       "      <th>PBR</th>\n",
       "      <th>PBR_rank</th>\n",
       "    </tr>\n",
       "  </thead>\n",
       "  <tbody>\n",
       "    <tr>\n",
       "      <th>1818</th>\n",
       "      <td>감마누</td>\n",
       "      <td>0.14</td>\n",
       "      <td>1.0</td>\n",
       "    </tr>\n",
       "    <tr>\n",
       "      <th>1865</th>\n",
       "      <td>휴스틸</td>\n",
       "      <td>0.15</td>\n",
       "      <td>2.5</td>\n",
       "    </tr>\n",
       "    <tr>\n",
       "      <th>2168</th>\n",
       "      <td>지스마트글로벌</td>\n",
       "      <td>0.15</td>\n",
       "      <td>2.5</td>\n",
       "    </tr>\n",
       "    <tr>\n",
       "      <th>641</th>\n",
       "      <td>세아홀딩스</td>\n",
       "      <td>0.16</td>\n",
       "      <td>4.0</td>\n",
       "    </tr>\n",
       "    <tr>\n",
       "      <th>1732</th>\n",
       "      <td>경동인베스트</td>\n",
       "      <td>0.18</td>\n",
       "      <td>5.5</td>\n",
       "    </tr>\n",
       "  </tbody>\n",
       "</table>\n",
       "</div>"
      ],
      "text/plain": [
       "          종목명   PBR  PBR_rank\n",
       "1818      감마누  0.14       1.0\n",
       "1865      휴스틸  0.15       2.5\n",
       "2168  지스마트글로벌  0.15       2.5\n",
       "641     세아홀딩스  0.16       4.0\n",
       "1732   경동인베스트  0.18       5.5"
      ]
     },
     "execution_count": 178,
     "metadata": {},
     "output_type": "execute_result"
    }
   ],
   "source": [
    "data_market['PBR_rank'] = data_market['PBR'].rank()\n",
    "data_market.loc[:, ['종목명', 'PBR', 'PBR_rank']].sort_values('PBR_rank').head()"
   ]
  },
  {
   "cell_type": "code",
   "execution_count": 179,
   "metadata": {},
   "outputs": [
    {
     "data": {
      "text/html": [
       "<div>\n",
       "<style scoped>\n",
       "    .dataframe tbody tr th:only-of-type {\n",
       "        vertical-align: middle;\n",
       "    }\n",
       "\n",
       "    .dataframe tbody tr th {\n",
       "        vertical-align: top;\n",
       "    }\n",
       "\n",
       "    .dataframe thead th {\n",
       "        text-align: right;\n",
       "    }\n",
       "</style>\n",
       "<table border=\"1\" class=\"dataframe\">\n",
       "  <thead>\n",
       "    <tr style=\"text-align: right;\">\n",
       "      <th></th>\n",
       "      <th>종목명</th>\n",
       "      <th>PBR</th>\n",
       "      <th>PBR_rank</th>\n",
       "    </tr>\n",
       "  </thead>\n",
       "  <tbody>\n",
       "    <tr>\n",
       "      <th>1818</th>\n",
       "      <td>감마누</td>\n",
       "      <td>0.14</td>\n",
       "      <td>1.0</td>\n",
       "    </tr>\n",
       "    <tr>\n",
       "      <th>1865</th>\n",
       "      <td>휴스틸</td>\n",
       "      <td>0.15</td>\n",
       "      <td>2.0</td>\n",
       "    </tr>\n",
       "    <tr>\n",
       "      <th>2168</th>\n",
       "      <td>지스마트글로벌</td>\n",
       "      <td>0.15</td>\n",
       "      <td>3.0</td>\n",
       "    </tr>\n",
       "    <tr>\n",
       "      <th>641</th>\n",
       "      <td>세아홀딩스</td>\n",
       "      <td>0.16</td>\n",
       "      <td>4.0</td>\n",
       "    </tr>\n",
       "    <tr>\n",
       "      <th>1732</th>\n",
       "      <td>경동인베스트</td>\n",
       "      <td>0.18</td>\n",
       "      <td>5.0</td>\n",
       "    </tr>\n",
       "  </tbody>\n",
       "</table>\n",
       "</div>"
      ],
      "text/plain": [
       "          종목명   PBR  PBR_rank\n",
       "1818      감마누  0.14       1.0\n",
       "1865      휴스틸  0.15       2.0\n",
       "2168  지스마트글로벌  0.15       3.0\n",
       "641     세아홀딩스  0.16       4.0\n",
       "1732   경동인베스트  0.18       5.0"
      ]
     },
     "execution_count": 179,
     "metadata": {},
     "output_type": "execute_result"
    }
   ],
   "source": [
    "data_market['PBR_rank'] = data_market['PBR'].rank(method = 'first')\n",
    "data_market.loc[:, ['종목명', 'PBR', 'PBR_rank']].sort_values('PBR_rank').head()"
   ]
  },
  {
   "cell_type": "code",
   "execution_count": 180,
   "metadata": {},
   "outputs": [
    {
     "data": {
      "text/html": [
       "<div>\n",
       "<style scoped>\n",
       "    .dataframe tbody tr th:only-of-type {\n",
       "        vertical-align: middle;\n",
       "    }\n",
       "\n",
       "    .dataframe tbody tr th {\n",
       "        vertical-align: top;\n",
       "    }\n",
       "\n",
       "    .dataframe thead th {\n",
       "        text-align: right;\n",
       "    }\n",
       "</style>\n",
       "<table border=\"1\" class=\"dataframe\">\n",
       "  <thead>\n",
       "    <tr style=\"text-align: right;\">\n",
       "      <th></th>\n",
       "      <th>종목명</th>\n",
       "      <th>ROE</th>\n",
       "      <th>ROE_rank</th>\n",
       "    </tr>\n",
       "  </thead>\n",
       "  <tbody>\n",
       "    <tr>\n",
       "      <th>2080</th>\n",
       "      <td>이엠앤아이</td>\n",
       "      <td>4.414634</td>\n",
       "      <td>1.0</td>\n",
       "    </tr>\n",
       "    <tr>\n",
       "      <th>377</th>\n",
       "      <td>한진중공업</td>\n",
       "      <td>1.755396</td>\n",
       "      <td>2.0</td>\n",
       "    </tr>\n",
       "    <tr>\n",
       "      <th>1100</th>\n",
       "      <td>양지사</td>\n",
       "      <td>0.738739</td>\n",
       "      <td>3.0</td>\n",
       "    </tr>\n",
       "    <tr>\n",
       "      <th>475</th>\n",
       "      <td>이엔드디</td>\n",
       "      <td>0.665945</td>\n",
       "      <td>4.0</td>\n",
       "    </tr>\n",
       "    <tr>\n",
       "      <th>151</th>\n",
       "      <td>명신산업</td>\n",
       "      <td>0.634926</td>\n",
       "      <td>5.0</td>\n",
       "    </tr>\n",
       "  </tbody>\n",
       "</table>\n",
       "</div>"
      ],
      "text/plain": [
       "        종목명       ROE  ROE_rank\n",
       "2080  이엠앤아이  4.414634       1.0\n",
       "377   한진중공업  1.755396       2.0\n",
       "1100    양지사  0.738739       3.0\n",
       "475    이엔드디  0.665945       4.0\n",
       "151    명신산업  0.634926       5.0"
      ]
     },
     "execution_count": 180,
     "metadata": {},
     "output_type": "execute_result"
    }
   ],
   "source": [
    "data_market['ROE_rank'] = data_market['ROE'].rank(ascending = False)\n",
    "data_market.loc[:, ['종목명', 'ROE', 'ROE_rank']].sort_values('ROE_rank').head()"
   ]
  },
  {
   "cell_type": "markdown",
   "metadata": {},
   "source": [
    "- 분위수 계산"
   ]
  },
  {
   "cell_type": "code",
   "execution_count": 181,
   "metadata": {},
   "outputs": [
    {
     "data": {
      "text/html": [
       "<div>\n",
       "<style scoped>\n",
       "    .dataframe tbody tr th:only-of-type {\n",
       "        vertical-align: middle;\n",
       "    }\n",
       "\n",
       "    .dataframe tbody tr th {\n",
       "        vertical-align: top;\n",
       "    }\n",
       "\n",
       "    .dataframe thead th {\n",
       "        text-align: right;\n",
       "    }\n",
       "</style>\n",
       "<table border=\"1\" class=\"dataframe\">\n",
       "  <thead>\n",
       "    <tr style=\"text-align: right;\">\n",
       "      <th></th>\n",
       "      <th>종목명</th>\n",
       "      <th>PBR</th>\n",
       "      <th>quantile</th>\n",
       "    </tr>\n",
       "  </thead>\n",
       "  <tbody>\n",
       "    <tr>\n",
       "      <th>0</th>\n",
       "      <td>삼성전자</td>\n",
       "      <td>2.37</td>\n",
       "      <td>4</td>\n",
       "    </tr>\n",
       "    <tr>\n",
       "      <th>1</th>\n",
       "      <td>SK하이닉스</td>\n",
       "      <td>2.10</td>\n",
       "      <td>4</td>\n",
       "    </tr>\n",
       "    <tr>\n",
       "      <th>2</th>\n",
       "      <td>LG화학</td>\n",
       "      <td>4.60</td>\n",
       "      <td>5</td>\n",
       "    </tr>\n",
       "    <tr>\n",
       "      <th>3</th>\n",
       "      <td>삼성바이오로직스</td>\n",
       "      <td>12.72</td>\n",
       "      <td>5</td>\n",
       "    </tr>\n",
       "    <tr>\n",
       "      <th>4</th>\n",
       "      <td>현대차</td>\n",
       "      <td>0.97</td>\n",
       "      <td>2</td>\n",
       "    </tr>\n",
       "    <tr>\n",
       "      <th>...</th>\n",
       "      <td>...</td>\n",
       "      <td>...</td>\n",
       "      <td>...</td>\n",
       "    </tr>\n",
       "    <tr>\n",
       "      <th>2168</th>\n",
       "      <td>지스마트글로벌</td>\n",
       "      <td>0.15</td>\n",
       "      <td>1</td>\n",
       "    </tr>\n",
       "    <tr>\n",
       "      <th>2169</th>\n",
       "      <td>에스제이케이</td>\n",
       "      <td>0.50</td>\n",
       "      <td>1</td>\n",
       "    </tr>\n",
       "    <tr>\n",
       "      <th>2170</th>\n",
       "      <td>제이웨이</td>\n",
       "      <td>0.50</td>\n",
       "      <td>1</td>\n",
       "    </tr>\n",
       "    <tr>\n",
       "      <th>2171</th>\n",
       "      <td>케이프이에스제4호</td>\n",
       "      <td>NaN</td>\n",
       "      <td>NaN</td>\n",
       "    </tr>\n",
       "    <tr>\n",
       "      <th>2172</th>\n",
       "      <td>스타모빌리티</td>\n",
       "      <td>0.21</td>\n",
       "      <td>1</td>\n",
       "    </tr>\n",
       "  </tbody>\n",
       "</table>\n",
       "<p>2173 rows × 3 columns</p>\n",
       "</div>"
      ],
      "text/plain": [
       "            종목명    PBR quantile\n",
       "0          삼성전자   2.37        4\n",
       "1        SK하이닉스   2.10        4\n",
       "2          LG화학   4.60        5\n",
       "3      삼성바이오로직스  12.72        5\n",
       "4           현대차   0.97        2\n",
       "...         ...    ...      ...\n",
       "2168    지스마트글로벌   0.15        1\n",
       "2169     에스제이케이   0.50        1\n",
       "2170       제이웨이   0.50        1\n",
       "2171  케이프이에스제4호    NaN      NaN\n",
       "2172     스타모빌리티   0.21        1\n",
       "\n",
       "[2173 rows x 3 columns]"
      ]
     },
     "execution_count": 181,
     "metadata": {},
     "output_type": "execute_result"
    }
   ],
   "source": [
    "data_market['quantile'] = pd.qcut(data_market['PBR'], 5, labels=range(1, 6))\n",
    "data_market.loc[:, ['종목명', 'PBR', 'quantile']]"
   ]
  },
  {
   "cell_type": "markdown",
   "metadata": {},
   "source": [
    "- 그룹별 계산"
   ]
  },
  {
   "cell_type": "code",
   "execution_count": 182,
   "metadata": {},
   "outputs": [
    {
     "data": {
      "text/plain": [
       "SEC_NM_KOR\n",
       "IT           554\n",
       "건강관리         267\n",
       "경기관련소비재      335\n",
       "금융            77\n",
       "산업재          347\n",
       "소재           226\n",
       "에너지           26\n",
       "유틸리티          20\n",
       "커뮤니케이션서비스    113\n",
       "필수소비재         97\n",
       "Name: 종목명, dtype: int64"
      ]
     },
     "execution_count": 182,
     "metadata": {},
     "output_type": "execute_result"
    }
   ],
   "source": [
    "data_market.groupby('SEC_NM_KOR')['종목명'].count()"
   ]
  },
  {
   "cell_type": "code",
   "execution_count": 183,
   "metadata": {},
   "outputs": [
    {
     "data": {
      "text/plain": [
       "SEC_NM_KOR\n",
       "IT           554\n",
       "건강관리         267\n",
       "경기관련소비재      335\n",
       "금융            77\n",
       "산업재          347\n",
       "소재           226\n",
       "에너지           26\n",
       "유틸리티          20\n",
       "커뮤니케이션서비스    113\n",
       "필수소비재         97\n",
       "NaN          111\n",
       "Name: 종목명, dtype: int64"
      ]
     },
     "execution_count": 183,
     "metadata": {},
     "output_type": "execute_result"
    }
   ],
   "source": [
    "data_market.groupby('SEC_NM_KOR', dropna=False)['종목명'].count()"
   ]
  },
  {
   "cell_type": "code",
   "execution_count": 184,
   "metadata": {},
   "outputs": [
    {
     "data": {
      "text/plain": [
       "SEC_NM_KOR\n",
       "IT           1.960\n",
       "건강관리         3.810\n",
       "경기관련소비재      1.060\n",
       "금융           0.665\n",
       "산업재          1.080\n",
       "소재           0.920\n",
       "에너지          1.290\n",
       "유틸리티         0.535\n",
       "커뮤니케이션서비스    1.960\n",
       "필수소비재        1.000\n",
       "Name: PBR, dtype: float64"
      ]
     },
     "execution_count": 184,
     "metadata": {},
     "output_type": "execute_result"
    }
   ],
   "source": [
    "data_market.groupby('SEC_NM_KOR')['PBR'].median()"
   ]
  },
  {
   "cell_type": "code",
   "execution_count": 185,
   "metadata": {},
   "outputs": [
    {
     "data": {
      "text/plain": [
       "시장구분    SEC_NM_KOR\n",
       "KOSDAQ  IT            2.000\n",
       "        건강관리          4.580\n",
       "        경기관련소비재       1.465\n",
       "        금융            1.580\n",
       "        산업재           1.305\n",
       "        소재            1.240\n",
       "        에너지           1.555\n",
       "        유틸리티          0.980\n",
       "        커뮤니케이션서비스     2.240\n",
       "        필수소비재         1.455\n",
       "KOSPI   IT            1.805\n",
       "        건강관리          2.720\n",
       "        경기관련소비재       0.830\n",
       "        금융            0.530\n",
       "        산업재           0.915\n",
       "        소재            0.820\n",
       "        에너지           0.770\n",
       "        유틸리티          0.470\n",
       "        커뮤니케이션서비스     1.690\n",
       "        필수소비재         0.860\n",
       "Name: PBR, dtype: float64"
      ]
     },
     "execution_count": 185,
     "metadata": {},
     "output_type": "execute_result"
    }
   ],
   "source": [
    "data_market.groupby(['시장구분', 'SEC_NM_KOR'])['PBR'].median()"
   ]
  },
  {
   "cell_type": "markdown",
   "metadata": {},
   "source": [
    "## 8.2 종목정보 시각화"
   ]
  },
  {
   "cell_type": "code",
   "execution_count": 186,
   "metadata": {},
   "outputs": [
    {
     "data": {
      "text/plain": [
       "<AxesSubplot:xlabel='ROE', ylabel='PBR'>"
      ]
     },
     "execution_count": 186,
     "metadata": {},
     "output_type": "execute_result"
    },
    {
     "data": {
      "image/png": "[encoded data removed]",
      "text/plain": [
       "<Figure size 432x288 with 1 Axes>"
      ]
     },
     "metadata": {
      "needs_background": "light"
     },
     "output_type": "display_data"
    }
   ],
   "source": [
    "data_market.plot.scatter(x = 'ROE', y = 'PBR')"
   ]
  },
  {
   "cell_type": "code",
   "execution_count": 187,
   "metadata": {},
   "outputs": [
    {
     "data": {
      "text/plain": [
       "<AxesSubplot:xlabel='ROE', ylabel='PBR'>"
      ]
     },
     "execution_count": 187,
     "metadata": {},
     "output_type": "execute_result"
    },
    {
     "data": {
      "image/png": "[encoded data removed]",
      "text/plain": [
       "<Figure size 432x288 with 1 Axes>"
      ]
     },
     "metadata": {
      "needs_background": "light"
     },
     "output_type": "display_data"
    }
   ],
   "source": [
    "data_market.plot.scatter(x = 'ROE', y = 'PBR', xlim = [0, 0.3], ylim = [0, 3])"
   ]
  },
  {
   "cell_type": "code",
   "execution_count": null,
   "metadata": {},
   "outputs": [],
   "source": []
  }
 ],
 "metadata": {
  "kernelspec": {
   "display_name": "Python 3",
   "language": "python",
   "name": "python3"
  },
  "language_info": {
   "codemirror_mode": {
    "name": "ipython",
    "version": 3
   },
   "file_extension": ".py",
   "mimetype": "text/x-python",
   "name": "python",
   "nbconvert_exporter": "python",
   "pygments_lexer": "ipython3",
   "version": "3.8.5"
  }
 },
 "nbformat": 4,
 "nbformat_minor": 4
}
