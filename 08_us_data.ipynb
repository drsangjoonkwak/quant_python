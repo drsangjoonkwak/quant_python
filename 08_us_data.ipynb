{
 "cells": [
  {
   "cell_type": "markdown",
   "metadata": {},
   "source": [
    "# 8. 미국 주식 데이터 수집하기"
   ]
  },
  {
   "cell_type": "markdown",
   "metadata": {},
   "source": [
    "퀀트 투자의 장점은 데이터만 있다면 동일한 투자 전략을 전세계 모든 국가에 적용할 수 있다는 점입니다. 이번 장에서는 미국 전 종목의 티커 수집 및 주가, 재무제표, 가치지표를 다운로드 해보도록 하겠습니다."
   ]
  },
  {
   "cell_type": "markdown",
   "metadata": {},
   "source": [
    "## 8.1 티커 수집하기"
   ]
  },
  {
   "cell_type": "markdown",
   "metadata": {},
   "source": [
    "우리나라는 거래소가 '한국거래소' 한 곳 뿐이지만, 미국은 매우 많은 거래소가 존재합니다. 따라서 동일한 종목이 여러 거래소에서 거래되는 일도 발생합니다. 그 중에서도 가장 규모가 큰 거래소는 뉴욕거래소(NYSE), 나스닥(NASDAQ), 아멕스(AMEX)이며, 해당 거래소에 상장된 종목들은 나스닥 홈페이지에서 제공됩니다.\n",
    "\n",
    "```\n",
    "https://www.nasdaq.com/market-activity/stocks/screener\n",
    "```\n",
    "\n",
    "위 사이트에 접속한 후, 하단의 [Download CSV] 버튼을 누르면, 해당 데이터를 받아오는 웹주소가 표시됩니다.\n",
    "\n",
    "```{figure} image/us_ticker.png\n",
    "---\n",
    "name: us_ticker\n",
    "---\n",
    "미국의 상장종목 리스트\n",
    "```\n",
    "\n",
    "```\n",
    "https://api.nasdaq.com/api/screener/stocks?tableonly=true&limit=25&offset=0&download=true\n",
    "```\n",
    "\n",
    "해당 주소에 접속하면, 각 종목에 대한 정보가 JSON 형태로 제공됩니다. 이를 크롤링 해보도록 하겠습니다."
   ]
  },
  {
   "cell_type": "code",
   "execution_count": 1,
   "metadata": {},
   "outputs": [
    {
     "data": {
      "text/html": [
       "<div>\n",
       "<style scoped>\n",
       "    .dataframe tbody tr th:only-of-type {\n",
       "        vertical-align: middle;\n",
       "    }\n",
       "\n",
       "    .dataframe tbody tr th {\n",
       "        vertical-align: top;\n",
       "    }\n",
       "\n",
       "    .dataframe thead th {\n",
       "        text-align: right;\n",
       "    }\n",
       "</style>\n",
       "<table border=\"1\" class=\"dataframe\">\n",
       "  <thead>\n",
       "    <tr style=\"text-align: right;\">\n",
       "      <th></th>\n",
       "      <th>symbol</th>\n",
       "      <th>name</th>\n",
       "      <th>lastsale</th>\n",
       "      <th>netchange</th>\n",
       "      <th>pctchange</th>\n",
       "      <th>marketCap</th>\n",
       "      <th>country</th>\n",
       "      <th>ipoyear</th>\n",
       "      <th>volume</th>\n",
       "      <th>sector</th>\n",
       "      <th>industry</th>\n",
       "      <th>url</th>\n",
       "    </tr>\n",
       "  </thead>\n",
       "  <tbody>\n",
       "    <tr>\n",
       "      <th>0</th>\n",
       "      <td>A</td>\n",
       "      <td>Agilent Technologies Inc. Common Stock</td>\n",
       "      <td>$131.91</td>\n",
       "      <td>1.22</td>\n",
       "      <td>0.934%</td>\n",
       "      <td>40192649204.00</td>\n",
       "      <td>United States</td>\n",
       "      <td>1999</td>\n",
       "      <td>1552194</td>\n",
       "      <td>Capital Goods</td>\n",
       "      <td>Biotechnology: Laboratory Analytical Instruments</td>\n",
       "      <td>/market-activity/stocks/a</td>\n",
       "    </tr>\n",
       "    <tr>\n",
       "      <th>1</th>\n",
       "      <td>AA</td>\n",
       "      <td>Alcoa Corporation Common Stock</td>\n",
       "      <td>$31.36</td>\n",
       "      <td>-0.09</td>\n",
       "      <td>-0.286%</td>\n",
       "      <td>5843032424.00</td>\n",
       "      <td></td>\n",
       "      <td>2016</td>\n",
       "      <td>4315627</td>\n",
       "      <td>Basic Industries</td>\n",
       "      <td>Aluminum</td>\n",
       "      <td>/market-activity/stocks/aa</td>\n",
       "    </tr>\n",
       "    <tr>\n",
       "      <th>2</th>\n",
       "      <td>AAC</td>\n",
       "      <td>Ares Acquisition Corporation Class A Ordinary ...</td>\n",
       "      <td>$9.8752</td>\n",
       "      <td>-0.0148</td>\n",
       "      <td>-0.15%</td>\n",
       "      <td>1234523440.00</td>\n",
       "      <td></td>\n",
       "      <td>2021</td>\n",
       "      <td>18355</td>\n",
       "      <td>Finance</td>\n",
       "      <td>Business Services</td>\n",
       "      <td>/market-activity/stocks/aac</td>\n",
       "    </tr>\n",
       "    <tr>\n",
       "      <th>3</th>\n",
       "      <td>AACG</td>\n",
       "      <td>ATA Creativity Global American Depositary Shares</td>\n",
       "      <td>$4.06</td>\n",
       "      <td>0.00</td>\n",
       "      <td>0.00%</td>\n",
       "      <td>127283034.00</td>\n",
       "      <td>China</td>\n",
       "      <td></td>\n",
       "      <td>82032</td>\n",
       "      <td>Consumer Services</td>\n",
       "      <td>Other Consumer Services</td>\n",
       "      <td>/market-activity/stocks/aacg</td>\n",
       "    </tr>\n",
       "    <tr>\n",
       "      <th>4</th>\n",
       "      <td>AACQ</td>\n",
       "      <td>Artius Acquisition Inc. Class A Common Stock</td>\n",
       "      <td>$10.30</td>\n",
       "      <td>-0.09</td>\n",
       "      <td>-0.866%</td>\n",
       "      <td>932793750.00</td>\n",
       "      <td>United States</td>\n",
       "      <td>2020</td>\n",
       "      <td>1022952</td>\n",
       "      <td>Basic Industries</td>\n",
       "      <td>Major Chemicals</td>\n",
       "      <td>/market-activity/stocks/aacq</td>\n",
       "    </tr>\n",
       "  </tbody>\n",
       "</table>\n",
       "</div>"
      ],
      "text/plain": [
       "  symbol                                               name lastsale  \\\n",
       "0      A             Agilent Technologies Inc. Common Stock  $131.91   \n",
       "1     AA                    Alcoa Corporation Common Stock    $31.36   \n",
       "2    AAC  Ares Acquisition Corporation Class A Ordinary ...  $9.8752   \n",
       "3   AACG   ATA Creativity Global American Depositary Shares    $4.06   \n",
       "4   AACQ       Artius Acquisition Inc. Class A Common Stock   $10.30   \n",
       "\n",
       "  netchange pctchange       marketCap        country ipoyear   volume  \\\n",
       "0      1.22    0.934%  40192649204.00  United States    1999  1552194   \n",
       "1     -0.09   -0.286%   5843032424.00                   2016  4315627   \n",
       "2   -0.0148    -0.15%   1234523440.00                   2021    18355   \n",
       "3      0.00     0.00%    127283034.00          China            82032   \n",
       "4     -0.09   -0.866%    932793750.00  United States    2020  1022952   \n",
       "\n",
       "              sector                                          industry  \\\n",
       "0      Capital Goods  Biotechnology: Laboratory Analytical Instruments   \n",
       "1   Basic Industries                                          Aluminum   \n",
       "2            Finance                                 Business Services   \n",
       "3  Consumer Services                           Other Consumer Services   \n",
       "4   Basic Industries                                   Major Chemicals   \n",
       "\n",
       "                            url  \n",
       "0     /market-activity/stocks/a  \n",
       "1    /market-activity/stocks/aa  \n",
       "2   /market-activity/stocks/aac  \n",
       "3  /market-activity/stocks/aacg  \n",
       "4  /market-activity/stocks/aacq  "
      ]
     },
     "execution_count": 1,
     "metadata": {},
     "output_type": "execute_result"
    }
   ],
   "source": [
    "import pandas as pd\n",
    "import requests as rq\n",
    "\n",
    "url = 'https://api.nasdaq.com/api/screener/stocks?tableonly=true&limit=25&offset=0&download=true'\n",
    "headers = {\"User-Agent\": \"Mozilla/5.0 (X11; CrOS x86_64 12871.102.0) AppleWebKit/537.36 (KHTML, like Gecko) Chrome/81.0.4044.141 Safari/537.36\"}\n",
    "\n",
    "data = rq.get(url, headers=headers)\n",
    "data_json = data.json()['data']\n",
    "all_data = pd.DataFrame(data = data_json['rows'], columns = data_json['headers'])\n",
    "\n",
    "all_data.head()"
   ]
  },
  {
   "cell_type": "markdown",
   "metadata": {},
   "source": [
    "1. 먼저 url과 헤더정보를 입력하며, 헤더의 User-Agent에는 웹브라우저 구별을 입력해줍니다. 해당 사이트는 크롤러와 같이 정체가 불분명한 웹브라우저를 통한 접속이 막혀 있어, 마치 모질라 혹은 크롬을 통해 접속한 것 처럼 데이터를 요청합니다. 다양한 웹브라우저 리스트는 다음 사이트에서 확인할 수 있습니다. \n",
    "http://www.useragentstring.com/pages/useragentstring.php\n",
    "2. `get()` 함수를 통해 페이지의 데이터를 불러옵니다.\n",
    "3. `json()` 함수를 통해 json 형태로 불러온 후, data 부분을 선택합니다.\n",
    "4. json 형태를 데이터프레임 형태로 변경해줍니다. 데이터는 json의 'rows'에 해당하는 부분을, 열 이름은 'headers'에 해당하는 부분을 입력합니다."
   ]
  },
  {
   "cell_type": "code",
   "execution_count": 2,
   "metadata": {},
   "outputs": [
    {
     "data": {
      "text/plain": [
       "7526"
      ]
     },
     "execution_count": 2,
     "metadata": {},
     "output_type": "execute_result"
    }
   ],
   "source": [
    "len(all_data)"
   ]
  },
  {
   "cell_type": "markdown",
   "metadata": {},
   "source": [
    "총 종목수를 살펴보면 상당히 많은 종목이 존재합니다. 그러나 동일한 종목이 여러 거래소에 상장된 경우가 있으므로, 이를 먼저 제거해주도록 합니다. symbol과 name열 중 중복되는 종목이 있으면 첫번쨰 데이터만을 남기도록 하겠습니다."
   ]
  },
  {
   "cell_type": "code",
   "execution_count": 3,
   "metadata": {},
   "outputs": [],
   "source": [
    "all_data = all_data.loc[~all_data.symbol.duplicated(keep = 'first'), :]\n",
    "all_data = all_data.loc[~all_data.name.duplicated(keep = 'first'), :]"
   ]
  },
  {
   "cell_type": "markdown",
   "metadata": {},
   "source": [
    "### 8.1.1 티커 클렌징"
   ]
  },
  {
   "cell_type": "markdown",
   "metadata": {},
   "source": [
    "위에서 받은 데이터 중 모든 종목이 투자에 적합한 종목이 아니므로 클렌징 처리를 해주도록 합니다. 그 기준과 순서는 다음과 같습니다.\n",
    "\n",
    "1. marketCap이 0인 종목 제거 (스팩 주식)\n",
    "2. 종목명에 '^' 들어간 종목 제거 (우선주)\n",
    "3. Preferred가 들어간 종목 제거 (우선주)\n",
    "4. ETF 혹은 펀드 제거\n",
    "5. 종목명에 '%'이 들어간 종목 제거 (우선주)\n",
    "6. 종목명에 '/'를 '.' 으로 변경\n",
    "7. 티커 순으로 정렬"
   ]
  },
  {
   "cell_type": "code",
   "execution_count": 4,
   "metadata": {},
   "outputs": [
    {
     "data": {
      "text/plain": [
       "5554"
      ]
     },
     "execution_count": 4,
     "metadata": {},
     "output_type": "execute_result"
    }
   ],
   "source": [
    "all_data['marketCap'] = pd.to_numeric(all_data['marketCap'])\n",
    "all_data = all_data.loc[all_data['marketCap'] != 0]\n",
    "all_data = all_data.loc[~all_data['symbol'].str.contains('\\\\^')]\n",
    "all_data = all_data.loc[~all_data['name'].str.contains('Preferred')]\n",
    "all_data = all_data.loc[~all_data['name'].str.contains('preferred')]\n",
    "all_data = all_data.loc[~all_data['name'].str.contains('ETF')]\n",
    "all_data = all_data.loc[~all_data['name'].str.contains('Fund')]\n",
    "all_data = all_data.loc[~all_data['name'].str.contains('%')]\n",
    "all_data['symbol'] = all_data['symbol'].str.replace('\\\\/', '-')\n",
    "all_data = all_data.sort_values(by = 'symbol')\n",
    "all_data = all_data.reset_index(drop=True)\n",
    "\n",
    "len(all_data)"
   ]
  },
  {
   "cell_type": "markdown",
   "metadata": {},
   "source": [
    "종목수가 현격하게 줄어들었습니다. 물론 해당 과정을 거쳐도 다중 클래스가 상장되어 있는 등 클렌징 처리를 할 종목이 많지만 그 수가 매우 적으므로, 효율성 측면에서 위의 과정 정도만으로도 충분합니다. 마지막으로 csv 파일로 저장해주도록 하겠습니다."
   ]
  },
  {
   "cell_type": "code",
   "execution_count": 5,
   "metadata": {},
   "outputs": [],
   "source": [
    "all_data.to_csv('data/US_ticker.csv')"
   ]
  },
  {
   "cell_type": "markdown",
   "metadata": {},
   "source": [
    "## 8.2 주가 다운로드"
   ]
  },
  {
   "cell_type": "markdown",
   "metadata": {},
   "source": [
    "미국 주가의 경우 3장에서 살펴본 `DataReader()` 함수를 통한 야후 API를 통해 매우 손쉽게 다운로드 받을 수 있습니다. 전반적인 과정은 한국의 전 종목 주가 크롤링과 매우 유사합니다."
   ]
  },
  {
   "cell_type": "code",
   "execution_count": null,
   "metadata": {
    "deletable": false,
    "editable": false,
    "run_control": {
     "frozen": true
    }
   },
   "outputs": [],
   "source": [
    "import pandas as pd\n",
    "import numpy as np\n",
    "import os\n",
    "import pandas_datareader as web\n",
    "from datetime import date\n",
    "import time\n",
    "from tqdm import tqdm\n",
    "\n",
    "US_ticker = pd.read_csv('data/US_ticker.csv', index_col=0)\n",
    "error_list = []\n",
    "\n",
    "if not os.path.exists('data/US_price'):\n",
    "    os.makedirs('data/US_price')\n",
    "    \n",
    "for i in tqdm(range(0, len(US_ticker))): \n",
    "\n",
    "    # 빈 데이터프레임 생성\n",
    "    price = pd.DataFrame({'Price' : [np.nan]})\n",
    "    price.index = [date.today().strftime(\"%Y-%m-%d\")]\n",
    "    \n",
    "    # 티커 선택\n",
    "    name = US_ticker['symbol'][i]  \n",
    "    \n",
    "    \n",
    "    # 오류 발생 시 이를 무시하고 다음 루프로 진행\n",
    "    try:\n",
    "                \n",
    "        # 데이터 다운로드\n",
    "        price = web.DataReader(name, 'yahoo')     \n",
    "        \n",
    "    \n",
    "    except:\n",
    "        # 오류 발생시 해당 종목명을 저장하고 다음 루프로 이동        \n",
    "        error_list.append(name)     \n",
    "    \n",
    "    # 다운로드 받은 파일을 생성한 폴더 내 csv 파일로 저장\n",
    "    price.to_csv('data/US_price/'+name+'_price.csv')\n",
    "    \n",
    "    # 타임슬립 적용\n",
    "    time.sleep(2)    "
   ]
  },
  {
   "cell_type": "markdown",
   "metadata": {},
   "source": [
    "## 8.3 재무제표 및 가치지표 크롤링"
   ]
  },
  {
   "cell_type": "markdown",
   "metadata": {},
   "source": [
    "미국 주식의 재무제표를 구할 수 있는 사이트는 여러곳 있지만, 가장 유명한 곳은 야후 파이낸스 입니다.\n",
    "\n",
    "```\n",
    "https://finance.yahoo.com/\n",
    "```\n",
    "\n",
    "해당 사이트에는 종목에 대한 다양한 정보가 있기에 크롤링을 통해 데이터를 수집할 수 있습니다. 그러나 해당 페이지를 크롤링 하는 작업 역시 이미 여러 패키지들에 의해 개발되어 있으며, 책에서는 그 중에서 `yahoo_fin` 패키지를 사용하도록 하겠습니다. 해당 패키지의 자세한 설명은 아래 사이트에서 확인할 수 있습니다.\n",
    "\n",
    "```\n",
    "http://theautomatic.net/yahoo_fin-documentation/\n",
    "```"
   ]
  },
  {
   "cell_type": "markdown",
   "metadata": {},
   "source": [
    "### 8.3.1 재무제표 다운로드"
   ]
  },
  {
   "cell_type": "markdown",
   "metadata": {},
   "source": [
    "먼저 재무제표를 다운로드 받도록 하겠습니다. `get_financials()` 함수를 통해 손익계산서, 재무상태표, 현금흐름표를 한번에 다운로드 받을 수 있으며, 예시로 애플(AAPL) 종목의 연간 재무제표를 받아보도록 하겠습니다."
   ]
  },
  {
   "cell_type": "code",
   "execution_count": 6,
   "metadata": {},
   "outputs": [
    {
     "data": {
      "text/plain": [
       "dict_keys(['yearly_income_statement', 'yearly_balance_sheet', 'yearly_cash_flow'])"
      ]
     },
     "execution_count": 6,
     "metadata": {},
     "output_type": "execute_result"
    }
   ],
   "source": [
    "import yahoo_fin.stock_info as si\n",
    "\n",
    "data = si.get_financials('AAPL', yearly = True, quarterly = False)\n",
    "\n",
    "data.keys()"
   ]
  },
  {
   "cell_type": "markdown",
   "metadata": {},
   "source": [
    "딕셔너리 형태로 세 종류의 재무제표가 다운로드 되었습니다. 이를 하나의 데이터프레임으로 바꿔주도록 하겠습니다."
   ]
  },
  {
   "cell_type": "code",
   "execution_count": 7,
   "metadata": {},
   "outputs": [
    {
     "data": {
      "text/html": [
       "<div>\n",
       "<style scoped>\n",
       "    .dataframe tbody tr th:only-of-type {\n",
       "        vertical-align: middle;\n",
       "    }\n",
       "\n",
       "    .dataframe tbody tr th {\n",
       "        vertical-align: top;\n",
       "    }\n",
       "\n",
       "    .dataframe thead th {\n",
       "        text-align: right;\n",
       "    }\n",
       "</style>\n",
       "<table border=\"1\" class=\"dataframe\">\n",
       "  <thead>\n",
       "    <tr style=\"text-align: right;\">\n",
       "      <th>endDate</th>\n",
       "      <th>2020-09-26</th>\n",
       "      <th>2019-09-28</th>\n",
       "      <th>2018-09-29</th>\n",
       "      <th>2017-09-30</th>\n",
       "    </tr>\n",
       "    <tr>\n",
       "      <th>Breakdown</th>\n",
       "      <th></th>\n",
       "      <th></th>\n",
       "      <th></th>\n",
       "      <th></th>\n",
       "    </tr>\n",
       "  </thead>\n",
       "  <tbody>\n",
       "    <tr>\n",
       "      <th>researchDevelopment</th>\n",
       "      <td>18752000000</td>\n",
       "      <td>16217000000</td>\n",
       "      <td>14236000000</td>\n",
       "      <td>11581000000</td>\n",
       "    </tr>\n",
       "    <tr>\n",
       "      <th>effectOfAccountingCharges</th>\n",
       "      <td>None</td>\n",
       "      <td>None</td>\n",
       "      <td>None</td>\n",
       "      <td>None</td>\n",
       "    </tr>\n",
       "    <tr>\n",
       "      <th>incomeBeforeTax</th>\n",
       "      <td>67091000000</td>\n",
       "      <td>65737000000</td>\n",
       "      <td>72903000000</td>\n",
       "      <td>64089000000</td>\n",
       "    </tr>\n",
       "    <tr>\n",
       "      <th>minorityInterest</th>\n",
       "      <td>None</td>\n",
       "      <td>None</td>\n",
       "      <td>None</td>\n",
       "      <td>None</td>\n",
       "    </tr>\n",
       "    <tr>\n",
       "      <th>netIncome</th>\n",
       "      <td>57411000000</td>\n",
       "      <td>55256000000</td>\n",
       "      <td>59531000000</td>\n",
       "      <td>48351000000</td>\n",
       "    </tr>\n",
       "  </tbody>\n",
       "</table>\n",
       "</div>"
      ],
      "text/plain": [
       "endDate                     2020-09-26   2019-09-28   2018-09-29   2017-09-30\n",
       "Breakdown                                                                    \n",
       "researchDevelopment        18752000000  16217000000  14236000000  11581000000\n",
       "effectOfAccountingCharges         None         None         None         None\n",
       "incomeBeforeTax            67091000000  65737000000  72903000000  64089000000\n",
       "minorityInterest                  None         None         None         None\n",
       "netIncome                  57411000000  55256000000  59531000000  48351000000"
      ]
     },
     "execution_count": 7,
     "metadata": {},
     "output_type": "execute_result"
    }
   ],
   "source": [
    "data_fs = pd.concat([v for k, v in data.items()])\n",
    "\n",
    "data_fs.head()"
   ]
  },
  {
   "cell_type": "markdown",
   "metadata": {},
   "source": [
    "재무제표의 계정명과 순서는 홈페이지와 다소 다르지만, 값들을 비교해보면 동일한 데이터임을 확인할 수 있습니다. 이처럼 패키지를 이용하여 미국 데이터도 매우 쉽게 다운로드 받을 수 있습니다.\n",
    "\n",
    "```{note}\n",
    "분기별 재무제표 데이터를 받고자 할 경우 다음과 같이 입력하면 됩니다.\n",
    "\n",
    "`si.get_financials('AAPL', yearly = False, quarterly = True)`\n",
    "```"
   ]
  },
  {
   "cell_type": "markdown",
   "metadata": {},
   "source": [
    "### 8.3.2 가치지표 다운로드"
   ]
  },
  {
   "cell_type": "markdown",
   "metadata": {},
   "source": [
    "해당 패키지의 `get_stats_valuation()` 함수를 이용하면 홈페이지에 계산된 여러 가치지표 역시 손쉽게 다운로드 받을 수 있습니다. "
   ]
  },
  {
   "cell_type": "code",
   "execution_count": 8,
   "metadata": {},
   "outputs": [
    {
     "data": {
      "text/html": [
       "<div>\n",
       "<style scoped>\n",
       "    .dataframe tbody tr th:only-of-type {\n",
       "        vertical-align: middle;\n",
       "    }\n",
       "\n",
       "    .dataframe tbody tr th {\n",
       "        vertical-align: top;\n",
       "    }\n",
       "\n",
       "    .dataframe thead th {\n",
       "        text-align: right;\n",
       "    }\n",
       "</style>\n",
       "<table border=\"1\" class=\"dataframe\">\n",
       "  <thead>\n",
       "    <tr style=\"text-align: right;\">\n",
       "      <th></th>\n",
       "      <th>1</th>\n",
       "    </tr>\n",
       "    <tr>\n",
       "      <th>0</th>\n",
       "      <th></th>\n",
       "    </tr>\n",
       "  </thead>\n",
       "  <tbody>\n",
       "    <tr>\n",
       "      <th>Market Cap (intraday) 5</th>\n",
       "      <td>2.23T</td>\n",
       "    </tr>\n",
       "    <tr>\n",
       "      <th>Enterprise Value 3</th>\n",
       "      <td>2.27T</td>\n",
       "    </tr>\n",
       "    <tr>\n",
       "      <th>Trailing P/E</th>\n",
       "      <td>36.07</td>\n",
       "    </tr>\n",
       "    <tr>\n",
       "      <th>Forward P/E 1</th>\n",
       "      <td>28.30</td>\n",
       "    </tr>\n",
       "    <tr>\n",
       "      <th>PEG Ratio (5 yr expected) 1</th>\n",
       "      <td>1.84</td>\n",
       "    </tr>\n",
       "    <tr>\n",
       "      <th>Price/Sales (ttm)</th>\n",
       "      <td>7.59</td>\n",
       "    </tr>\n",
       "    <tr>\n",
       "      <th>Price/Book (mrq)</th>\n",
       "      <td>33.79</td>\n",
       "    </tr>\n",
       "    <tr>\n",
       "      <th>Enterprise Value/Revenue 3</th>\n",
       "      <td>7.71</td>\n",
       "    </tr>\n",
       "    <tr>\n",
       "      <th>Enterprise Value/EBITDA 7</th>\n",
       "      <td>26.63</td>\n",
       "    </tr>\n",
       "  </tbody>\n",
       "</table>\n",
       "</div>"
      ],
      "text/plain": [
       "                                 1\n",
       "0                                 \n",
       "Market Cap (intraday) 5      2.23T\n",
       "Enterprise Value 3           2.27T\n",
       "Trailing P/E                 36.07\n",
       "Forward P/E 1                28.30\n",
       "PEG Ratio (5 yr expected) 1   1.84\n",
       "Price/Sales (ttm)             7.59\n",
       "Price/Book (mrq)             33.79\n",
       "Enterprise Value/Revenue 3    7.71\n",
       "Enterprise Value/EBITDA 7    26.63"
      ]
     },
     "execution_count": 8,
     "metadata": {},
     "output_type": "execute_result"
    }
   ],
   "source": [
    "import yahoo_fin.stock_info as si\n",
    "\n",
    "data_value = si.get_stats_valuation('AAPL')\n",
    "data_value = data_value.set_index(data_value.columns[0])\n",
    "\n",
    "data_value"
   ]
  },
  {
   "cell_type": "markdown",
   "metadata": {},
   "source": [
    "PER, PEG, PSR, PBR 등 다양한 가치지표가 계산되어 있습니다. 이 중 지표명 끝의 숫자는 홈페이지에서 각주에 해당하는 불필요한 데이터이므로, 모든 숫자를 제거해주도록 하겠습니다."
   ]
  },
  {
   "cell_type": "code",
   "execution_count": 9,
   "metadata": {},
   "outputs": [
    {
     "data": {
      "text/html": [
       "<div>\n",
       "<style scoped>\n",
       "    .dataframe tbody tr th:only-of-type {\n",
       "        vertical-align: middle;\n",
       "    }\n",
       "\n",
       "    .dataframe tbody tr th {\n",
       "        vertical-align: top;\n",
       "    }\n",
       "\n",
       "    .dataframe thead th {\n",
       "        text-align: right;\n",
       "    }\n",
       "</style>\n",
       "<table border=\"1\" class=\"dataframe\">\n",
       "  <thead>\n",
       "    <tr style=\"text-align: right;\">\n",
       "      <th></th>\n",
       "      <th>1</th>\n",
       "    </tr>\n",
       "    <tr>\n",
       "      <th>0</th>\n",
       "      <th></th>\n",
       "    </tr>\n",
       "  </thead>\n",
       "  <tbody>\n",
       "    <tr>\n",
       "      <th>Market Cap (intraday)</th>\n",
       "      <td>2.23T</td>\n",
       "    </tr>\n",
       "    <tr>\n",
       "      <th>Enterprise Value</th>\n",
       "      <td>2.27T</td>\n",
       "    </tr>\n",
       "    <tr>\n",
       "      <th>Trailing P/E</th>\n",
       "      <td>36.07</td>\n",
       "    </tr>\n",
       "    <tr>\n",
       "      <th>Forward P/E</th>\n",
       "      <td>28.30</td>\n",
       "    </tr>\n",
       "    <tr>\n",
       "      <th>PEG Ratio ( yr expected)</th>\n",
       "      <td>1.84</td>\n",
       "    </tr>\n",
       "    <tr>\n",
       "      <th>Price/Sales (ttm)</th>\n",
       "      <td>7.59</td>\n",
       "    </tr>\n",
       "    <tr>\n",
       "      <th>Price/Book (mrq)</th>\n",
       "      <td>33.79</td>\n",
       "    </tr>\n",
       "    <tr>\n",
       "      <th>Enterprise Value/Revenue</th>\n",
       "      <td>7.71</td>\n",
       "    </tr>\n",
       "    <tr>\n",
       "      <th>Enterprise Value/EBITDA</th>\n",
       "      <td>26.63</td>\n",
       "    </tr>\n",
       "  </tbody>\n",
       "</table>\n",
       "</div>"
      ],
      "text/plain": [
       "                               1\n",
       "0                               \n",
       "Market Cap (intraday)      2.23T\n",
       "Enterprise Value           2.27T\n",
       "Trailing P/E               36.07\n",
       "Forward P/E                28.30\n",
       "PEG Ratio ( yr expected)    1.84\n",
       "Price/Sales (ttm)           7.59\n",
       "Price/Book (mrq)           33.79\n",
       "Enterprise Value/Revenue    7.71\n",
       "Enterprise Value/EBITDA    26.63"
      ]
     },
     "execution_count": 9,
     "metadata": {},
     "output_type": "execute_result"
    }
   ],
   "source": [
    "data_value.index = data_value.index.str.replace('\\d+', '')\n",
    "\n",
    "data_value"
   ]
  },
  {
   "cell_type": "markdown",
   "metadata": {},
   "source": [
    "### 8.3.3 전 종목 재무제표 및 가치지표 다운로드"
   ]
  },
  {
   "cell_type": "markdown",
   "metadata": {},
   "source": [
    "위 코드에서 for loop 구문을 이용해 티커에 해당하는 값만 변경해주면 모든 종목의 재무제표와 가치지표를 다운로드 받을 수 있습니다. 해당 코드는 다음과 같습니다."
   ]
  },
  {
   "cell_type": "code",
   "execution_count": null,
   "metadata": {
    "deletable": false,
    "editable": false,
    "run_control": {
     "frozen": true
    }
   },
   "outputs": [],
   "source": [
    "import pandas as pd\n",
    "import numpy as np\n",
    "import os\n",
    "import yahoo_fin.stock_info as si\n",
    "import time\n",
    "from tqdm import tqdm\n",
    "\n",
    "headers = {\"User-Agent\": \"Mozilla/5.0 (X11; CrOS x86_64 12871.102.0) AppleWebKit/537.36 (KHTML, like Gecko) Chrome/81.0.4044.141 Safari/537.36\"}\n",
    "\n",
    "# 폴더 만들기\n",
    "if not os.path.exists('data/US_fs'):\n",
    "    os.makedirs('data/US_fs')\n",
    "if not os.path.exists('data/US_value'):\n",
    "    os.makedirs('data/US_value')\n",
    "\n",
    "# 티커 불러오기\n",
    "US_ticker = pd.read_csv('data/US_ticker.csv', index_col=0)\n",
    "    \n",
    "# for loop\n",
    "for i in tqdm(range(0, len(US_ticker))):   \n",
    "    \n",
    "    # 빈 데이터프레임 생성\n",
    "    data_fs = pd.DataFrame({'' : [np.nan]})    \n",
    "    data_value = pd.DataFrame({'' : [np.nan]})    \n",
    "    \n",
    "    # 티커 선택\n",
    "    name = US_ticker['symbol'][i]    \n",
    "    \n",
    "    # 오류 발생 시 이를 무시하고 다음 루프로 진행\n",
    "    try:\n",
    "        # 재무제표 다운로드 \n",
    "        data = si.get_financials(name, yearly = True, quarterly = False)\n",
    "        data_fs = pd.concat([v for k, v in data.items()])\n",
    "        \n",
    "        # 가치지표 다운로드\n",
    "        data_value = si.get_stats_valuation(name)\n",
    "        data_value = data_value.set_index(data_value.columns[0])\n",
    "        data_value.index = data_value.index.str.replace('\\d+', '')          \n",
    "        \n",
    "    except:\n",
    "        # 오류 발생시 해당 종목명을 저장하고 다음 루프로 이동        \n",
    "        error_list.append(name)     \n",
    "         \n",
    "    \n",
    "    # 다운로드 받은 파일을 생성한 폴더 내 csv 파일로 저장    \n",
    "    data_fs.to_csv('data/US_fs/'+name+'_fs.csv')    \n",
    "    data_value.to_csv('data/US_value/'+name+'_value.csv')    \n",
    "    \n",
    "    # 타임슬립 적용\n",
    "    time.sleep(2)"
   ]
  },
  {
   "cell_type": "markdown",
   "metadata": {},
   "source": [
    "```{note}\n",
    "미국 종목의 재무제표 및 가치지표를 크롤링 할 때는 finviz 역시 많이 사용됩니다. 책에서 배운 크롤링 지식을 토대로 해당 페이지의 데이터도 한번 크롤링 해 보시길 바랍니다.\n",
    "\n",
    "https://finviz.com/\n",
    "    \n",
    "```  "
   ]
  }
 ],
 "metadata": {
  "kernelspec": {
   "display_name": "Python 3",
   "language": "python",
   "name": "python3"
  },
  "language_info": {
   "codemirror_mode": {
    "name": "ipython",
    "version": 3
   },
   "file_extension": ".py",
   "mimetype": "text/x-python",
   "name": "python",
   "nbconvert_exporter": "python",
   "pygments_lexer": "ipython3",
   "version": "3.8.5"
  }
 },
 "nbformat": 4,
 "nbformat_minor": 4
}
