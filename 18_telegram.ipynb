{
 "cells": [
  {
   "cell_type": "markdown",
   "metadata": {},
   "source": [
    "# 19. 텔레그램을 이용한 공시 및 수익률 전송"
   ]
  },
  {
   "cell_type": "markdown",
   "metadata": {},
   "source": [
    "- https://vmpo.tistory.com/85\n",
    "- https://jungeunlee95.github.io/python/2019/06/22/Python-%ED%85%94%EB%A0%88%EA%B7%B8%EB%9E%A8-API%EB%A1%9C-%EC%B1%97%EB%B4%87-%EB%A7%8C%EB%93%A4%EA%B8%B0/ 비번관리"
   ]
  },
  {
   "cell_type": "markdown",
   "metadata": {},
   "source": [
    "## 15.1 챗봇 만들기 및 연결하기"
   ]
  },
  {
   "cell_type": "markdown",
   "metadata": {},
   "source": [
    "### 15.1.1 텔레그램 챗봇 만들기"
   ]
  },
  {
   "cell_type": "markdown",
   "metadata": {},
   "source": [
    "![텔레그램 시작](image/15_tel_botfather.png)\n",
    "\n",
    "- 검색창에 [Botfather] 입력\n",
    "- 가짜 계정이 많으니 최상단의 인증마크가 붙어있는 채팅방 클릭\n",
    "- [시작] 버튼 누르기"
   ]
  },
  {
   "cell_type": "markdown",
   "metadata": {},
   "source": [
    "![챗봇 만들기](image/15_tel_newbot.png)\n",
    "\n",
    "- [/newbot]을 입력하면 챗봇의 이름을 입력하라고 나옵니다. [python_quant_bot]을 입력해줍니다. \n",
    "- 그 다음에는 사용자 명을 입력하라고 나옵니다. 주의할 점은 끝이 \"bot\"으로 끝나야 한다는 점입니다. 편의를 위해 위와 동일하게 입력해주었습니다. 중복된 사용자 명이 있으면 오류가 뜹니다.\n",
    "- 정상적으로 생성이 되면, 메시지 중 API 토큰이 출력됩니다. 이를 메모장에 저장해주도록 합니다."
   ]
  },
  {
   "cell_type": "markdown",
   "metadata": {},
   "source": [
    "![챗봇 확인하기](image/15_tel_checkbot.png)\n",
    "\n",
    "- 위에서 만든 챗봇 이름을 검색해보면 제대로 만들어진 것이 확인됩니다\n",
    "- [시작] 버튼을 눌러 활성화 시킵니다. 활성화가 되지 않은 챗봇에게는 파이썬에서 메세지를 전송할 수 없습니다."
   ]
  },
  {
   "cell_type": "markdown",
   "metadata": {},
   "source": [
    "![ID 확인하기](image/15_tel_chatid.png)\n",
    "\n",
    "- 파이썬에서 챗봇으로 메시지를 전송하기 위해서는 Chat ID를 확인해야 함\n",
    "- get_id_bot 을 검색한 후 [/start] 입력\n",
    "- Your Chat ID에 해당하는 값이 나의 Chat ID\n",
    "- 이 역시 API와 함께 저장"
   ]
  },
  {
   "cell_type": "raw",
   "metadata": {},
   "source": [
    "import keyring\n",
    "keyring.set_password('Henry', 'telegram_api_key', 'Your Telegram API Token')\n",
    "keyring.set_password('Henry', 'telegram_chat_id', 'Chat ID')"
   ]
  },
  {
   "cell_type": "markdown",
   "metadata": {},
   "source": [
    "- API Token과 Chat ID를 메모장에 입력한 후 저장합니다"
   ]
  },
  {
   "cell_type": "markdown",
   "metadata": {},
   "source": [
    "### 15.1.2 파이썬과 텔레그램 연결하기"
   ]
  },
  {
   "cell_type": "code",
   "execution_count": 1,
   "metadata": {},
   "outputs": [],
   "source": [
    "# import keyring\n",
    "# tel_api = keyring.get_password('Henry', 'telegram_api_key')\n",
    "# chat_id = keyring.get_password('Henry', 'telegram_chat_id')"
   ]
  },
  {
   "cell_type": "code",
   "execution_count": 2,
   "metadata": {},
   "outputs": [],
   "source": [
    "import telegram\n",
    "bot = telegram.Bot(token = tel_api)"
   ]
  },
  {
   "cell_type": "code",
   "execution_count": 3,
   "metadata": {},
   "outputs": [
    {
     "data": {
      "text/plain": [
       "<telegram.message.Message at 0x1df6cc55f70>"
      ]
     },
     "execution_count": 3,
     "metadata": {},
     "output_type": "execute_result"
    }
   ],
   "source": [
    "bot.sendMessage(chat_id = chat_id, text = 'Hello World')"
   ]
  },
  {
   "cell_type": "markdown",
   "metadata": {},
   "source": [
    "![ID 확인하기](image/15_tel_send_txt.png)\n",
    "\n",
    "- 'Hello World' 라는 단어가 전송되었습니다."
   ]
  },
  {
   "cell_type": "markdown",
   "metadata": {},
   "source": [
    "![예제 이미지](image/15_tel_img.jfif)\n",
    "\n",
    "- 위 이미지를 보내보도록 하겠습니다."
   ]
  },
  {
   "cell_type": "code",
   "execution_count": null,
   "metadata": {},
   "outputs": [],
   "source": [
    "bot.send_photo(chat_id = chat_id, photo = open('image/15_tel_img.jfif', 'rb'))"
   ]
  },
  {
   "cell_type": "markdown",
   "metadata": {},
   "source": [
    "![ID 확인하기](image/15_tel_send_img.png) \n",
    "\n",
    "- 이미지도 보내졌습니다."
   ]
  },
  {
   "cell_type": "markdown",
   "metadata": {},
   "source": [
    "### 15.1.3 채널에 메세지 전송"
   ]
  },
  {
   "cell_type": "markdown",
   "metadata": {},
   "source": [
    "![예제 이미지](image/15_tel_chatroom.png)\n",
    "![](image/15_tel_chatroom2.png)\n",
    "\n",
    "- 채널을 만들어줍니다.\n",
    "- 공개와 비공개 중 공개 채널을 선택합니다. 해당 채널의 링크는 [t.me/henryquant] 가 됩니다.\n",
    "- 참가자추가는 건너뛰기를 선택합니다.\n",
    "\n"
   ]
  },
  {
   "cell_type": "markdown",
   "metadata": {},
   "source": [
    "![채널 관리](image/15_tel_manager_1.png) \n",
    "![](image/15_tel_manager_2.png)\n",
    "![](image/15_tel_manager_3.png) \n",
    "![](image/15_tel_manager_4.png) \n",
    "\n",
    "- 관리자추가를 통해 위에서 만든 챗봇을 추가해줍니다."
   ]
  },
  {
   "cell_type": "code",
   "execution_count": 4,
   "metadata": {},
   "outputs": [
    {
     "data": {
      "text/plain": [
       "<telegram.message.Message at 0x1df6cc921f0>"
      ]
     },
     "execution_count": 4,
     "metadata": {},
     "output_type": "execute_result"
    }
   ],
   "source": [
    "import keyring\n",
    "tel_api = keyring.get_password('Henry', 'telegram_api_key')\n",
    "\n",
    "bot = telegram.Bot(token = tel_api)\n",
    "bot.sendMessage(chat_id = '@henryquant', text=\"채팅방으로 텍스트를 보내기!\")"
   ]
  },
  {
   "cell_type": "markdown",
   "metadata": {},
   "source": [
    "- chat_id 뒤에는 url의 뒷부분인 henryquant를 입력해줍니다."
   ]
  },
  {
   "cell_type": "markdown",
   "metadata": {},
   "source": [
    "![채팅방으로 텍스트 보내기](image/15_tel_send_to_room.png)  \n",
    "\n",
    "- 채팅방으로 메세지가 성공적으로 보내졌습니다."
   ]
  },
  {
   "cell_type": "markdown",
   "metadata": {},
   "source": [
    "### 15.1.4 스케쥴러를 이용한 반복작업"
   ]
  },
  {
   "cell_type": "markdown",
   "metadata": {},
   "source": [
    "#### 15.1.4.1 스케쥴러 예시"
   ]
  },
  {
   "cell_type": "markdown",
   "metadata": {},
   "source": [
    "https://www.geeksforgeeks.org/python-schedule-library/\n",
    "\n",
    "- 아래 코드를 test.py로 저장"
   ]
  },
  {
   "cell_type": "raw",
   "metadata": {},
   "source": [
    "import datetime\n",
    "import schedule\n",
    "import time\n",
    "\n",
    "def job():\n",
    "    now = datetime.datetime.now().strftime(\"%Y-%m-%d %H:%M:%S\")\n",
    "    print(now)\n",
    "    \n",
    "schedule.every(1).minutes.do(job)\n",
    "\n",
    "while 1:\n",
    "\tschedule.run_pending()\n",
    "\ttime.sleep(60)"
   ]
  },
  {
   "cell_type": "markdown",
   "metadata": {},
   "source": [
    "- 매 1분마다 현재시간을 출력\n",
    "- cmd에서 해당 파일 실행\n",
    "\n",
    "![스케쥴을 이용한 현재 시간 출력](image/15_tel_schedule.png)  \n",
    "\n",
    "- 1분마다 현재시간이 출력됨을 확인할 수 있음"
   ]
  },
  {
   "cell_type": "markdown",
   "metadata": {},
   "source": [
    "#### 15.1.4.2 공시내역 보내기"
   ]
  },
  {
   "cell_type": "markdown",
   "metadata": {},
   "source": [
    "- 먼저 시가총액 상위 100개 종목을 관심종목으로 지정합니다."
   ]
  },
  {
   "cell_type": "code",
   "execution_count": 25,
   "metadata": {},
   "outputs": [],
   "source": [
    "import pandas as pd\n",
    "import numpy as np\n",
    "\n",
    "KOR_ticker = pd.read_csv('data/KOR_ticker.csv', index_col=0)\n",
    "KOR_ticker['종목코드'] = KOR_ticker['종목코드'].astype(np.str).str.zfill(6)\n",
    "KOR_ticker = KOR_ticker.loc[0:99, ['종목코드', '시가총액']]\n",
    "\n",
    "corp_list = pd.read_csv('data/corp_list.csv', index_col=0)\n",
    "corp_list['corp_code'] = corp_list['corp_code'].astype(np.str).str.zfill(8)\n",
    "corp_list['stock_code'] = corp_list['stock_code'].astype(np.str).str.zfill(6)"
   ]
  },
  {
   "cell_type": "code",
   "execution_count": 27,
   "metadata": {},
   "outputs": [],
   "source": [
    "merge_list = pd.merge(KOR_ticker, corp_list, left_on = ['종목코드'], right_on = ['stock_code'])"
   ]
  },
  {
   "cell_type": "code",
   "execution_count": 28,
   "metadata": {},
   "outputs": [
    {
     "data": {
      "text/html": [
       "<div>\n",
       "<style scoped>\n",
       "    .dataframe tbody tr th:only-of-type {\n",
       "        vertical-align: middle;\n",
       "    }\n",
       "\n",
       "    .dataframe tbody tr th {\n",
       "        vertical-align: top;\n",
       "    }\n",
       "\n",
       "    .dataframe thead th {\n",
       "        text-align: right;\n",
       "    }\n",
       "</style>\n",
       "<table border=\"1\" class=\"dataframe\">\n",
       "  <thead>\n",
       "    <tr style=\"text-align: right;\">\n",
       "      <th></th>\n",
       "      <th>종목코드</th>\n",
       "      <th>시가총액</th>\n",
       "      <th>corp_code</th>\n",
       "      <th>corp_name</th>\n",
       "      <th>stock_code</th>\n",
       "      <th>modify_date</th>\n",
       "    </tr>\n",
       "  </thead>\n",
       "  <tbody>\n",
       "    <tr>\n",
       "      <th>0</th>\n",
       "      <td>005930</td>\n",
       "      <td>530116690440000</td>\n",
       "      <td>00126380</td>\n",
       "      <td>삼성전자</td>\n",
       "      <td>005930</td>\n",
       "      <td>20201209</td>\n",
       "    </tr>\n",
       "    <tr>\n",
       "      <th>1</th>\n",
       "      <td>000660</td>\n",
       "      <td>100464326370000</td>\n",
       "      <td>00164779</td>\n",
       "      <td>SK하이닉스</td>\n",
       "      <td>000660</td>\n",
       "      <td>20201221</td>\n",
       "    </tr>\n",
       "    <tr>\n",
       "      <th>2</th>\n",
       "      <td>051910</td>\n",
       "      <td>70521750657000</td>\n",
       "      <td>00356361</td>\n",
       "      <td>LG화학</td>\n",
       "      <td>051910</td>\n",
       "      <td>20210114</td>\n",
       "    </tr>\n",
       "    <tr>\n",
       "      <th>3</th>\n",
       "      <td>207940</td>\n",
       "      <td>55380105000000</td>\n",
       "      <td>00877059</td>\n",
       "      <td>삼성바이오로직스</td>\n",
       "      <td>207940</td>\n",
       "      <td>20210113</td>\n",
       "    </tr>\n",
       "    <tr>\n",
       "      <th>4</th>\n",
       "      <td>005380</td>\n",
       "      <td>52562374002000</td>\n",
       "      <td>00164742</td>\n",
       "      <td>현대자동차</td>\n",
       "      <td>005380</td>\n",
       "      <td>20210111</td>\n",
       "    </tr>\n",
       "    <tr>\n",
       "      <th>...</th>\n",
       "      <td>...</td>\n",
       "      <td>...</td>\n",
       "      <td>...</td>\n",
       "      <td>...</td>\n",
       "      <td>...</td>\n",
       "      <td>...</td>\n",
       "    </tr>\n",
       "    <tr>\n",
       "      <th>95</th>\n",
       "      <td>026960</td>\n",
       "      <td>3339950000000</td>\n",
       "      <td>00144395</td>\n",
       "      <td>동서</td>\n",
       "      <td>026960</td>\n",
       "      <td>20201201</td>\n",
       "    </tr>\n",
       "    <tr>\n",
       "      <th>96</th>\n",
       "      <td>032500</td>\n",
       "      <td>3269294494300</td>\n",
       "      <td>00226352</td>\n",
       "      <td>케이엠더블유</td>\n",
       "      <td>032500</td>\n",
       "      <td>20201120</td>\n",
       "    </tr>\n",
       "    <tr>\n",
       "      <th>97</th>\n",
       "      <td>241560</td>\n",
       "      <td>3258097895000</td>\n",
       "      <td>01032486</td>\n",
       "      <td>두산밥캣</td>\n",
       "      <td>241560</td>\n",
       "      <td>20210113</td>\n",
       "    </tr>\n",
       "    <tr>\n",
       "      <th>98</th>\n",
       "      <td>008770</td>\n",
       "      <td>3253669230900</td>\n",
       "      <td>00165680</td>\n",
       "      <td>호텔신라</td>\n",
       "      <td>008770</td>\n",
       "      <td>20210114</td>\n",
       "    </tr>\n",
       "    <tr>\n",
       "      <th>99</th>\n",
       "      <td>012510</td>\n",
       "      <td>3251444976000</td>\n",
       "      <td>00172291</td>\n",
       "      <td>더존비즈온</td>\n",
       "      <td>012510</td>\n",
       "      <td>20200227</td>\n",
       "    </tr>\n",
       "  </tbody>\n",
       "</table>\n",
       "<p>100 rows × 6 columns</p>\n",
       "</div>"
      ],
      "text/plain": [
       "      종목코드             시가총액 corp_code corp_name stock_code  modify_date\n",
       "0   005930  530116690440000  00126380      삼성전자     005930     20201209\n",
       "1   000660  100464326370000  00164779    SK하이닉스     000660     20201221\n",
       "2   051910   70521750657000  00356361      LG화학     051910     20210114\n",
       "3   207940   55380105000000  00877059  삼성바이오로직스     207940     20210113\n",
       "4   005380   52562374002000  00164742     현대자동차     005380     20210111\n",
       "..     ...              ...       ...       ...        ...          ...\n",
       "95  026960    3339950000000  00144395        동서     026960     20201201\n",
       "96  032500    3269294494300  00226352    케이엠더블유     032500     20201120\n",
       "97  241560    3258097895000  01032486      두산밥캣     241560     20210113\n",
       "98  008770    3253669230900  00165680      호텔신라     008770     20210114\n",
       "99  012510    3251444976000  00172291     더존비즈온     012510     20200227\n",
       "\n",
       "[100 rows x 6 columns]"
      ]
     },
     "execution_count": 28,
     "metadata": {},
     "output_type": "execute_result"
    }
   ],
   "source": [
    "merge_list"
   ]
  },
  {
   "cell_type": "code",
   "execution_count": 32,
   "metadata": {},
   "outputs": [],
   "source": [
    "merge_list.종목코드.to_csv('data/mystock.csv', index=False)"
   ]
  },
  {
   "cell_type": "code",
   "execution_count": 44,
   "metadata": {},
   "outputs": [],
   "source": [
    "mystock = pd.read_csv('data/mystock.csv')\n",
    "mystock['종목코드'] = mystock['종목코드'].astype(np.str).str.zfill(8)\n",
    "mystock = mystock.종목코드.tolist()"
   ]
  },
  {
   "cell_type": "code",
   "execution_count": 49,
   "metadata": {},
   "outputs": [
    {
     "data": {
      "text/plain": [
       "['00005930',\n",
       " '00000660',\n",
       " '00051910',\n",
       " '00207940',\n",
       " '00005380',\n",
       " '00035420',\n",
       " '00006400',\n",
       " '00068270',\n",
       " '00035720',\n",
       " '00012330']"
      ]
     },
     "execution_count": 49,
     "metadata": {},
     "output_type": "execute_result"
    }
   ],
   "source": [
    "mystock[: 10]"
   ]
  },
  {
   "cell_type": "code",
   "execution_count": 52,
   "metadata": {},
   "outputs": [],
   "source": [
    "import keyring\n",
    "dart_api = keyring.get_password('Henry', 'dart_api_key')"
   ]
  },
  {
   "cell_type": "code",
   "execution_count": 53,
   "metadata": {},
   "outputs": [],
   "source": [
    "fn = 'data/report_list.csv'\n",
    "try:\n",
    "    file = open(fn, 'r')\n",
    "except IOError:\n",
    "    file = open(fn, 'w')"
   ]
  },
  {
   "cell_type": "code",
   "execution_count": 54,
   "metadata": {},
   "outputs": [
    {
     "data": {
      "text/plain": [
       "<_io.TextIOWrapper name='data/report_list.csv' mode='w' encoding='cp949'>"
      ]
     },
     "execution_count": 54,
     "metadata": {},
     "output_type": "execute_result"
    }
   ],
   "source": []
  },
  {
   "cell_type": "code",
   "execution_count": null,
   "metadata": {},
   "outputs": [],
   "source": [
    "import datetime\n",
    "\n",
    "datetime.datetime.now()\n"
   ]
  }
 ],
 "metadata": {
  "kernelspec": {
   "display_name": "Python 3",
   "language": "python",
   "name": "python3"
  },
  "language_info": {
   "codemirror_mode": {
    "name": "ipython",
    "version": 3
   },
   "file_extension": ".py",
   "mimetype": "text/x-python",
   "name": "python",
   "nbconvert_exporter": "python",
   "pygments_lexer": "ipython3",
   "version": "3.8.5"
  }
 },
 "nbformat": 4,
 "nbformat_minor": 4
}
