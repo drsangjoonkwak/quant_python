{
 "cells": [
  {
   "cell_type": "markdown",
   "metadata": {},
   "source": [
    "# 11. 데이터 분석 및 시각화하기"
   ]
  },
  {
   "cell_type": "markdown",
   "metadata": {},
   "source": [
    "데이터 수집 및 정리가 끝났다면, 내가 가지고 있는 데이터가 어떠한 특성을 가지고 있는지에 대한 분석 및 시각화 과정, 즉 **탐색적 데이터 분석(Exploratory Data Analysis)**을 할 필요가 있습니다. 이 과정을 통해 데이터를 더 잘 이해할 수 있으며, 극단치나 결측치 등 데이터가 가지고 있는 잠재적인 문제를 발견하고 이를 어떻게 처리할지 고민할 수 있습니다.\n",
    "\n",
    "이번 장에서는 데이터 분석 및 시각화에 대해 알아보겠습니다."
   ]
  },
  {
   "cell_type": "markdown",
   "metadata": {},
   "source": [
    "## 11.1 종목정보 데이터 분석"
   ]
  },
  {
   "cell_type": "markdown",
   "metadata": {},
   "source": [
    "먼저 거래소를 통해 수집한 산업별 현황과 개별지표를 정리한 파일, WICS 기준 섹터 지표를 정리한 파일을 통해 국내 상장종목의 데이터를 분석해보겠습니다."
   ]
  },
  {
   "cell_type": "code",
   "execution_count": 1,
   "metadata": {},
   "outputs": [],
   "source": [
    "import pandas as pd\n",
    "import numpy as np\n",
    "\n",
    "KOR_ticker = pd.read_csv('data/KOR_ticker.csv', index_col=0)\n",
    "KOR_ticker['종목코드'] = KOR_ticker['종목코드'].astype(np.str).str.zfill(6)\n",
    "\n",
    "KOR_sector = pd.read_csv('data/KOR_sector.csv', index_col=0)\n",
    "KOR_sector['CMP_CD'] = KOR_sector['CMP_CD'].astype(np.str).str.zfill(6)"
   ]
  },
  {
   "cell_type": "markdown",
   "metadata": {},
   "source": [
    "각 파일을 불러온 후 티커에 해당하는 종목코드와 CMP_CD 열을 6자리 숫자로 만들어줍니다. 이제 파이썬에서 대표적인 데이터 분석 패키지인 pandas를 이용해 데이터를 분석해보겠습니다."
   ]
  },
  {
   "cell_type": "markdown",
   "metadata": {},
   "source": [
    "### 11.1.1 데이터 합치기"
   ]
  },
  {
   "cell_type": "markdown",
   "metadata": {},
   "source": [
    "두 테이블을 하나로 합치기 위해 `merge()` 함수를 이용합니다. 데이터를 합치는 방법은 {numref}`eda_merge`와 같이 크게 네가지 종류가 있습니다.\n",
    "\n",
    "\n",
    "```{figure} image/eda_merge.png\n",
    "---\n",
    "name: eda_merge\n",
    "---\n",
    "merge 종류\n",
    "```\n",
    "\n",
    "이 중 거래소 티커 기준으로 데이터를 맞추기 위해 left를 기준으로 두 데이터를 합치겠습니다."
   ]
  },
  {
   "cell_type": "code",
   "execution_count": 2,
   "metadata": {},
   "outputs": [
    {
     "data": {
      "text/html": [
       "<div>\n",
       "<style scoped>\n",
       "    .dataframe tbody tr th:only-of-type {\n",
       "        vertical-align: middle;\n",
       "    }\n",
       "\n",
       "    .dataframe tbody tr th {\n",
       "        vertical-align: top;\n",
       "    }\n",
       "\n",
       "    .dataframe thead th {\n",
       "        text-align: right;\n",
       "    }\n",
       "</style>\n",
       "<table border=\"1\" class=\"dataframe\">\n",
       "  <thead>\n",
       "    <tr style=\"text-align: right;\">\n",
       "      <th></th>\n",
       "      <th>종목코드</th>\n",
       "      <th>종목명</th>\n",
       "      <th>시장구분</th>\n",
       "      <th>업종명</th>\n",
       "      <th>종가</th>\n",
       "      <th>대비</th>\n",
       "      <th>등락률</th>\n",
       "      <th>시가총액</th>\n",
       "      <th>EPS</th>\n",
       "      <th>PER</th>\n",
       "      <th>...</th>\n",
       "      <th>CMP_KOR</th>\n",
       "      <th>MKT_VAL</th>\n",
       "      <th>WGT</th>\n",
       "      <th>S_WGT</th>\n",
       "      <th>CAL_WGT</th>\n",
       "      <th>SEC_CD</th>\n",
       "      <th>SEC_NM_KOR</th>\n",
       "      <th>SEQ</th>\n",
       "      <th>TOP60</th>\n",
       "      <th>APT_SHR_CNT</th>\n",
       "    </tr>\n",
       "  </thead>\n",
       "  <tbody>\n",
       "    <tr>\n",
       "      <th>0</th>\n",
       "      <td>005930</td>\n",
       "      <td>삼성전자</td>\n",
       "      <td>KOSPI</td>\n",
       "      <td>전기전자</td>\n",
       "      <td>83200</td>\n",
       "      <td>-400</td>\n",
       "      <td>-0.48</td>\n",
       "      <td>496685908160000</td>\n",
       "      <td>3166.0</td>\n",
       "      <td>26.28</td>\n",
       "      <td>...</td>\n",
       "      <td>삼성전자</td>\n",
       "      <td>372514431.0</td>\n",
       "      <td>60.03</td>\n",
       "      <td>60.03</td>\n",
       "      <td>1.0</td>\n",
       "      <td>G45</td>\n",
       "      <td>IT</td>\n",
       "      <td>1.0</td>\n",
       "      <td>0.0</td>\n",
       "      <td>4.477337e+09</td>\n",
       "    </tr>\n",
       "    <tr>\n",
       "      <th>1</th>\n",
       "      <td>000660</td>\n",
       "      <td>SK하이닉스</td>\n",
       "      <td>KOSPI</td>\n",
       "      <td>전기전자</td>\n",
       "      <td>137500</td>\n",
       "      <td>-2500</td>\n",
       "      <td>-1.79</td>\n",
       "      <td>100100325187500</td>\n",
       "      <td>2943.0</td>\n",
       "      <td>46.72</td>\n",
       "      <td>...</td>\n",
       "      <td>SK하이닉스</td>\n",
       "      <td>74074241.0</td>\n",
       "      <td>11.94</td>\n",
       "      <td>71.96</td>\n",
       "      <td>1.0</td>\n",
       "      <td>G45</td>\n",
       "      <td>IT</td>\n",
       "      <td>2.0</td>\n",
       "      <td>0.0</td>\n",
       "      <td>5.387218e+08</td>\n",
       "    </tr>\n",
       "    <tr>\n",
       "      <th>2</th>\n",
       "      <td>035420</td>\n",
       "      <td>NAVER</td>\n",
       "      <td>KOSPI</td>\n",
       "      <td>서비스업</td>\n",
       "      <td>385500</td>\n",
       "      <td>2000</td>\n",
       "      <td>0.52</td>\n",
       "      <td>63323538772500</td>\n",
       "      <td>4006.0</td>\n",
       "      <td>96.23</td>\n",
       "      <td>...</td>\n",
       "      <td>NAVER</td>\n",
       "      <td>49392360.0</td>\n",
       "      <td>32.00</td>\n",
       "      <td>32.00</td>\n",
       "      <td>1.0</td>\n",
       "      <td>G50</td>\n",
       "      <td>커뮤니케이션서비스</td>\n",
       "      <td>1.0</td>\n",
       "      <td>3.0</td>\n",
       "      <td>1.281254e+08</td>\n",
       "    </tr>\n",
       "    <tr>\n",
       "      <th>3</th>\n",
       "      <td>051910</td>\n",
       "      <td>LG화학</td>\n",
       "      <td>KOSPI</td>\n",
       "      <td>화학</td>\n",
       "      <td>817000</td>\n",
       "      <td>5000</td>\n",
       "      <td>0.62</td>\n",
       "      <td>57673944231000</td>\n",
       "      <td>4085.0</td>\n",
       "      <td>200.00</td>\n",
       "      <td>...</td>\n",
       "      <td>LG화학</td>\n",
       "      <td>36911324.0</td>\n",
       "      <td>29.87</td>\n",
       "      <td>29.87</td>\n",
       "      <td>1.0</td>\n",
       "      <td>G15</td>\n",
       "      <td>소재</td>\n",
       "      <td>1.0</td>\n",
       "      <td>6.0</td>\n",
       "      <td>4.517910e+07</td>\n",
       "    </tr>\n",
       "    <tr>\n",
       "      <th>4</th>\n",
       "      <td>207940</td>\n",
       "      <td>삼성바이오로직스</td>\n",
       "      <td>KOSPI</td>\n",
       "      <td>의약품</td>\n",
       "      <td>782000</td>\n",
       "      <td>12000</td>\n",
       "      <td>1.56</td>\n",
       "      <td>51741030000000</td>\n",
       "      <td>3067.0</td>\n",
       "      <td>254.97</td>\n",
       "      <td>...</td>\n",
       "      <td>삼성바이오로직스</td>\n",
       "      <td>12935258.0</td>\n",
       "      <td>8.71</td>\n",
       "      <td>30.59</td>\n",
       "      <td>1.0</td>\n",
       "      <td>G35</td>\n",
       "      <td>건강관리</td>\n",
       "      <td>2.0</td>\n",
       "      <td>19.0</td>\n",
       "      <td>1.654125e+07</td>\n",
       "    </tr>\n",
       "  </tbody>\n",
       "</table>\n",
       "<p>5 rows × 28 columns</p>\n",
       "</div>"
      ],
      "text/plain": [
       "     종목코드       종목명   시장구분   업종명      종가     대비   등락률             시가총액  \\\n",
       "0  005930      삼성전자  KOSPI  전기전자   83200   -400 -0.48  496685908160000   \n",
       "1  000660    SK하이닉스  KOSPI  전기전자  137500  -2500 -1.79  100100325187500   \n",
       "2  035420     NAVER  KOSPI  서비스업  385500   2000  0.52   63323538772500   \n",
       "3  051910      LG화학  KOSPI    화학  817000   5000  0.62   57673944231000   \n",
       "4  207940  삼성바이오로직스  KOSPI   의약품  782000  12000  1.56   51741030000000   \n",
       "\n",
       "      EPS     PER  ...   CMP_KOR      MKT_VAL    WGT  S_WGT CAL_WGT SEC_CD  \\\n",
       "0  3166.0   26.28  ...      삼성전자  372514431.0  60.03  60.03     1.0    G45   \n",
       "1  2943.0   46.72  ...    SK하이닉스   74074241.0  11.94  71.96     1.0    G45   \n",
       "2  4006.0   96.23  ...     NAVER   49392360.0  32.00  32.00     1.0    G50   \n",
       "3  4085.0  200.00  ...      LG화학   36911324.0  29.87  29.87     1.0    G15   \n",
       "4  3067.0  254.97  ...  삼성바이오로직스   12935258.0   8.71  30.59     1.0    G35   \n",
       "\n",
       "   SEC_NM_KOR  SEQ TOP60   APT_SHR_CNT  \n",
       "0          IT  1.0   0.0  4.477337e+09  \n",
       "1          IT  2.0   0.0  5.387218e+08  \n",
       "2   커뮤니케이션서비스  1.0   3.0  1.281254e+08  \n",
       "3          소재  1.0   6.0  4.517910e+07  \n",
       "4        건강관리  2.0  19.0  1.654125e+07  \n",
       "\n",
       "[5 rows x 28 columns]"
      ]
     },
     "execution_count": 2,
     "metadata": {},
     "output_type": "execute_result"
    }
   ],
   "source": [
    "data_market = pd.merge(KOR_ticker, KOR_sector, left_on = ['종목코드','종목명'], right_on = ['CMP_CD','CMP_KOR'], how = 'left')\n",
    "\n",
    "data_market.head()"
   ]
  },
  {
   "cell_type": "code",
   "execution_count": 3,
   "metadata": {},
   "outputs": [
    {
     "data": {
      "text/html": [
       "<div>\n",
       "<style scoped>\n",
       "    .dataframe tbody tr th:only-of-type {\n",
       "        vertical-align: middle;\n",
       "    }\n",
       "\n",
       "    .dataframe tbody tr th {\n",
       "        vertical-align: top;\n",
       "    }\n",
       "\n",
       "    .dataframe thead th {\n",
       "        text-align: right;\n",
       "    }\n",
       "</style>\n",
       "<table border=\"1\" class=\"dataframe\">\n",
       "  <thead>\n",
       "    <tr style=\"text-align: right;\">\n",
       "      <th></th>\n",
       "      <th>종목코드</th>\n",
       "      <th>종목명</th>\n",
       "      <th>시장구분</th>\n",
       "      <th>업종명</th>\n",
       "      <th>종가</th>\n",
       "      <th>대비</th>\n",
       "      <th>등락률</th>\n",
       "      <th>시가총액</th>\n",
       "      <th>EPS</th>\n",
       "      <th>PER</th>\n",
       "      <th>...</th>\n",
       "      <th>CMP_KOR</th>\n",
       "      <th>MKT_VAL</th>\n",
       "      <th>WGT</th>\n",
       "      <th>S_WGT</th>\n",
       "      <th>CAL_WGT</th>\n",
       "      <th>SEC_CD</th>\n",
       "      <th>SEC_NM_KOR</th>\n",
       "      <th>SEQ</th>\n",
       "      <th>TOP60</th>\n",
       "      <th>APT_SHR_CNT</th>\n",
       "    </tr>\n",
       "  </thead>\n",
       "  <tbody>\n",
       "    <tr>\n",
       "      <th>2191</th>\n",
       "      <td>121890</td>\n",
       "      <td>에스디시스템</td>\n",
       "      <td>KOSDAQ</td>\n",
       "      <td>정보기기</td>\n",
       "      <td>739</td>\n",
       "      <td>0</td>\n",
       "      <td>0.00</td>\n",
       "      <td>7101198800</td>\n",
       "      <td>NaN</td>\n",
       "      <td>NaN</td>\n",
       "      <td>...</td>\n",
       "      <td>NaN</td>\n",
       "      <td>NaN</td>\n",
       "      <td>NaN</td>\n",
       "      <td>NaN</td>\n",
       "      <td>NaN</td>\n",
       "      <td>NaN</td>\n",
       "      <td>NaN</td>\n",
       "      <td>NaN</td>\n",
       "      <td>NaN</td>\n",
       "      <td>NaN</td>\n",
       "    </tr>\n",
       "    <tr>\n",
       "      <th>2192</th>\n",
       "      <td>114570</td>\n",
       "      <td>지스마트글로벌</td>\n",
       "      <td>KOSDAQ</td>\n",
       "      <td>반도체</td>\n",
       "      <td>620</td>\n",
       "      <td>0</td>\n",
       "      <td>0.00</td>\n",
       "      <td>7030424280</td>\n",
       "      <td>NaN</td>\n",
       "      <td>NaN</td>\n",
       "      <td>...</td>\n",
       "      <td>NaN</td>\n",
       "      <td>NaN</td>\n",
       "      <td>NaN</td>\n",
       "      <td>NaN</td>\n",
       "      <td>NaN</td>\n",
       "      <td>NaN</td>\n",
       "      <td>NaN</td>\n",
       "      <td>NaN</td>\n",
       "      <td>NaN</td>\n",
       "      <td>NaN</td>\n",
       "    </tr>\n",
       "    <tr>\n",
       "      <th>2193</th>\n",
       "      <td>080440</td>\n",
       "      <td>에스제이케이</td>\n",
       "      <td>KOSDAQ</td>\n",
       "      <td>유통</td>\n",
       "      <td>498</td>\n",
       "      <td>0</td>\n",
       "      <td>0.00</td>\n",
       "      <td>6636328080</td>\n",
       "      <td>NaN</td>\n",
       "      <td>NaN</td>\n",
       "      <td>...</td>\n",
       "      <td>NaN</td>\n",
       "      <td>NaN</td>\n",
       "      <td>NaN</td>\n",
       "      <td>NaN</td>\n",
       "      <td>NaN</td>\n",
       "      <td>NaN</td>\n",
       "      <td>NaN</td>\n",
       "      <td>NaN</td>\n",
       "      <td>NaN</td>\n",
       "      <td>NaN</td>\n",
       "    </tr>\n",
       "    <tr>\n",
       "      <th>2194</th>\n",
       "      <td>158310</td>\n",
       "      <td>스타모빌리티</td>\n",
       "      <td>KOSDAQ</td>\n",
       "      <td>기계·장비</td>\n",
       "      <td>505</td>\n",
       "      <td>0</td>\n",
       "      <td>0.00</td>\n",
       "      <td>6096179210</td>\n",
       "      <td>NaN</td>\n",
       "      <td>NaN</td>\n",
       "      <td>...</td>\n",
       "      <td>NaN</td>\n",
       "      <td>NaN</td>\n",
       "      <td>NaN</td>\n",
       "      <td>NaN</td>\n",
       "      <td>NaN</td>\n",
       "      <td>NaN</td>\n",
       "      <td>NaN</td>\n",
       "      <td>NaN</td>\n",
       "      <td>NaN</td>\n",
       "      <td>NaN</td>\n",
       "    </tr>\n",
       "    <tr>\n",
       "      <th>2195</th>\n",
       "      <td>028040</td>\n",
       "      <td>미래SCI</td>\n",
       "      <td>KOSDAQ</td>\n",
       "      <td>유통</td>\n",
       "      <td>6</td>\n",
       "      <td>-11</td>\n",
       "      <td>-64.71</td>\n",
       "      <td>269877012</td>\n",
       "      <td>NaN</td>\n",
       "      <td>NaN</td>\n",
       "      <td>...</td>\n",
       "      <td>NaN</td>\n",
       "      <td>NaN</td>\n",
       "      <td>NaN</td>\n",
       "      <td>NaN</td>\n",
       "      <td>NaN</td>\n",
       "      <td>NaN</td>\n",
       "      <td>NaN</td>\n",
       "      <td>NaN</td>\n",
       "      <td>NaN</td>\n",
       "      <td>NaN</td>\n",
       "    </tr>\n",
       "  </tbody>\n",
       "</table>\n",
       "<p>5 rows × 28 columns</p>\n",
       "</div>"
      ],
      "text/plain": [
       "        종목코드      종목명    시장구분    업종명   종가  대비    등락률        시가총액  EPS  PER  \\\n",
       "2191  121890   에스디시스템  KOSDAQ   정보기기  739   0   0.00  7101198800  NaN  NaN   \n",
       "2192  114570  지스마트글로벌  KOSDAQ    반도체  620   0   0.00  7030424280  NaN  NaN   \n",
       "2193  080440   에스제이케이  KOSDAQ     유통  498   0   0.00  6636328080  NaN  NaN   \n",
       "2194  158310   스타모빌리티  KOSDAQ  기계·장비  505   0   0.00  6096179210  NaN  NaN   \n",
       "2195  028040    미래SCI  KOSDAQ     유통    6 -11 -64.71   269877012  NaN  NaN   \n",
       "\n",
       "      ...  CMP_KOR  MKT_VAL  WGT  S_WGT CAL_WGT SEC_CD  SEC_NM_KOR SEQ TOP60  \\\n",
       "2191  ...      NaN      NaN  NaN    NaN     NaN    NaN         NaN NaN   NaN   \n",
       "2192  ...      NaN      NaN  NaN    NaN     NaN    NaN         NaN NaN   NaN   \n",
       "2193  ...      NaN      NaN  NaN    NaN     NaN    NaN         NaN NaN   NaN   \n",
       "2194  ...      NaN      NaN  NaN    NaN     NaN    NaN         NaN NaN   NaN   \n",
       "2195  ...      NaN      NaN  NaN    NaN     NaN    NaN         NaN NaN   NaN   \n",
       "\n",
       "      APT_SHR_CNT  \n",
       "2191          NaN  \n",
       "2192          NaN  \n",
       "2193          NaN  \n",
       "2194          NaN  \n",
       "2195          NaN  \n",
       "\n",
       "[5 rows x 28 columns]"
      ]
     },
     "execution_count": 3,
     "metadata": {},
     "output_type": "execute_result"
    }
   ],
   "source": [
    "data_market.tail()"
   ]
  },
  {
   "cell_type": "markdown",
   "metadata": {},
   "source": [
    "`merge()` 함수를 이용해 KOR_ticker와 KOR_sector 데이터를 합쳐줍니다. 왼쪽(KOR_ticker)의 종목코드와 종목명이 오른쪽(KOR_sector)의 CMP_CD와 CMP_KOR에 각각 대응되므로 left_on 및 right_on에 이를 입력해주며, 합치는 방법으로 left를 입력해줍니다. 소형주의 경우 KOR_sector에 해당종목의 정보가 없어, NA가 생성됩니다."
   ]
  },
  {
   "cell_type": "markdown",
   "metadata": {},
   "source": [
    "### 11.1.2 열 이름 바꾸기"
   ]
  },
  {
   "cell_type": "code",
   "execution_count": 4,
   "metadata": {},
   "outputs": [
    {
     "data": {
      "text/plain": [
       "Index(['종목코드', '종목명', '시장구분', '업종명', '종가', '대비', '등락률', '시가총액', 'EPS', 'PER',\n",
       "       'BPS', 'PBR', '주당배당금', '배당수익률', 'IDX_CD', 'IDX_NM_KOR', 'ALL_MKT_VAL',\n",
       "       'CMP_CD', 'CMP_KOR', 'MKT_VAL', 'WGT', 'S_WGT', 'CAL_WGT', 'SEC_CD',\n",
       "       'SEC_NM_KOR', 'SEQ', 'TOP60', 'APT_SHR_CNT'],\n",
       "      dtype='object')"
      ]
     },
     "execution_count": 4,
     "metadata": {},
     "output_type": "execute_result"
    }
   ],
   "source": [
    "data_market.columns"
   ]
  },
  {
   "cell_type": "markdown",
   "metadata": {},
   "source": [
    "열 이름 중에 '배당수익률'이 있습니다. 이를 '배당수익률(%)'로 바꿔주도록 하겠습니다."
   ]
  },
  {
   "cell_type": "code",
   "execution_count": 5,
   "metadata": {},
   "outputs": [
    {
     "data": {
      "text/plain": [
       "Index(['종목코드', '종목명', '시장구분', '업종명', '종가', '대비', '등락률', '시가총액', 'EPS', 'PER',\n",
       "       'BPS', 'PBR', '주당배당금', '배당수익률(%)', 'IDX_CD', 'IDX_NM_KOR',\n",
       "       'ALL_MKT_VAL', 'CMP_CD', 'CMP_KOR', 'MKT_VAL', 'WGT', 'S_WGT',\n",
       "       'CAL_WGT', 'SEC_CD', 'SEC_NM_KOR', 'SEQ', 'TOP60', 'APT_SHR_CNT'],\n",
       "      dtype='object')"
      ]
     },
     "execution_count": 5,
     "metadata": {},
     "output_type": "execute_result"
    }
   ],
   "source": [
    "data_market = data_market.rename(columns = {'배당수익률':'배당수익률(%)'})\n",
    "\n",
    "data_market.columns"
   ]
  },
  {
   "cell_type": "markdown",
   "metadata": {},
   "source": [
    "`rename()` 함수 내에 딕셔너리 형태로 {'old name':'new name'}을 입력하면 열 이름이 바뀌게 됩니다."
   ]
  },
  {
   "cell_type": "markdown",
   "metadata": {},
   "source": [
    "### 11.1.3 고유한 값 확인"
   ]
  },
  {
   "cell_type": "code",
   "execution_count": 6,
   "metadata": {},
   "outputs": [
    {
     "data": {
      "text/plain": [
       "array(['IT', '커뮤니케이션서비스', '소재', '건강관리', '경기관련소비재', '에너지', '산업재', '금융',\n",
       "       '유틸리티', '필수소비재', nan], dtype=object)"
      ]
     },
     "execution_count": 6,
     "metadata": {},
     "output_type": "execute_result"
    }
   ],
   "source": [
    "data_market['SEC_NM_KOR'].unique()"
   ]
  },
  {
   "cell_type": "markdown",
   "metadata": {},
   "source": [
    "먼저 `unique()` 함수는 해당 열의 고유한 값을 반환합니다. 데이터의 섹터 정보를 확인해보면, WICS 기준 10개 섹터 및 섹터 정보가 없는 종목인 NA 값이 있습니다."
   ]
  },
  {
   "cell_type": "code",
   "execution_count": 7,
   "metadata": {},
   "outputs": [
    {
     "data": {
      "text/plain": [
       "IT           560\n",
       "산업재          349\n",
       "경기관련소비재      336\n",
       "건강관리         273\n",
       "소재           229\n",
       "NaN          118\n",
       "커뮤니케이션서비스    111\n",
       "필수소비재         99\n",
       "금융            76\n",
       "에너지           25\n",
       "유틸리티          20\n",
       "Name: SEC_NM_KOR, dtype: int64"
      ]
     },
     "execution_count": 7,
     "metadata": {},
     "output_type": "execute_result"
    }
   ],
   "source": [
    "data_market['SEC_NM_KOR'].value_counts(dropna = False)"
   ]
  },
  {
   "cell_type": "markdown",
   "metadata": {},
   "source": [
    "`value_counts()` 함수는 고유한 값별로 개수를 세며, dropna를 False로 지정할 경우 NA 값도 포함됩니다. 우리나라 종목들의 섹터 정보를 확인해보면 IT 섹터에 포함된 종목이 압도적으로 많습니다. "
   ]
  },
  {
   "cell_type": "code",
   "execution_count": 8,
   "metadata": {},
   "outputs": [
    {
     "data": {
      "text/plain": [
       "IT           0.255009\n",
       "산업재          0.158925\n",
       "경기관련소비재      0.153005\n",
       "건강관리         0.124317\n",
       "소재           0.104281\n",
       "NaN          0.053734\n",
       "커뮤니케이션서비스    0.050546\n",
       "필수소비재        0.045082\n",
       "금융           0.034608\n",
       "에너지          0.011384\n",
       "유틸리티         0.009107\n",
       "Name: SEC_NM_KOR, dtype: float64"
      ]
     },
     "execution_count": 8,
     "metadata": {},
     "output_type": "execute_result"
    }
   ],
   "source": [
    "data_market['SEC_NM_KOR'].value_counts(normalize = True, dropna = False)"
   ]
  },
  {
   "cell_type": "markdown",
   "metadata": {},
   "source": [
    "normalize를 True로 지정하면, 값들이 비율로 계산됩니다. "
   ]
  },
  {
   "cell_type": "markdown",
   "metadata": {},
   "source": [
    "### 11.1.4 열 만들기"
   ]
  },
  {
   "cell_type": "markdown",
   "metadata": {},
   "source": [
    "기존에 존재하는 데이터를 통해 새로운 열을 만들어 보도록 하겠습니다. 먼저, PBR과 PER의 관계를 이용하면 ROE를 계산할 수 있습니다.\n",
    "\n",
    "$$ \\frac{PBR}{PER} = \\frac{\\frac{Price}{BPS}}{\\frac{Price}{EPS}} = \\frac{Price\\ \\times\\ EPS}{Price\\ \\times\\ BPS} = \\frac{EPS}{BPS} = ROE$$\n",
    "\n",
    "또한 시가총액에 중앙값(median)보다 위면 대형주, 낮으면 소형주로 구분할 수 있습니다. 이를 이용해 ROE 및 size 열을 생성하도록 하겠습니다."
   ]
  },
  {
   "cell_type": "code",
   "execution_count": 9,
   "metadata": {},
   "outputs": [
    {
     "data": {
      "text/html": [
       "<div>\n",
       "<style scoped>\n",
       "    .dataframe tbody tr th:only-of-type {\n",
       "        vertical-align: middle;\n",
       "    }\n",
       "\n",
       "    .dataframe tbody tr th {\n",
       "        vertical-align: top;\n",
       "    }\n",
       "\n",
       "    .dataframe thead th {\n",
       "        text-align: right;\n",
       "    }\n",
       "</style>\n",
       "<table border=\"1\" class=\"dataframe\">\n",
       "  <thead>\n",
       "    <tr style=\"text-align: right;\">\n",
       "      <th></th>\n",
       "      <th>종목명</th>\n",
       "      <th>ROE</th>\n",
       "      <th>size</th>\n",
       "    </tr>\n",
       "  </thead>\n",
       "  <tbody>\n",
       "    <tr>\n",
       "      <th>0</th>\n",
       "      <td>삼성전자</td>\n",
       "      <td>0.084475</td>\n",
       "      <td>big</td>\n",
       "    </tr>\n",
       "    <tr>\n",
       "      <th>1</th>\n",
       "      <td>SK하이닉스</td>\n",
       "      <td>0.044735</td>\n",
       "      <td>big</td>\n",
       "    </tr>\n",
       "    <tr>\n",
       "      <th>2</th>\n",
       "      <td>NAVER</td>\n",
       "      <td>0.113686</td>\n",
       "      <td>big</td>\n",
       "    </tr>\n",
       "    <tr>\n",
       "      <th>3</th>\n",
       "      <td>LG화학</td>\n",
       "      <td>0.018800</td>\n",
       "      <td>big</td>\n",
       "    </tr>\n",
       "    <tr>\n",
       "      <th>4</th>\n",
       "      <td>삼성바이오로직스</td>\n",
       "      <td>0.046594</td>\n",
       "      <td>big</td>\n",
       "    </tr>\n",
       "  </tbody>\n",
       "</table>\n",
       "</div>"
      ],
      "text/plain": [
       "        종목명       ROE size\n",
       "0      삼성전자  0.084475  big\n",
       "1    SK하이닉스  0.044735  big\n",
       "2     NAVER  0.113686  big\n",
       "3      LG화학  0.018800  big\n",
       "4  삼성바이오로직스  0.046594  big"
      ]
     },
     "execution_count": 9,
     "metadata": {},
     "output_type": "execute_result"
    }
   ],
   "source": [
    "data_market['ROE'] = data_market['PBR'] / data_market['PER']\n",
    "data_market['size'] = np.where(data_market['시가총액'] >= data_market['시가총액'].median(), 'big', 'small')\n",
    "\n",
    "data_market.loc[:, ['종목명', 'ROE', 'size']].head()"
   ]
  },
  {
   "cell_type": "markdown",
   "metadata": {},
   "source": [
    "먼저 PBR을 PER로 나눈 ROE에 해당하는 열을 만들어 줍니다. 그 후, numpy의 `where()` 함수를 통해 시가총액이 median 보다 크면 big, 아니면 small에 해당하는 size 열을 만들어 줍니다."
   ]
  },
  {
   "cell_type": "markdown",
   "metadata": {},
   "source": [
    "### 11.1.5 조건을 충족하는 종목 선택"
   ]
  },
  {
   "cell_type": "markdown",
   "metadata": {},
   "source": [
    "필터를 이용해 내가 원하는 조건에 해당하는 종목을 선택할 수도 있습니다. 먼저 PBR이 1 미만인 기업을 선택해보겠습니다."
   ]
  },
  {
   "cell_type": "code",
   "execution_count": 10,
   "metadata": {},
   "outputs": [
    {
     "data": {
      "text/html": [
       "<div>\n",
       "<style scoped>\n",
       "    .dataframe tbody tr th:only-of-type {\n",
       "        vertical-align: middle;\n",
       "    }\n",
       "\n",
       "    .dataframe tbody tr th {\n",
       "        vertical-align: top;\n",
       "    }\n",
       "\n",
       "    .dataframe thead th {\n",
       "        text-align: right;\n",
       "    }\n",
       "</style>\n",
       "<table border=\"1\" class=\"dataframe\">\n",
       "  <thead>\n",
       "    <tr style=\"text-align: right;\">\n",
       "      <th></th>\n",
       "      <th>종목명</th>\n",
       "      <th>PBR</th>\n",
       "    </tr>\n",
       "  </thead>\n",
       "  <tbody>\n",
       "    <tr>\n",
       "      <th>6</th>\n",
       "      <td>현대차</td>\n",
       "      <td>0.89</td>\n",
       "    </tr>\n",
       "    <tr>\n",
       "      <th>10</th>\n",
       "      <td>POSCO</td>\n",
       "      <td>0.65</td>\n",
       "    </tr>\n",
       "    <tr>\n",
       "      <th>11</th>\n",
       "      <td>현대모비스</td>\n",
       "      <td>0.89</td>\n",
       "    </tr>\n",
       "    <tr>\n",
       "      <th>17</th>\n",
       "      <td>KB금융</td>\n",
       "      <td>0.58</td>\n",
       "    </tr>\n",
       "    <tr>\n",
       "      <th>21</th>\n",
       "      <td>신한지주</td>\n",
       "      <td>0.47</td>\n",
       "    </tr>\n",
       "  </tbody>\n",
       "</table>\n",
       "</div>"
      ],
      "text/plain": [
       "      종목명   PBR\n",
       "6     현대차  0.89\n",
       "10  POSCO  0.65\n",
       "11  현대모비스  0.89\n",
       "17   KB금융  0.58\n",
       "21   신한지주  0.47"
      ]
     },
     "execution_count": 10,
     "metadata": {},
     "output_type": "execute_result"
    }
   ],
   "source": [
    "data_market.loc[data_market.PBR < 1, ['종목명', 'PBR']].head()"
   ]
  },
  {
   "cell_type": "markdown",
   "metadata": {},
   "source": [
    "이번에는 PBR 1 미만, PER 20 미만, ROE 10% 초과인 기업을 선택해보겠습니다."
   ]
  },
  {
   "cell_type": "code",
   "execution_count": 11,
   "metadata": {},
   "outputs": [
    {
     "data": {
      "text/html": [
       "<div>\n",
       "<style scoped>\n",
       "    .dataframe tbody tr th:only-of-type {\n",
       "        vertical-align: middle;\n",
       "    }\n",
       "\n",
       "    .dataframe tbody tr th {\n",
       "        vertical-align: top;\n",
       "    }\n",
       "\n",
       "    .dataframe thead th {\n",
       "        text-align: right;\n",
       "    }\n",
       "</style>\n",
       "<table border=\"1\" class=\"dataframe\">\n",
       "  <thead>\n",
       "    <tr style=\"text-align: right;\">\n",
       "      <th></th>\n",
       "      <th>종목명</th>\n",
       "      <th>PBR</th>\n",
       "      <th>PER</th>\n",
       "      <th>ROE</th>\n",
       "    </tr>\n",
       "  </thead>\n",
       "  <tbody>\n",
       "    <tr>\n",
       "      <th>80</th>\n",
       "      <td>GS건설</td>\n",
       "      <td>0.90</td>\n",
       "      <td>8.01</td>\n",
       "      <td>0.112360</td>\n",
       "    </tr>\n",
       "    <tr>\n",
       "      <th>103</th>\n",
       "      <td>메리츠증권</td>\n",
       "      <td>0.81</td>\n",
       "      <td>4.98</td>\n",
       "      <td>0.162651</td>\n",
       "    </tr>\n",
       "    <tr>\n",
       "      <th>116</th>\n",
       "      <td>신세계</td>\n",
       "      <td>0.70</td>\n",
       "      <td>5.32</td>\n",
       "      <td>0.131579</td>\n",
       "    </tr>\n",
       "    <tr>\n",
       "      <th>137</th>\n",
       "      <td>두산인프라코어</td>\n",
       "      <td>0.99</td>\n",
       "      <td>9.15</td>\n",
       "      <td>0.108197</td>\n",
       "    </tr>\n",
       "    <tr>\n",
       "      <th>140</th>\n",
       "      <td>메리츠화재</td>\n",
       "      <td>0.87</td>\n",
       "      <td>6.89</td>\n",
       "      <td>0.126270</td>\n",
       "    </tr>\n",
       "  </tbody>\n",
       "</table>\n",
       "</div>"
      ],
      "text/plain": [
       "         종목명   PBR   PER       ROE\n",
       "80      GS건설  0.90  8.01  0.112360\n",
       "103    메리츠증권  0.81  4.98  0.162651\n",
       "116      신세계  0.70  5.32  0.131579\n",
       "137  두산인프라코어  0.99  9.15  0.108197\n",
       "140    메리츠화재  0.87  6.89  0.126270"
      ]
     },
     "execution_count": 11,
     "metadata": {},
     "output_type": "execute_result"
    }
   ],
   "source": [
    "data_market.loc[(data_market.PBR < 1) & (data_market.PER < 20) & (data_market.ROE > 0.1), ['종목명', 'PBR', 'PER', 'ROE']].head()"
   ]
  },
  {
   "cell_type": "markdown",
   "metadata": {},
   "source": [
    "이러한 필터 조건을 통해 간단하게 종목을 스크리닝 할 수도 있습니다."
   ]
  },
  {
   "cell_type": "markdown",
   "metadata": {},
   "source": [
    "### 11.1.6 요약 통계량"
   ]
  },
  {
   "cell_type": "code",
   "execution_count": 12,
   "metadata": {},
   "outputs": [
    {
     "data": {
      "text/html": [
       "<div>\n",
       "<style scoped>\n",
       "    .dataframe tbody tr th:only-of-type {\n",
       "        vertical-align: middle;\n",
       "    }\n",
       "\n",
       "    .dataframe tbody tr th {\n",
       "        vertical-align: top;\n",
       "    }\n",
       "\n",
       "    .dataframe thead th {\n",
       "        text-align: right;\n",
       "    }\n",
       "</style>\n",
       "<table border=\"1\" class=\"dataframe\">\n",
       "  <thead>\n",
       "    <tr style=\"text-align: right;\">\n",
       "      <th></th>\n",
       "      <th>PBR</th>\n",
       "      <th>ROE</th>\n",
       "    </tr>\n",
       "  </thead>\n",
       "  <tbody>\n",
       "    <tr>\n",
       "      <th>count</th>\n",
       "      <td>2161.000000</td>\n",
       "      <td>1419.000000</td>\n",
       "    </tr>\n",
       "    <tr>\n",
       "      <th>mean</th>\n",
       "      <td>4.102582</td>\n",
       "      <td>0.099866</td>\n",
       "    </tr>\n",
       "    <tr>\n",
       "      <th>std</th>\n",
       "      <td>19.260562</td>\n",
       "      <td>0.157896</td>\n",
       "    </tr>\n",
       "    <tr>\n",
       "      <th>min</th>\n",
       "      <td>0.020000</td>\n",
       "      <td>0.000088</td>\n",
       "    </tr>\n",
       "    <tr>\n",
       "      <th>25%</th>\n",
       "      <td>0.900000</td>\n",
       "      <td>0.035265</td>\n",
       "    </tr>\n",
       "    <tr>\n",
       "      <th>50%</th>\n",
       "      <td>1.670000</td>\n",
       "      <td>0.071669</td>\n",
       "    </tr>\n",
       "    <tr>\n",
       "      <th>75%</th>\n",
       "      <td>3.300000</td>\n",
       "      <td>0.126348</td>\n",
       "    </tr>\n",
       "    <tr>\n",
       "      <th>max</th>\n",
       "      <td>686.210000</td>\n",
       "      <td>4.414634</td>\n",
       "    </tr>\n",
       "  </tbody>\n",
       "</table>\n",
       "</div>"
      ],
      "text/plain": [
       "               PBR          ROE\n",
       "count  2161.000000  1419.000000\n",
       "mean      4.102582     0.099866\n",
       "std      19.260562     0.157896\n",
       "min       0.020000     0.000088\n",
       "25%       0.900000     0.035265\n",
       "50%       1.670000     0.071669\n",
       "75%       3.300000     0.126348\n",
       "max     686.210000     4.414634"
      ]
     },
     "execution_count": 12,
     "metadata": {},
     "output_type": "execute_result"
    }
   ],
   "source": [
    "data_market[['PBR', 'ROE']].describe()"
   ]
  },
  {
   "cell_type": "markdown",
   "metadata": {},
   "source": [
    "`describe()` 함수는 요약 통계량을 계산해줍니다. 국내 종목의 PBR를 확인해보면 0에 가까운 극단적인 저PBR 종목부터, 수백에 해당하는 극단적인 고PBR 종목까지 분포하고 있습니다. ROE 역시 저ROE 부터 고ROE 까지 그 차이가 매우 크며, PBR과 ROE의 갯수(count)가 다른 이유는 PER가 없는 종목(적자 종목)의 경우 ROE가 NA로 계산되기 때문입니다."
   ]
  },
  {
   "cell_type": "markdown",
   "metadata": {},
   "source": [
    "### 11.1.7 데이터 정렬"
   ]
  },
  {
   "cell_type": "code",
   "execution_count": 13,
   "metadata": {},
   "outputs": [
    {
     "data": {
      "text/html": [
       "<div>\n",
       "<style scoped>\n",
       "    .dataframe tbody tr th:only-of-type {\n",
       "        vertical-align: middle;\n",
       "    }\n",
       "\n",
       "    .dataframe tbody tr th {\n",
       "        vertical-align: top;\n",
       "    }\n",
       "\n",
       "    .dataframe thead th {\n",
       "        text-align: right;\n",
       "    }\n",
       "</style>\n",
       "<table border=\"1\" class=\"dataframe\">\n",
       "  <thead>\n",
       "    <tr style=\"text-align: right;\">\n",
       "      <th></th>\n",
       "      <th>종목명</th>\n",
       "      <th>PBR</th>\n",
       "    </tr>\n",
       "  </thead>\n",
       "  <tbody>\n",
       "    <tr>\n",
       "      <th>2195</th>\n",
       "      <td>미래SCI</td>\n",
       "      <td>0.02</td>\n",
       "    </tr>\n",
       "    <tr>\n",
       "      <th>2192</th>\n",
       "      <td>지스마트글로벌</td>\n",
       "      <td>0.15</td>\n",
       "    </tr>\n",
       "    <tr>\n",
       "      <th>627</th>\n",
       "      <td>세아홀딩스</td>\n",
       "      <td>0.18</td>\n",
       "    </tr>\n",
       "    <tr>\n",
       "      <th>2188</th>\n",
       "      <td>럭슬</td>\n",
       "      <td>0.18</td>\n",
       "    </tr>\n",
       "    <tr>\n",
       "      <th>1767</th>\n",
       "      <td>세원정공</td>\n",
       "      <td>0.19</td>\n",
       "    </tr>\n",
       "  </tbody>\n",
       "</table>\n",
       "</div>"
      ],
      "text/plain": [
       "          종목명   PBR\n",
       "2195    미래SCI  0.02\n",
       "2192  지스마트글로벌  0.15\n",
       "627     세아홀딩스  0.18\n",
       "2188       럭슬  0.18\n",
       "1767     세원정공  0.19"
      ]
     },
     "execution_count": 13,
     "metadata": {},
     "output_type": "execute_result"
    }
   ],
   "source": [
    "data_market.loc[:, ['종목명', 'PBR']].sort_values('PBR').head()"
   ]
  },
  {
   "cell_type": "markdown",
   "metadata": {},
   "source": [
    "`sort_values()` 함수는 선택한 열을 기준으로 데이터를 정렬해주며, 기본적으로 오름차순(ascending)으로 정렬을 해줍니다."
   ]
  },
  {
   "cell_type": "code",
   "execution_count": 14,
   "metadata": {},
   "outputs": [
    {
     "data": {
      "text/html": [
       "<div>\n",
       "<style scoped>\n",
       "    .dataframe tbody tr th:only-of-type {\n",
       "        vertical-align: middle;\n",
       "    }\n",
       "\n",
       "    .dataframe tbody tr th {\n",
       "        vertical-align: top;\n",
       "    }\n",
       "\n",
       "    .dataframe thead th {\n",
       "        text-align: right;\n",
       "    }\n",
       "</style>\n",
       "<table border=\"1\" class=\"dataframe\">\n",
       "  <thead>\n",
       "    <tr style=\"text-align: right;\">\n",
       "      <th></th>\n",
       "      <th>종목명</th>\n",
       "      <th>ROE</th>\n",
       "    </tr>\n",
       "  </thead>\n",
       "  <tbody>\n",
       "    <tr>\n",
       "      <th>2129</th>\n",
       "      <td>이엠앤아이</td>\n",
       "      <td>4.414634</td>\n",
       "    </tr>\n",
       "    <tr>\n",
       "      <th>372</th>\n",
       "      <td>한진중공업</td>\n",
       "      <td>1.754967</td>\n",
       "    </tr>\n",
       "    <tr>\n",
       "      <th>1278</th>\n",
       "      <td>제노코</td>\n",
       "      <td>1.746517</td>\n",
       "    </tr>\n",
       "    <tr>\n",
       "      <th>865</th>\n",
       "      <td>유일에너테크</td>\n",
       "      <td>0.830023</td>\n",
       "    </tr>\n",
       "    <tr>\n",
       "      <th>1023</th>\n",
       "      <td>양지사</td>\n",
       "      <td>0.741007</td>\n",
       "    </tr>\n",
       "  </tbody>\n",
       "</table>\n",
       "</div>"
      ],
      "text/plain": [
       "         종목명       ROE\n",
       "2129   이엠앤아이  4.414634\n",
       "372    한진중공업  1.754967\n",
       "1278     제노코  1.746517\n",
       "865   유일에너테크  0.830023\n",
       "1023     양지사  0.741007"
      ]
     },
     "execution_count": 14,
     "metadata": {},
     "output_type": "execute_result"
    }
   ],
   "source": [
    "data_market.loc[:, ['종목명', 'ROE']].sort_values('ROE', ascending=False).head()"
   ]
  },
  {
   "cell_type": "markdown",
   "metadata": {},
   "source": [
    "만일 내림차순으로 정렬을 원할 경우, ascending=False 를 입력해주면 됩니다."
   ]
  },
  {
   "cell_type": "markdown",
   "metadata": {},
   "source": [
    "### 11.1.8 순위 계산"
   ]
  },
  {
   "cell_type": "code",
   "execution_count": 15,
   "metadata": {},
   "outputs": [
    {
     "data": {
      "text/html": [
       "<div>\n",
       "<style scoped>\n",
       "    .dataframe tbody tr th:only-of-type {\n",
       "        vertical-align: middle;\n",
       "    }\n",
       "\n",
       "    .dataframe tbody tr th {\n",
       "        vertical-align: top;\n",
       "    }\n",
       "\n",
       "    .dataframe thead th {\n",
       "        text-align: right;\n",
       "    }\n",
       "</style>\n",
       "<table border=\"1\" class=\"dataframe\">\n",
       "  <thead>\n",
       "    <tr style=\"text-align: right;\">\n",
       "      <th></th>\n",
       "      <th>종목명</th>\n",
       "      <th>PBR</th>\n",
       "      <th>PBR_rank</th>\n",
       "    </tr>\n",
       "  </thead>\n",
       "  <tbody>\n",
       "    <tr>\n",
       "      <th>2195</th>\n",
       "      <td>미래SCI</td>\n",
       "      <td>0.02</td>\n",
       "      <td>1.0</td>\n",
       "    </tr>\n",
       "    <tr>\n",
       "      <th>2192</th>\n",
       "      <td>지스마트글로벌</td>\n",
       "      <td>0.15</td>\n",
       "      <td>2.0</td>\n",
       "    </tr>\n",
       "    <tr>\n",
       "      <th>627</th>\n",
       "      <td>세아홀딩스</td>\n",
       "      <td>0.18</td>\n",
       "      <td>3.0</td>\n",
       "    </tr>\n",
       "    <tr>\n",
       "      <th>2188</th>\n",
       "      <td>럭슬</td>\n",
       "      <td>0.18</td>\n",
       "      <td>4.0</td>\n",
       "    </tr>\n",
       "    <tr>\n",
       "      <th>1767</th>\n",
       "      <td>세원정공</td>\n",
       "      <td>0.19</td>\n",
       "      <td>5.0</td>\n",
       "    </tr>\n",
       "  </tbody>\n",
       "</table>\n",
       "</div>"
      ],
      "text/plain": [
       "          종목명   PBR  PBR_rank\n",
       "2195    미래SCI  0.02       1.0\n",
       "2192  지스마트글로벌  0.15       2.0\n",
       "627     세아홀딩스  0.18       3.0\n",
       "2188       럭슬  0.18       4.0\n",
       "1767     세원정공  0.19       5.0"
      ]
     },
     "execution_count": 15,
     "metadata": {},
     "output_type": "execute_result"
    }
   ],
   "source": [
    "data_market['PBR_rank'] = data_market['PBR'].rank(method = 'first')\n",
    "data_market.loc[:, ['종목명', 'PBR', 'PBR_rank']].sort_values('PBR_rank').head()"
   ]
  },
  {
   "cell_type": "markdown",
   "metadata": {},
   "source": [
    "`rank()` 함수는 선택한 열의 순위를 구해줍니다. 기본적으로 오름차순으로 순위를 구하며, method 인자를 first로 입력하면 동점이 존재할 경우 데이터 상에서 먼저 나타나는 관측치부터 순위를 부여합니다."
   ]
  },
  {
   "cell_type": "code",
   "execution_count": 16,
   "metadata": {},
   "outputs": [
    {
     "data": {
      "text/html": [
       "<div>\n",
       "<style scoped>\n",
       "    .dataframe tbody tr th:only-of-type {\n",
       "        vertical-align: middle;\n",
       "    }\n",
       "\n",
       "    .dataframe tbody tr th {\n",
       "        vertical-align: top;\n",
       "    }\n",
       "\n",
       "    .dataframe thead th {\n",
       "        text-align: right;\n",
       "    }\n",
       "</style>\n",
       "<table border=\"1\" class=\"dataframe\">\n",
       "  <thead>\n",
       "    <tr style=\"text-align: right;\">\n",
       "      <th></th>\n",
       "      <th>종목명</th>\n",
       "      <th>ROE</th>\n",
       "      <th>ROE_rank</th>\n",
       "    </tr>\n",
       "  </thead>\n",
       "  <tbody>\n",
       "    <tr>\n",
       "      <th>2129</th>\n",
       "      <td>이엠앤아이</td>\n",
       "      <td>4.414634</td>\n",
       "      <td>1.0</td>\n",
       "    </tr>\n",
       "    <tr>\n",
       "      <th>372</th>\n",
       "      <td>한진중공업</td>\n",
       "      <td>1.754967</td>\n",
       "      <td>2.0</td>\n",
       "    </tr>\n",
       "    <tr>\n",
       "      <th>1278</th>\n",
       "      <td>제노코</td>\n",
       "      <td>1.746517</td>\n",
       "      <td>3.0</td>\n",
       "    </tr>\n",
       "    <tr>\n",
       "      <th>865</th>\n",
       "      <td>유일에너테크</td>\n",
       "      <td>0.830023</td>\n",
       "      <td>4.0</td>\n",
       "    </tr>\n",
       "    <tr>\n",
       "      <th>1023</th>\n",
       "      <td>양지사</td>\n",
       "      <td>0.741007</td>\n",
       "      <td>5.0</td>\n",
       "    </tr>\n",
       "  </tbody>\n",
       "</table>\n",
       "</div>"
      ],
      "text/plain": [
       "         종목명       ROE  ROE_rank\n",
       "2129   이엠앤아이  4.414634       1.0\n",
       "372    한진중공업  1.754967       2.0\n",
       "1278     제노코  1.746517       3.0\n",
       "865   유일에너테크  0.830023       4.0\n",
       "1023     양지사  0.741007       5.0"
      ]
     },
     "execution_count": 16,
     "metadata": {},
     "output_type": "execute_result"
    }
   ],
   "source": [
    "data_market['ROE_rank'] = data_market['ROE'].rank(ascending = False)\n",
    "data_market.loc[:, ['종목명', 'ROE', 'ROE_rank']].sort_values('ROE_rank').head()"
   ]
  },
  {
   "cell_type": "markdown",
   "metadata": {},
   "source": [
    "만일 내림차순으로 순위를 계산하고자 할 경우, 역시나 ascending = False 를 추가로 입력해줍니다."
   ]
  },
  {
   "cell_type": "markdown",
   "metadata": {},
   "source": [
    "### 11.1.9 분위수 계산"
   ]
  },
  {
   "cell_type": "code",
   "execution_count": 17,
   "metadata": {},
   "outputs": [
    {
     "data": {
      "text/html": [
       "<div>\n",
       "<style scoped>\n",
       "    .dataframe tbody tr th:only-of-type {\n",
       "        vertical-align: middle;\n",
       "    }\n",
       "\n",
       "    .dataframe tbody tr th {\n",
       "        vertical-align: top;\n",
       "    }\n",
       "\n",
       "    .dataframe thead th {\n",
       "        text-align: right;\n",
       "    }\n",
       "</style>\n",
       "<table border=\"1\" class=\"dataframe\">\n",
       "  <thead>\n",
       "    <tr style=\"text-align: right;\">\n",
       "      <th></th>\n",
       "      <th>종목명</th>\n",
       "      <th>PBR</th>\n",
       "      <th>quantile</th>\n",
       "    </tr>\n",
       "  </thead>\n",
       "  <tbody>\n",
       "    <tr>\n",
       "      <th>0</th>\n",
       "      <td>삼성전자</td>\n",
       "      <td>2.22</td>\n",
       "      <td>4</td>\n",
       "    </tr>\n",
       "    <tr>\n",
       "      <th>1</th>\n",
       "      <td>SK하이닉스</td>\n",
       "      <td>2.09</td>\n",
       "      <td>3</td>\n",
       "    </tr>\n",
       "    <tr>\n",
       "      <th>2</th>\n",
       "      <td>NAVER</td>\n",
       "      <td>10.94</td>\n",
       "      <td>5</td>\n",
       "    </tr>\n",
       "    <tr>\n",
       "      <th>3</th>\n",
       "      <td>LG화학</td>\n",
       "      <td>3.76</td>\n",
       "      <td>4</td>\n",
       "    </tr>\n",
       "    <tr>\n",
       "      <th>4</th>\n",
       "      <td>삼성바이오로직스</td>\n",
       "      <td>11.88</td>\n",
       "      <td>5</td>\n",
       "    </tr>\n",
       "  </tbody>\n",
       "</table>\n",
       "</div>"
      ],
      "text/plain": [
       "        종목명    PBR quantile\n",
       "0      삼성전자   2.22        4\n",
       "1    SK하이닉스   2.09        3\n",
       "2     NAVER  10.94        5\n",
       "3      LG화학   3.76        4\n",
       "4  삼성바이오로직스  11.88        5"
      ]
     },
     "execution_count": 17,
     "metadata": {},
     "output_type": "execute_result"
    }
   ],
   "source": [
    "data_market['quantile'] = pd.qcut(data_market['PBR'], q = 5, labels = range(1, 6))\n",
    "\n",
    "data_market.loc[:, ['종목명', 'PBR', 'quantile']].head()"
   ]
  },
  {
   "cell_type": "markdown",
   "metadata": {},
   "source": [
    "`qcut()` 함수는 분위수를 계산해주며, q 인자를 통해 몇 분위로 나눌지 선택할 수 있습니다. 추가적으로 labels 인자를 입력하면 반환된 구간들에 대한 레이블을 명시합니다.해당 함수 역시 오름차순으로 분위수를 나눕니다."
   ]
  },
  {
   "cell_type": "markdown",
   "metadata": {},
   "source": [
    "### 11.1.10 그룹별 계산"
   ]
  },
  {
   "cell_type": "code",
   "execution_count": 18,
   "metadata": {},
   "outputs": [
    {
     "data": {
      "text/plain": [
       "SEC_NM_KOR\n",
       "IT           2.140\n",
       "건강관리         3.650\n",
       "경기관련소비재      1.280\n",
       "금융           0.770\n",
       "산업재          1.215\n",
       "소재           1.125\n",
       "에너지          1.220\n",
       "유틸리티         0.535\n",
       "커뮤니케이션서비스    2.530\n",
       "필수소비재        1.070\n",
       "Name: PBR, dtype: float64"
      ]
     },
     "execution_count": 18,
     "metadata": {},
     "output_type": "execute_result"
    }
   ],
   "source": [
    "data_market.groupby('SEC_NM_KOR')['PBR'].median()"
   ]
  },
  {
   "cell_type": "markdown",
   "metadata": {},
   "source": [
    "`groupby()` 함수는 선택한 열 중 동일한 데이터를 기준으로 데이터를 묶어줍니다. 위 예제에서는 섹터를 나타내는 SEC_NM_KOR 기준으로 데이터를 묶었으며, 각 섹터별 PBR의 median 값을 계산하였습니다."
   ]
  },
  {
   "cell_type": "code",
   "execution_count": 19,
   "metadata": {},
   "outputs": [
    {
     "data": {
      "text/plain": [
       "시장구분    SEC_NM_KOR\n",
       "KOSDAQ  IT            2.170\n",
       "        건강관리          4.300\n",
       "        경기관련소비재       1.660\n",
       "        금융            2.170\n",
       "        산업재           1.480\n",
       "        소재            1.650\n",
       "        에너지           1.680\n",
       "        유틸리티          0.960\n",
       "        커뮤니케이션서비스     2.960\n",
       "        필수소비재         1.545\n",
       "KOSPI   IT            1.740\n",
       "        건강관리          2.380\n",
       "        경기관련소비재       0.910\n",
       "        금융            0.585\n",
       "        산업재           1.030\n",
       "        소재            0.965\n",
       "        에너지           0.720\n",
       "        유틸리티          0.480\n",
       "        커뮤니케이션서비스     1.865\n",
       "        필수소비재         0.950\n",
       "Name: PBR, dtype: float64"
      ]
     },
     "execution_count": 19,
     "metadata": {},
     "output_type": "execute_result"
    }
   ],
   "source": [
    "data_market.groupby(['시장구분', 'SEC_NM_KOR'])['PBR'].median()"
   ]
  },
  {
   "cell_type": "markdown",
   "metadata": {},
   "source": [
    "이번에는 예제는 시장과 섹터를 기준으로 데이터를 그룹화한 후 각 그룹별 PBR의 중앙값을 구했습니다. 이처럼 그룹은 하나만이 아닌 원하는 만큼 나눌 수 있습니다."
   ]
  },
  {
   "cell_type": "markdown",
   "metadata": {},
   "source": [
    "### 11.1.11 피벗 테이블"
   ]
  },
  {
   "cell_type": "code",
   "execution_count": 20,
   "metadata": {},
   "outputs": [
    {
     "data": {
      "text/html": [
       "<div>\n",
       "<style scoped>\n",
       "    .dataframe tbody tr th:only-of-type {\n",
       "        vertical-align: middle;\n",
       "    }\n",
       "\n",
       "    .dataframe tbody tr th {\n",
       "        vertical-align: top;\n",
       "    }\n",
       "\n",
       "    .dataframe thead th {\n",
       "        text-align: right;\n",
       "    }\n",
       "</style>\n",
       "<table border=\"1\" class=\"dataframe\">\n",
       "  <thead>\n",
       "    <tr style=\"text-align: right;\">\n",
       "      <th>시장구분</th>\n",
       "      <th>KOSDAQ</th>\n",
       "      <th>KOSPI</th>\n",
       "    </tr>\n",
       "    <tr>\n",
       "      <th>SEC_NM_KOR</th>\n",
       "      <th></th>\n",
       "      <th></th>\n",
       "    </tr>\n",
       "  </thead>\n",
       "  <tbody>\n",
       "    <tr>\n",
       "      <th>IT</th>\n",
       "      <td>0.00</td>\n",
       "      <td>0.145</td>\n",
       "    </tr>\n",
       "    <tr>\n",
       "      <th>건강관리</th>\n",
       "      <td>0.00</td>\n",
       "      <td>0.460</td>\n",
       "    </tr>\n",
       "    <tr>\n",
       "      <th>경기관련소비재</th>\n",
       "      <td>0.00</td>\n",
       "      <td>0.840</td>\n",
       "    </tr>\n",
       "    <tr>\n",
       "      <th>금융</th>\n",
       "      <td>0.80</td>\n",
       "      <td>4.055</td>\n",
       "    </tr>\n",
       "    <tr>\n",
       "      <th>산업재</th>\n",
       "      <td>0.00</td>\n",
       "      <td>0.975</td>\n",
       "    </tr>\n",
       "    <tr>\n",
       "      <th>소재</th>\n",
       "      <td>0.39</td>\n",
       "      <td>1.045</td>\n",
       "    </tr>\n",
       "    <tr>\n",
       "      <th>에너지</th>\n",
       "      <td>0.00</td>\n",
       "      <td>1.215</td>\n",
       "    </tr>\n",
       "    <tr>\n",
       "      <th>유틸리티</th>\n",
       "      <td>1.71</td>\n",
       "      <td>2.910</td>\n",
       "    </tr>\n",
       "    <tr>\n",
       "      <th>커뮤니케이션서비스</th>\n",
       "      <td>0.00</td>\n",
       "      <td>0.020</td>\n",
       "    </tr>\n",
       "    <tr>\n",
       "      <th>필수소비재</th>\n",
       "      <td>0.43</td>\n",
       "      <td>0.940</td>\n",
       "    </tr>\n",
       "  </tbody>\n",
       "</table>\n",
       "</div>"
      ],
      "text/plain": [
       "시장구분        KOSDAQ  KOSPI\n",
       "SEC_NM_KOR               \n",
       "IT            0.00  0.145\n",
       "건강관리          0.00  0.460\n",
       "경기관련소비재       0.00  0.840\n",
       "금융            0.80  4.055\n",
       "산업재           0.00  0.975\n",
       "소재            0.39  1.045\n",
       "에너지           0.00  1.215\n",
       "유틸리티          1.71  2.910\n",
       "커뮤니케이션서비스     0.00  0.020\n",
       "필수소비재         0.43  0.940"
      ]
     },
     "execution_count": 20,
     "metadata": {},
     "output_type": "execute_result"
    }
   ],
   "source": [
    "pd.pivot_table(\n",
    "    data_market,              # 데이터프레임\n",
    "    index = 'SEC_NM_KOR',     # 행에 들어갈 열\n",
    "    columns = '시장구분',     # 열에 들어갈 열\n",
    "    values = '배당수익률(%)', # 데이터로 사용할 열\n",
    "    aggfunc = 'median'        # 데이터 집계 함수\n",
    ")"
   ]
  },
  {
   "cell_type": "markdown",
   "metadata": {},
   "source": [
    "`pivot_table()` 함수는 엑셀의 피벗테이블과 비슷한 기능을 합니다. 행 인덱스, 열 인덱스, 데이터 값, 데이터 집계함수를 입력하면 이에 해당하는 피벗 테이블이 계산됩니다. 위의 예제는 각 시장과 섹터 별 배당수익률의 중앙값을 계산하였습니다."
   ]
  },
  {
   "cell_type": "markdown",
   "metadata": {},
   "source": [
    "## 11.2 종목정보 시각화"
   ]
  },
  {
   "cell_type": "markdown",
   "metadata": {},
   "source": [
    "파이썬에서 사용되는 대표적인 시각화 패키지는 Matplotlib 이며, 이를 이용해 다양한 시각화를 구현할 수 있습니다.\n",
    "\n",
    "```\n",
    "https://matplotlib.org/stable/gallery/style_sheets/style_sheets_reference.html\n",
    "```\n",
    "\n",
    "그러나 pandas 패키지에는 Matplotlib의 기능이 일부 내장되어 있기 때문에, 이를 이용하면 훨씬 간단하게 그래프를 그릴 수 있습니다. pandas의 시각화에 대한 메뉴얼은 아래 사이트에 자세히 나와 있습니다.\n",
    "\n",
    "```\n",
    "https://pandas.pydata.org/pandas-docs/stable/user_guide/visualization.html\n",
    "```\n",
    "\n",
    "이 외에도 다소 복잡한 그래프는 searborn 패키지를 사용하는 것이 훨씬 효율적입니다. 이를 바탕으로 각종 종목정보를 시각화하도록 하겠습니다."
   ]
  },
  {
   "cell_type": "markdown",
   "metadata": {},
   "source": [
    "### 11.2.1 산점도 나타내기"
   ]
  },
  {
   "cell_type": "code",
   "execution_count": 21,
   "metadata": {},
   "outputs": [
    {
     "data": {
      "image/png": "[encoded data removed]",
      "text/plain": [
       "<Figure size 720x432 with 1 Axes>"
      ]
     },
     "metadata": {
      "needs_background": "light"
     },
     "output_type": "display_data"
    }
   ],
   "source": [
    "import matplotlib.pyplot as plt\n",
    "\n",
    "data_market.plot.scatter(figsize=(10, 6), x = 'ROE', y = 'PBR')\n",
    "plt.show()"
   ]
  },
  {
   "cell_type": "markdown",
   "metadata": {},
   "source": [
    "`scatter()` 함수는 산점도를 표현하는 함수입니다. $x$축에는 ROE를, $y$축에는 PBR를 입력하면 이에 해당하는 산점도가 표현됩니다. 원하는 그림이 그려지기는 했으나, 극단치 데이터가 있어 둘 사이의 관계가 잘 보이지 않습니다."
   ]
  },
  {
   "cell_type": "code",
   "execution_count": 22,
   "metadata": {},
   "outputs": [
    {
     "data": {
      "image/png": "[encoded data removed]",
      "text/plain": [
       "<Figure size 720x432 with 1 Axes>"
      ]
     },
     "metadata": {
      "needs_background": "light"
     },
     "output_type": "display_data"
    }
   ],
   "source": [
    "data_market.plot.scatter(figsize=(10, 6), x = 'ROE', y = 'PBR', xlim = [0, 0.3], ylim = [0, 3])\n",
    "plt.show()"
   ]
  },
  {
   "cell_type": "markdown",
   "metadata": {},
   "source": [
    "극단치 효과를 제거하기 위해 xlim과 ylim을 통해 $x$축과 $y$의 범위를 직접 지정해줍니다. 극단치가 제거되어 데이터를 더욱 쉽게 확인할 수 있습니다."
   ]
  },
  {
   "cell_type": "code",
   "execution_count": 23,
   "metadata": {},
   "outputs": [
    {
     "data": {
      "image/png": "[encoded data removed]",
      "text/plain": [
       "<Figure size 720x432 with 1 Axes>"
      ]
     },
     "metadata": {
      "needs_background": "light"
     },
     "output_type": "display_data"
    }
   ],
   "source": [
    "import seaborn as sns\n",
    "\n",
    "plt.rc('font', family = 'Malgun Gothic') # 한글 폰트 설정\n",
    "g = sns.lmplot(data = data_market,\n",
    "               x = 'ROE', \n",
    "               y = 'PBR', \n",
    "               hue = '시장구분',\n",
    "               markers=[\"o\", \"x\"],\n",
    "               palette=\"Set1\",\n",
    "               ci = None,\n",
    "               legend_out = False\n",
    "              )\n",
    "g.set(xlim = (0, 0.3), ylim = (0, 3))\n",
    "g.fig.set_size_inches(10,6)\n",
    "plt.show()"
   ]
  },
  {
   "cell_type": "markdown",
   "metadata": {},
   "source": [
    "그룹별로 시각화를 하기 위해서는 seaborn 패키지를 사용해야 합니다. `lmplot()` 함수를 이용하면 산점도와 평활선을 함께 그릴 수 있으며, hue 인자에 그룹을 나누고자 하는 열을 입력합니다. KOSPI와 KOSDAQ 종목의 ROE와 PBR이 각기 다른 색으로 표현되며, 직선을 통해 그 관계를 볼 수 있습니다. 두 시장에 속한 종목 모두 ROE와 PBR은 선형 관계가 있으며, KOSDAQ 종목의 PBR이 더 높습니다."
   ]
  },
  {
   "cell_type": "markdown",
   "metadata": {},
   "source": [
    "### 11.2.2 히스토그램 나타내기"
   ]
  },
  {
   "cell_type": "code",
   "execution_count": 24,
   "metadata": {},
   "outputs": [
    {
     "data": {
      "image/png": "[encoded data removed]",
      "text/plain": [
       "<Figure size 720x432 with 1 Axes>"
      ]
     },
     "metadata": {
      "needs_background": "light"
     },
     "output_type": "display_data"
    }
   ],
   "source": [
    "data_market['PBR'].plot.hist(figsize=(10, 6), bins = 2000, xlim = [0, 10])\n",
    "plt.show()"
   ]
  },
  {
   "cell_type": "markdown",
   "metadata": {},
   "source": [
    "`hist()` 함수는 히스토그램을 나타내져며, bins 인자는 원하는 구간 수를 입력합니다. 국내 종목들의 PBR 데이터는 왼쪽에 쏠려 있고 오른쪽으로 꼬리가 긴 분포를 가지고 있습니다."
   ]
  },
  {
   "cell_type": "markdown",
   "metadata": {},
   "source": [
    "### 11.2.3 박스 플롯 나타내기"
   ]
  },
  {
   "cell_type": "code",
   "execution_count": 25,
   "metadata": {},
   "outputs": [
    {
     "data": {
      "image/png": "[encoded data removed]",
      "text/plain": [
       "<Figure size 720x432 with 1 Axes>"
      ]
     },
     "metadata": {
      "needs_background": "light"
     },
     "output_type": "display_data"
    }
   ],
   "source": [
    "data_market.boxplot(figsize=(10, 6), column = 'PBR', by = 'SEC_NM_KOR', vert = False)\n",
    "plt.xlabel('')\n",
    "plt.title('')\n",
    "plt.suptitle('')\n",
    "plt.show()"
   ]
  },
  {
   "cell_type": "markdown",
   "metadata": {},
   "source": [
    "박스 플롯은 데이터의 분포와 이상치를 확인하기 좋은 그림이며, `boxplot()` 함수를 통해 나타낼 수 있습니다. column에는 나타내고자 하는 값이 있는 열은, by에는 그룹을 나누고 싶은 열을 입력하며, vert를 False로 설정하면 $x$축과 $y$축을 뒤집어 표현해줍니다.\n",
    "\n",
    "결과를 살펴보면 유틸리티나 에너지, 금융 섹터는 PBR이 잘 모여 있는 반면, IT나 건강관리 섹터 등은 매우 극단적인 PBR을 가지고 있는 종목이 있습니다."
   ]
  },
  {
   "cell_type": "markdown",
   "metadata": {},
   "source": [
    "### 11.2.4 막대 그래프 나타내기"
   ]
  },
  {
   "cell_type": "code",
   "execution_count": 26,
   "metadata": {},
   "outputs": [
    {
     "data": {
      "image/png": "[encoded data removed]",
      "text/plain": [
       "<Figure size 720x432 with 1 Axes>"
      ]
     },
     "metadata": {
      "needs_background": "light"
     },
     "output_type": "display_data"
    }
   ],
   "source": [
    "data_market['SEC_NM_KOR'].value_counts().plot.bar(figsize=(10, 6))\n",
    "plt.show()"
   ]
  },
  {
   "cell_type": "markdown",
   "metadata": {},
   "source": [
    "`value_counts()` 함수는 그룹별 고유한 값을 계산하는 함수였습니다. 이를 계산한 후 `bar()` 함수를 이용하면 세로 형태의 막대 그래프 형태로 나타낼 수 있습니다. IT 종목이 압도적으로 많은 것이 쉽게 확인됩니다."
   ]
  },
  {
   "cell_type": "code",
   "execution_count": 27,
   "metadata": {},
   "outputs": [
    {
     "data": {
      "image/png": "[encoded data removed]",
      "text/plain": [
       "<Figure size 720x432 with 1 Axes>"
      ]
     },
     "metadata": {
      "needs_background": "light"
     },
     "output_type": "display_data"
    }
   ],
   "source": [
    "data_market.groupby('SEC_NM_KOR')['배당수익률(%)'].median().sort_values().plot.barh(figsize=(10, 6))\n",
    "plt.ylabel('')\n",
    "plt.show()"
   ]
  },
  {
   "cell_type": "markdown",
   "metadata": {},
   "source": [
    "먼저 각 섹터별 배당수익률의 중앙값을 계산한 후 정렬을 해줍니다. 그 후 `barh()` 함수를 이용하면 가로 형태의 막대 그래프를 나타낼 수 있습니다. 금융, 유틸리티, 에너지 섹터가 배당을 많이주며 건강관리나 IT 섹터는 배당을 거의 주지 않습니다."
   ]
  }
 ],
 "metadata": {
  "kernelspec": {
   "display_name": "Python 3",
   "language": "python",
   "name": "python3"
  },
  "language_info": {
   "codemirror_mode": {
    "name": "ipython",
    "version": 3
   },
   "file_extension": ".py",
   "mimetype": "text/x-python",
   "name": "python",
   "nbconvert_exporter": "python",
   "pygments_lexer": "ipython3",
   "version": "3.8.5"
  }
 },
 "nbformat": 4,
 "nbformat_minor": 4
}
