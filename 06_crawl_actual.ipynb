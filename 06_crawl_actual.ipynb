{
 "cells": [
  {
   "cell_type": "markdown",
   "metadata": {
    "hide_input": false
   },
   "source": [
    "# 6. 금융 데이터 수집하기 (심화)"
   ]
  },
  {
   "cell_type": "markdown",
   "metadata": {},
   "source": [
    "지난 장에서 수집한 주식티커를 바탕으로 이번 장에서는 퀀트 투자의 핵심 자료인 수정주가, 재무제표, 가치지표를 크롤링하는 방법을 알아보겠습니다."
   ]
  },
  {
   "cell_type": "markdown",
   "metadata": {
    "id": "QWMB1xElf9ky"
   },
   "source": [
    "## 6.1 수정주가 크롤링"
   ]
  },
  {
   "cell_type": "markdown",
   "metadata": {},
   "source": [
    "주가 데이터는 투자를 함에 있어 반드시 필요한 데이터이며, 인터넷에서 주가를 수집할 수 있는 방법은 매우 많습니다. 그러나 야후 파이낸스에서 제공하는 데이터 중 미국 주가는 이상 없이 다운로드되지만, 국내 중소형주는 주가가 없는 경우가 있습니다. 또한 단순 주가를 구할 수 있는 방법은 많지만, 투자에 필요한 수정주가를 구할 수 있는 방법은 찾기 힘듭니다. 다행히 네이버 금융에서 제공하는 정보를 통해 모든 종목의 수정주가를 매우 손쉽게 구할 수 있습니다."
   ]
  },
  {
   "cell_type": "markdown",
   "metadata": {
    "id": "fckB9BPpgE4S"
   },
   "source": [
    "### 6.1.1 개별종목 주가 크롤링"
   ]
  },
  {
   "cell_type": "markdown",
   "metadata": {},
   "source": [
    "```\n",
    "https://finance.naver.com/item/fchart.nhn?code=005930\n",
    "```\n",
    "먼저 네이버 금융에서 특정종목(예: 삼성전자)의 [차트]을 선택합니다. 해당 차트는 주가 데이터를 받아 그래프를 그려주는 형태입니다. 따라서 해당 데이터가 어디에서 오는지 알기 위해 개발자 도구 화면을 이용합니다.\n",
    "\n",
    "```{figure} image/06_crawl_practice_price2.png\n",
    "---\n",
    "name: 06_crawl_practice_price2\n",
    "---\n",
    "네이버금융 차트의 통신기록\n",
    "```\n",
    "\n",
    "화면을 연 상태에서 [일] 탭을 선택하면 나오는 항목 중 가장 상단 항목의 Request URL이 주가 데이터를 요청하는 주소입니다. 해당 URL에 접속해보겠습니다.\n",
    "\n",
    "```\n",
    "https://fchart.stock.naver.com/siseJson.nhn?symbol=005930&requestType=1&startTime=20191117&endTime=20210124&timeframe=day\n",
    "```\n",
    "\n",
    "```{figure} image/06_crawl_practice_price3.png\n",
    "---\n",
    "name: 06_crawl_practice_price3\n",
    "---\n",
    "주가 데이터 페이지\n",
    "```\n",
    "\n",
    "각 날짜별로 시가, 고가, 저가, 종가, 거래량, 외국인소진율이 있으며, 주가는 모두 수정주가 기준입니다.\n",
    "\n",
    "URL에서 symbol= 뒤에 6자리 티커만 변경하면 해당 종목의 주가 데이터가 있는 페이지로 이동할 수 있으며, 이를 통해 우리가 원하는 모든 종목의 주가 데이터를 크롤링할 수 있습니다. 또한 startTime= 에는 시작일자를, endTime= 에는 종료일자를 입력하여 원하는 기간 만큼의 데이터를 받을 수도 있습니다."
   ]
  },
  {
   "cell_type": "code",
   "execution_count": 11,
   "metadata": {
    "colab": {
     "base_uri": "https://localhost:8080/",
     "height": 430
    },
    "id": "1Uwdd_MSk4oe",
    "outputId": "86718786-7b4e-4a4d-9310-3138d7da6248"
   },
   "outputs": [
    {
     "name": "stdout",
     "output_type": "stream",
     "text": [
      "5930\n"
     ]
    }
   ],
   "source": [
    "import pandas as pd\n",
    "\n",
    "KOR_ticker = pd.read_csv('data/KOR_ticker.csv', index_col=0)\n",
    "print(KOR_ticker['종목코드'][0])"
   ]
  },
  {
   "cell_type": "markdown",
   "metadata": {},
   "source": [
    "먼저 저장해두었던 티커 항목의 csv 파일을 불러옵니다. 종목코드를 살펴보면 **005930**이어야 할 삼성전자의 티커가 **5930**으로 입력되어 있습니다. 이는 파일을 불러오는 과정에서 0으로 시작하는 숫자들이 지워졌기 때문입니다. "
   ]
  },
  {
   "cell_type": "code",
   "execution_count": 15,
   "metadata": {},
   "outputs": [
    {
     "name": "stdout",
     "output_type": "stream",
     "text": [
      "005930\n"
     ]
    }
   ],
   "source": [
    "import numpy as np\n",
    "\n",
    "KOR_ticker['종목코드'] = KOR_ticker['종목코드'].astype(np.str).str.zfill(6)\n",
    "print(KOR_ticker['종목코드'][0])"
   ]
  },
  {
   "cell_type": "markdown",
   "metadata": {},
   "source": [
    "`np.str`을 통해 문자열 형태로 변경한 후, `zfill()` 함수를 사용해 6자리가 되지 않는 문자는 왼쪽에 0을 추가해 강제로 6자리로 만들어주도록 합니다.\n",
    "\n",
    "다음은 첫 번째 종목인 삼성전자의 주가를 크롤링한 후 가공하는 방법입니다."
   ]
  },
  {
   "cell_type": "code",
   "execution_count": 17,
   "metadata": {},
   "outputs": [
    {
     "name": "stdout",
     "output_type": "stream",
     "text": [
      "            Price\n",
      "2021-04-11    NaN\n"
     ]
    }
   ],
   "source": [
    "import os\n",
    "import numpy as np\n",
    "from datetime import date\n",
    "\n",
    "if not os.path.exists('data/KOR_price'):\n",
    "    os.makedirs('data/KOR_price')\n",
    "    \n",
    "i = 0\n",
    "name = KOR_ticker['종목코드'][i]   \n",
    "\n",
    "price = pd.DataFrame({'Price' : [np.nan]})\n",
    "price.index = [date.today().strftime(\"%Y-%m-%d\")]\n",
    "\n",
    "print(price)"
   ]
  },
  {
   "cell_type": "markdown",
   "metadata": {},
   "source": [
    "1. data 폴더 내에 KOR_price 폴더를 생성합니다.\n",
    "2. i = 0을 입력합니다. 향후 for loop 구문을 통해 i 값만 변경하면 모든 종목의 주가를 다운로드할 수 있습니다.\n",
    "3. name에 해당 티커를 입력합니다.\n",
    "4. 빈 데이터프레임을 생성하며, 인덱스는 `today()`를 통해 현재 날짜를 입력합니다."
   ]
  },
  {
   "cell_type": "code",
   "execution_count": 19,
   "metadata": {},
   "outputs": [
    {
     "data": {
      "text/html": [
       "<div>\n",
       "<style scoped>\n",
       "    .dataframe tbody tr th:only-of-type {\n",
       "        vertical-align: middle;\n",
       "    }\n",
       "\n",
       "    .dataframe tbody tr th {\n",
       "        vertical-align: top;\n",
       "    }\n",
       "\n",
       "    .dataframe thead th {\n",
       "        text-align: right;\n",
       "    }\n",
       "</style>\n",
       "<table border=\"1\" class=\"dataframe\">\n",
       "  <thead>\n",
       "    <tr style=\"text-align: right;\">\n",
       "      <th></th>\n",
       "      <th>[['날짜'</th>\n",
       "      <th>'시가'</th>\n",
       "      <th>'고가'</th>\n",
       "      <th>'저가'</th>\n",
       "      <th>'종가'</th>\n",
       "      <th>'거래량'</th>\n",
       "      <th>'외국인소진율']</th>\n",
       "      <th>Unnamed: 7</th>\n",
       "    </tr>\n",
       "  </thead>\n",
       "  <tbody>\n",
       "    <tr>\n",
       "      <th>0</th>\n",
       "      <td>[\"20160411\"</td>\n",
       "      <td>24920.0</td>\n",
       "      <td>25420.0</td>\n",
       "      <td>24920.0</td>\n",
       "      <td>25320.0</td>\n",
       "      <td>120693.0</td>\n",
       "      <td>49.52]</td>\n",
       "      <td>NaN</td>\n",
       "    </tr>\n",
       "    <tr>\n",
       "      <th>1</th>\n",
       "      <td>[\"20160412\"</td>\n",
       "      <td>25400.0</td>\n",
       "      <td>25620.0</td>\n",
       "      <td>25320.0</td>\n",
       "      <td>25500.0</td>\n",
       "      <td>134054.0</td>\n",
       "      <td>49.53]</td>\n",
       "      <td>NaN</td>\n",
       "    </tr>\n",
       "    <tr>\n",
       "      <th>2</th>\n",
       "      <td>[\"20160414\"</td>\n",
       "      <td>26000.0</td>\n",
       "      <td>26040.0</td>\n",
       "      <td>25780.0</td>\n",
       "      <td>26000.0</td>\n",
       "      <td>335327.0</td>\n",
       "      <td>49.54]</td>\n",
       "      <td>NaN</td>\n",
       "    </tr>\n",
       "    <tr>\n",
       "      <th>3</th>\n",
       "      <td>[\"20160415\"</td>\n",
       "      <td>26180.0</td>\n",
       "      <td>26200.0</td>\n",
       "      <td>25800.0</td>\n",
       "      <td>26000.0</td>\n",
       "      <td>136599.0</td>\n",
       "      <td>49.53]</td>\n",
       "      <td>NaN</td>\n",
       "    </tr>\n",
       "    <tr>\n",
       "      <th>4</th>\n",
       "      <td>[\"20160418\"</td>\n",
       "      <td>25900.0</td>\n",
       "      <td>26100.0</td>\n",
       "      <td>25840.0</td>\n",
       "      <td>25980.0</td>\n",
       "      <td>128474.0</td>\n",
       "      <td>49.54]</td>\n",
       "      <td>NaN</td>\n",
       "    </tr>\n",
       "  </tbody>\n",
       "</table>\n",
       "</div>"
      ],
      "text/plain": [
       "        [['날짜'     '시가'     '고가'     '저가'     '종가'     '거래량'  '외국인소진율']  \\\n",
       "0  [\"20160411\"  24920.0  25420.0  24920.0  25320.0  120693.0     49.52]   \n",
       "1  [\"20160412\"  25400.0  25620.0  25320.0  25500.0  134054.0     49.53]   \n",
       "2  [\"20160414\"  26000.0  26040.0  25780.0  26000.0  335327.0     49.54]   \n",
       "3  [\"20160415\"  26180.0  26200.0  25800.0  26000.0  136599.0     49.53]   \n",
       "4  [\"20160418\"  25900.0  26100.0  25840.0  25980.0  128474.0     49.54]   \n",
       "\n",
       "   Unnamed: 7  \n",
       "0         NaN  \n",
       "1         NaN  \n",
       "2         NaN  \n",
       "3         NaN  \n",
       "4         NaN  "
      ]
     },
     "execution_count": 19,
     "metadata": {},
     "output_type": "execute_result"
    }
   ],
   "source": [
    "from dateutil.relativedelta import relativedelta\n",
    "import requests as rq\n",
    "from io import BytesIO\n",
    "\n",
    "fr = (date.today() + relativedelta(years=-5)).strftime(\"%Y%m%d\")\n",
    "to = (date.today()).strftime(\"%Y%m%d\")\n",
    "\n",
    "url = 'https://fchart.stock.naver.com/siseJson.nhn?symbol='+name+'&requestType=1&startTime='+fr+'&endTime='+to+'&timeframe=day'\n",
    "\n",
    "data = rq.get(url).content\n",
    "data_price = pd.read_csv(BytesIO(data))\n",
    "\n",
    "data_price.head()"
   ]
  },
  {
   "cell_type": "markdown",
   "metadata": {},
   "source": [
    "1. 먼저 시작일(from)과 종료일(to)에 해당하는 날짜를 입력합니다. `today()`를 통해 오늘 날짜를 불러온 후, 시작일은 `relativedelta()` 함수를 이용해 5년을 빼줍니다. (본인이 원하는 기간 만큼을 빼주면 됩니다.) 그 후 `strftime()` 함수를 통해 yyyymmdd 형식을 만들어 줍니다.\n",
    "2. 종목의 url을 생성합니다. url 중 티커에 해당하는 6자리 부분에 위에서 입력한 name을 설정합니다.\n",
    "3. `get()` 함수를 통해 페이지의 데이터를 불러온 후, content 부분을 추출합니다.\n",
    "4. `BytesIO()` 함수를 이용해 바이너리스트림 형태로 만든 후, `read_csv()` 함수를 통해 데이터를 읽어옵니다\n",
    "\n",
    "결과적으로 날짜 및 주가, 거래량, 외국인소진율 데이터가 추출됩니다. 추가적으로 클렌징 작업을 해주도록 하겠습니다."
   ]
  },
  {
   "cell_type": "code",
   "execution_count": 35,
   "metadata": {},
   "outputs": [
    {
     "data": {
      "text/html": [
       "<div>\n",
       "<style scoped>\n",
       "    .dataframe tbody tr th:only-of-type {\n",
       "        vertical-align: middle;\n",
       "    }\n",
       "\n",
       "    .dataframe tbody tr th {\n",
       "        vertical-align: top;\n",
       "    }\n",
       "\n",
       "    .dataframe thead th {\n",
       "        text-align: right;\n",
       "    }\n",
       "</style>\n",
       "<table border=\"1\" class=\"dataframe\">\n",
       "  <thead>\n",
       "    <tr style=\"text-align: right;\">\n",
       "      <th></th>\n",
       "      <th>Open</th>\n",
       "      <th>High</th>\n",
       "      <th>Low</th>\n",
       "      <th>Close</th>\n",
       "      <th>Volume</th>\n",
       "    </tr>\n",
       "    <tr>\n",
       "      <th>Date</th>\n",
       "      <th></th>\n",
       "      <th></th>\n",
       "      <th></th>\n",
       "      <th></th>\n",
       "      <th></th>\n",
       "    </tr>\n",
       "  </thead>\n",
       "  <tbody>\n",
       "    <tr>\n",
       "      <th>2016-04-11</th>\n",
       "      <td>24920.0</td>\n",
       "      <td>25420.0</td>\n",
       "      <td>24920.0</td>\n",
       "      <td>25320.0</td>\n",
       "      <td>120693.0</td>\n",
       "    </tr>\n",
       "    <tr>\n",
       "      <th>2016-04-12</th>\n",
       "      <td>25400.0</td>\n",
       "      <td>25620.0</td>\n",
       "      <td>25320.0</td>\n",
       "      <td>25500.0</td>\n",
       "      <td>134054.0</td>\n",
       "    </tr>\n",
       "    <tr>\n",
       "      <th>2016-04-14</th>\n",
       "      <td>26000.0</td>\n",
       "      <td>26040.0</td>\n",
       "      <td>25780.0</td>\n",
       "      <td>26000.0</td>\n",
       "      <td>335327.0</td>\n",
       "    </tr>\n",
       "    <tr>\n",
       "      <th>2016-04-15</th>\n",
       "      <td>26180.0</td>\n",
       "      <td>26200.0</td>\n",
       "      <td>25800.0</td>\n",
       "      <td>26000.0</td>\n",
       "      <td>136599.0</td>\n",
       "    </tr>\n",
       "    <tr>\n",
       "      <th>2016-04-18</th>\n",
       "      <td>25900.0</td>\n",
       "      <td>26100.0</td>\n",
       "      <td>25840.0</td>\n",
       "      <td>25980.0</td>\n",
       "      <td>128474.0</td>\n",
       "    </tr>\n",
       "  </tbody>\n",
       "</table>\n",
       "</div>"
      ],
      "text/plain": [
       "               Open     High      Low    Close    Volume\n",
       "Date                                                    \n",
       "2016-04-11  24920.0  25420.0  24920.0  25320.0  120693.0\n",
       "2016-04-12  25400.0  25620.0  25320.0  25500.0  134054.0\n",
       "2016-04-14  26000.0  26040.0  25780.0  26000.0  335327.0\n",
       "2016-04-15  26180.0  26200.0  25800.0  26000.0  136599.0\n",
       "2016-04-18  25900.0  26100.0  25840.0  25980.0  128474.0"
      ]
     },
     "execution_count": 35,
     "metadata": {},
     "output_type": "execute_result"
    }
   ],
   "source": [
    "import re\n",
    "from datetime import datetime\n",
    "\n",
    "price = data_price.iloc[:, 0:6]\n",
    "price.columns = ['Date', 'Open', 'High', 'Low', 'Close', 'Volume']\n",
    "price = price.dropna()\n",
    "price['Date'] = price['Date'].str.extract('(\\d+)')\n",
    "price['Date'] = pd.to_datetime(price['Date'])\n",
    "price.set_index('Date', inplace=True)\n",
    "\n",
    "price.head()"
   ]
  },
  {
   "cell_type": "markdown",
   "metadata": {},
   "source": [
    "1. 날짜와 가격, 거래량에 해당하는 데이터만을 선택합니다.\n",
    "2. 열 이름을 변경합니다.\n",
    "3. `dropna()` 함수를 통해 NA 데이터를 삭제해줍니다.\n",
    "4. `extract()` 함수 내에 정규표현식을 통해 숫자만을 추출합니다.\n",
    "4. **날찌**열을 datetime 형태로 변경해줍니다.\n",
    "5. **날짜**열을 인덱스로 설정합니다.\n",
    "\n",
    "데이터를 확인해보면 우리에게 필요한 형태로 정리되었습니다."
   ]
  },
  {
   "cell_type": "code",
   "execution_count": null,
   "metadata": {
    "deletable": false,
    "editable": false,
    "run_control": {
     "frozen": true
    }
   },
   "outputs": [],
   "source": [
    "price.to_csv('data/KOR_price/'+name+'_price.csv')"
   ]
  },
  {
   "cell_type": "markdown",
   "metadata": {},
   "source": [
    "마지막으로 해당 데이터를 data 폴더의 KOR_price 폴더 내에 티커_price.csv 이름으로 저장합니다."
   ]
  },
  {
   "cell_type": "markdown",
   "metadata": {},
   "source": [
    "### 6.1.2 전 종목 주가 크롤링"
   ]
  },
  {
   "cell_type": "markdown",
   "metadata": {},
   "source": [
    "위의 코드에서 `for loop` 구문을 이용해 i 값만 변경해주면 모든 종목의 주가를 다운로드할 수 있습니다. 전 종목 주가를 다운로드하는 전체 코드는 다음과 같습니다."
   ]
  },
  {
   "cell_type": "code",
   "execution_count": 16,
   "metadata": {
    "deletable": false,
    "editable": false,
    "run_control": {
     "frozen": true
    }
   },
   "outputs": [
    {
     "name": "stderr",
     "output_type": "stream",
     "text": [
      "100%|████████████████████████████████████████████████████████████████████████████| 2173/2173 [1:15:30<00:00,  2.08s/it]\n"
     ]
    }
   ],
   "source": [
    "import pandas as pd\n",
    "import numpy as np\n",
    "from datetime import date\n",
    "from datetime import datetime\n",
    "import os\n",
    "from dateutil.relativedelta import relativedelta\n",
    "import requests as rq\n",
    "from io import BytesIO\n",
    "import re\n",
    "import time\n",
    "from tqdm import tqdm\n",
    "\n",
    "if not os.path.exists('data/KOR_price'):\n",
    "    os.makedirs('data/KOR_price')\n",
    "\n",
    "KOR_ticker = pd.read_csv('data/KOR_ticker.csv', index_col=0)\n",
    "KOR_ticker['종목코드'] = KOR_ticker['종목코드'].astype(np.str).str.zfill(6)\n",
    "error_list = []\n",
    "\n",
    "for i in tqdm(range(0, len(KOR_ticker))): \n",
    "\n",
    "    # 빈 데이터프레임 생성\n",
    "    price = pd.DataFrame({'Price' : [np.nan]})\n",
    "    price.index = [date.today().strftime(\"%Y-%m-%d\")]\n",
    "    \n",
    "    # 티커 선택\n",
    "    name = KOR_ticker['종목코드'][i]\n",
    "    \n",
    "    # 시작일과 종료일 \n",
    "    fr = (date.today() + relativedelta(years=-5)).strftime(\"%Y%m%d\")\n",
    "    to = (date.today()).strftime(\"%Y%m%d\")\n",
    "    \n",
    "    # 오류 발생 시 이를 무시하고 다음 루프로 진행\n",
    "    try:\n",
    "        # url 생성\n",
    "        url = 'https://fchart.stock.naver.com/siseJson.nhn?symbol='+name+'&requestType=1&startTime='+fr+'&endTime='+to+'&timeframe=day'\n",
    "        \n",
    "        # 데이터 다운로드\n",
    "        data = rq.get(url).content\n",
    "        data_price = pd.read_csv(BytesIO(data)) \n",
    "        \n",
    "        # 데이터 클렌징\n",
    "        price = data_price.iloc[:, 0:6]\n",
    "        price.columns = ['날짜', '시가', '고가', '저가', '종가', '거래량']\n",
    "        price = price.dropna()\n",
    "        price['날짜'] = price['날짜'].str.extract('(\\d+)')\n",
    "        price['날짜'] = pd.to_datetime(price['날짜'])\n",
    "        price.set_index('날짜', inplace=True)\n",
    "    \n",
    "    except:\n",
    "        # 오류 발생시 해당 종목명을 저장하고 다음 루프로 이동\n",
    "        error_list.append(name)\n",
    "    \n",
    "    # 다운로드 받은 파일을 생성한 폴더 내 csv 파일로 저장\n",
    "    price.to_csv('data/KOR_price/'+name+'_price.csv')\n",
    "    \n",
    "    # 타임슬립 적용\n",
    "    time.sleep(2)    "
   ]
  },
  {
   "cell_type": "markdown",
   "metadata": {},
   "source": [
    "위 코드에서 추가된 점은 다음과 같습니다. 페이지 오류, 통신 오류 등 오류가 발생할 경우 `for loop` 구문이 멈춰버리면 전체 데이터를 처음부터 다시 받아야 하므로 매우 귀찮은 작업입니다. 따라서 `try except` 구문을 이용해 오류가 발생할 때 해당 티커를 저장한 후 다음 루프로 넘어가게 합니다. ProgressBar() 함수를 통해 진행정도 역시 출력이 됩니다.\n",
    "\n",
    "또한 오류가 발생하면 미리 만들어둔 빈 데이터프레임을 저장하게 됩니다. 마지막으로 무한 크롤링을 방지하기 위해 한 번의 루프가 끝날 때마다 2초의 타임슬립을 적용했습니다.\n",
    "\n",
    "위 코드가 모두 돌아가는 데는 수 시간이 걸립니다. 작업이 끝난 후 data/KOR_price 폴더를 확인해보면 전 종목 주가가 csv 형태로 저장되어 있습니다."
   ]
  },
  {
   "cell_type": "markdown",
   "metadata": {},
   "source": [
    "### 6.1.3 `DataReader()` 함수를 이용해 네이버 수정주가 다운로드"
   ]
  },
  {
   "cell_type": "markdown",
   "metadata": {},
   "source": [
    "3장에서 살펴본 `DataReader()` 함수에도 네이버에서 동일한 데이터를 다운로드 받는 기능이 내장되어 있습니다. 삼성전자의 예를 살펴보도록 하겠습니다."
   ]
  },
  {
   "cell_type": "code",
   "execution_count": 34,
   "metadata": {},
   "outputs": [
    {
     "data": {
      "text/html": [
       "<div>\n",
       "<style scoped>\n",
       "    .dataframe tbody tr th:only-of-type {\n",
       "        vertical-align: middle;\n",
       "    }\n",
       "\n",
       "    .dataframe tbody tr th {\n",
       "        vertical-align: top;\n",
       "    }\n",
       "\n",
       "    .dataframe thead th {\n",
       "        text-align: right;\n",
       "    }\n",
       "</style>\n",
       "<table border=\"1\" class=\"dataframe\">\n",
       "  <thead>\n",
       "    <tr style=\"text-align: right;\">\n",
       "      <th></th>\n",
       "      <th>Open</th>\n",
       "      <th>High</th>\n",
       "      <th>Low</th>\n",
       "      <th>Close</th>\n",
       "      <th>Volume</th>\n",
       "    </tr>\n",
       "    <tr>\n",
       "      <th>Date</th>\n",
       "      <th></th>\n",
       "      <th></th>\n",
       "      <th></th>\n",
       "      <th></th>\n",
       "      <th></th>\n",
       "    </tr>\n",
       "  </thead>\n",
       "  <tbody>\n",
       "    <tr>\n",
       "      <th>2016-04-11</th>\n",
       "      <td>24920</td>\n",
       "      <td>25420</td>\n",
       "      <td>24920</td>\n",
       "      <td>25320</td>\n",
       "      <td>120693</td>\n",
       "    </tr>\n",
       "    <tr>\n",
       "      <th>2016-04-12</th>\n",
       "      <td>25400</td>\n",
       "      <td>25620</td>\n",
       "      <td>25320</td>\n",
       "      <td>25500</td>\n",
       "      <td>134054</td>\n",
       "    </tr>\n",
       "    <tr>\n",
       "      <th>2016-04-14</th>\n",
       "      <td>26000</td>\n",
       "      <td>26040</td>\n",
       "      <td>25780</td>\n",
       "      <td>26000</td>\n",
       "      <td>335327</td>\n",
       "    </tr>\n",
       "    <tr>\n",
       "      <th>2016-04-15</th>\n",
       "      <td>26180</td>\n",
       "      <td>26200</td>\n",
       "      <td>25800</td>\n",
       "      <td>26000</td>\n",
       "      <td>136599</td>\n",
       "    </tr>\n",
       "    <tr>\n",
       "      <th>2016-04-18</th>\n",
       "      <td>25900</td>\n",
       "      <td>26100</td>\n",
       "      <td>25840</td>\n",
       "      <td>25980</td>\n",
       "      <td>128474</td>\n",
       "    </tr>\n",
       "  </tbody>\n",
       "</table>\n",
       "</div>"
      ],
      "text/plain": [
       "             Open   High    Low  Close  Volume\n",
       "Date                                          \n",
       "2016-04-11  24920  25420  24920  25320  120693\n",
       "2016-04-12  25400  25620  25320  25500  134054\n",
       "2016-04-14  26000  26040  25780  26000  335327\n",
       "2016-04-15  26180  26200  25800  26000  136599\n",
       "2016-04-18  25900  26100  25840  25980  128474"
      ]
     },
     "execution_count": 34,
     "metadata": {},
     "output_type": "execute_result"
    }
   ],
   "source": [
    "import pandas_datareader.data as web\n",
    "from datetime import date\n",
    "\n",
    "fr = (date.today() + relativedelta(years=-5)).strftime(\"%Y%m%d\")\n",
    "to = (date.today()).strftime(\"%Y%m%d\")\n",
    "\n",
    "df = web.DataReader('005930', 'naver', start = fr, end = to)\n",
    "df.head()"
   ]
  },
  {
   "cell_type": "markdown",
   "metadata": {},
   "source": [
    "위에서 직접 크롤링한 것과 결과가 같습니다. 이는 동일한 페이지를 크롤링하고 클렌징 방법도 동일하기 때문입니다. 이처럼 원하는 기능이 이미 함수로 존재하는 경우, 이를 활용하는 것도 좋은 방법입니다."
   ]
  },
  {
   "cell_type": "markdown",
   "metadata": {},
   "source": [
    "## 6.2 재무제표 및 가치지표 크롤링"
   ]
  },
  {
   "cell_type": "markdown",
   "metadata": {},
   "source": [
    "주가와 더불어 재무제표와 가치지표 역시 투자에 있어 핵심이 되는 데이터입니다. 해당 데이터 역시 여러 웹사이트에서 구할 수 있지만, 국내 데이터 제공업체인 FnGuide에서 운영하는 Company Guide 웹사이트에서 손쉽게 구할 수 있습니다.\n",
    "\n",
    "```\n",
    "http://comp.fnguide.com/\n",
    "```"
   ]
  },
  {
   "cell_type": "markdown",
   "metadata": {},
   "source": [
    "### 6.2.1 재무제표 다운로드"
   ]
  },
  {
   "cell_type": "markdown",
   "metadata": {},
   "source": [
    "먼저 개별종목의 재무제표를 탭을 선택하면 포괄손익계산서, 재무상태표, 현금흐름표 항목이 보이게 되며, 티커에 해당하는 A005930 뒤의 주소는 불필요한 내용이므로, 이를 제거한 주소로 접속합니다. A 뒤의 6자리 티커만 변경한다면 해당 종목의 재무제표 페이지로 이동하게 됩니다.\n",
    "\n",
    "```\n",
    "http://comp.fnguide.com/SVO2/ASP/SVD_Finance.asp?pGB=1&gicode=A005930\n",
    "```\n",
    "우리가 원하는 재무제표 항목들은 모두 테이블 형태로 제공되고 있으므로 pandas의 `read_html()` 함수를 이용해 쉽게 추출할 수 있습니다."
   ]
  },
  {
   "cell_type": "code",
   "execution_count": 5,
   "metadata": {},
   "outputs": [
    {
     "data": {
      "text/plain": [
       "[  IFRS(연결)    2017/12    2018/12    2019/12    2020/12       전년동기  전년동기(%)\n",
       " 0      매출액  2395754.0  2437714.0  2304009.0  2368070.0  2304009.0      2.8\n",
       " 1     매출원가  1292907.0  1323944.0  1472395.0  1444883.0  1472395.0     -1.9\n",
       " 2    매출총이익  1102847.0  1113770.0   831613.0   923187.0   831613.0     11.0,\n",
       "   IFRS(연결)   2020/03   2020/06   2020/09   2020/12      전년동기 전년동기(%)\n",
       " 0      매출액  553252.0  529661.0  669642.0  615515.0  598848.0     2.8\n",
       " 1     매출원가  348067.0  319062.0  399705.0  378049.0  385545.0    -1.9\n",
       " 2    매출총이익  205185.0  210599.0  269937.0  237466.0  213302.0    11.3,\n",
       "              IFRS(연결)    2017/12    2018/12    2019/12    2020/12\n",
       " 0                  자산  3017521.0  3393572.0  3525645.0  3782357.0\n",
       " 1  유동자산계산에 참여한 계정 펼치기  1469825.0  1746974.0  1813853.0  1982156.0\n",
       " 2                재고자산   249834.0   289847.0   267665.0   320431.0,\n",
       "              IFRS(연결)    2020/03    2020/06    2020/09    2020/12\n",
       " 0                  자산  3574575.0  3579595.0  3757887.0  3782357.0\n",
       " 1  유동자산계산에 참여한 계정 펼치기  1867397.0  1861368.0  2036349.0  1982156.0\n",
       " 2                재고자산   284549.0   296455.0   324429.0   320431.0,\n",
       "          IFRS(연결)   2017/12   2018/12   2019/12   2020/12\n",
       " 0    영업활동으로인한현금흐름  621620.0  670319.0  453829.0  652870.0\n",
       " 1           당기순손익  421867.0  443449.0  217389.0  264078.0\n",
       " 2  법인세비용차감전계속사업이익       NaN       NaN       NaN       NaN,\n",
       "          IFRS(연결)   2020/03   2020/06   2020/09   2020/12\n",
       " 0    영업활동으로인한현금흐름  118299.0  147982.0  141444.0  245146.0\n",
       " 1           당기순손익   48849.0   55551.0   93607.0   66071.0\n",
       " 2  법인세비용차감전계속사업이익       NaN       NaN       NaN       NaN]"
      ]
     },
     "execution_count": 5,
     "metadata": {},
     "output_type": "execute_result"
    }
   ],
   "source": [
    "import os\n",
    "import pandas as pd\n",
    "\n",
    "if not os.path.exists('data/KOR_fs'):\n",
    "    os.makedirs('data/KOR_fs')\n",
    "    \n",
    "url = 'http://comp.fnguide.com/SVO2/ASP/SVD_Finance.asp?pGB=1&gicode=A005930'\n",
    "data = pd.read_html(url, displayed_only = False)\n",
    "\n",
    "[item.head(3) for item in data] "
   ]
  },
  {
   "cell_type": "markdown",
   "metadata": {},
   "source": [
    "1. data 폴더 내에 KOR_fs 폴더를 생성합니다.\n",
    "2. url을 입력한 후 `read_html()` 함수를 통해 테이블 데이터만을 가져옵니다. 페이지를 살펴보면 [+] 버튼을 눌러야만 표시가 되는 항목도 있으므로, displayed_only = False를 통해 해당 항목들도 모두 가져오도록 합니다.\n",
    "\n",
    "위의 과정을 거치면 총 6개의 테이블이 들어오게 되며, 그 내용은 {numref}`fs_table`와 같습니다.\n",
    "\n",
    "```{table} 재무제표 테이블 내역\n",
    ":name: fs_table\n",
    "\n",
    "| 순서 | 내용 | \n",
    "| --- | --- |\n",
    "| 0 | 포괄손익계산서 (연간) |\n",
    "| 1 | 포괄손익계산서 (분기) |\n",
    "| 2 | 재무상태표 (연간) |\n",
    "| 3 | 재무상태표 (분기) |\n",
    "| 4 | 현금흐름표 (연간) |\n",
    "| 5 | 현금흐름표 (분기) |\n",
    "```\n",
    "\n",
    "이 중 연간 기준 재무제표에 해당하는 테이블을 선택합니다. (분기 기준 재무제표를 원하는 분은 해당 항목을 선택하면 됩니다.)"
   ]
  },
  {
   "cell_type": "code",
   "execution_count": 6,
   "metadata": {},
   "outputs": [],
   "source": [
    "data_IS = data[0]\n",
    "data_BS = data[2]\n",
    "data_CF = data[4]"
   ]
  },
  {
   "cell_type": "markdown",
   "metadata": {},
   "source": [
    "포괄손익계산서, 재무상태표, 현금흐름표를 각각 저장해줍니다. 이번엔 포괄손익계산서의 열 이름을 살펴보겠습니다."
   ]
  },
  {
   "cell_type": "code",
   "execution_count": 7,
   "metadata": {},
   "outputs": [
    {
     "name": "stdout",
     "output_type": "stream",
     "text": [
      "Index(['IFRS(연결)', '2017/12', '2018/12', '2019/12', '2020/12', '전년동기',\n",
      "       '전년동기(%)'],\n",
      "      dtype='object')\n"
     ]
    }
   ],
   "source": [
    "print(data_IS.columns)"
   ]
  },
  {
   "cell_type": "markdown",
   "metadata": {},
   "source": [
    "포괄손익계산서 테이블(data_IS)에는 전년동기, 전년동기(%) 열이 있으며, 이는 필요하지 않은 내용이므로 삭제해주도록 하겠습니다."
   ]
  },
  {
   "cell_type": "code",
   "execution_count": 8,
   "metadata": {},
   "outputs": [
    {
     "data": {
      "text/html": [
       "<div>\n",
       "<style scoped>\n",
       "    .dataframe tbody tr th:only-of-type {\n",
       "        vertical-align: middle;\n",
       "    }\n",
       "\n",
       "    .dataframe tbody tr th {\n",
       "        vertical-align: top;\n",
       "    }\n",
       "\n",
       "    .dataframe thead th {\n",
       "        text-align: right;\n",
       "    }\n",
       "</style>\n",
       "<table border=\"1\" class=\"dataframe\">\n",
       "  <thead>\n",
       "    <tr style=\"text-align: right;\">\n",
       "      <th></th>\n",
       "      <th>IFRS(연결)</th>\n",
       "      <th>2017/12</th>\n",
       "      <th>2018/12</th>\n",
       "      <th>2019/12</th>\n",
       "      <th>2020/12</th>\n",
       "    </tr>\n",
       "  </thead>\n",
       "  <tbody>\n",
       "    <tr>\n",
       "      <th>0</th>\n",
       "      <td>매출액</td>\n",
       "      <td>2395754.0</td>\n",
       "      <td>2437714.0</td>\n",
       "      <td>2304009.0</td>\n",
       "      <td>2368070.0</td>\n",
       "    </tr>\n",
       "    <tr>\n",
       "      <th>1</th>\n",
       "      <td>매출원가</td>\n",
       "      <td>1292907.0</td>\n",
       "      <td>1323944.0</td>\n",
       "      <td>1472395.0</td>\n",
       "      <td>1444883.0</td>\n",
       "    </tr>\n",
       "    <tr>\n",
       "      <th>2</th>\n",
       "      <td>매출총이익</td>\n",
       "      <td>1102847.0</td>\n",
       "      <td>1113770.0</td>\n",
       "      <td>831613.0</td>\n",
       "      <td>923187.0</td>\n",
       "    </tr>\n",
       "    <tr>\n",
       "      <th>3</th>\n",
       "      <td>판매비와관리비계산에 참여한 계정 펼치기</td>\n",
       "      <td>566397.0</td>\n",
       "      <td>524903.0</td>\n",
       "      <td>553928.0</td>\n",
       "      <td>563248.0</td>\n",
       "    </tr>\n",
       "    <tr>\n",
       "      <th>4</th>\n",
       "      <td>인건비</td>\n",
       "      <td>67972.0</td>\n",
       "      <td>64514.0</td>\n",
       "      <td>64226.0</td>\n",
       "      <td>70429.0</td>\n",
       "    </tr>\n",
       "  </tbody>\n",
       "</table>\n",
       "</div>"
      ],
      "text/plain": [
       "                IFRS(연결)    2017/12    2018/12    2019/12    2020/12\n",
       "0                    매출액  2395754.0  2437714.0  2304009.0  2368070.0\n",
       "1                   매출원가  1292907.0  1323944.0  1472395.0  1444883.0\n",
       "2                  매출총이익  1102847.0  1113770.0   831613.0   923187.0\n",
       "3  판매비와관리비계산에 참여한 계정 펼치기   566397.0   524903.0   553928.0   563248.0\n",
       "4                    인건비    67972.0    64514.0    64226.0    70429.0"
      ]
     },
     "execution_count": 8,
     "metadata": {},
     "output_type": "execute_result"
    }
   ],
   "source": [
    "data_IS = data_IS.iloc[:, 0:(len(data_IS.columns)-2)]\n",
    "data_fs = pd.concat([data_IS, data_BS, data_CF]).reset_index(drop=True)\n",
    "\n",
    "data_fs.head()"
   ]
  },
  {
   "cell_type": "markdown",
   "metadata": {},
   "source": [
    "1. 포괄손익계산서 중 오른쪽의 두개 열을 삭제합니다.\n",
    "2. `concat()` 함수를 이용해 세개의 테이블을 하나로 묶습니다.\n",
    "\n",
    "이제 클렌징 처리를 해주도록 하겠습니다."
   ]
  },
  {
   "cell_type": "code",
   "execution_count": 9,
   "metadata": {},
   "outputs": [
    {
     "data": {
      "text/html": [
       "<div>\n",
       "<style scoped>\n",
       "    .dataframe tbody tr th:only-of-type {\n",
       "        vertical-align: middle;\n",
       "    }\n",
       "\n",
       "    .dataframe tbody tr th {\n",
       "        vertical-align: top;\n",
       "    }\n",
       "\n",
       "    .dataframe thead th {\n",
       "        text-align: right;\n",
       "    }\n",
       "</style>\n",
       "<table border=\"1\" class=\"dataframe\">\n",
       "  <thead>\n",
       "    <tr style=\"text-align: right;\">\n",
       "      <th></th>\n",
       "      <th>2017/12</th>\n",
       "      <th>2018/12</th>\n",
       "      <th>2019/12</th>\n",
       "      <th>2020/12</th>\n",
       "    </tr>\n",
       "    <tr>\n",
       "      <th>IFRS(연결)</th>\n",
       "      <th></th>\n",
       "      <th></th>\n",
       "      <th></th>\n",
       "      <th></th>\n",
       "    </tr>\n",
       "  </thead>\n",
       "  <tbody>\n",
       "    <tr>\n",
       "      <th>매출액</th>\n",
       "      <td>2395754.0</td>\n",
       "      <td>2437714.0</td>\n",
       "      <td>2304009.0</td>\n",
       "      <td>2368070.0</td>\n",
       "    </tr>\n",
       "    <tr>\n",
       "      <th>매출원가</th>\n",
       "      <td>1292907.0</td>\n",
       "      <td>1323944.0</td>\n",
       "      <td>1472395.0</td>\n",
       "      <td>1444883.0</td>\n",
       "    </tr>\n",
       "    <tr>\n",
       "      <th>매출총이익</th>\n",
       "      <td>1102847.0</td>\n",
       "      <td>1113770.0</td>\n",
       "      <td>831613.0</td>\n",
       "      <td>923187.0</td>\n",
       "    </tr>\n",
       "    <tr>\n",
       "      <th>판매비와관리비</th>\n",
       "      <td>566397.0</td>\n",
       "      <td>524903.0</td>\n",
       "      <td>553928.0</td>\n",
       "      <td>563248.0</td>\n",
       "    </tr>\n",
       "    <tr>\n",
       "      <th>인건비</th>\n",
       "      <td>67972.0</td>\n",
       "      <td>64514.0</td>\n",
       "      <td>64226.0</td>\n",
       "      <td>70429.0</td>\n",
       "    </tr>\n",
       "  </tbody>\n",
       "</table>\n",
       "</div>"
      ],
      "text/plain": [
       "            2017/12    2018/12    2019/12    2020/12\n",
       "IFRS(연결)                                            \n",
       "매출액       2395754.0  2437714.0  2304009.0  2368070.0\n",
       "매출원가      1292907.0  1323944.0  1472395.0  1444883.0\n",
       "매출총이익     1102847.0  1113770.0   831613.0   923187.0\n",
       "판매비와관리비    566397.0   524903.0   553928.0   563248.0\n",
       "인건비         67972.0    64514.0    64226.0    70429.0"
      ]
     },
     "execution_count": 9,
     "metadata": {},
     "output_type": "execute_result"
    }
   ],
   "source": [
    "data_fs.iloc[:, 0] = data_fs.iloc[:, 0].replace({'계산에 참여한 계정 펼치기':''}, regex = True)\n",
    "data_fs = data_fs.set_index(data_fs.columns[0])\n",
    "data_fs = data_fs[~data_fs.index.duplicated(keep='first')]\n",
    "data_fs = data_fs.filter(like = '12', axis = 1)\n",
    "\n",
    "data_fs.head()"
   ]
  },
  {
   "cell_type": "markdown",
   "metadata": {},
   "source": [
    "1. 첫 번째 열인 계정명에는 **'계산에 참여한 계정 펼치기'** 라는 글자가 들어간 항목이 있습니다. 이는 페이지 내에서 펼치기 역할을 하는 [+] 항목에 해당하며 `replace()` 함수를 이용해 해당 글자를 삭제합니다.\n",
    "2. 첫 번째 열의 계정명을 인덱스로 변경합니다.\n",
    "3. 인덱스에는 중복되는 계정명이 다수 있는데 대부분 불필요한 항목입니다. `duplicated()` 함수를 사용해 중복되는 항목 중, 첫번째 항목만을 남겨둡니다.\n",
    "4. 간혹 12월 결산법인이 아닌 종목이거나 연간 재무제표임에도 불구하고 분기 재무제표가 들어간 경우가 있습니다. 비교의 통일성을 위해 `filter()` 함수를 통해 12라는 숫자가 포함된 열만 선택합니다.\n",
    "\n",
    "데이터를 확인해보면 연간 기준 재무제표가 정리되었습니다. "
   ]
  },
  {
   "cell_type": "code",
   "execution_count": 15,
   "metadata": {
    "deletable": false,
    "editable": false,
    "run_control": {
     "frozen": true
    }
   },
   "outputs": [],
   "source": [
    "data_fs.to_csv('data/KOR_fs/005930_fs.csv')"
   ]
  },
  {
   "cell_type": "markdown",
   "metadata": {
    "deletable": false,
    "editable": false,
    "run_control": {
     "frozen": true
    }
   },
   "source": [
    "data 폴더의 KOR_fs 폴더 내에 티커_fs.csv 이름으로 저장합니다."
   ]
  },
  {
   "cell_type": "markdown",
   "metadata": {},
   "source": [
    "### 6.2.2 가치지표 계산하기"
   ]
  },
  {
   "cell_type": "markdown",
   "metadata": {},
   "source": [
    "위에서 구한 재무제표 데이터를 이용해 가치지표를 계산할 수 있습니다. 흔히 사용되는 가치지표는 **PER, PBR, PCR, PSR**이며 분자는 주가, 분모는 재무제표 데이터가 사용됩니다."
   ]
  },
  {
   "cell_type": "markdown",
   "metadata": {},
   "source": [
    "```{table} 가치지표의 종류\n",
    ":name: value_table\n",
    "\n",
    "| 지표 | 분모 | \n",
    "| --- | --- |\n",
    "| PER | Earnings (순이익) |\n",
    "| PBR | Book Value (순자산) |\n",
    "| PCR | Cashflow (영업활동현금흐름) |\n",
    "| PSR | Sales (매출액) |\n",
    "```\n",
    "\n",
    "```{note}\n",
    "PCR의 Cashflow는 원래 [당기순이익 - 비지배순이익 + 감가상각비 + 무형자산상각비]를 통해 계산되나 이를 구하기는 지나치게 복잡하며, 기업의 현금흐름 중 가장 중요한 것은 영업활동현금흐름이기에 이를 대용치로 사용하도록 합니다.\n",
    "```\n",
    "\n",
    "위에서 구한 재무제표 항목에서 분모 부분에 해당하는 데이터만 선택해보겠습니다."
   ]
  },
  {
   "cell_type": "code",
   "execution_count": 12,
   "metadata": {},
   "outputs": [
    {
     "data": {
      "text/html": [
       "<div>\n",
       "<style scoped>\n",
       "    .dataframe tbody tr th:only-of-type {\n",
       "        vertical-align: middle;\n",
       "    }\n",
       "\n",
       "    .dataframe tbody tr th {\n",
       "        vertical-align: top;\n",
       "    }\n",
       "\n",
       "    .dataframe thead th {\n",
       "        text-align: right;\n",
       "    }\n",
       "</style>\n",
       "<table border=\"1\" class=\"dataframe\">\n",
       "  <thead>\n",
       "    <tr style=\"text-align: right;\">\n",
       "      <th></th>\n",
       "      <th>2020/12</th>\n",
       "    </tr>\n",
       "    <tr>\n",
       "      <th>IFRS(연결)</th>\n",
       "      <th></th>\n",
       "    </tr>\n",
       "  </thead>\n",
       "  <tbody>\n",
       "    <tr>\n",
       "      <th>지배주주순이익</th>\n",
       "      <td>260908.0</td>\n",
       "    </tr>\n",
       "    <tr>\n",
       "      <th>자본</th>\n",
       "      <td>2759480.0</td>\n",
       "    </tr>\n",
       "    <tr>\n",
       "      <th>영업활동으로인한현금흐름</th>\n",
       "      <td>652870.0</td>\n",
       "    </tr>\n",
       "    <tr>\n",
       "      <th>매출액</th>\n",
       "      <td>2368070.0</td>\n",
       "    </tr>\n",
       "  </tbody>\n",
       "</table>\n",
       "</div>"
      ],
      "text/plain": [
       "                2020/12\n",
       "IFRS(연결)               \n",
       "지배주주순이익        260908.0\n",
       "자본            2759480.0\n",
       "영업활동으로인한현금흐름   652870.0\n",
       "매출액           2368070.0"
      ]
     },
     "execution_count": 12,
     "metadata": {},
     "output_type": "execute_result"
    }
   ],
   "source": [
    "if not os.path.exists('data/KOR_value'):\n",
    "    os.makedirs('data/KOR_value')\n",
    "    \n",
    "value_type = ['지배주주순이익', '자본', '영업활동으로인한현금흐름', '매출액']\n",
    "value_index = data_fs.loc[value_type].iloc[:, [-1]]\n",
    "\n",
    "value_index"
   ]
  },
  {
   "cell_type": "markdown",
   "metadata": {},
   "source": [
    "1. data 폴더 내에 KOR_value 폴더를 생성합니다.\n",
    "2. 분모에 해당하는 항목을 value_type에 저장한 후 재무제표 항목에서 해당 데이터를 찾으며, 맨 오른쪽 즉 최근년도 재무제표 데이터를 선택합니다.\n",
    "\n",
    "다음으로 가치지표 계산을 위해 종가와 발행주식수를 수집해야 합니다. 예를 들어 PER를 계산하는 방법은 다음과 같습니다.\n",
    "\n",
    "$$PER = \\frac{Price}{EPS} = \\frac{주가}{주당순이익}$$\n",
    "\n",
    "주당순이익은 순이익을 발행주식수로 나눈 값이며, 해당 값의 계산하려면 주가와 발행주식수를 추가로 구해야 합니다. 이 또한 Company Guide 사이트에서 구할 수 있으며, 불필요한 부분을 제거한 URL은 다음과 같습니다.\n",
    "\n",
    "```\n",
    "http://comp.fnguide.com/SVO2/ASP/SVD_main.asp?pGB=1&gicode=A005930\n",
    "```\n",
    "\n",
    "위의 주소 역시 A 뒤의 6자리 티커만 변경하면 해당 종목의 스냅샷 페이지로 이동하게 됩니다.\n",
    "\n",
    "```{figure} image/05_crawl_practice_comp_price.png\n",
    "---\n",
    "name: 05_crawl_practice_comp_price\n",
    "---\n",
    "Company Guide 스냅샷 화면\n",
    "```\n",
    "\n",
    "시세현황표 내에 종가와 발행주식수가 있으므로, 이를 크롤링하겠습니다."
   ]
  },
  {
   "cell_type": "code",
   "execution_count": 13,
   "metadata": {},
   "outputs": [
    {
     "data": {
      "text/html": [
       "<div>\n",
       "<style scoped>\n",
       "    .dataframe tbody tr th:only-of-type {\n",
       "        vertical-align: middle;\n",
       "    }\n",
       "\n",
       "    .dataframe tbody tr th {\n",
       "        vertical-align: top;\n",
       "    }\n",
       "\n",
       "    .dataframe thead th {\n",
       "        text-align: right;\n",
       "    }\n",
       "</style>\n",
       "<table border=\"1\" class=\"dataframe\">\n",
       "  <thead>\n",
       "    <tr style=\"text-align: right;\">\n",
       "      <th></th>\n",
       "      <th>0</th>\n",
       "      <th>1</th>\n",
       "      <th>2</th>\n",
       "      <th>3</th>\n",
       "    </tr>\n",
       "  </thead>\n",
       "  <tbody>\n",
       "    <tr>\n",
       "      <th>0</th>\n",
       "      <td>종가/ 전일대비</td>\n",
       "      <td>83,200/ -400</td>\n",
       "      <td>거래량</td>\n",
       "      <td>12915282</td>\n",
       "    </tr>\n",
       "    <tr>\n",
       "      <th>1</th>\n",
       "      <td>52주.최고가/ 최저가</td>\n",
       "      <td>91,000/ 47,850</td>\n",
       "      <td>거래대금(억원)</td>\n",
       "      <td>10783</td>\n",
       "    </tr>\n",
       "    <tr>\n",
       "      <th>2</th>\n",
       "      <td>수익률(1M/ 3M/ 6M/ 1Y)</td>\n",
       "      <td>+0.48/ -8.17/ +37.75/ +68.93</td>\n",
       "      <td>외국인 보유비중</td>\n",
       "      <td>54.78</td>\n",
       "    </tr>\n",
       "    <tr>\n",
       "      <th>3</th>\n",
       "      <td>시가총액(상장예정포함,억원)</td>\n",
       "      <td>5584847</td>\n",
       "      <td>베타(1년)</td>\n",
       "      <td>1.11414</td>\n",
       "    </tr>\n",
       "    <tr>\n",
       "      <th>4</th>\n",
       "      <td>시가총액(보통주,억원)</td>\n",
       "      <td>4966859</td>\n",
       "      <td>액면가</td>\n",
       "      <td>100</td>\n",
       "    </tr>\n",
       "    <tr>\n",
       "      <th>5</th>\n",
       "      <td>NaN</td>\n",
       "      <td>NaN</td>\n",
       "      <td>NaN</td>\n",
       "      <td>NaN</td>\n",
       "    </tr>\n",
       "    <tr>\n",
       "      <th>6</th>\n",
       "      <td>발행주식수(보통주/ 우선주)</td>\n",
       "      <td>5,969,782,550/ 822,886,700</td>\n",
       "      <td>유동주식수/비율(보통주)</td>\n",
       "      <td>4,706,589,110 / 78.84</td>\n",
       "    </tr>\n",
       "  </tbody>\n",
       "</table>\n",
       "</div>"
      ],
      "text/plain": [
       "                     0                             1              2  \\\n",
       "0             종가/ 전일대비                  83,200/ -400            거래량   \n",
       "1         52주.최고가/ 최저가                91,000/ 47,850       거래대금(억원)   \n",
       "2  수익률(1M/ 3M/ 6M/ 1Y)  +0.48/ -8.17/ +37.75/ +68.93       외국인 보유비중   \n",
       "3      시가총액(상장예정포함,억원)                       5584847         베타(1년)   \n",
       "4         시가총액(보통주,억원)                       4966859            액면가   \n",
       "5                  NaN                           NaN            NaN   \n",
       "6      발행주식수(보통주/ 우선주)    5,969,782,550/ 822,886,700  유동주식수/비율(보통주)   \n",
       "\n",
       "                       3  \n",
       "0               12915282  \n",
       "1                  10783  \n",
       "2                  54.78  \n",
       "3                1.11414  \n",
       "4                    100  \n",
       "5                    NaN  \n",
       "6  4,706,589,110 / 78.84  "
      ]
     },
     "execution_count": 13,
     "metadata": {},
     "output_type": "execute_result"
    }
   ],
   "source": [
    "url = 'http://comp.fnguide.com/SVO2/ASP/SVD_Main.asp?pGB=1&gicode=A005930'\n",
    "data = pd.read_html(url)[0]\n",
    "\n",
    "data"
   ]
  },
  {
   "cell_type": "code",
   "execution_count": 14,
   "metadata": {},
   "outputs": [
    {
     "data": {
      "text/plain": [
       "83200"
      ]
     },
     "execution_count": 14,
     "metadata": {},
     "output_type": "execute_result"
    }
   ],
   "source": [
    "price = data.iloc[0, 1].split()[0]\n",
    "price = price.replace(\",\", \"\")\n",
    "price = int(re.findall(\"[0-9]+\", price)[0])\n",
    "\n",
    "price"
   ]
  },
  {
   "cell_type": "markdown",
   "metadata": {},
   "source": [
    "1. [종가/ 전일대비]의 숫자에 해당하는 부분을 선택합니다. `split()` 함수를 통해 데이터를 나눈 후, 종가에 해당하는 첫번째 데이터를 선택합니다.\n",
    "2. 쉼표(,)를 없애줍니다.\n",
    "3. `findall()` 함수 내부에 정규표현식을 통해 숫자 부분만을 선택하고, 이를 정수형으로 변경해줍니다.\n",
    "\n",
    "이를 통해 종가에 해당하는 부분이 선택되었습니다. 보통주의 발행주식수 역시 이와 유사한 방법으로 구할 수 있습니다."
   ]
  },
  {
   "cell_type": "code",
   "execution_count": 15,
   "metadata": {},
   "outputs": [
    {
     "data": {
      "text/plain": [
       "5969782550"
      ]
     },
     "execution_count": 15,
     "metadata": {},
     "output_type": "execute_result"
    }
   ],
   "source": [
    "share = data.iloc[6, 1].split()[0]\n",
    "share = share.replace(\",\", \"\")\n",
    "share = int(re.findall(\"[0-9]+\", share)[0])\n",
    "\n",
    "share"
   ]
  },
  {
   "cell_type": "markdown",
   "metadata": {},
   "source": [
    "이제 재무 데이터, 현재 주가, 발행주식수를 이용해 가치지표를 계산해보겠습니다."
   ]
  },
  {
   "cell_type": "code",
   "execution_count": 19,
   "metadata": {},
   "outputs": [
    {
     "data": {
      "text/html": [
       "<div>\n",
       "<style scoped>\n",
       "    .dataframe tbody tr th:only-of-type {\n",
       "        vertical-align: middle;\n",
       "    }\n",
       "\n",
       "    .dataframe tbody tr th {\n",
       "        vertical-align: top;\n",
       "    }\n",
       "\n",
       "    .dataframe thead th {\n",
       "        text-align: right;\n",
       "    }\n",
       "</style>\n",
       "<table border=\"1\" class=\"dataframe\">\n",
       "  <thead>\n",
       "    <tr style=\"text-align: right;\">\n",
       "      <th></th>\n",
       "      <th>2020/12</th>\n",
       "    </tr>\n",
       "  </thead>\n",
       "  <tbody>\n",
       "    <tr>\n",
       "      <th>PER</th>\n",
       "      <td>19.036822</td>\n",
       "    </tr>\n",
       "    <tr>\n",
       "      <th>PBR</th>\n",
       "      <td>1.799926</td>\n",
       "    </tr>\n",
       "    <tr>\n",
       "      <th>PCR</th>\n",
       "      <td>7.607731</td>\n",
       "    </tr>\n",
       "    <tr>\n",
       "      <th>PSR</th>\n",
       "      <td>2.097429</td>\n",
       "    </tr>\n",
       "  </tbody>\n",
       "</table>\n",
       "</div>"
      ],
      "text/plain": [
       "       2020/12\n",
       "PER  19.036822\n",
       "PBR   1.799926\n",
       "PCR   7.607731\n",
       "PSR   2.097429"
      ]
     },
     "execution_count": 19,
     "metadata": {},
     "output_type": "execute_result"
    }
   ],
   "source": [
    "import numpy as np\n",
    "\n",
    "data_value = price / (value_index.iloc[:, [0]] * 100000000 / share)\n",
    "data_value.index = ['PER', 'PBR', 'PCR', 'PSR']\n",
    "data_value[data_value.iloc[:, 0] < 0] = np.nan\n",
    "data_value = data_value.replace(np.inf, np.nan)\n",
    "\n",
    "data_value"
   ]
  },
  {
   "cell_type": "markdown",
   "metadata": {},
   "source": [
    "1. 분자에는 현재 주가를 입력하며, 분모에는 재무 데이터를 보통주 발행주식수로 나눈 값을 입력합니다. 단, 주가는 원 단위, 재무 데이터는 억 원 단위이므로, 둘 사이에 단위를 동일하게 맞춰주기 위해 분모에 억을 곱합니다.\n",
    "2. 인덱스를 가치지표로 변경합니다.\n",
    "3. 가치지표가 음수인 경우는 NA로 변경해줍니다.\n",
    "4. 일부 종목은 재무 데이터가 0으로 표기되어 가치지표가 Inf로 계산되는 경우가 있습니다. `replace()` 함수를 이용해 Inf 데이터를 NA로 변경합니다.\n",
    "\n",
    "결과를 확인해보면 4가지 가치지표가 잘 계산되었습니다."
   ]
  },
  {
   "cell_type": "code",
   "execution_count": null,
   "metadata": {
    "deletable": false,
    "editable": false,
    "run_control": {
     "frozen": true
    }
   },
   "outputs": [],
   "source": [
    "data_value.to_csv('data/KOR_value/005930_value.csv')"
   ]
  },
  {
   "cell_type": "markdown",
   "metadata": {},
   "source": [
    "data 폴더의 KOR_value 폴더 내에 티커_value.csv 이름으로 저장합니다.\n",
    "\n",
    "```{note}\n",
    "분모에 사용되는 재무데이터의 구체적인 항목과 발행주식수를 계산하는 방법의 차이로 인해 여러 업체에서 제공하는 가치지표와 다소 차이가 발생할 수 있습니다.\n",
    "```"
   ]
  },
  {
   "cell_type": "markdown",
   "metadata": {},
   "source": [
    "### 6.2.3 전 종목 재무제표 및 가치지표 다운로드"
   ]
  },
  {
   "cell_type": "markdown",
   "metadata": {},
   "source": [
    "위 코드에서 for loop 구문을 이용해 URL 중 6자리 티커에 해당하는 값만 변경해주면 모든 종목의 재무제표를 다운로드하고 이를 바탕으로 가치지표를 계산할 수 있습니다. 해당 코드는 다음과 같습니다."
   ]
  },
  {
   "cell_type": "code",
   "execution_count": null,
   "metadata": {
    "deletable": false,
    "editable": false,
    "hide_input": false,
    "run_control": {
     "frozen": true
    }
   },
   "outputs": [
    {
     "name": "stderr",
     "output_type": "stream",
     "text": [
      " 38%|█████████████████████████████▎                                               | 826/2173 [39:35<1:03:03,  2.81s/it]"
     ]
    }
   ],
   "source": [
    "import pandas as pd\n",
    "import numpy as np\n",
    "import os\n",
    "import time\n",
    "import re\n",
    "from tqdm import tqdm\n",
    "\n",
    "if not os.path.exists('data/KOR_fs'):\n",
    "    os.makedirs('data/KOR_fs')\n",
    "    \n",
    "if not os.path.exists('data/KOR_value'):\n",
    "    os.makedirs('data/KOR_value')\n",
    "\n",
    "KOR_ticker = pd.read_csv('data/KOR_ticker.csv', index_col=0)\n",
    "KOR_ticker['종목코드'] = KOR_ticker['종목코드'].astype(np.str).str.zfill(6)\n",
    "error_list = []\n",
    "\n",
    "for i in tqdm(range(0, len(KOR_ticker))):\n",
    "    \n",
    "    # 빈 데이터프레임 생성\n",
    "    data_fs = pd.DataFrame({'' : [np.nan]})\n",
    "    data_value = pd.DataFrame({'' : [np.nan]})\n",
    "    \n",
    "    # 티커 선택\n",
    "    name = KOR_ticker['종목코드'][i]\n",
    "    \n",
    "    # 오류 발생 시 이를 무시하고 다음 루프로 진행\n",
    "    try:\n",
    "        # url 생성\n",
    "        url = 'http://comp.fnguide.com/SVO2/ASP/SVD_Finance.asp?pGB=1&gicode=A'+name        \n",
    "        \n",
    "        # 데이터 다운로드 후 테이블 추출    \n",
    "        data = pd.read_html(url, displayed_only = False)        \n",
    "        data_IS = data[0]\n",
    "        data_BS = data[2]\n",
    "        data_CF = data[4]\n",
    "        data_IS = data_IS.iloc[:, 0:(len(data_IS.columns)-2)]\n",
    "        \n",
    "        # 클렌징\n",
    "        data_fs = pd.concat([data_IS, data_BS, data_CF]).reset_index(drop=True)\n",
    "        data_fs.iloc[:, 0] = data_fs.iloc[:, 0].replace({'계산에 참여한 계정 펼치기':''}, regex = True)\n",
    "        data_fs = data_fs.set_index(data_fs.columns[0])\n",
    "        data_fs = data_fs[~data_fs.index.duplicated(keep='first')]\n",
    "        data_fs = data_fs.filter(like = '12', axis = 1)\n",
    "        \n",
    "        # 가치 지표 선택\n",
    "        value_type = ['지배주주순이익', '자본', '영업활동으로인한현금흐름', '매출액']            \n",
    "        value_index = data_fs.loc[value_type].iloc[:, [-1]]\n",
    "        \n",
    "        # 현재 주가\n",
    "        url_snap = 'http://comp.fnguide.com/SVO2/ASP/SVD_Main.asp?pGB=1&gicode=A'+name\n",
    "        data_snap = pd.read_html(url_snap)[0]\n",
    "        \n",
    "        price = data_snap.iloc[0, 1].split()[0]\n",
    "        price = price.replace(\",\", \"\")\n",
    "        price = int(re.findall(\"[0-9]+\", price)[0])\n",
    "        \n",
    "        # 상장 주식수\n",
    "        share = data_snap.iloc[6, 1].split()[0]\n",
    "        share = share.replace(\",\", \"\")\n",
    "        share = int(re.findall(\"[0-9]+\", share)[0])\n",
    "        \n",
    "        data_value = price / (value_index.iloc[:, [0]] * 100000000 / share)\n",
    "        data_value.index = ['PER', 'PBR', 'PCR', 'PSR']\n",
    "        data_value[data_value.iloc[:, 0] < 0] = np.nan     \n",
    "        data_value = data_value.replace(np.inf, np.nan)\n",
    "        \n",
    "    except:\n",
    "        # 오류 발생시 해당 종목명을 저장하고 다음 루프로 이동        \n",
    "        error_list.append(name)     \n",
    "    \n",
    "    # 다운로드 받은 파일을 생성한 폴더 내 csv 파일로 저장    \n",
    "    data_fs.to_csv('data/KOR_fs/'+name+'_fs.csv')\n",
    "    data_value.to_csv('data/KOR_value/'+name+'_value.csv')\n",
    "    \n",
    "    # 타임슬립 적용\n",
    "    time.sleep(2)"
   ]
  },
  {
   "cell_type": "markdown",
   "metadata": {},
   "source": [
    "```{note}\n",
    "재무제표 데이터 다운로드 시 에러가 발생하는 종목은 다음과 같습니다.\n",
    "\n",
    "- 금융주의 경우 매출액이 없어 PSR 계산 시 에러 발생\n",
    "- 지배주주순이익 없는 종목의 경우 PER 계산 시 에러 발생\n",
    "- 12월 결산 아닌 종목의 경우 필터링 과정시 에러 발생\n",
    "```"
   ]
  }
 ],
 "metadata": {
  "colab": {
   "name": "06-crawling_actual.Rmd.ipynb",
   "provenance": []
  },
  "kernelspec": {
   "display_name": "Python 3",
   "language": "python",
   "name": "python3"
  },
  "language_info": {
   "codemirror_mode": {
    "name": "ipython",
    "version": 3
   },
   "file_extension": ".py",
   "mimetype": "text/x-python",
   "name": "python",
   "nbconvert_exporter": "python",
   "pygments_lexer": "ipython3",
   "version": "3.8.5"
  },
  "toc": {
   "base_numbering": 1,
   "nav_menu": {},
   "number_sections": true,
   "sideBar": true,
   "skip_h1_title": false,
   "title_cell": "Table of Contents",
   "title_sidebar": "Contents",
   "toc_cell": false,
   "toc_position": {},
   "toc_section_display": true,
   "toc_window_display": false
  }
 },
 "nbformat": 4,
 "nbformat_minor": 1
}
