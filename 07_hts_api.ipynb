{
 "cells": [
  {
   "cell_type": "markdown",
   "metadata": {},
   "source": [
    "# 7. 증권사 API 연결 및 매매\n"
   ]
  },
  {
   "cell_type": "markdown",
   "metadata": {},
   "source": [
    "증권사 API?\n",
    "\n",
    "비교"
   ]
  },
  {
   "cell_type": "markdown",
   "metadata": {},
   "source": [
    "### 7.1 아나콘다에서 32비트 가상환경 만들기"
   ]
  },
  {
   "attachments": {},
   "cell_type": "markdown",
   "metadata": {},
   "source": [
    "먼저 키움 API를 사용하기 위해서는 64비트가 아닌 32비트 환경이 필요합니다. 따라서 Anaconda prompt 실행하시고 다음과 같이 입력합니다.\n",
    "\n",
    "```\n",
    "conda info\n",
    "```\n",
    "\n",
    "위 코드의 결과를 보면 현재 64비트임을 알 수 있습니다. 따라서 아래와 같은 코드를 입력해 32비트로 변경합니다.\n",
    "\n",
    "```\n",
    "set CONDA_FORCE_32BIT=1\n",
    "conda info\n",
    "```\n",
    "\n",
    "만약 다시 64비트로 변경하고 싶다면 다음과 같이 입력합니다.\n",
    "\n",
    "```\n",
    "set CONDA_FORCE_32BIT=0\n",
    "```\n",
    "\n",
    "아나콘다를 32비트로 바꾸었으면 32비트 가상환경을 만듭니다. 현재 사용중인 파이썬 버전이 3.8.5 이므로, 32비트 가상환경을 만들기 위해 다음과 같이 입력합니다. python= 뒤에 본인이 사용중인 파이썬 버전을 입력하시면 됩니다.\n",
    "\n",
    "```\n",
    "conda create --name py38_32 python=3.8.5 \n",
    "conda activate py38_32 \n",
    "```"
   ]
  },
  {
   "cell_type": "markdown",
   "metadata": {},
   "source": [
    "## 7.2 파이참에서 32비트 환경 설정하기"
   ]
  },
  {
   "cell_type": "markdown",
   "metadata": {},
   "source": [
    "https://stynxh.github.io/2020-09-23-python-path-for-anaconda-venv-in-win10-korean/\n",
    "\n",
    "where python 통해 가상환경 확인하기\n",
    "\n",
    "Conda Environment를 클릭하고 앞서만든 가상환경을 연동시켜줍니다. \n",
    "\n",
    "그리고 실행된 파이참 파일에서 파이썬이 32비트인지 확인합니다.\n",
    "\n",
    "```\n",
    "import platform\n",
    "print(platform.architecture())\n",
    "```"
   ]
  },
  {
   "cell_type": "markdown",
   "metadata": {},
   "source": [
    "## 7.3 키움 계좌개설 및 모듈 설치"
   ]
  },
  {
   "cell_type": "markdown",
   "metadata": {},
   "source": [
    "Blah Blah"
   ]
  },
  {
   "cell_type": "markdown",
   "metadata": {},
   "source": [
    "## 7.4 PyQT 설치하기"
   ]
  },
  {
   "cell_type": "code",
   "execution_count": null,
   "metadata": {},
   "outputs": [],
   "source": []
  }
 ],
 "metadata": {
  "kernelspec": {
   "display_name": "Python 3",
   "language": "python",
   "name": "python3"
  },
  "language_info": {
   "codemirror_mode": {
    "name": "ipython",
    "version": 3
   },
   "file_extension": ".py",
   "mimetype": "text/x-python",
   "name": "python",
   "nbconvert_exporter": "python",
   "pygments_lexer": "ipython3",
   "version": "3.8.5"
  }
 },
 "nbformat": 4,
 "nbformat_minor": 4
}
