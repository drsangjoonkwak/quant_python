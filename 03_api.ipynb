{
 "cells": [
  {
   "cell_type": "markdown",
   "metadata": {
    "id": "n-pyd-FYa1Ch"
   },
   "source": [
    "# 3.1 API를 이용한 Quandl 데이터 다운로드"
   ]
  },
  {
   "cell_type": "code",
   "execution_count": 1,
   "metadata": {
    "colab": {
     "base_uri": "https://localhost:8080/",
     "height": 204
    },
    "id": "R9gkI-kUa48i",
    "outputId": "ea99ed09-661a-414b-dae5-a979712825a7"
   },
   "outputs": [
    {
     "data": {
      "text/html": [
       "<div>\n",
       "<style scoped>\n",
       "    .dataframe tbody tr th:only-of-type {\n",
       "        vertical-align: middle;\n",
       "    }\n",
       "\n",
       "    .dataframe tbody tr th {\n",
       "        vertical-align: top;\n",
       "    }\n",
       "\n",
       "    .dataframe thead th {\n",
       "        text-align: right;\n",
       "    }\n",
       "</style>\n",
       "<table border=\"1\" class=\"dataframe\">\n",
       "  <thead>\n",
       "    <tr style=\"text-align: right;\">\n",
       "      <th></th>\n",
       "      <th>Date</th>\n",
       "      <th>Open</th>\n",
       "      <th>High</th>\n",
       "      <th>Low</th>\n",
       "      <th>Close</th>\n",
       "      <th>Volume</th>\n",
       "      <th>Ex-Dividend</th>\n",
       "      <th>Split Ratio</th>\n",
       "      <th>Adj. Open</th>\n",
       "      <th>Adj. High</th>\n",
       "      <th>Adj. Low</th>\n",
       "      <th>Adj. Close</th>\n",
       "      <th>Adj. Volume</th>\n",
       "    </tr>\n",
       "  </thead>\n",
       "  <tbody>\n",
       "    <tr>\n",
       "      <th>0</th>\n",
       "      <td>2018-03-27</td>\n",
       "      <td>173.68</td>\n",
       "      <td>175.15</td>\n",
       "      <td>166.92</td>\n",
       "      <td>168.340</td>\n",
       "      <td>38962839.0</td>\n",
       "      <td>0.0</td>\n",
       "      <td>1.0</td>\n",
       "      <td>173.68</td>\n",
       "      <td>175.15</td>\n",
       "      <td>166.92</td>\n",
       "      <td>168.340</td>\n",
       "      <td>38962839.0</td>\n",
       "    </tr>\n",
       "    <tr>\n",
       "      <th>1</th>\n",
       "      <td>2018-03-26</td>\n",
       "      <td>168.07</td>\n",
       "      <td>173.10</td>\n",
       "      <td>166.44</td>\n",
       "      <td>172.770</td>\n",
       "      <td>36272617.0</td>\n",
       "      <td>0.0</td>\n",
       "      <td>1.0</td>\n",
       "      <td>168.07</td>\n",
       "      <td>173.10</td>\n",
       "      <td>166.44</td>\n",
       "      <td>172.770</td>\n",
       "      <td>36272617.0</td>\n",
       "    </tr>\n",
       "    <tr>\n",
       "      <th>2</th>\n",
       "      <td>2018-03-23</td>\n",
       "      <td>168.39</td>\n",
       "      <td>169.92</td>\n",
       "      <td>164.94</td>\n",
       "      <td>164.940</td>\n",
       "      <td>40248954.0</td>\n",
       "      <td>0.0</td>\n",
       "      <td>1.0</td>\n",
       "      <td>168.39</td>\n",
       "      <td>169.92</td>\n",
       "      <td>164.94</td>\n",
       "      <td>164.940</td>\n",
       "      <td>40248954.0</td>\n",
       "    </tr>\n",
       "    <tr>\n",
       "      <th>3</th>\n",
       "      <td>2018-03-22</td>\n",
       "      <td>170.00</td>\n",
       "      <td>172.68</td>\n",
       "      <td>168.60</td>\n",
       "      <td>168.845</td>\n",
       "      <td>41051076.0</td>\n",
       "      <td>0.0</td>\n",
       "      <td>1.0</td>\n",
       "      <td>170.00</td>\n",
       "      <td>172.68</td>\n",
       "      <td>168.60</td>\n",
       "      <td>168.845</td>\n",
       "      <td>41051076.0</td>\n",
       "    </tr>\n",
       "    <tr>\n",
       "      <th>4</th>\n",
       "      <td>2018-03-21</td>\n",
       "      <td>175.04</td>\n",
       "      <td>175.09</td>\n",
       "      <td>171.26</td>\n",
       "      <td>171.270</td>\n",
       "      <td>35247358.0</td>\n",
       "      <td>0.0</td>\n",
       "      <td>1.0</td>\n",
       "      <td>175.04</td>\n",
       "      <td>175.09</td>\n",
       "      <td>171.26</td>\n",
       "      <td>171.270</td>\n",
       "      <td>35247358.0</td>\n",
       "    </tr>\n",
       "  </tbody>\n",
       "</table>\n",
       "</div>"
      ],
      "text/plain": [
       "         Date    Open    High     Low    Close      Volume  Ex-Dividend  \\\n",
       "0  2018-03-27  173.68  175.15  166.92  168.340  38962839.0          0.0   \n",
       "1  2018-03-26  168.07  173.10  166.44  172.770  36272617.0          0.0   \n",
       "2  2018-03-23  168.39  169.92  164.94  164.940  40248954.0          0.0   \n",
       "3  2018-03-22  170.00  172.68  168.60  168.845  41051076.0          0.0   \n",
       "4  2018-03-21  175.04  175.09  171.26  171.270  35247358.0          0.0   \n",
       "\n",
       "   Split Ratio  Adj. Open  Adj. High  Adj. Low  Adj. Close  Adj. Volume  \n",
       "0          1.0     173.68     175.15    166.92     168.340   38962839.0  \n",
       "1          1.0     168.07     173.10    166.44     172.770   36272617.0  \n",
       "2          1.0     168.39     169.92    164.94     164.940   40248954.0  \n",
       "3          1.0     170.00     172.68    168.60     168.845   41051076.0  \n",
       "4          1.0     175.04     175.09    171.26     171.270   35247358.0  "
      ]
     },
     "execution_count": 1,
     "metadata": {},
     "output_type": "execute_result"
    }
   ],
   "source": [
    "import pandas as pd\n",
    "url_aapl = 'https://www.quandl.com/api/v3/datasets/WIKI/AAPL/data.csv?api_key=xw3NU3xLUZ7vZgrz5QnG'\n",
    "data_aapl = pd.read_csv(url_aapl)\n",
    "\n",
    "data_aapl.head()"
   ]
  },
  {
   "cell_type": "markdown",
   "metadata": {
    "id": "5xHaWGLzbBue"
   },
   "source": [
    "# 3.2 DataReader() 함수를 이용한 API 다운로드"
   ]
  },
  {
   "cell_type": "markdown",
   "metadata": {
    "id": "TPUz6Oc3dQFc"
   },
   "source": [
    "## 3.2.1 주가 다운로드"
   ]
  },
  {
   "cell_type": "code",
   "execution_count": 2,
   "metadata": {
    "colab": {
     "base_uri": "https://localhost:8080/",
     "height": 235
    },
    "id": "E0C3-5eaa5aP",
    "outputId": "6d0eaf25-a7af-444b-be45-9e2bfba2e9f2"
   },
   "outputs": [
    {
     "data": {
      "text/html": [
       "<div>\n",
       "<style scoped>\n",
       "    .dataframe tbody tr th:only-of-type {\n",
       "        vertical-align: middle;\n",
       "    }\n",
       "\n",
       "    .dataframe tbody tr th {\n",
       "        vertical-align: top;\n",
       "    }\n",
       "\n",
       "    .dataframe thead th {\n",
       "        text-align: right;\n",
       "    }\n",
       "</style>\n",
       "<table border=\"1\" class=\"dataframe\">\n",
       "  <thead>\n",
       "    <tr style=\"text-align: right;\">\n",
       "      <th></th>\n",
       "      <th>High</th>\n",
       "      <th>Low</th>\n",
       "      <th>Open</th>\n",
       "      <th>Close</th>\n",
       "      <th>Volume</th>\n",
       "      <th>Adj Close</th>\n",
       "    </tr>\n",
       "    <tr>\n",
       "      <th>Date</th>\n",
       "      <th></th>\n",
       "      <th></th>\n",
       "      <th></th>\n",
       "      <th></th>\n",
       "      <th></th>\n",
       "      <th></th>\n",
       "    </tr>\n",
       "  </thead>\n",
       "  <tbody>\n",
       "    <tr>\n",
       "      <th>2016-02-08</th>\n",
       "      <td>23.924999</td>\n",
       "      <td>23.260000</td>\n",
       "      <td>23.282499</td>\n",
       "      <td>23.752501</td>\n",
       "      <td>216085600.0</td>\n",
       "      <td>22.125422</td>\n",
       "    </tr>\n",
       "    <tr>\n",
       "      <th>2016-02-09</th>\n",
       "      <td>23.985001</td>\n",
       "      <td>23.482500</td>\n",
       "      <td>23.572500</td>\n",
       "      <td>23.747499</td>\n",
       "      <td>177324800.0</td>\n",
       "      <td>22.120768</td>\n",
       "    </tr>\n",
       "    <tr>\n",
       "      <th>2016-02-10</th>\n",
       "      <td>24.087500</td>\n",
       "      <td>23.525000</td>\n",
       "      <td>23.980000</td>\n",
       "      <td>23.567499</td>\n",
       "      <td>169374400.0</td>\n",
       "      <td>21.953094</td>\n",
       "    </tr>\n",
       "    <tr>\n",
       "      <th>2016-02-11</th>\n",
       "      <td>23.680000</td>\n",
       "      <td>23.147499</td>\n",
       "      <td>23.447500</td>\n",
       "      <td>23.424999</td>\n",
       "      <td>200298800.0</td>\n",
       "      <td>21.820358</td>\n",
       "    </tr>\n",
       "    <tr>\n",
       "      <th>2016-02-12</th>\n",
       "      <td>23.625000</td>\n",
       "      <td>23.252501</td>\n",
       "      <td>23.547501</td>\n",
       "      <td>23.497499</td>\n",
       "      <td>161405600.0</td>\n",
       "      <td>21.887894</td>\n",
       "    </tr>\n",
       "  </tbody>\n",
       "</table>\n",
       "</div>"
      ],
      "text/plain": [
       "                 High        Low       Open      Close       Volume  Adj Close\n",
       "Date                                                                          \n",
       "2016-02-08  23.924999  23.260000  23.282499  23.752501  216085600.0  22.125422\n",
       "2016-02-09  23.985001  23.482500  23.572500  23.747499  177324800.0  22.120768\n",
       "2016-02-10  24.087500  23.525000  23.980000  23.567499  169374400.0  21.953094\n",
       "2016-02-11  23.680000  23.147499  23.447500  23.424999  200298800.0  21.820358\n",
       "2016-02-12  23.625000  23.252501  23.547501  23.497499  161405600.0  21.887894"
      ]
     },
     "execution_count": 2,
     "metadata": {},
     "output_type": "execute_result"
    }
   ],
   "source": [
    "# 참조: https://wikidocs.net/4370\n",
    "\n",
    "import pandas_datareader as web\n",
    "AAPL = web.DataReader('AAPL', 'yahoo')\n",
    "AAPL.head()"
   ]
  },
  {
   "cell_type": "code",
   "execution_count": 3,
   "metadata": {
    "colab": {
     "base_uri": "https://localhost:8080/",
     "height": 287
    },
    "id": "GGKGyX6ZbJOl",
    "outputId": "4ab1d473-a8fa-43f6-fd5c-b2ceabfcfd58"
   },
   "outputs": [
    {
     "data": {
      "text/plain": [
       "<AxesSubplot:xlabel='Date'>"
      ]
     },
     "execution_count": 3,
     "metadata": {},
     "output_type": "execute_result"
    },
    {
     "data": {
      "image/png": "[encoded data removed]",
      "text/plain": [
       "<Figure size 432x288 with 1 Axes>"
      ]
     },
     "metadata": {
      "needs_background": "light"
     },
     "output_type": "display_data"
    }
   ],
   "source": [
    "import matplotlib.pyplot as plt\n",
    "\n",
    "AAPL['Adj Close'].plot()"
   ]
  },
  {
   "cell_type": "code",
   "execution_count": 4,
   "metadata": {
    "id": "LILfoSEdbTON"
   },
   "outputs": [],
   "source": [
    "AAPL_long = web.DataReader('AAPL', 'yahoo', '2000-01-01', '2010-12-31')"
   ]
  },
  {
   "cell_type": "code",
   "execution_count": 5,
   "metadata": {
    "colab": {
     "base_uri": "https://localhost:8080/",
     "height": 235
    },
    "id": "_Z8A2WBKb23N",
    "outputId": "17f08e6e-acf9-4ec7-b894-ffe62608c8b4"
   },
   "outputs": [
    {
     "data": {
      "text/html": [
       "<div>\n",
       "<style scoped>\n",
       "    .dataframe tbody tr th:only-of-type {\n",
       "        vertical-align: middle;\n",
       "    }\n",
       "\n",
       "    .dataframe tbody tr th {\n",
       "        vertical-align: top;\n",
       "    }\n",
       "\n",
       "    .dataframe thead th {\n",
       "        text-align: right;\n",
       "    }\n",
       "</style>\n",
       "<table border=\"1\" class=\"dataframe\">\n",
       "  <thead>\n",
       "    <tr style=\"text-align: right;\">\n",
       "      <th></th>\n",
       "      <th>High</th>\n",
       "      <th>Low</th>\n",
       "      <th>Open</th>\n",
       "      <th>Close</th>\n",
       "      <th>Volume</th>\n",
       "      <th>Adj Close</th>\n",
       "    </tr>\n",
       "    <tr>\n",
       "      <th>Date</th>\n",
       "      <th></th>\n",
       "      <th></th>\n",
       "      <th></th>\n",
       "      <th></th>\n",
       "      <th></th>\n",
       "      <th></th>\n",
       "    </tr>\n",
       "  </thead>\n",
       "  <tbody>\n",
       "    <tr>\n",
       "      <th>1999-12-31</th>\n",
       "      <td>0.918527</td>\n",
       "      <td>0.888393</td>\n",
       "      <td>0.901228</td>\n",
       "      <td>0.917969</td>\n",
       "      <td>163811200.0</td>\n",
       "      <td>0.791887</td>\n",
       "    </tr>\n",
       "    <tr>\n",
       "      <th>2000-01-03</th>\n",
       "      <td>1.004464</td>\n",
       "      <td>0.907924</td>\n",
       "      <td>0.936384</td>\n",
       "      <td>0.999442</td>\n",
       "      <td>535796800.0</td>\n",
       "      <td>0.862169</td>\n",
       "    </tr>\n",
       "    <tr>\n",
       "      <th>2000-01-04</th>\n",
       "      <td>0.987723</td>\n",
       "      <td>0.903460</td>\n",
       "      <td>0.966518</td>\n",
       "      <td>0.915179</td>\n",
       "      <td>512377600.0</td>\n",
       "      <td>0.789480</td>\n",
       "    </tr>\n",
       "    <tr>\n",
       "      <th>2000-01-05</th>\n",
       "      <td>0.987165</td>\n",
       "      <td>0.919643</td>\n",
       "      <td>0.926339</td>\n",
       "      <td>0.928571</td>\n",
       "      <td>778321600.0</td>\n",
       "      <td>0.801032</td>\n",
       "    </tr>\n",
       "    <tr>\n",
       "      <th>2000-01-06</th>\n",
       "      <td>0.955357</td>\n",
       "      <td>0.848214</td>\n",
       "      <td>0.947545</td>\n",
       "      <td>0.848214</td>\n",
       "      <td>767972800.0</td>\n",
       "      <td>0.731712</td>\n",
       "    </tr>\n",
       "  </tbody>\n",
       "</table>\n",
       "</div>"
      ],
      "text/plain": [
       "                High       Low      Open     Close       Volume  Adj Close\n",
       "Date                                                                      \n",
       "1999-12-31  0.918527  0.888393  0.901228  0.917969  163811200.0   0.791887\n",
       "2000-01-03  1.004464  0.907924  0.936384  0.999442  535796800.0   0.862169\n",
       "2000-01-04  0.987723  0.903460  0.966518  0.915179  512377600.0   0.789480\n",
       "2000-01-05  0.987165  0.919643  0.926339  0.928571  778321600.0   0.801032\n",
       "2000-01-06  0.955357  0.848214  0.947545  0.848214  767972800.0   0.731712"
      ]
     },
     "execution_count": 5,
     "metadata": {},
     "output_type": "execute_result"
    }
   ],
   "source": [
    "AAPL_long.head()"
   ]
  },
  {
   "cell_type": "code",
   "execution_count": 6,
   "metadata": {
    "colab": {
     "base_uri": "https://localhost:8080/",
     "height": 235
    },
    "id": "O1QHWSMSb3N9",
    "outputId": "fc93ee91-a782-4e6d-84a5-29565e3122c1"
   },
   "outputs": [
    {
     "data": {
      "text/html": [
       "<div>\n",
       "<style scoped>\n",
       "    .dataframe tbody tr th:only-of-type {\n",
       "        vertical-align: middle;\n",
       "    }\n",
       "\n",
       "    .dataframe tbody tr th {\n",
       "        vertical-align: top;\n",
       "    }\n",
       "\n",
       "    .dataframe thead th {\n",
       "        text-align: right;\n",
       "    }\n",
       "</style>\n",
       "<table border=\"1\" class=\"dataframe\">\n",
       "  <thead>\n",
       "    <tr style=\"text-align: right;\">\n",
       "      <th></th>\n",
       "      <th>High</th>\n",
       "      <th>Low</th>\n",
       "      <th>Open</th>\n",
       "      <th>Close</th>\n",
       "      <th>Volume</th>\n",
       "      <th>Adj Close</th>\n",
       "    </tr>\n",
       "    <tr>\n",
       "      <th>Date</th>\n",
       "      <th></th>\n",
       "      <th></th>\n",
       "      <th></th>\n",
       "      <th></th>\n",
       "      <th></th>\n",
       "      <th></th>\n",
       "    </tr>\n",
       "  </thead>\n",
       "  <tbody>\n",
       "    <tr>\n",
       "      <th>2010-12-27</th>\n",
       "      <td>11.622857</td>\n",
       "      <td>11.482857</td>\n",
       "      <td>11.530357</td>\n",
       "      <td>11.595714</td>\n",
       "      <td>249816000.0</td>\n",
       "      <td>10.003050</td>\n",
       "    </tr>\n",
       "    <tr>\n",
       "      <th>2010-12-28</th>\n",
       "      <td>11.666429</td>\n",
       "      <td>11.609286</td>\n",
       "      <td>11.639643</td>\n",
       "      <td>11.623929</td>\n",
       "      <td>175924000.0</td>\n",
       "      <td>10.027393</td>\n",
       "    </tr>\n",
       "    <tr>\n",
       "      <th>2010-12-29</th>\n",
       "      <td>11.658929</td>\n",
       "      <td>11.610714</td>\n",
       "      <td>11.650714</td>\n",
       "      <td>11.617500</td>\n",
       "      <td>163139200.0</td>\n",
       "      <td>10.021844</td>\n",
       "    </tr>\n",
       "    <tr>\n",
       "      <th>2010-12-30</th>\n",
       "      <td>11.625357</td>\n",
       "      <td>11.537500</td>\n",
       "      <td>11.624286</td>\n",
       "      <td>11.559286</td>\n",
       "      <td>157494400.0</td>\n",
       "      <td>9.971627</td>\n",
       "    </tr>\n",
       "    <tr>\n",
       "      <th>2010-12-31</th>\n",
       "      <td>11.552857</td>\n",
       "      <td>11.475357</td>\n",
       "      <td>11.533929</td>\n",
       "      <td>11.520000</td>\n",
       "      <td>193508000.0</td>\n",
       "      <td>9.937733</td>\n",
       "    </tr>\n",
       "  </tbody>\n",
       "</table>\n",
       "</div>"
      ],
      "text/plain": [
       "                 High        Low       Open      Close       Volume  Adj Close\n",
       "Date                                                                          \n",
       "2010-12-27  11.622857  11.482857  11.530357  11.595714  249816000.0  10.003050\n",
       "2010-12-28  11.666429  11.609286  11.639643  11.623929  175924000.0  10.027393\n",
       "2010-12-29  11.658929  11.610714  11.650714  11.617500  163139200.0  10.021844\n",
       "2010-12-30  11.625357  11.537500  11.624286  11.559286  157494400.0   9.971627\n",
       "2010-12-31  11.552857  11.475357  11.533929  11.520000  193508000.0   9.937733"
      ]
     },
     "execution_count": 6,
     "metadata": {},
     "output_type": "execute_result"
    }
   ],
   "source": [
    "AAPL_long.tail()"
   ]
  },
  {
   "cell_type": "code",
   "execution_count": 7,
   "metadata": {
    "id": "yjPM1DwkcFBl"
   },
   "outputs": [],
   "source": [
    "tickers = ['FB', 'NVDA']\n",
    "\n",
    "all_data = {}\n",
    "for ticker in tickers:\n",
    "    all_data[ticker] = web.DataReader(ticker, 'yahoo')"
   ]
  },
  {
   "cell_type": "code",
   "execution_count": 8,
   "metadata": {
    "colab": {
     "base_uri": "https://localhost:8080/"
    },
    "id": "4JmnKnR6c51P",
    "outputId": "8420f4c5-7c18-4673-f020-0057c5d3f82b"
   },
   "outputs": [
    {
     "data": {
      "text/plain": [
       "{'FB':                   High         Low        Open       Close    Volume  \\\n",
       " Date                                                                   \n",
       " 2016-02-08  102.680000   97.459999  100.410004   99.750000  71229700   \n",
       " 2016-02-09  102.400002   96.820000   97.139999   99.540001  62709000   \n",
       " 2016-02-10  103.250000  100.239998  101.550003  101.000000  45179400   \n",
       " 2016-02-11  105.110001   98.879997   99.599998  101.910004  43670600   \n",
       " 2016-02-12  104.239998  101.089996  103.739998  102.010002  36176800   \n",
       " ...                ...         ...         ...         ...       ...   \n",
       " 2021-01-29  266.559998  254.850006  265.299988  258.329987  30389500   \n",
       " 2021-02-01  264.170013  254.910004  259.519989  262.010010  22914300   \n",
       " 2021-02-02  268.850006  263.269989  264.000000  267.079987  17320800   \n",
       " 2021-02-03  269.200012  263.839996  265.619995  266.649994  14223400   \n",
       " 2021-02-04  268.160004  264.000000  267.010010  266.489990  16039300   \n",
       " \n",
       "              Adj Close  \n",
       " Date                    \n",
       " 2016-02-08   99.750000  \n",
       " 2016-02-09   99.540001  \n",
       " 2016-02-10  101.000000  \n",
       " 2016-02-11  101.910004  \n",
       " 2016-02-12  102.010002  \n",
       " ...                ...  \n",
       " 2021-01-29  258.329987  \n",
       " 2021-02-01  262.010010  \n",
       " 2021-02-02  267.079987  \n",
       " 2021-02-03  266.649994  \n",
       " 2021-02-04  266.489990  \n",
       " \n",
       " [1258 rows x 6 columns],\n",
       " 'NVDA':                   High         Low        Open       Close      Volume  \\\n",
       " Date                                                                     \n",
       " 2016-02-08   26.160000   24.850000   26.030001   25.219999  15221300.0   \n",
       " 2016-02-09   26.549999   24.799999   24.920000   25.490000  10634300.0   \n",
       " 2016-02-10   26.389999   25.290001   25.650000   25.430000   8395000.0   \n",
       " 2016-02-11   25.559999   24.780001   24.780001   25.299999   8503600.0   \n",
       " 2016-02-12   25.780001   24.750000   25.700001   25.730000   8520400.0   \n",
       " ...                ...         ...         ...         ...         ...   \n",
       " 2021-01-29  533.390015  516.460022  523.000000  519.590027   6777800.0   \n",
       " 2021-02-01  530.830017  516.109985  522.130005  529.479980   5430100.0   \n",
       " 2021-02-02  542.880005  531.419983  535.950012  542.270020   5511000.0   \n",
       " 2021-02-03  557.270020  540.659973  545.440002  541.219971   6135200.0   \n",
       " 2021-02-04  546.940002  533.510010  541.239990  546.570007   5026100.0   \n",
       " \n",
       "              Adj Close  \n",
       " Date                    \n",
       " 2016-02-08   24.676434  \n",
       " 2016-02-09   24.940613  \n",
       " 2016-02-10   24.881905  \n",
       " 2016-02-11   24.754711  \n",
       " 2016-02-12   25.175440  \n",
       " ...                ...  \n",
       " 2021-01-29  519.590027  \n",
       " 2021-02-01  529.479980  \n",
       " 2021-02-02  542.270020  \n",
       " 2021-02-03  541.219971  \n",
       " 2021-02-04  546.570007  \n",
       " \n",
       " [1258 rows x 6 columns]}"
      ]
     },
     "execution_count": 8,
     "metadata": {},
     "output_type": "execute_result"
    }
   ],
   "source": [
    " all_data"
   ]
  },
  {
   "cell_type": "markdown",
   "metadata": {
    "id": "GybvlOhydS1v"
   },
   "source": [
    "## 3.2.2 국내 종목 주가 다운로드"
   ]
  },
  {
   "cell_type": "code",
   "execution_count": 9,
   "metadata": {
    "id": "o2BtQdJcdLZe"
   },
   "outputs": [],
   "source": [
    "samsung = web.DataReader('005930.KS', 'yahoo')"
   ]
  },
  {
   "cell_type": "code",
   "execution_count": 10,
   "metadata": {
    "colab": {
     "base_uri": "https://localhost:8080/"
    },
    "id": "ASS2Yl1Ddbzb",
    "outputId": "bc6a1d4f-db2c-4411-dc0e-c093b2086274"
   },
   "outputs": [
    {
     "data": {
      "text/plain": [
       "Date\n",
       "2021-02-01    83000.0\n",
       "2021-02-02    84400.0\n",
       "2021-02-03    84600.0\n",
       "2021-02-04    82500.0\n",
       "2021-02-05    83500.0\n",
       "Name: Close, dtype: float64"
      ]
     },
     "execution_count": 10,
     "metadata": {},
     "output_type": "execute_result"
    }
   ],
   "source": [
    "samsung['Close'].tail()"
   ]
  },
  {
   "cell_type": "code",
   "execution_count": 11,
   "metadata": {
    "id": "Ec5VPCj0dehN"
   },
   "outputs": [],
   "source": [
    "cell_pharm = web.DataReader('068760.KQ', 'yahoo')"
   ]
  },
  {
   "cell_type": "code",
   "execution_count": 12,
   "metadata": {
    "colab": {
     "base_uri": "https://localhost:8080/"
    },
    "id": "eEVxrjqBdj3t",
    "outputId": "47a55ca8-1e59-4b41-b5d3-552cd1f53ebb"
   },
   "outputs": [
    {
     "data": {
      "text/plain": [
       "Date\n",
       "2018-01-26     97400.0\n",
       "2018-01-29     99900.0\n",
       "2018-01-30     99500.0\n",
       "2018-01-31     97500.0\n",
       "2021-02-05    180500.0\n",
       "Name: Close, dtype: float64"
      ]
     },
     "execution_count": 12,
     "metadata": {},
     "output_type": "execute_result"
    }
   ],
   "source": [
    "cell_pharm['Close'].tail()"
   ]
  },
  {
   "cell_type": "markdown",
   "metadata": {
    "id": "1O2yKhHfydtA"
   },
   "source": [
    "## 3.2.3 FRED 데이터 다운로드"
   ]
  },
  {
   "cell_type": "markdown",
   "metadata": {
    "id": "XPfovCvczpRP"
   },
   "source": [
    "- https://junyoru.tistory.com/122 <- 여기 참고\n",
    "- https://fred.stlouisfed.org/docs/api/fred/\n",
    "- Python 검색 후 3번째 [mortada/fredapi (third-party software, external link)]\n",
    "- https://github.com/mortada/fredapi"
   ]
  },
  {
   "cell_type": "code",
   "execution_count": null,
   "metadata": {},
   "outputs": [],
   "source": [
    "#import keyring\n",
    "#keyring.set_password('Henry', 'fred_api_key', 'Your API Key')"
   ]
  },
  {
   "cell_type": "code",
   "execution_count": 12,
   "metadata": {},
   "outputs": [],
   "source": [
    "import keyring\n",
    "fred_api_key = keyring.get_password('Henry', 'fred_api_key')\n",
    "fred = Fred(api_key = fred_api_key)"
   ]
  },
  {
   "cell_type": "code",
   "execution_count": 14,
   "metadata": {
    "colab": {
     "base_uri": "https://localhost:8080/"
    },
    "id": "XktWkXqidvkM",
    "outputId": "da00ae82-0f45-427e-a552-6d8a87730981"
   },
   "outputs": [
    {
     "data": {
      "text/plain": [
       "1962-01-02    4.06\n",
       "1962-01-03    4.03\n",
       "1962-01-04    3.99\n",
       "1962-01-05    4.02\n",
       "1962-01-08    4.03\n",
       "              ... \n",
       "2021-02-02    1.12\n",
       "2021-02-03    1.15\n",
       "2021-02-04    1.15\n",
       "2021-02-05    1.19\n",
       "2021-02-08    1.19\n",
       "Length: 15420, dtype: float64"
      ]
     },
     "execution_count": 14,
     "metadata": {},
     "output_type": "execute_result"
    }
   ],
   "source": [
    "from fredapi import Fred\n",
    "data = fred.get_series('DGS10')\n",
    "\n",
    "data"
   ]
  },
  {
   "cell_type": "code",
   "execution_count": 15,
   "metadata": {
    "colab": {
     "base_uri": "https://localhost:8080/",
     "height": 283
    },
    "id": "UzblBQ0IzvTg",
    "outputId": "fa8f5c07-64a6-42cd-9393-875e9b34a6e0"
   },
   "outputs": [
    {
     "data": {
      "text/plain": [
       "<AxesSubplot:>"
      ]
     },
     "execution_count": 15,
     "metadata": {},
     "output_type": "execute_result"
    },
    {
     "data": {
      "image/png": "[encoded data removed]",
      "text/plain": [
       "<Figure size 432x288 with 1 Axes>"
      ]
     },
     "metadata": {
      "needs_background": "light"
     },
     "output_type": "display_data"
    }
   ],
   "source": [
    "data.plot()"
   ]
  },
  {
   "cell_type": "code",
   "execution_count": 16,
   "metadata": {
    "colab": {
     "base_uri": "https://localhost:8080/"
    },
    "id": "RKybtRunz3fB",
    "outputId": "7bb2b615-267e-48c4-e40f-b52253b4769f"
   },
   "outputs": [
    {
     "data": {
      "text/plain": [
       "2021-01-25    1101.02\n",
       "2021-01-26    1103.26\n",
       "2021-01-27    1104.09\n",
       "2021-01-28    1111.95\n",
       "2021-01-29    1118.35\n",
       "dtype: float64"
      ]
     },
     "execution_count": 16,
     "metadata": {},
     "output_type": "execute_result"
    }
   ],
   "source": [
    "fx = fred.get_series('DEXKOUS')\n",
    "\n",
    "fx.tail()"
   ]
  }
 ],
 "metadata": {
  "colab": {
   "name": "03_api.ipynb",
   "provenance": []
  },
  "kernelspec": {
   "display_name": "Python 3",
   "language": "python",
   "name": "python3"
  },
  "language_info": {
   "codemirror_mode": {
    "name": "ipython",
    "version": 3
   },
   "file_extension": ".py",
   "mimetype": "text/x-python",
   "name": "python",
   "nbconvert_exporter": "python",
   "pygments_lexer": "ipython3",
   "version": "3.8.5"
  }
 },
 "nbformat": 4,
 "nbformat_minor": 1
}
