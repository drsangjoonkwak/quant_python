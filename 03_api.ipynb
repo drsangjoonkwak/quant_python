{
 "cells": [
  {
   "cell_type": "markdown",
   "metadata": {},
   "source": [
    "# 3. API를 이용한 데이터 수집"
   ]
  },
  {
   "cell_type": "markdown",
   "metadata": {},
   "source": [
    "이번 3장과 다음 4장에서는 본격적으로 데이터를 수집하는 방법을 배우겠습니다. 먼저 API를 이용해 데이터를 수집하는 방법을 살펴봅니다.\n",
    "\n",
    "API 제공자는 본인이 가진 데이터베이스를 다른 누군가가 쉽게 사용할 수 있는 형태로 가지고 있으며, 해당 데이터베이스에 접근할 수 있는 열쇠인 API 주소를 가진 사람은 이를 언제든지 사용할 수 있습니다."
   ]
  },
  {
   "cell_type": "markdown",
   "metadata": {},
   "source": [
    "```{figure} image/03_api.png\n",
    "---\n",
    "name: 03_api\n",
    "---\n",
    "API 개념\n",
    "```"
   ]
  },
  {
   "cell_type": "markdown",
   "metadata": {},
   "source": [
    "API는 API 주소만 가지고 있다면 데이터를 언제, 어디서, 누구나 쉽게 이용할 수 있다는 장점이 있습니다. 또한 대부분의 경우 사용자가 필요한 데이터만을 가지고 있으므로 접속 속도가 빠르며, 데이터를 가공하는 번거로움도 줄어듭니다. 해외에는 금융 데이터를 API의 형태로 제공하는 업체가 많으므로, 이를 잘만 활용한다면 매우 손쉽게 퀀트 투자에 필요한 데이터를 수집할 수 있습니다."
   ]
  },
  {
   "cell_type": "markdown",
   "metadata": {
    "id": "n-pyd-FYa1Ch"
   },
   "source": [
    "## 3.1 API를 이용한 Quandl 데이터 다운로드"
   ]
  },
  {
   "cell_type": "markdown",
   "metadata": {},
   "source": [
    "데이터 제공업체 Quandl은 일부 데이터를 무료로 제공하며 API를 통해서 다운로드할 수 있습니다. 이 책에서는 예제로 애플(AAPL)의 주가를 다운로드해보겠습니다. csv 형식의 API 주소는 다음과 같습니다.\n",
    "\n",
    "```\n",
    "https://www.quandl.com/api/v3/datasets/WIKI/AAPL/data.csv?api_key=xw3NU3xLUZ7vZgrz5QnG\n",
    "```\n",
    "\n",
    "위 주소를 웹 브라우저 주소 창에 직접 입력하면 csv 형식의 파일이 다운로드되며, 파일을 열어보면 애플의 주가 데이터가 있습니다."
   ]
  },
  {
   "cell_type": "markdown",
   "metadata": {},
   "source": [
    "```{figure} image/03_apple_csv.png\n",
    "---\n",
    "name: 03_apple_csv\n",
    "---\n",
    "API 주소를 이용한 데이터 다운로드\n",
    "```"
   ]
  },
  {
   "cell_type": "markdown",
   "metadata": {},
   "source": [
    "그러나 웹 브라우저에 해당 주소를 입력해 csv 파일을 다운로드하고 csv 파일을 다시 R에서 불러오는 작업은 무척이나 비효율적입니다. 파이썬에서 API 주소를 이용해 직접 데이터를 다운로드할 수 있습니다."
   ]
  },
  {
   "cell_type": "code",
   "execution_count": 31,
   "metadata": {
    "colab": {
     "base_uri": "https://localhost:8080/",
     "height": 204
    },
    "id": "R9gkI-kUa48i",
    "outputId": "ea99ed09-661a-414b-dae5-a979712825a7"
   },
   "outputs": [
    {
     "data": {
      "text/html": [
       "<div>\n",
       "<style scoped>\n",
       "    .dataframe tbody tr th:only-of-type {\n",
       "        vertical-align: middle;\n",
       "    }\n",
       "\n",
       "    .dataframe tbody tr th {\n",
       "        vertical-align: top;\n",
       "    }\n",
       "\n",
       "    .dataframe thead th {\n",
       "        text-align: right;\n",
       "    }\n",
       "</style>\n",
       "<table border=\"1\" class=\"dataframe\">\n",
       "  <thead>\n",
       "    <tr style=\"text-align: right;\">\n",
       "      <th></th>\n",
       "      <th>Date</th>\n",
       "      <th>Open</th>\n",
       "      <th>High</th>\n",
       "      <th>Low</th>\n",
       "      <th>Close</th>\n",
       "      <th>Volume</th>\n",
       "      <th>Ex-Dividend</th>\n",
       "      <th>Split Ratio</th>\n",
       "      <th>Adj. Open</th>\n",
       "      <th>Adj. High</th>\n",
       "      <th>Adj. Low</th>\n",
       "      <th>Adj. Close</th>\n",
       "      <th>Adj. Volume</th>\n",
       "    </tr>\n",
       "  </thead>\n",
       "  <tbody>\n",
       "    <tr>\n",
       "      <th>0</th>\n",
       "      <td>2018-03-27</td>\n",
       "      <td>173.68</td>\n",
       "      <td>175.15</td>\n",
       "      <td>166.92</td>\n",
       "      <td>168.340</td>\n",
       "      <td>38962839.0</td>\n",
       "      <td>0.0</td>\n",
       "      <td>1.0</td>\n",
       "      <td>173.68</td>\n",
       "      <td>175.15</td>\n",
       "      <td>166.92</td>\n",
       "      <td>168.340</td>\n",
       "      <td>38962839.0</td>\n",
       "    </tr>\n",
       "    <tr>\n",
       "      <th>1</th>\n",
       "      <td>2018-03-26</td>\n",
       "      <td>168.07</td>\n",
       "      <td>173.10</td>\n",
       "      <td>166.44</td>\n",
       "      <td>172.770</td>\n",
       "      <td>36272617.0</td>\n",
       "      <td>0.0</td>\n",
       "      <td>1.0</td>\n",
       "      <td>168.07</td>\n",
       "      <td>173.10</td>\n",
       "      <td>166.44</td>\n",
       "      <td>172.770</td>\n",
       "      <td>36272617.0</td>\n",
       "    </tr>\n",
       "    <tr>\n",
       "      <th>2</th>\n",
       "      <td>2018-03-23</td>\n",
       "      <td>168.39</td>\n",
       "      <td>169.92</td>\n",
       "      <td>164.94</td>\n",
       "      <td>164.940</td>\n",
       "      <td>40248954.0</td>\n",
       "      <td>0.0</td>\n",
       "      <td>1.0</td>\n",
       "      <td>168.39</td>\n",
       "      <td>169.92</td>\n",
       "      <td>164.94</td>\n",
       "      <td>164.940</td>\n",
       "      <td>40248954.0</td>\n",
       "    </tr>\n",
       "    <tr>\n",
       "      <th>3</th>\n",
       "      <td>2018-03-22</td>\n",
       "      <td>170.00</td>\n",
       "      <td>172.68</td>\n",
       "      <td>168.60</td>\n",
       "      <td>168.845</td>\n",
       "      <td>41051076.0</td>\n",
       "      <td>0.0</td>\n",
       "      <td>1.0</td>\n",
       "      <td>170.00</td>\n",
       "      <td>172.68</td>\n",
       "      <td>168.60</td>\n",
       "      <td>168.845</td>\n",
       "      <td>41051076.0</td>\n",
       "    </tr>\n",
       "    <tr>\n",
       "      <th>4</th>\n",
       "      <td>2018-03-21</td>\n",
       "      <td>175.04</td>\n",
       "      <td>175.09</td>\n",
       "      <td>171.26</td>\n",
       "      <td>171.270</td>\n",
       "      <td>35247358.0</td>\n",
       "      <td>0.0</td>\n",
       "      <td>1.0</td>\n",
       "      <td>175.04</td>\n",
       "      <td>175.09</td>\n",
       "      <td>171.26</td>\n",
       "      <td>171.270</td>\n",
       "      <td>35247358.0</td>\n",
       "    </tr>\n",
       "  </tbody>\n",
       "</table>\n",
       "</div>"
      ],
      "text/plain": [
       "         Date    Open    High     Low    Close      Volume  Ex-Dividend  \\\n",
       "0  2018-03-27  173.68  175.15  166.92  168.340  38962839.0          0.0   \n",
       "1  2018-03-26  168.07  173.10  166.44  172.770  36272617.0          0.0   \n",
       "2  2018-03-23  168.39  169.92  164.94  164.940  40248954.0          0.0   \n",
       "3  2018-03-22  170.00  172.68  168.60  168.845  41051076.0          0.0   \n",
       "4  2018-03-21  175.04  175.09  171.26  171.270  35247358.0          0.0   \n",
       "\n",
       "   Split Ratio  Adj. Open  Adj. High  Adj. Low  Adj. Close  Adj. Volume  \n",
       "0          1.0     173.68     175.15    166.92     168.340   38962839.0  \n",
       "1          1.0     168.07     173.10    166.44     172.770   36272617.0  \n",
       "2          1.0     168.39     169.92    164.94     164.940   40248954.0  \n",
       "3          1.0     170.00     172.68    168.60     168.845   41051076.0  \n",
       "4          1.0     175.04     175.09    171.26     171.270   35247358.0  "
      ]
     },
     "execution_count": 31,
     "metadata": {},
     "output_type": "execute_result"
    }
   ],
   "source": [
    "import pandas as pd\n",
    "url_aapl = 'https://www.quandl.com/api/v3/datasets/WIKI/AAPL/data.csv?api_key=xw3NU3xLUZ7vZgrz5QnG'\n",
    "data_aapl = pd.read_csv(url_aapl)\n",
    "\n",
    "data_aapl.head()"
   ]
  },
  {
   "cell_type": "markdown",
   "metadata": {},
   "source": [
    "url에 해당 주소를 입력한 후 pandas의 `read_csv()` 함수를 이용해 간단하게 csv 파일을 불러올 수 있습니다."
   ]
  },
  {
   "cell_type": "markdown",
   "metadata": {
    "id": "5xHaWGLzbBue"
   },
   "source": [
    "## 3.2 DataReader() 함수를 이용한 API 다운로드"
   ]
  },
  {
   "cell_type": "markdown",
   "metadata": {},
   "source": [
    "이전 예에서 API 주소를 이용하면 매우 간단하게 데이터를 수집할 수 있음을 살펴보았습니다. 그러나 이 방법에는 단점도 있습니다. 먼저 원하는 항목에 대한 API를 일일이 얻기가 힘듭니다. 또한 Quandl의 경우 무료로 얻을 수 있는 정보에 제한이 있으며, 다운로드 양에도 제한이 있습니다. 이 방법으로 한두 종목의 데이터를 수집할 수 있지만, 전 종목의 데이터를 구하기는 사실상 불가능합니다.\n",
    "\n",
    "다행히 야후 파이낸스 역시 주가 데이터를 무료로 제공하며, pandas_datareader 패키지의 `DataReader()` 함수는 해당 API에 접속해 데이터를 다운로드합니다."
   ]
  },
  {
   "cell_type": "markdown",
   "metadata": {
    "id": "TPUz6Oc3dQFc"
   },
   "source": [
    "### 3.2.1 주가 다운로드"
   ]
  },
  {
   "cell_type": "markdown",
   "metadata": {},
   "source": [
    "`DataReader()` 함수의 기본적인 사용법은 매우 간단합니다. 괄호 안에 다운로드하려는 종목의 티커와, 데이터 소스에 해당하는 'yahoo'를 입력합니다."
   ]
  },
  {
   "cell_type": "code",
   "execution_count": 32,
   "metadata": {
    "colab": {
     "base_uri": "https://localhost:8080/",
     "height": 235
    },
    "id": "E0C3-5eaa5aP",
    "outputId": "6d0eaf25-a7af-444b-be45-9e2bfba2e9f2"
   },
   "outputs": [
    {
     "data": {
      "text/html": [
       "<div>\n",
       "<style scoped>\n",
       "    .dataframe tbody tr th:only-of-type {\n",
       "        vertical-align: middle;\n",
       "    }\n",
       "\n",
       "    .dataframe tbody tr th {\n",
       "        vertical-align: top;\n",
       "    }\n",
       "\n",
       "    .dataframe thead th {\n",
       "        text-align: right;\n",
       "    }\n",
       "</style>\n",
       "<table border=\"1\" class=\"dataframe\">\n",
       "  <thead>\n",
       "    <tr style=\"text-align: right;\">\n",
       "      <th></th>\n",
       "      <th>High</th>\n",
       "      <th>Low</th>\n",
       "      <th>Open</th>\n",
       "      <th>Close</th>\n",
       "      <th>Volume</th>\n",
       "      <th>Adj Close</th>\n",
       "    </tr>\n",
       "    <tr>\n",
       "      <th>Date</th>\n",
       "      <th></th>\n",
       "      <th></th>\n",
       "      <th></th>\n",
       "      <th></th>\n",
       "      <th></th>\n",
       "      <th></th>\n",
       "    </tr>\n",
       "  </thead>\n",
       "  <tbody>\n",
       "    <tr>\n",
       "      <th>2016-02-16</th>\n",
       "      <td>24.212500</td>\n",
       "      <td>23.652500</td>\n",
       "      <td>23.754999</td>\n",
       "      <td>24.160000</td>\n",
       "      <td>196231600.0</td>\n",
       "      <td>22.471428</td>\n",
       "    </tr>\n",
       "    <tr>\n",
       "      <th>2016-02-17</th>\n",
       "      <td>24.552500</td>\n",
       "      <td>24.037500</td>\n",
       "      <td>24.167500</td>\n",
       "      <td>24.530001</td>\n",
       "      <td>179452800.0</td>\n",
       "      <td>22.815565</td>\n",
       "    </tr>\n",
       "    <tr>\n",
       "      <th>2016-02-18</th>\n",
       "      <td>24.722500</td>\n",
       "      <td>24.022499</td>\n",
       "      <td>24.709999</td>\n",
       "      <td>24.065001</td>\n",
       "      <td>156084000.0</td>\n",
       "      <td>22.383070</td>\n",
       "    </tr>\n",
       "    <tr>\n",
       "      <th>2016-02-19</th>\n",
       "      <td>24.190001</td>\n",
       "      <td>23.950001</td>\n",
       "      <td>24.000000</td>\n",
       "      <td>24.010000</td>\n",
       "      <td>141496800.0</td>\n",
       "      <td>22.331917</td>\n",
       "    </tr>\n",
       "    <tr>\n",
       "      <th>2016-02-22</th>\n",
       "      <td>24.225000</td>\n",
       "      <td>23.980000</td>\n",
       "      <td>24.077499</td>\n",
       "      <td>24.219999</td>\n",
       "      <td>137123200.0</td>\n",
       "      <td>22.527231</td>\n",
       "    </tr>\n",
       "  </tbody>\n",
       "</table>\n",
       "</div>"
      ],
      "text/plain": [
       "                 High        Low       Open      Close       Volume  Adj Close\n",
       "Date                                                                          \n",
       "2016-02-16  24.212500  23.652500  23.754999  24.160000  196231600.0  22.471428\n",
       "2016-02-17  24.552500  24.037500  24.167500  24.530001  179452800.0  22.815565\n",
       "2016-02-18  24.722500  24.022499  24.709999  24.065001  156084000.0  22.383070\n",
       "2016-02-19  24.190001  23.950001  24.000000  24.010000  141496800.0  22.331917\n",
       "2016-02-22  24.225000  23.980000  24.077499  24.219999  137123200.0  22.527231"
      ]
     },
     "execution_count": 32,
     "metadata": {},
     "output_type": "execute_result"
    }
   ],
   "source": [
    "import pandas_datareader as web\n",
    "AAPL = web.DataReader('AAPL', 'yahoo')\n",
    "AAPL.head()"
   ]
  },
  {
   "cell_type": "code",
   "execution_count": 33,
   "metadata": {},
   "outputs": [
    {
     "data": {
      "text/plain": [
       "pandas.core.frame.DataFrame"
      ]
     },
     "execution_count": 33,
     "metadata": {},
     "output_type": "execute_result"
    }
   ],
   "source": [
    "type(AAPL)"
   ]
  },
  {
   "cell_type": "markdown",
   "metadata": {},
   "source": [
    "먼저 `DataReader()` 함수 내에 애플의 티커인 AAPL를 입력합니다. 주가 데이터가 DataFrame 형태로 다운로드 됩니다.\n",
    "\n",
    "다운로드 결과로 총 6개의 열이 생성됩니다. High는 고가, Low는 저가, Open은 시가, Close는 종가를 의미합니다. 또한 Volume은 거래량을 의미하며, Adjusted는 배당이 반영된 수정주가를 의미합니다. 이 중 가장 많이 사용되는 데이터는 Adjusted, 즉 배당이 반영된 수정주가입니다."
   ]
  },
  {
   "cell_type": "code",
   "execution_count": 34,
   "metadata": {
    "colab": {
     "base_uri": "https://localhost:8080/",
     "height": 287
    },
    "id": "GGKGyX6ZbJOl",
    "outputId": "4ab1d473-a8fa-43f6-fd5c-b2ceabfcfd58"
   },
   "outputs": [
    {
     "data": {
      "text/plain": [
       "<AxesSubplot:xlabel='Date'>"
      ]
     },
     "execution_count": 34,
     "metadata": {},
     "output_type": "execute_result"
    },
    {
     "data": {
      "image/png": "[encoded data removed]",
      "text/plain": [
       "<Figure size 432x288 with 1 Axes>"
      ]
     },
     "metadata": {
      "needs_background": "light"
     },
     "output_type": "display_data"
    }
   ],
   "source": [
    "import matplotlib.pyplot as plt\n",
    "\n",
    "AAPL['Adj Close'].plot()"
   ]
  },
  {
   "cell_type": "markdown",
   "metadata": {},
   "source": [
    "수정주가에 해당하는 Adj Close 열을 선택한 후 matplotlib 패키지를 이용해 시계열 그래프를 그릴 수도 있습니다. 시계열 기간을 입력하지 않으면 2016년부터 현재까지의 데이터가 다운로드되며, 입력 변수를 추가하여 원하는 기간의 데이터를 다운로드할 수도 있습니다."
   ]
  },
  {
   "cell_type": "code",
   "execution_count": 35,
   "metadata": {
    "id": "LILfoSEdbTON"
   },
   "outputs": [],
   "source": [
    "AAPL_long = web.DataReader('AAPL', 'yahoo', start = '2000-01-01', end = '2010-12-31')"
   ]
  },
  {
   "cell_type": "code",
   "execution_count": 36,
   "metadata": {
    "colab": {
     "base_uri": "https://localhost:8080/",
     "height": 235
    },
    "id": "_Z8A2WBKb23N",
    "outputId": "17f08e6e-acf9-4ec7-b894-ffe62608c8b4"
   },
   "outputs": [
    {
     "data": {
      "text/html": [
       "<div>\n",
       "<style scoped>\n",
       "    .dataframe tbody tr th:only-of-type {\n",
       "        vertical-align: middle;\n",
       "    }\n",
       "\n",
       "    .dataframe tbody tr th {\n",
       "        vertical-align: top;\n",
       "    }\n",
       "\n",
       "    .dataframe thead th {\n",
       "        text-align: right;\n",
       "    }\n",
       "</style>\n",
       "<table border=\"1\" class=\"dataframe\">\n",
       "  <thead>\n",
       "    <tr style=\"text-align: right;\">\n",
       "      <th></th>\n",
       "      <th>High</th>\n",
       "      <th>Low</th>\n",
       "      <th>Open</th>\n",
       "      <th>Close</th>\n",
       "      <th>Volume</th>\n",
       "      <th>Adj Close</th>\n",
       "    </tr>\n",
       "    <tr>\n",
       "      <th>Date</th>\n",
       "      <th></th>\n",
       "      <th></th>\n",
       "      <th></th>\n",
       "      <th></th>\n",
       "      <th></th>\n",
       "      <th></th>\n",
       "    </tr>\n",
       "  </thead>\n",
       "  <tbody>\n",
       "    <tr>\n",
       "      <th>1999-12-31</th>\n",
       "      <td>0.918527</td>\n",
       "      <td>0.888393</td>\n",
       "      <td>0.901228</td>\n",
       "      <td>0.917969</td>\n",
       "      <td>163811200.0</td>\n",
       "      <td>0.790705</td>\n",
       "    </tr>\n",
       "    <tr>\n",
       "      <th>2000-01-03</th>\n",
       "      <td>1.004464</td>\n",
       "      <td>0.907924</td>\n",
       "      <td>0.936384</td>\n",
       "      <td>0.999442</td>\n",
       "      <td>535796800.0</td>\n",
       "      <td>0.860883</td>\n",
       "    </tr>\n",
       "    <tr>\n",
       "      <th>2000-01-04</th>\n",
       "      <td>0.987723</td>\n",
       "      <td>0.903460</td>\n",
       "      <td>0.966518</td>\n",
       "      <td>0.915179</td>\n",
       "      <td>512377600.0</td>\n",
       "      <td>0.788302</td>\n",
       "    </tr>\n",
       "    <tr>\n",
       "      <th>2000-01-05</th>\n",
       "      <td>0.987165</td>\n",
       "      <td>0.919643</td>\n",
       "      <td>0.926339</td>\n",
       "      <td>0.928571</td>\n",
       "      <td>778321600.0</td>\n",
       "      <td>0.799837</td>\n",
       "    </tr>\n",
       "    <tr>\n",
       "      <th>2000-01-06</th>\n",
       "      <td>0.955357</td>\n",
       "      <td>0.848214</td>\n",
       "      <td>0.947545</td>\n",
       "      <td>0.848214</td>\n",
       "      <td>767972800.0</td>\n",
       "      <td>0.730621</td>\n",
       "    </tr>\n",
       "  </tbody>\n",
       "</table>\n",
       "</div>"
      ],
      "text/plain": [
       "                High       Low      Open     Close       Volume  Adj Close\n",
       "Date                                                                      \n",
       "1999-12-31  0.918527  0.888393  0.901228  0.917969  163811200.0   0.790705\n",
       "2000-01-03  1.004464  0.907924  0.936384  0.999442  535796800.0   0.860883\n",
       "2000-01-04  0.987723  0.903460  0.966518  0.915179  512377600.0   0.788302\n",
       "2000-01-05  0.987165  0.919643  0.926339  0.928571  778321600.0   0.799837\n",
       "2000-01-06  0.955357  0.848214  0.947545  0.848214  767972800.0   0.730621"
      ]
     },
     "execution_count": 36,
     "metadata": {},
     "output_type": "execute_result"
    }
   ],
   "source": [
    "AAPL_long.head()"
   ]
  },
  {
   "cell_type": "code",
   "execution_count": 37,
   "metadata": {
    "colab": {
     "base_uri": "https://localhost:8080/",
     "height": 235
    },
    "id": "O1QHWSMSb3N9",
    "outputId": "fc93ee91-a782-4e6d-84a5-29565e3122c1"
   },
   "outputs": [
    {
     "data": {
      "text/html": [
       "<div>\n",
       "<style scoped>\n",
       "    .dataframe tbody tr th:only-of-type {\n",
       "        vertical-align: middle;\n",
       "    }\n",
       "\n",
       "    .dataframe tbody tr th {\n",
       "        vertical-align: top;\n",
       "    }\n",
       "\n",
       "    .dataframe thead th {\n",
       "        text-align: right;\n",
       "    }\n",
       "</style>\n",
       "<table border=\"1\" class=\"dataframe\">\n",
       "  <thead>\n",
       "    <tr style=\"text-align: right;\">\n",
       "      <th></th>\n",
       "      <th>High</th>\n",
       "      <th>Low</th>\n",
       "      <th>Open</th>\n",
       "      <th>Close</th>\n",
       "      <th>Volume</th>\n",
       "      <th>Adj Close</th>\n",
       "    </tr>\n",
       "    <tr>\n",
       "      <th>Date</th>\n",
       "      <th></th>\n",
       "      <th></th>\n",
       "      <th></th>\n",
       "      <th></th>\n",
       "      <th></th>\n",
       "      <th></th>\n",
       "    </tr>\n",
       "  </thead>\n",
       "  <tbody>\n",
       "    <tr>\n",
       "      <th>2010-12-27</th>\n",
       "      <td>11.622857</td>\n",
       "      <td>11.482857</td>\n",
       "      <td>11.530357</td>\n",
       "      <td>11.595714</td>\n",
       "      <td>249816000.0</td>\n",
       "      <td>9.988124</td>\n",
       "    </tr>\n",
       "    <tr>\n",
       "      <th>2010-12-28</th>\n",
       "      <td>11.666429</td>\n",
       "      <td>11.609286</td>\n",
       "      <td>11.639643</td>\n",
       "      <td>11.623929</td>\n",
       "      <td>175924000.0</td>\n",
       "      <td>10.012430</td>\n",
       "    </tr>\n",
       "    <tr>\n",
       "      <th>2010-12-29</th>\n",
       "      <td>11.658929</td>\n",
       "      <td>11.610714</td>\n",
       "      <td>11.650714</td>\n",
       "      <td>11.617500</td>\n",
       "      <td>163139200.0</td>\n",
       "      <td>10.006890</td>\n",
       "    </tr>\n",
       "    <tr>\n",
       "      <th>2010-12-30</th>\n",
       "      <td>11.625357</td>\n",
       "      <td>11.537500</td>\n",
       "      <td>11.624286</td>\n",
       "      <td>11.559286</td>\n",
       "      <td>157494400.0</td>\n",
       "      <td>9.956747</td>\n",
       "    </tr>\n",
       "    <tr>\n",
       "      <th>2010-12-31</th>\n",
       "      <td>11.552857</td>\n",
       "      <td>11.475357</td>\n",
       "      <td>11.533929</td>\n",
       "      <td>11.520000</td>\n",
       "      <td>193508000.0</td>\n",
       "      <td>9.922909</td>\n",
       "    </tr>\n",
       "  </tbody>\n",
       "</table>\n",
       "</div>"
      ],
      "text/plain": [
       "                 High        Low       Open      Close       Volume  Adj Close\n",
       "Date                                                                          \n",
       "2010-12-27  11.622857  11.482857  11.530357  11.595714  249816000.0   9.988124\n",
       "2010-12-28  11.666429  11.609286  11.639643  11.623929  175924000.0  10.012430\n",
       "2010-12-29  11.658929  11.610714  11.650714  11.617500  163139200.0  10.006890\n",
       "2010-12-30  11.625357  11.537500  11.624286  11.559286  157494400.0   9.956747\n",
       "2010-12-31  11.552857  11.475357  11.533929  11.520000  193508000.0   9.922909"
      ]
     },
     "execution_count": 37,
     "metadata": {},
     "output_type": "execute_result"
    }
   ],
   "source": [
    "AAPL_long.tail()"
   ]
  },
  {
   "cell_type": "markdown",
   "metadata": {},
   "source": [
    "start에는 시작시점을 입력하고 end에는 종료시점을 입력하면 해당 기간의 데이터가 다운로드됩니다.\n",
    "\n",
    "한 번에 여러 종목의 주가를 다운로드할 수도 있습니다. 위 예제와 같이 페이스북과 엔비디아의 티커인 FB와 NVDA를 tickers 변수에 입력하고 `for loop` 구문을 이용하면 두 종목의 주가가 순차적으로 다운로드됩니다."
   ]
  },
  {
   "cell_type": "code",
   "execution_count": 38,
   "metadata": {
    "id": "yjPM1DwkcFBl"
   },
   "outputs": [],
   "source": [
    "tickers = ['FB', 'NVDA']\n",
    "\n",
    "all_data = {}\n",
    "for ticker in tickers:\n",
    "    all_data[ticker] = web.DataReader(ticker, 'yahoo')"
   ]
  },
  {
   "cell_type": "code",
   "execution_count": 39,
   "metadata": {
    "colab": {
     "base_uri": "https://localhost:8080/"
    },
    "id": "4JmnKnR6c51P",
    "outputId": "8420f4c5-7c18-4673-f020-0057c5d3f82b"
   },
   "outputs": [
    {
     "data": {
      "text/plain": [
       "{'FB':                   High         Low        Open       Close    Volume  \\\n",
       " Date                                                                   \n",
       " 2016-02-16  103.930000  100.239998  103.800003  101.610001  45687200   \n",
       " 2016-02-17  105.720001  100.400002  102.019997  105.199997  44073400   \n",
       " 2016-02-18  106.000000  103.029999  105.800003  103.470001  29593500   \n",
       " 2016-02-19  105.019997  102.059998  102.550003  104.570000  32404500   \n",
       " 2016-02-22  108.250000  105.339996  105.489998  107.160004  35709700   \n",
       " ...                ...         ...         ...         ...       ...   \n",
       " 2021-02-08  269.859985  265.000000  268.750000  266.579987  13755200   \n",
       " 2021-02-09  273.390015  265.750000  266.440002  269.450012  14613400   \n",
       " 2021-02-10  273.799988  267.720001  272.450012  271.869995  14687200   \n",
       " 2021-02-11  273.579987  268.489990  271.890015  270.390015  12801300   \n",
       " 2021-02-12  271.179993  268.339996  270.519989  270.500000   9069100   \n",
       " \n",
       "              Adj Close  \n",
       " Date                    \n",
       " 2016-02-16  101.610001  \n",
       " 2016-02-17  105.199997  \n",
       " 2016-02-18  103.470001  \n",
       " 2016-02-19  104.570000  \n",
       " 2016-02-22  107.160004  \n",
       " ...                ...  \n",
       " 2021-02-08  266.579987  \n",
       " 2021-02-09  269.450012  \n",
       " 2021-02-10  271.869995  \n",
       " 2021-02-11  270.390015  \n",
       " 2021-02-12  270.500000  \n",
       " \n",
       " [1259 rows x 6 columns],\n",
       " 'NVDA':                   High         Low        Open       Close      Volume  \\\n",
       " Date                                                                     \n",
       " 2016-02-16   27.030001   26.020000   26.100000   26.990000  12133800.0   \n",
       " 2016-02-17   27.920000   27.219999   27.330000   27.660000  19286700.0   \n",
       " 2016-02-18   30.980000   29.900000   29.930000   30.040001  26716500.0   \n",
       " 2016-02-19   30.709999   29.650000   29.879999   30.440001  13140700.0   \n",
       " 2016-02-22   31.870001   30.820000   30.879999   31.520000  11241700.0   \n",
       " ...                ...         ...         ...         ...         ...   \n",
       " 2021-02-08  578.950012  549.090027  549.090027  577.549988  10865600.0   \n",
       " 2021-02-09  583.330017  568.900024  573.630005  570.530029   7189000.0   \n",
       " 2021-02-10  596.200012  573.659973  578.530029  590.570007  12133800.0   \n",
       " 2021-02-11  610.890015  597.000000  599.210022  610.030029  11245500.0   \n",
       " 2021-02-12  611.650024  591.000000  602.000000  598.450012   9356800.0   \n",
       " \n",
       "              Adj Close  \n",
       " Date                    \n",
       " 2016-02-16   26.408287  \n",
       " 2016-02-17   27.063847  \n",
       " 2016-02-18   29.392551  \n",
       " 2016-02-19   29.783928  \n",
       " 2016-02-22   30.840649  \n",
       " ...                ...  \n",
       " 2021-02-08  577.549988  \n",
       " 2021-02-09  570.530029  \n",
       " 2021-02-10  590.570007  \n",
       " 2021-02-11  610.030029  \n",
       " 2021-02-12  598.450012  \n",
       " \n",
       " [1259 rows x 6 columns]}"
      ]
     },
     "execution_count": 39,
     "metadata": {},
     "output_type": "execute_result"
    }
   ],
   "source": [
    " all_data"
   ]
  },
  {
   "cell_type": "markdown",
   "metadata": {
    "id": "GybvlOhydS1v"
   },
   "source": [
    "### 3.2.2 국내 종목 주가 다운로드"
   ]
  },
  {
   "cell_type": "markdown",
   "metadata": {},
   "source": [
    "`DataReader()` 함수를 이용하면 미국뿐 아니라 국내 종목의 주가도 다운로드할 수 있습니다. 국내 종목의 티커는 총 6자리로 구성되어 있으며, 해당 함수에 입력되는 티커는 코스피 상장 종목의 경우 티커.KS, 코스닥 상장 종목의 경우 티커.KQ의 형태로 입력해야 합니다.\n",
    "\n",
    "다음은 코스피 상장 종목인 삼성전자 데이터의 다운로드 예시입니다."
   ]
  },
  {
   "cell_type": "markdown",
   "metadata": {
    "id": "o2BtQdJcdLZe"
   },
   "source": [
    "samsung = web.DataReader('005930.KS', 'yahoo')"
   ]
  },
  {
   "cell_type": "code",
   "execution_count": 40,
   "metadata": {},
   "outputs": [
    {
     "data": {
      "text/plain": [
       "Date\n",
       "2021-02-04    82500.0\n",
       "2021-02-05    83500.0\n",
       "2021-02-08    83000.0\n",
       "2021-02-09    82700.0\n",
       "2021-02-10    81600.0\n",
       "Name: Adj Close, dtype: float64"
      ]
     },
     "execution_count": 40,
     "metadata": {},
     "output_type": "execute_result"
    }
   ],
   "source": [
    "samsung['Adj Close'].tail()"
   ]
  },
  {
   "cell_type": "markdown",
   "metadata": {},
   "source": [
    "삼성전자의 티커인 005930에 .KS를 붙여 `DataReader()` 함수에 입력하면 국내 종목 역시 데이터가 다운로드 됩니다. 야후 파이낸스의 경우 국내 종목은 종종 수정주가에 오류가 발생하는 경우가 많아서 배당이 반영된 값보다는 단순 종가(Close) 데이터를 사용하기를 권장합니다. 단순 종가를 사용할 경우 비록 배당을 고려할 수는 없지만, 전반적으로 오류가 없는 데이터를 사용할 수 있습니다."
   ]
  },
  {
   "cell_type": "code",
   "execution_count": 41,
   "metadata": {
    "colab": {
     "base_uri": "https://localhost:8080/"
    },
    "id": "ASS2Yl1Ddbzb",
    "outputId": "bc6a1d4f-db2c-4411-dc0e-c093b2086274"
   },
   "outputs": [
    {
     "data": {
      "text/plain": [
       "Date\n",
       "2021-02-04    82500.0\n",
       "2021-02-05    83500.0\n",
       "2021-02-08    83000.0\n",
       "2021-02-09    82700.0\n",
       "2021-02-10    81600.0\n",
       "Name: Close, dtype: float64"
      ]
     },
     "execution_count": 41,
     "metadata": {},
     "output_type": "execute_result"
    }
   ],
   "source": [
    "samsung['Close'].tail()"
   ]
  },
  {
   "cell_type": "markdown",
   "metadata": {},
   "source": [
    "다음은 코스닥 상장종목인 셀트리온제약의 예시이며, 티커인 068670에 .KQ를 붙여 함수에 입력합니다. 역시나 데이터가 다운로드 됩니다."
   ]
  },
  {
   "cell_type": "code",
   "execution_count": 42,
   "metadata": {
    "id": "Ec5VPCj0dehN"
   },
   "outputs": [],
   "source": [
    "cell_pharm = web.DataReader('068760.KQ', 'yahoo')"
   ]
  },
  {
   "cell_type": "code",
   "execution_count": 43,
   "metadata": {
    "colab": {
     "base_uri": "https://localhost:8080/"
    },
    "id": "eEVxrjqBdj3t",
    "outputId": "47a55ca8-1e59-4b41-b5d3-552cd1f53ebb"
   },
   "outputs": [
    {
     "data": {
      "text/plain": [
       "Date\n",
       "2018-01-26     97400.0\n",
       "2018-01-29     99900.0\n",
       "2018-01-30     99500.0\n",
       "2018-01-31     97500.0\n",
       "2021-02-10    172600.0\n",
       "Name: Close, dtype: float64"
      ]
     },
     "execution_count": 43,
     "metadata": {},
     "output_type": "execute_result"
    }
   ],
   "source": [
    "cell_pharm['Close'].tail()"
   ]
  },
  {
   "cell_type": "markdown",
   "metadata": {
    "id": "1O2yKhHfydtA"
   },
   "source": [
    "## 3.3 FRED 데이터 다운로드"
   ]
  },
  {
   "cell_type": "markdown",
   "metadata": {},
   "source": [
    "미국 연방준비은행에서 관리하는 Federal Reserve Economic Data(FRED)는 미국 및 각국의 중요 경제지표 데이터를 살펴볼 때 가장 많이 참조되는 곳 중 하나입니다. fredapi 패키지를 통해 FRED 데이터를 다운로드할 수 있습니다. 먼저 미 국채 10년물 금리를 다운로드하는 예제를 살펴보겠습니다."
   ]
  },
  {
   "cell_type": "markdown",
   "metadata": {},
   "source": [
    "### 3.3.1 API Key 발급받기"
   ]
  },
  {
   "cell_type": "markdown",
   "metadata": {},
   "source": [
    "먼저 FRED API에 접속하기 위한 Key를 발급받아야 합니다. 아래 사이트에 접속한 후, [Request or view your API keys] 부분을 선택하여 API Key를 발급받습니다.\n",
    "\n",
    "```\n",
    "https://fred.stlouisfed.org/docs/api/api_key.html\n",
    "```"
   ]
  },
  {
   "cell_type": "markdown",
   "metadata": {},
   "source": [
    "```{figure} image/03_fred_key.png\n",
    "---\n",
    "name: 03_fred_key\n",
    "---\n",
    "FRED API Key 신청\n",
    "```\n",
    "\n"
   ]
  },
  {
   "cell_type": "code",
   "execution_count": null,
   "metadata": {
    "deletable": false,
    "editable": false,
    "run_control": {
     "frozen": true
    }
   },
   "outputs": [],
   "source": [
    "import keyring\n",
    "keyring.set_password('Henry', 'fred_api_key', 'Your API Key')"
   ]
  },
  {
   "cell_type": "markdown",
   "metadata": {},
   "source": [
    "API Key를 발급 받았다면, keyring 패키지를 통해 이를 저장합니다. Henry는 본인의 이름, fred_api_key는 저장할 변수명, Your API Key는 발급받은 API Key에 해당합니다."
   ]
  },
  {
   "cell_type": "markdown",
   "metadata": {},
   "source": [
    "그 후 `pip install fredapi` 를 통해 fredapi 패키지를 설치해 주도록 합니다. 해당 패키지의 깃허브 저장소는 다음과 같습니다.\n",
    "\n",
    "```\n",
    "https://github.com/mortada/fredapi\n",
    "```"
   ]
  },
  {
   "cell_type": "code",
   "execution_count": 44,
   "metadata": {},
   "outputs": [],
   "source": [
    "import keyring\n",
    "from fredapi import Fred\n",
    "\n",
    "fred_api_key = keyring.get_password('Henry', 'fred_api_key')\n",
    "fred = Fred(api_key = fred_api_key)"
   ]
  },
  {
   "cell_type": "markdown",
   "metadata": {},
   "source": [
    "1. `keyring.get_password()` 함수를 통해 저장한 API Key를 불러옵니다.\n",
    "2. `Fred()` 내에 불러온 API Key를 입력한 후, fred 변수에 저장합니다."
   ]
  },
  {
   "cell_type": "markdown",
   "metadata": {},
   "source": [
    "### 3.3.2 FRED 데이터 다운로드"
   ]
  },
  {
   "cell_type": "code",
   "execution_count": 45,
   "metadata": {
    "colab": {
     "base_uri": "https://localhost:8080/"
    },
    "id": "XktWkXqidvkM",
    "outputId": "da00ae82-0f45-427e-a552-6d8a87730981"
   },
   "outputs": [
    {
     "data": {
      "text/plain": [
       "1962-01-02    4.06\n",
       "1962-01-03    4.03\n",
       "1962-01-04    3.99\n",
       "1962-01-05    4.02\n",
       "1962-01-08    4.03\n",
       "              ... \n",
       "2021-02-05    1.19\n",
       "2021-02-08    1.19\n",
       "2021-02-09    1.18\n",
       "2021-02-10    1.15\n",
       "2021-02-11    1.16\n",
       "Length: 15423, dtype: float64"
      ]
     },
     "execution_count": 45,
     "metadata": {},
     "output_type": "execute_result"
    }
   ],
   "source": [
    "data = fred.get_series('DGS10')\n",
    "\n",
    "data"
   ]
  },
  {
   "cell_type": "code",
   "execution_count": 46,
   "metadata": {
    "colab": {
     "base_uri": "https://localhost:8080/",
     "height": 283
    },
    "id": "UzblBQ0IzvTg",
    "outputId": "fa8f5c07-64a6-42cd-9393-875e9b34a6e0"
   },
   "outputs": [
    {
     "data": {
      "text/plain": [
       "<AxesSubplot:>"
      ]
     },
     "execution_count": 46,
     "metadata": {},
     "output_type": "execute_result"
    },
    {
     "data": {
      "image/png": "[encoded data removed]",
      "text/plain": [
       "<Figure size 432x288 with 1 Axes>"
      ]
     },
     "metadata": {
      "needs_background": "light"
     },
     "output_type": "display_data"
    }
   ],
   "source": [
    "import matplotlib.pyplot as plt\n",
    "\n",
    "data.plot()"
   ]
  },
  {
   "cell_type": "markdown",
   "metadata": {},
   "source": [
    "`get_series()` 함수 내에 미 국채 10년물 금리에 해당하는 티커인 DGS10을 입력해줍니다. FRED에서 제공하는 API를 이용해 데이터가 다운로드됩니다.\n",
    "\n",
    "각 항목별 티커를 찾는 방법은 매우 간단합니다. 먼저 FRED 웹사이트(https://fred.stlouisfed.org/) 에서 원하는 데이터를 검색합니다. 만일 원/달러 환율에 해당하는 티커를 찾고자 한다면 {numref}`03_api_fred`와 같이 이에 해당하는 South Korea / U.S. Foreign Exchange Rate를 검색해 원하는 페이지에 접속합니다. 이 중 페이지 주소에서 **/series/ 다음에 위치하는 DEXKOUS**가 해당 항목의 티커입니다."
   ]
  },
  {
   "cell_type": "markdown",
   "metadata": {},
   "source": [
    "```{figure} image/03_api_fred.png\n",
    "---\n",
    "name: 03_api_fred\n",
    "---\n",
    "FRED 사이트 내 원/달러 환율의 티커 확인\n",
    "```"
   ]
  },
  {
   "cell_type": "code",
   "execution_count": 47,
   "metadata": {
    "colab": {
     "base_uri": "https://localhost:8080/"
    },
    "id": "RKybtRunz3fB",
    "outputId": "7bb2b615-267e-48c4-e40f-b52253b4769f"
   },
   "outputs": [
    {
     "data": {
      "text/plain": [
       "2021-02-01    1116.48\n",
       "2021-02-02    1115.88\n",
       "2021-02-03    1114.47\n",
       "2021-02-04    1120.02\n",
       "2021-02-05    1123.70\n",
       "dtype: float64"
      ]
     },
     "execution_count": 47,
     "metadata": {},
     "output_type": "execute_result"
    }
   ],
   "source": [
    "fx = fred.get_series('DEXKOUS')\n",
    "\n",
    "fx.tail()"
   ]
  },
  {
   "cell_type": "markdown",
   "metadata": {},
   "source": [
    "해당 티커를 입력하면, FRED 웹사이트와 동일한 데이터가 다운로드됩니다. 이 외에도 509,000여 개의 방대한 FRED 데이터를 해당 함수를 통해 손쉽게 다운로드할 수 있습니다."
   ]
  }
 ],
 "metadata": {
  "colab": {
   "name": "03_api.ipynb",
   "provenance": []
  },
  "kernelspec": {
   "display_name": "Python 3",
   "language": "python",
   "name": "python3"
  },
  "language_info": {
   "codemirror_mode": {
    "name": "ipython",
    "version": 3
   },
   "file_extension": ".py",
   "mimetype": "text/x-python",
   "name": "python",
   "nbconvert_exporter": "python",
   "pygments_lexer": "ipython3",
   "version": "3.8.5"
  }
 },
 "nbformat": 4,
 "nbformat_minor": 1
}
