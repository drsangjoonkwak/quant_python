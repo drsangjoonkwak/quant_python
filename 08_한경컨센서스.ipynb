{
 "cells": [
  {
   "cell_type": "markdown",
   "metadata": {},
   "source": [
    "## 시장 리포트"
   ]
  },
  {
   "cell_type": "code",
   "execution_count": 19,
   "metadata": {},
   "outputs": [],
   "source": [
    "import requests as rq\n",
    "from bs4 import BeautifulSoup\n",
    "\n",
    "url = 'http://consensus.hankyung.com/apps.analysis/analysis.list?skinType=market'\n",
    "headers = {'User-Agent': 'Chrome/78.0.3904.87 Safari/537.36'}      \n",
    "\n",
    "data = rq.get(url, headers = headers)\n",
    "data_html = BeautifulSoup(data.content, from_encoding = 'EUC-KR')"
   ]
  },
  {
   "cell_type": "code",
   "execution_count": 79,
   "metadata": {},
   "outputs": [],
   "source": [
    "data_date = data_html.select('.first.txt_number')\n",
    "data_date = [i.text for i in data_date]"
   ]
  },
  {
   "cell_type": "code",
   "execution_count": 80,
   "metadata": {},
   "outputs": [
    {
     "data": {
      "text/plain": [
       "['2021-02-15',\n",
       " '2021-02-15',\n",
       " '2021-02-15',\n",
       " '2021-02-15',\n",
       " '2021-02-15',\n",
       " '2021-02-15',\n",
       " '2021-02-15',\n",
       " '2021-02-15',\n",
       " '2021-02-15',\n",
       " '2021-02-15',\n",
       " '2021-02-15',\n",
       " '2021-02-15']"
      ]
     },
     "execution_count": 80,
     "metadata": {},
     "output_type": "execute_result"
    }
   ],
   "source": [
    "data_date"
   ]
  },
  {
   "cell_type": "code",
   "execution_count": 7,
   "metadata": {},
   "outputs": [
    {
     "data": {
      "text/plain": [
       "'%BB%EF%BC%BA%C0%FC%C0%DA'"
      ]
     },
     "execution_count": 7,
     "metadata": {},
     "output_type": "execute_result"
    }
   ],
   "source": [
    "from urllib import parse\n",
    "\n",
    "name = '삼성전자'\n",
    "parse.quote(name, encoding = 'euc-kr')"
   ]
  },
  {
   "cell_type": "code",
   "execution_count": 39,
   "metadata": {},
   "outputs": [],
   "source": [
    "url = 'http://consensus.hankyung.com/apps.analysis/analysis.list?&sdate=2018-02-10&edate=2021-02-10&search_value=&search_text=%BB%EF%BC%BA%C0%FC%C0%DA&order_type=&now_page=1'"
   ]
  },
  {
   "cell_type": "code",
   "execution_count": 16,
   "metadata": {},
   "outputs": [],
   "source": [
    "import requests as rq\n",
    "from bs4 import BeautifulSoup"
   ]
  },
  {
   "cell_type": "code",
   "execution_count": 80,
   "metadata": {},
   "outputs": [],
   "source": [
    "headers = {'User-Agent': 'Chrome/78.0.3904.87 Safari/537.36'}           \n",
    "\n",
    "data = rq.get(url, headers=headers)"
   ]
  },
  {
   "cell_type": "code",
   "execution_count": 81,
   "metadata": {},
   "outputs": [],
   "source": [
    "html = BeautifulSoup(data.content, from_encoding = 'EUC-KR')"
   ]
  },
  {
   "cell_type": "code",
   "execution_count": 114,
   "metadata": {},
   "outputs": [],
   "source": [
    "html_num = html.select('.first.txt_number')"
   ]
  },
  {
   "cell_type": "code",
   "execution_count": 115,
   "metadata": {},
   "outputs": [
    {
     "data": {
      "text/plain": [
       "[<td class=\"first txt_number\">2021-02-01</td>,\n",
       " <td class=\"first txt_number\">2021-01-29</td>,\n",
       " <td class=\"first txt_number\">2021-01-29</td>,\n",
       " <td class=\"first txt_number\">2021-01-29</td>,\n",
       " <td class=\"first txt_number\">2021-01-29</td>,\n",
       " <td class=\"first txt_number\">2021-01-29</td>,\n",
       " <td class=\"first txt_number\">2021-01-29</td>,\n",
       " <td class=\"first txt_number\">2021-01-29</td>,\n",
       " <td class=\"first txt_number\">2021-01-29</td>,\n",
       " <td class=\"first txt_number\">2021-01-29</td>,\n",
       " <td class=\"first txt_number\">2021-01-29</td>,\n",
       " <td class=\"first txt_number\">2021-01-28</td>,\n",
       " <td class=\"first txt_number\">2021-01-25</td>,\n",
       " <td class=\"first txt_number\">2021-01-22</td>,\n",
       " <td class=\"first txt_number\">2021-01-13</td>,\n",
       " <td class=\"first txt_number\">2021-01-12</td>,\n",
       " <td class=\"first txt_number\">2021-01-12</td>,\n",
       " <td class=\"first txt_number\">2021-01-12</td>,\n",
       " <td class=\"first txt_number\">2021-01-11</td>,\n",
       " <td class=\"first txt_number\">2021-01-11</td>]"
      ]
     },
     "execution_count": 115,
     "metadata": {},
     "output_type": "execute_result"
    }
   ],
   "source": [
    "html_num"
   ]
  },
  {
   "cell_type": "code",
   "execution_count": null,
   "metadata": {},
   "outputs": [],
   "source": []
  }
 ],
 "metadata": {
  "kernelspec": {
   "display_name": "Python 3",
   "language": "python",
   "name": "python3"
  },
  "language_info": {
   "codemirror_mode": {
    "name": "ipython",
    "version": 3
   },
   "file_extension": ".py",
   "mimetype": "text/x-python",
   "name": "python",
   "nbconvert_exporter": "python",
   "pygments_lexer": "ipython3",
   "version": "3.8.5"
  }
 },
 "nbformat": 4,
 "nbformat_minor": 4
}
