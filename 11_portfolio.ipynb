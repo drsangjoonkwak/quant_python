{
 "cells": [
  {
   "cell_type": "markdown",
   "metadata": {},
   "source": [
    "- 데이터 다운로드"
   ]
  },
  {
   "cell_type": "code",
   "execution_count": 2,
   "metadata": {},
   "outputs": [],
   "source": [
    "import pandas_datareader as web\n",
    "import pandas as pd\n",
    "\n",
    "tickers = ['SPY', # 미국 주식\n",
    "            'IEV', # 유럽 주식 \n",
    "            'EWJ', # 일본 주식\n",
    "            'EEM', # 이머징 주식\n",
    "            'TLT', # 미국 장기채\n",
    "            'IEF', # 미국 중기채\n",
    "            'IYR', # 미국 리츠\n",
    "            'RWX', # 글로벌 리츠\n",
    "            'GLD', # 금\n",
    "            'DBC'  # 상품\n",
    "            ]\n",
    "\n",
    "all_data = {}\n",
    "for ticker in tickers:\n",
    "    all_data[ticker] = web.DataReader(ticker, 'yahoo')"
   ]
  },
  {
   "cell_type": "code",
   "execution_count": 241,
   "metadata": {},
   "outputs": [],
   "source": [
    "prices = pd.DataFrame({tic: data['Adj Close'] for tic, data in all_data.items()})\n",
    "prices.to_csv('data/asset_data.csv')"
   ]
  },
  {
   "cell_type": "code",
   "execution_count": 9,
   "metadata": {},
   "outputs": [],
   "source": [
    "import pandas as pd\n",
    "\n",
    "prices = pd.read_csv('data/asset_data.csv', index_col = 0)"
   ]
  },
  {
   "cell_type": "code",
   "execution_count": 11,
   "metadata": {},
   "outputs": [],
   "source": [
    "rets = prices.pct_change(1).dropna()"
   ]
  },
  {
   "cell_type": "code",
   "execution_count": 11,
   "metadata": {},
   "outputs": [
    {
     "data": {
      "text/html": [
       "<div>\n",
       "<style scoped>\n",
       "    .dataframe tbody tr th:only-of-type {\n",
       "        vertical-align: middle;\n",
       "    }\n",
       "\n",
       "    .dataframe tbody tr th {\n",
       "        vertical-align: top;\n",
       "    }\n",
       "\n",
       "    .dataframe thead th {\n",
       "        text-align: right;\n",
       "    }\n",
       "</style>\n",
       "<table border=\"1\" class=\"dataframe\">\n",
       "  <thead>\n",
       "    <tr style=\"text-align: right;\">\n",
       "      <th></th>\n",
       "      <th>SPY</th>\n",
       "      <th>IEV</th>\n",
       "      <th>EWJ</th>\n",
       "      <th>EEM</th>\n",
       "      <th>TLT</th>\n",
       "      <th>IEF</th>\n",
       "      <th>IYR</th>\n",
       "      <th>RWX</th>\n",
       "      <th>GLD</th>\n",
       "      <th>DBC</th>\n",
       "    </tr>\n",
       "    <tr>\n",
       "      <th>Date</th>\n",
       "      <th></th>\n",
       "      <th></th>\n",
       "      <th></th>\n",
       "      <th></th>\n",
       "      <th></th>\n",
       "      <th></th>\n",
       "      <th></th>\n",
       "      <th></th>\n",
       "      <th></th>\n",
       "      <th></th>\n",
       "    </tr>\n",
       "  </thead>\n",
       "  <tbody>\n",
       "    <tr>\n",
       "      <th>2016-02-09</th>\n",
       "      <td>0.000054</td>\n",
       "      <td>-0.008882</td>\n",
       "      <td>-0.019213</td>\n",
       "      <td>-0.013851</td>\n",
       "      <td>0.001065</td>\n",
       "      <td>0.000181</td>\n",
       "      <td>-0.016174</td>\n",
       "      <td>-0.004065</td>\n",
       "      <td>-0.002196</td>\n",
       "      <td>-0.025662</td>\n",
       "    </tr>\n",
       "    <tr>\n",
       "      <th>2016-02-10</th>\n",
       "      <td>-0.000863</td>\n",
       "      <td>0.004200</td>\n",
       "      <td>-0.017724</td>\n",
       "      <td>0.004111</td>\n",
       "      <td>0.008812</td>\n",
       "      <td>0.002984</td>\n",
       "      <td>0.005231</td>\n",
       "      <td>0.000272</td>\n",
       "      <td>0.007748</td>\n",
       "      <td>0.001646</td>\n",
       "    </tr>\n",
       "    <tr>\n",
       "      <th>2016-02-11</th>\n",
       "      <td>-0.013008</td>\n",
       "      <td>-0.014222</td>\n",
       "      <td>-0.019943</td>\n",
       "      <td>-0.016718</td>\n",
       "      <td>0.007003</td>\n",
       "      <td>0.004598</td>\n",
       "      <td>-0.014719</td>\n",
       "      <td>-0.008433</td>\n",
       "      <td>0.040189</td>\n",
       "      <td>0.012325</td>\n",
       "    </tr>\n",
       "    <tr>\n",
       "      <th>2016-02-12</th>\n",
       "      <td>0.020617</td>\n",
       "      <td>0.019519</td>\n",
       "      <td>0.008721</td>\n",
       "      <td>0.017349</td>\n",
       "      <td>-0.016602</td>\n",
       "      <td>-0.007628</td>\n",
       "      <td>0.012977</td>\n",
       "      <td>0.015089</td>\n",
       "      <td>-0.005879</td>\n",
       "      <td>0.014610</td>\n",
       "    </tr>\n",
       "    <tr>\n",
       "      <th>2016-02-16</th>\n",
       "      <td>0.016878</td>\n",
       "      <td>0.016093</td>\n",
       "      <td>0.036503</td>\n",
       "      <td>0.022169</td>\n",
       "      <td>-0.010570</td>\n",
       "      <td>-0.002984</td>\n",
       "      <td>0.019217</td>\n",
       "      <td>0.020270</td>\n",
       "      <td>-0.030331</td>\n",
       "      <td>-0.011200</td>\n",
       "    </tr>\n",
       "    <tr>\n",
       "      <th>...</th>\n",
       "      <td>...</td>\n",
       "      <td>...</td>\n",
       "      <td>...</td>\n",
       "      <td>...</td>\n",
       "      <td>...</td>\n",
       "      <td>...</td>\n",
       "      <td>...</td>\n",
       "      <td>...</td>\n",
       "      <td>...</td>\n",
       "      <td>...</td>\n",
       "    </tr>\n",
       "    <tr>\n",
       "      <th>2021-02-01</th>\n",
       "      <td>0.016646</td>\n",
       "      <td>0.013551</td>\n",
       "      <td>0.010449</td>\n",
       "      <td>0.027012</td>\n",
       "      <td>0.001159</td>\n",
       "      <td>0.001248</td>\n",
       "      <td>0.024156</td>\n",
       "      <td>0.000297</td>\n",
       "      <td>0.009385</td>\n",
       "      <td>0.019092</td>\n",
       "    </tr>\n",
       "    <tr>\n",
       "      <th>2021-02-02</th>\n",
       "      <td>0.014140</td>\n",
       "      <td>0.009400</td>\n",
       "      <td>0.007978</td>\n",
       "      <td>0.012968</td>\n",
       "      <td>-0.006447</td>\n",
       "      <td>-0.002527</td>\n",
       "      <td>0.005381</td>\n",
       "      <td>0.004160</td>\n",
       "      <td>-0.012168</td>\n",
       "      <td>0.007752</td>\n",
       "    </tr>\n",
       "    <tr>\n",
       "      <th>2021-02-03</th>\n",
       "      <td>0.000786</td>\n",
       "      <td>0.001863</td>\n",
       "      <td>0.005862</td>\n",
       "      <td>0.005049</td>\n",
       "      <td>-0.008873</td>\n",
       "      <td>-0.002449</td>\n",
       "      <td>-0.002733</td>\n",
       "      <td>0.000000</td>\n",
       "      <td>-0.001511</td>\n",
       "      <td>0.007051</td>\n",
       "    </tr>\n",
       "    <tr>\n",
       "      <th>2021-02-04</th>\n",
       "      <td>0.011366</td>\n",
       "      <td>0.000000</td>\n",
       "      <td>0.001166</td>\n",
       "      <td>0.000359</td>\n",
       "      <td>-0.002672</td>\n",
       "      <td>-0.000339</td>\n",
       "      <td>0.005710</td>\n",
       "      <td>-0.001184</td>\n",
       "      <td>-0.021530</td>\n",
       "      <td>0.005092</td>\n",
       "    </tr>\n",
       "    <tr>\n",
       "      <th>2021-02-05</th>\n",
       "      <td>0.003936</td>\n",
       "      <td>0.006817</td>\n",
       "      <td>0.007859</td>\n",
       "      <td>0.008608</td>\n",
       "      <td>-0.008374</td>\n",
       "      <td>-0.002117</td>\n",
       "      <td>0.001930</td>\n",
       "      <td>0.005926</td>\n",
       "      <td>0.009872</td>\n",
       "      <td>0.005066</td>\n",
       "    </tr>\n",
       "  </tbody>\n",
       "</table>\n",
       "<p>1258 rows × 10 columns</p>\n",
       "</div>"
      ],
      "text/plain": [
       "                 SPY       IEV       EWJ       EEM       TLT       IEF  \\\n",
       "Date                                                                     \n",
       "2016-02-09  0.000054 -0.008882 -0.019213 -0.013851  0.001065  0.000181   \n",
       "2016-02-10 -0.000863  0.004200 -0.017724  0.004111  0.008812  0.002984   \n",
       "2016-02-11 -0.013008 -0.014222 -0.019943 -0.016718  0.007003  0.004598   \n",
       "2016-02-12  0.020617  0.019519  0.008721  0.017349 -0.016602 -0.007628   \n",
       "2016-02-16  0.016878  0.016093  0.036503  0.022169 -0.010570 -0.002984   \n",
       "...              ...       ...       ...       ...       ...       ...   \n",
       "2021-02-01  0.016646  0.013551  0.010449  0.027012  0.001159  0.001248   \n",
       "2021-02-02  0.014140  0.009400  0.007978  0.012968 -0.006447 -0.002527   \n",
       "2021-02-03  0.000786  0.001863  0.005862  0.005049 -0.008873 -0.002449   \n",
       "2021-02-04  0.011366  0.000000  0.001166  0.000359 -0.002672 -0.000339   \n",
       "2021-02-05  0.003936  0.006817  0.007859  0.008608 -0.008374 -0.002117   \n",
       "\n",
       "                 IYR       RWX       GLD       DBC  \n",
       "Date                                                \n",
       "2016-02-09 -0.016174 -0.004065 -0.002196 -0.025662  \n",
       "2016-02-10  0.005231  0.000272  0.007748  0.001646  \n",
       "2016-02-11 -0.014719 -0.008433  0.040189  0.012325  \n",
       "2016-02-12  0.012977  0.015089 -0.005879  0.014610  \n",
       "2016-02-16  0.019217  0.020270 -0.030331 -0.011200  \n",
       "...              ...       ...       ...       ...  \n",
       "2021-02-01  0.024156  0.000297  0.009385  0.019092  \n",
       "2021-02-02  0.005381  0.004160 -0.012168  0.007752  \n",
       "2021-02-03 -0.002733  0.000000 -0.001511  0.007051  \n",
       "2021-02-04  0.005710 -0.001184 -0.021530  0.005092  \n",
       "2021-02-05  0.001930  0.005926  0.009872  0.005066  \n",
       "\n",
       "[1258 rows x 10 columns]"
      ]
     },
     "execution_count": 11,
     "metadata": {},
     "output_type": "execute_result"
    }
   ],
   "source": [
    "rets"
   ]
  },
  {
   "cell_type": "code",
   "execution_count": 18,
   "metadata": {},
   "outputs": [
    {
     "data": {
      "text/plain": [
       "<AxesSubplot:>"
      ]
     },
     "execution_count": 18,
     "metadata": {},
     "output_type": "execute_result"
    },
    {
     "data": {
      "image/png": "[encoded data removed]",
      "text/plain": [
       "<Figure size 720x720 with 2 Axes>"
      ]
     },
     "metadata": {
      "needs_background": "light"
     },
     "output_type": "display_data"
    }
   ],
   "source": [
    "import matplotlib.pyplot as plt\n",
    "import seaborn as sns\n",
    "\n",
    "plt.figure(figsize=(10, 10))\n",
    "sns.heatmap(rets.corr().round(2), linewidths = 0.1, vmax = 1.0, square = True, linecolor = \"white\", annot = True, annot_kws = {\"size\" : 16})"
   ]
  },
  {
   "cell_type": "code",
   "execution_count": 12,
   "metadata": {},
   "outputs": [],
   "source": [
    "covmat = pd.DataFrame.cov(rets)"
   ]
  },
  {
   "cell_type": "markdown",
   "metadata": {},
   "source": [
    "## 11.1 최소분산 포트폴리오"
   ]
  },
  {
   "cell_type": "markdown",
   "metadata": {},
   "source": [
    "### 11.1.1 solvers.qp 함수를 이용한 최적화"
   ]
  },
  {
   "cell_type": "markdown",
   "metadata": {},
   "source": [
    "- CVXOPT 패키지 이용\n",
    "- CVXOPT Link:  https://courses.csail.mit.edu/6.867/wiki/images/a/a7/Qp-cvxopt.pdf\n",
    "\n",
    "목적함수\n",
    "$$ \\min \\frac{1}{2} x^TPx + q^Tx $$  \n",
    "\n",
    "제약조건\n",
    "$$Gx  ≤ h$$\n",
    "$$Ax = b$$"
   ]
  },
  {
   "cell_type": "markdown",
   "metadata": {},
   "source": [
    "**예시**\n",
    "\n",
    "- 목적함수\n",
    "$$\\min_{x,y} \\frac{1}{2}x^2 + 3x + 4y $$\n",
    "- 제약조건\n",
    "$$x,y \\ge 0$$ \n",
    "$$ x + 3y \\ge 15 $$\n",
    "$$ 2x + 5y \\le 100 $$\n",
    "$$ 3x + 4y \\le 80 $$\n",
    "\n",
    "**행렬로 전환하면 다음과 같음**\n",
    "\n",
    "- 목적함수\n",
    "$$ \\min_{x,y} \\frac{1}{2} \\begin{bmatrix} x \\\\ y \\end{bmatrix}^T \\begin{bmatrix} 1 & 0 \\\\ 0 & 0 \\end{bmatrix} \\begin{bmatrix} x \\\\ y \\end{bmatrix} +\n",
    "   \\begin{bmatrix} 3 \\\\ 4 \\end{bmatrix}^T + \\begin{bmatrix} x \\\\ y \\end{bmatrix} $$\n",
    "   \n",
    "- 제약함수\n",
    "$$ \\begin{bmatrix} -1 & 0 \\\\ 0 & -1 \\\\ -1 & -3 \\\\ 2 & 5 \\\\ 3 & 4 \\end{bmatrix} \\begin{bmatrix} x \\\\ y \\end{bmatrix} \\le \\begin{bmatrix} 0 \\\\ 0 \\\\ -15 \\\\ 100 \\\\ 80 \\end{bmatrix}$$"
   ]
  },
  {
   "cell_type": "markdown",
   "metadata": {},
   "source": [
    "$x = \\begin{bmatrix} x \\\\ y \\end{bmatrix},\\ P = \\begin{bmatrix} 1 & 0 \\\\ 0 & 0 \\end{bmatrix},\\ q =  \\begin{bmatrix} 3 \\\\ 4 \\end{bmatrix}$\n",
    "\n",
    "$G = \\begin{bmatrix} -1 & 0 \\\\ 0 & -1 \\\\ -1 & -3 \\\\ 2 & 5 \\\\ 3 & 4 \\end{bmatrix} \\ h = \\begin{bmatrix} 0 \\\\ 0 \\\\ -15 \\\\ 100 \\\\ 80 \\end{bmatrix}$\n",
    "\n",
    "- 위 형태를 만들어서 함수 내에 넣어주면 최적값 구해줌"
   ]
  },
  {
   "cell_type": "code",
   "execution_count": 7,
   "metadata": {},
   "outputs": [
    {
     "name": "stdout",
     "output_type": "stream",
     "text": [
      "Collecting cvxopt\n",
      "  Downloading cvxopt-1.2.5.post1-cp38-cp38-win_amd64.whl (9.5 MB)\n",
      "Installing collected packages: cvxopt\n",
      "Successfully installed cvxopt-1.2.5.post1\n",
      "     pcost       dcost       gap    pres   dres\n",
      " 0:  1.0780e+02 -7.6366e+02  9e+02  0e+00  4e+01\n",
      " 1:  9.3245e+01  9.7637e+00  8e+01  6e-17  3e+00\n",
      " 2:  6.7311e+01  3.2553e+01  3e+01  2e-16  1e+00\n",
      " 3:  2.6071e+01  1.5068e+01  1e+01  2e-16  7e-01\n",
      " 4:  3.7092e+01  2.3152e+01  1e+01  1e-16  4e-01\n",
      " 5:  2.5352e+01  1.8652e+01  7e+00  6e-17  3e-16\n",
      " 6:  2.0062e+01  1.9974e+01  9e-02  9e-17  2e-16\n",
      " 7:  2.0001e+01  2.0000e+01  9e-04  2e-16  1e-16\n",
      " 8:  2.0000e+01  2.0000e+01  9e-06  1e-16  3e-16\n",
      "Optimal solution found.\n"
     ]
    }
   ],
   "source": [
    "from cvxopt import matrix\n",
    "from cvxopt import solvers\n",
    "import numpy as np\n",
    "\n",
    "P = matrix(np.diag([1,0]), tc= 'd')\n",
    "q = matrix(np.array([3,4]), tc= 'd')\n",
    "G = matrix(np.array([[-1,0],[0,-1],[-1,-3],[2,5],[3,4]]), tc= 'd')\n",
    "h = matrix(np.array([0,0,-15,100,80]), tc= 'd')\n",
    "\n",
    "sol = solvers.qp(P,q,G,h)"
   ]
  },
  {
   "cell_type": "code",
   "execution_count": 8,
   "metadata": {},
   "outputs": [
    {
     "data": {
      "text/plain": [
       "array([[0.],\n",
       "       [5.]])"
      ]
     },
     "execution_count": 8,
     "metadata": {},
     "output_type": "execute_result"
    }
   ],
   "source": [
    "np.array(sol['x']).round(2)"
   ]
  },
  {
   "cell_type": "markdown",
   "metadata": {},
   "source": [
    "### 11.1.2 최소분산 포트폴리오 계산하기"
   ]
  },
  {
   "cell_type": "markdown",
   "metadata": {},
   "source": [
    "- 목적함수\n",
    "\n",
    "solvers.qp() 함수에서는 $ \\min \\frac{1}{2} x^TPx + q^Tx $ 이며, 최소분산 포트폴리오에서는 $ \\min \\frac{1}{2}w'\\Omega w $\n",
    "\n",
    "따라서 각각 $x → w$, $P → \\Omega$, $q → 0$ 에 대응된다.\n"
   ]
  },
  {
   "cell_type": "markdown",
   "metadata": {},
   "source": [
    "- 제약조건: 부등식\n",
    "\n",
    "함수에서는 $Gx  ≤ h$, 최소분산 포트폴리오 에서는 $w_i \\ge 0$\n",
    "\n",
    "최소분산 포트폴리오의 부등식 제약조건 $w_i \\ge 0$을 행렬로 표현하면 다음과 같음\n",
    "\n",
    "$$ \\begin{bmatrix} 1 &  \\dots & 0 \\\\ \\vdots &  \\ddots & \\vdots \\\\ 0 &  \\dots & 1 \\end{bmatrix}\n",
    "\\begin{bmatrix} w_1 \\\\  \\vdots \\\\ w_n \\end{bmatrix}  \\ge \\begin{bmatrix} 0 \\\\  \\vdots \\\\ 0 \\end{bmatrix}$$\n",
    "\n",
    "solvers.qp() 함수에서는 우변에 더 큰 형태이므로, 이를 맞춰주기 위해 양변에 음수를 곱해주면 다음과 같음\n",
    "\n",
    "$$\\begin{bmatrix}-1 & \\dots & 0 \\\\ \\vdots & \\ddots & \\vdots \\\\ 0 & \\dots & -1 \\end{bmatrix} \\begin{bmatrix} w_1 \\\\  \\vdots \\\\ w_n \\end{bmatrix} \\le \\begin{bmatrix} 0 \\\\  \\vdots \\\\ 0 \\end{bmatrix}$$\n",
    "\n",
    "따라서 $G → \\begin{bmatrix}-1 & \\dots & 0 \\\\ \\vdots & \\ddots & \\vdots \\\\ 0 & \\dots & -1 \\end{bmatrix} $, $h →\\begin{bmatrix} 0 \\\\  \\vdots \\\\ 0 \\end{bmatrix}$에 대응된다."
   ]
  },
  {
   "cell_type": "markdown",
   "metadata": {},
   "source": [
    "- 제약조건: 등식\n",
    "\n",
    "solvers.qp() 함수에서는 $Ax = b$, 최소분산 포트폴리오 에서는 $\\sum_{i=1}^{n}w_i = 1$\n",
    "\n",
    "최소분산 포트폴리오의 부등식 제약조건 $\\sum_{i=1}^{n}w_i = 1$을 행렬로 표현하면 다음과 같음\n",
    "\n",
    "$$\\begin{bmatrix}1 & \\dots & 1 \\end{bmatrix}\\begin{bmatrix} w_1 \\\\  \\vdots \\\\ w_n \\end{bmatrix} = 1 $$ \n",
    "\n",
    "따라서 $A → \\begin{bmatrix}1 & \\dots & 1 \\end{bmatrix}$, $b → 1$에 대응된다.\n"
   ]
  },
  {
   "cell_type": "code",
   "execution_count": 21,
   "metadata": {},
   "outputs": [],
   "source": [
    "P = matrix(np.array(covmat), tc = 'd') # 분산-공분산 행렬\n",
    "q = matrix(np.zeros(10), tc = 'd') #0  행렬\n",
    "\n",
    "G = matrix(np.diag(np.repeat(-1, 10)) , tc = 'd') # 부등식 제약조건의 좌변\n",
    "h = matrix(np.repeat(0, 10) , tc = 'd') # 부등식 제약조건의 우변\n",
    "A = matrix(np.repeat(1, 10), tc = 'd').T # 등식 제약조건의 좌변\n",
    "b = matrix(1, tc = 'd') # 등식 제약조건의 우변"
   ]
  },
  {
   "cell_type": "code",
   "execution_count": 22,
   "metadata": {},
   "outputs": [
    {
     "name": "stdout",
     "output_type": "stream",
     "text": [
      "     pcost       dcost       gap    pres   dres\n",
      " 0:  2.3861e-05 -1.0000e+00  1e+00  2e-16  3e+00\n",
      " 1:  2.3858e-05 -1.0031e-02  1e-02  7e-17  3e-02\n",
      " 2:  2.3656e-05 -1.3077e-04  2e-04  8e-17  5e-04\n",
      " 3:  1.5596e-05 -1.5581e-05  3e-05  6e-17  9e-05\n",
      " 4:  8.7465e-06 -1.3361e-05  2e-05  2e-16  5e-05\n",
      " 5:  4.2114e-06  1.3927e-06  3e-06  1e-16  2e-20\n",
      " 6:  3.5495e-06  3.1315e-06  4e-07  3e-16  8e-21\n",
      " 7:  3.3154e-06  3.2408e-06  7e-08  1e-16  5e-21\n",
      "Optimal solution found.\n"
     ]
    },
    {
     "data": {
      "text/plain": [
       "array([[0.087],\n",
       "       [0.009],\n",
       "       [0.034],\n",
       "       [0.003],\n",
       "       [0.001],\n",
       "       [0.805],\n",
       "       [0.001],\n",
       "       [0.003],\n",
       "       [0.001],\n",
       "       [0.057]])"
      ]
     },
     "execution_count": 22,
     "metadata": {},
     "output_type": "execute_result"
    }
   ],
   "source": [
    "sol = solvers.qp(P,q,G,h, A, b)\n",
    "\n",
    "res = np.array(sol['x']).round(3)\n",
    "res"
   ]
  },
  {
   "cell_type": "code",
   "execution_count": 23,
   "metadata": {},
   "outputs": [
    {
     "data": {
      "text/plain": [
       "<AxesSubplot:>"
      ]
     },
     "execution_count": 23,
     "metadata": {},
     "output_type": "execute_result"
    },
    {
     "data": {
      "image/png": "[encoded data removed]",
      "text/plain": [
       "<Figure size 432x288 with 1 Axes>"
      ]
     },
     "metadata": {
      "needs_background": "light"
     },
     "output_type": "display_data"
    }
   ],
   "source": [
    "res_df = pd.DataFrame(res)\n",
    "res_df.index = rets.columns\n",
    "\n",
    "res_df.plot(kind = 'bar', legend = False)"
   ]
  },
  {
   "cell_type": "markdown",
   "metadata": {},
   "source": [
    "## 11.1.3 최소 및 최대 투자비중 제약조건"
   ]
  },
  {
   "cell_type": "markdown",
   "metadata": {},
   "source": [
    "부등식 제약조건 $0.05 \\le w_i \\le 0.2$로 바꿈\n",
    "\n",
    "이를 $Gx  ≤ h$의 형태로 나타내면 다음과 같음\n",
    "\n",
    "$$\\begin{bmatrix}-1 & \\dots & 0 \\\\ \\vdots & \\ddots & \\vdots \\\\ 0 & \\dots & -1 \\\\ 1 & \\dots & 0 \\\\ \\vdots & \\ddots & \\vdots \\\\ 0 & \\dots & 1\\end{bmatrix} \\begin{bmatrix} w_1 \\\\  \\vdots \\\\ w_n \\end{bmatrix} \\le \\begin{bmatrix} -0.05 \\\\  \\vdots \\\\ -0.05 \\\\ 0.2 \\\\ \\vdots \\\\ 0.2 \\end{bmatrix}$$"
   ]
  },
  {
   "cell_type": "code",
   "execution_count": 24,
   "metadata": {},
   "outputs": [],
   "source": [
    "P = matrix(np.array(covmat), tc = 'd') # 분산-공분산 행렬\n",
    "q = matrix(np.zeros(10), tc = 'd') #0  행렬\n",
    "\n",
    "G = matrix(np.concatenate( (np.diag(np.repeat(-1, 10)), np.diag(np.repeat(1, 10)))) , tc = 'd') # 부등식 제약조건의 좌변\n",
    "h = matrix(np.concatenate( (np.repeat(-0.05, 10), np.repeat(0.2, 10))) , tc = 'd') # 부등식 제약조건의 우변\n",
    "A = matrix(np.repeat(1, 10), tc = 'd').T # 등식 제약조건의 좌변\n",
    "b = matrix(1, tc = 'd') # 등식 제약조건의 우변"
   ]
  },
  {
   "cell_type": "code",
   "execution_count": 25,
   "metadata": {},
   "outputs": [
    {
     "name": "stdout",
     "output_type": "stream",
     "text": [
      "     pcost       dcost       gap    pres   dres\n",
      " 0:  2.3866e-05 -1.5250e+00  2e+00  1e-16  3e-16\n",
      " 1:  2.3865e-05 -1.5280e-02  2e-02  2e-16  5e-16\n",
      " 2:  2.3799e-05 -1.8247e-04  2e-04  1e-16  5e-18\n",
      " 3:  2.0110e-05 -1.2692e-05  3e-05  5e-17  8e-19\n",
      " 4:  1.2717e-05  8.2178e-06  4e-06  9e-17  3e-20\n",
      " 5:  1.1116e-05  1.0598e-05  5e-07  8e-17  2e-20\n",
      " 6:  1.0828e-05  1.0799e-05  3e-08  2e-16  1e-20\n",
      "Optimal solution found.\n"
     ]
    },
    {
     "data": {
      "text/plain": [
       "array([[0.051],\n",
       "       [0.05 ],\n",
       "       [0.054],\n",
       "       [0.05 ],\n",
       "       [0.2  ],\n",
       "       [0.2  ],\n",
       "       [0.05 ],\n",
       "       [0.05 ],\n",
       "       [0.178],\n",
       "       [0.116]])"
      ]
     },
     "execution_count": 25,
     "metadata": {},
     "output_type": "execute_result"
    }
   ],
   "source": [
    "sol = solvers.qp(P,q,G,h, A, b)\n",
    "\n",
    "res = np.array(sol['x']).round(3)\n",
    "res"
   ]
  },
  {
   "cell_type": "code",
   "execution_count": 26,
   "metadata": {},
   "outputs": [
    {
     "data": {
      "text/plain": [
       "<AxesSubplot:>"
      ]
     },
     "execution_count": 26,
     "metadata": {},
     "output_type": "execute_result"
    },
    {
     "data": {
      "image/png": "[encoded data removed]",
      "text/plain": [
       "<Figure size 432x288 with 1 Axes>"
      ]
     },
     "metadata": {
      "needs_background": "light"
     },
     "output_type": "display_data"
    }
   ],
   "source": [
    "res_df = pd.DataFrame(res)\n",
    "res_df.index = rets.columns\n",
    "\n",
    "res_df.plot(kind = 'bar', legend = False)"
   ]
  },
  {
   "cell_type": "markdown",
   "metadata": {},
   "source": [
    "### 11.1.4 각 자산별 제약조건의 추가"
   ]
  },
  {
   "cell_type": "markdown",
   "metadata": {},
   "source": [
    "|제약|1|2|3|4|5|6|7|8|9|10|\n",
    "|---|---|---|---|---|---|---|---|---|---|---\n",
    "|최소|0.10|0.10|0.05|0.05|0.10|0.10|0.05|0.05|0.03|0.03|\n",
    "|최대|0.25|0.25|0.20|0.20|0.20|0.20|0.10|0.10|0.08|0.08|"
   ]
  },
  {
   "cell_type": "markdown",
   "metadata": {},
   "source": [
    "이를 $Gx  ≤ h$의 형태로 나타내면 다음과 같음\n",
    "\n",
    "$$ \\begin{bmatrix} -1 & \\dots & 0 \\\\ \\vdots & \\ddots & \\vdots \\\\\n",
    "0 & \\dots & -1 \\\\ 1 & \\dots & 0 \\\\ \\vdots &  \\ddots & \\vdots \\\\\n",
    "0 & \\dots & 1 \\\\ \\\\ \\end{bmatrix}\n",
    "\\begin{bmatrix} w_1 \\\\ w_2 \\\\ \\vdots \\\\ w_{10} \\end{bmatrix} \n",
    "= \\begin{bmatrix} -w_1 \\\\ -w_2 \\\\ -w_3 \\\\ -w_4 \\\\ -w_5 \\\\ -w_6 \\\\ -w_7 \\\\ -w_8 \\\\ -w_9 \\\\ -w_{10} \\\\ w_1 \\\\ w_2 \\\\ w_3 \\\\ w_4 \\\\ w_5 \\\\ w_6 \\\\ w_7\\\\ w_8\\\\ w_9\\\\ w_{10} \\end{bmatrix} \\le \\begin{bmatrix} -0.10 \\\\ -0.10 \\\\ -0.05 \\\\ -0.05 \\\\ -0.10 \\\\ -0.10 \\\\ -0.05 \\\\ -0.05 \\\\ -0.03 \\\\ -0.03 \\\\ 0.25 \\\\ 0.25 \\\\ 0.20 \\\\ 0.20 \\\\ 0.20 \\\\ 0.20 \\\\ 0.10 \\\\ 0.10 \\\\ 0.08 \\\\ 0.08\n",
    "\\end{bmatrix} $$"
   ]
  },
  {
   "cell_type": "code",
   "execution_count": 31,
   "metadata": {},
   "outputs": [],
   "source": [
    "boundary = np.array([-0.10, -0.10, -0.05, -0.05, -0.10, -0.10, -0.05, -0.05, -0.03, -0.03,\n",
    "                    0.25, 0.25, 0.20, 0.20, 0.20, 0.20, 0.10, 0.10, 0.08, 0.08])\n",
    "\n",
    "P = matrix(np.array(covmat), tc = 'd') # 분산-공분산 행렬\n",
    "q = matrix(np.zeros(10), tc = 'd') #0  행렬\n",
    "\n",
    "G = matrix(np.concatenate( (np.diag(np.repeat(-1, 10)), np.diag(np.repeat(1, 10)))) , tc = 'd') # 부등식 제약조건의 좌변\n",
    "h = matrix(boundary, tc = 'd') # 부등식 제약조건의 우변\n",
    "A = matrix(np.repeat(1, 10), tc = 'd').T # 등식 제약조건의 좌변\n",
    "b = matrix(1, tc = 'd') # 등식 제약조건의 우변"
   ]
  },
  {
   "cell_type": "code",
   "execution_count": 32,
   "metadata": {},
   "outputs": [
    {
     "name": "stdout",
     "output_type": "stream",
     "text": [
      "     pcost       dcost       gap    pres   dres\n",
      " 0:  2.4674e-05 -1.0259e+00  1e+00  0e+00  4e-16\n",
      " 1:  2.4674e-05 -1.0275e-02  1e-02  8e-17  5e-16\n",
      " 2:  2.4625e-05 -1.1869e-04  1e-04  2e-16  9e-18\n",
      " 3:  2.1682e-05 -2.8431e-06  2e-05  2e-16  1e-18\n",
      " 4:  1.4840e-05  7.8503e-06  7e-06  7e-17  5e-20\n",
      " 5:  1.3467e-05  1.2059e-05  1e-06  8e-17  2e-20\n",
      " 6:  1.3080e-05  1.2808e-05  3e-07  1e-16  2e-20\n",
      " 7:  1.2958e-05  1.2954e-05  4e-09  8e-17  2e-20\n",
      "Optimal solution found.\n"
     ]
    },
    {
     "data": {
      "text/plain": [
       "array([[0.1 ],\n",
       "       [0.1 ],\n",
       "       [0.09],\n",
       "       [0.05],\n",
       "       [0.2 ],\n",
       "       [0.2 ],\n",
       "       [0.05],\n",
       "       [0.05],\n",
       "       [0.08],\n",
       "       [0.08]])"
      ]
     },
     "execution_count": 32,
     "metadata": {},
     "output_type": "execute_result"
    }
   ],
   "source": [
    "sol = solvers.qp(P,q,G,h, A, b)\n",
    "\n",
    "res = np.array(sol['x']).round(3)\n",
    "res"
   ]
  },
  {
   "cell_type": "code",
   "execution_count": 33,
   "metadata": {},
   "outputs": [
    {
     "data": {
      "text/plain": [
       "<AxesSubplot:>"
      ]
     },
     "execution_count": 33,
     "metadata": {},
     "output_type": "execute_result"
    },
    {
     "data": {
      "image/png": "[encoded data removed]",
      "text/plain": [
       "<Figure size 432x288 with 1 Axes>"
      ]
     },
     "metadata": {
      "needs_background": "light"
     },
     "output_type": "display_data"
    }
   ],
   "source": [
    "res_df = pd.DataFrame(res)\n",
    "res_df.index = rets.columns\n",
    "\n",
    "res_df.plot(kind = 'bar', legend = False)"
   ]
  },
  {
   "cell_type": "markdown",
   "metadata": {},
   "source": [
    "## 11.2 위험 균형 포트폴리오\n",
    "\n",
    "### 11.2.1 주식 60%와 채권 40% 포트폴리오의 위험기여도"
   ]
  },
  {
   "cell_type": "code",
   "execution_count": 28,
   "metadata": {},
   "outputs": [],
   "source": [
    "import pandas as pd\n",
    "import numpy as np\n",
    "\n",
    "def RC(weight, covmat) :\n",
    "    weight = np.array(weight)\n",
    "    variance = weight.T @ covmat @ weight\n",
    "    sigma = variance ** 0.5\n",
    "    mrc = 1/sigma * (weight @ covmat)\n",
    "    rc = weight * mrc\n",
    "    rc = rc / rc.sum()\n",
    "    return(rc)"
   ]
  },
  {
   "cell_type": "markdown",
   "metadata": {},
   "source": [
    "- $w$: weight\n",
    "- $\\Omega $: variance\n",
    "- $w'\\Omega w$: sigma"
   ]
  },
  {
   "cell_type": "code",
   "execution_count": 146,
   "metadata": {},
   "outputs": [],
   "source": [
    "ret_stock_bond  = rets.loc[:, ['SPY', 'TLT']]\n",
    "cov_stock_bond = pd.DataFrame.cov(ret_stock_bond)\n",
    "RC_stock_bond  = RC([0.6, 0.4], cov_stock_bond).round(4)"
   ]
  },
  {
   "cell_type": "code",
   "execution_count": 147,
   "metadata": {},
   "outputs": [
    {
     "data": {
      "text/plain": [
       "SPY    0.9518\n",
       "TLT    0.0482\n",
       "dtype: float64"
      ]
     },
     "execution_count": 147,
     "metadata": {},
     "output_type": "execute_result"
    }
   ],
   "source": [
    "RC_stock_bond"
   ]
  },
  {
   "cell_type": "markdown",
   "metadata": {},
   "source": [
    "### 11.2.2 minimize() 함수를 이용한 최적화"
   ]
  },
  {
   "cell_type": "markdown",
   "metadata": {},
   "source": [
    "- scipy.optimize의 minimize() 함수 사용\n",
    "- https://docs.scipy.org/doc/scipy/reference/generated/scipy.optimize.minimize.html\n",
    "\n",
    "- 이 중 slsqp(Sequential Least Squares Programming) 방법 사용\n",
    "\n",
    "목적함수\n",
    "$$ \\min f(x) $$  \n",
    "\n",
    "제약조건\n",
    "$$b(x) \\ge 0$$\n",
    "$$c(x) = 0$$"
   ]
  },
  {
   "cell_type": "markdown",
   "metadata": {},
   "source": [
    "함수 형태는 다음과 같음\n",
    "\n",
    "- minimize(fun, x0, method=, bounds, constraints, options)\n",
    "\n",
    "- fun: 목적함수\n",
    "- x0: 초기값\n",
    "- bounds: 변수 범위\n",
    "- constraints: 제약조건\n",
    "- options: 기타 옵션"
   ]
  },
  {
   "cell_type": "markdown",
   "metadata": {},
   "source": [
    "**예시**\n",
    "\n",
    "- 목적함수\n",
    "$$\\min x_1 x_4(x_1 + x_2 + x_3) + x3$$\n",
    "\n",
    "- 제약조건\n",
    "$$x_1 x_2 x_3 x_4 \\ge 25$$\n",
    "$$x_1^2 + x_2^2 + x_3^2 + x_4^2 = 40$$\n",
    "$$1 \\le x_1, x_2, x_3, x_4 \\le 5$$\n"
   ]
  },
  {
   "cell_type": "code",
   "execution_count": 38,
   "metadata": {},
   "outputs": [],
   "source": [
    "# 목적식\n",
    "def obj_function(x) :\n",
    "    \n",
    "    x1 = x[0]\n",
    "    x2 = x[1]\n",
    "    x3 = x[2]\n",
    "    x4 = x[3]\n",
    "    \n",
    "    return x1*x4*(x1+x2+x3)+x3\n",
    "\n",
    "# 제약조건 1\n",
    "def cons_1(x) :\n",
    "    return x[0]*x[1]*x[2]*x[3] - 25\n",
    "\n",
    "# 제약조건 2\n",
    "def cons_2(x) :\n",
    "    return x[0]**2 + x[1]**2 + x[2]**2 + x[3]**2 - 40\n"
   ]
  },
  {
   "cell_type": "markdown",
   "metadata": {},
   "source": [
    "- 첫번째 제약조건은 $x_1 x_2 x_3 x_4 \\ge 25$\n",
    "- 함수에서는 $b(x) \\ge 0$ 형태로 입력해주어야 하므로 25를 좌변으로 넘김\n",
    "- 두번째 제약조건 역시 $c(x) = 0$ 형태를 만들기 위해 40을 좌변으로 넘김\n",
    "- 세번째 변수 범위 제약조건은 함수 내에 직접 입력"
   ]
  },
  {
   "cell_type": "code",
   "execution_count": 39,
   "metadata": {},
   "outputs": [],
   "source": [
    "x0 = [1, 5, 5, 1]\n",
    "bnds = ((1, 5), ) * 4\n",
    "\n",
    "constraints = ({'type': 'ineq', 'fun': cons_1},\n",
    "               {'type': 'eq', 'fun': cons_2})\n",
    "options = {'ftol': 1e-20, 'maxiter': 800}\n",
    "\n",
    "result = minimize(fun = obj_function,\n",
    "                  x0 = x0,\n",
    "                  method = 'SLSQP',\n",
    "                  bounds = bnds,\n",
    "                  constraints = constraints,                      \n",
    "                  options = options)"
   ]
  },
  {
   "cell_type": "code",
   "execution_count": 40,
   "metadata": {},
   "outputs": [
    {
     "data": {
      "text/plain": [
       "     fun: 17.014017289156026\n",
       "     jac: array([14.5722754 ,  1.37940812,  2.37940812,  9.56414962])\n",
       " message: 'Positive directional derivative for linesearch'\n",
       "    nfev: 104\n",
       "     nit: 16\n",
       "    njev: 12\n",
       "  status: 8\n",
       " success: False\n",
       "       x: array([1.        , 4.74299961, 3.82115002, 1.37940829])"
      ]
     },
     "execution_count": 40,
     "metadata": {},
     "output_type": "execute_result"
    }
   ],
   "source": [
    "result"
   ]
  },
  {
   "cell_type": "markdown",
   "metadata": {},
   "source": [
    "- fun: 목적함수의 결과물\n",
    "- x: 최적값을 만족하는 해"
   ]
  },
  {
   "cell_type": "code",
   "execution_count": 41,
   "metadata": {},
   "outputs": [
    {
     "data": {
      "text/plain": [
       "array([1.        , 4.74299961, 3.82115002, 1.37940829])"
      ]
     },
     "execution_count": 41,
     "metadata": {},
     "output_type": "execute_result"
    }
   ],
   "source": [
    "result['x']"
   ]
  },
  {
   "cell_type": "markdown",
   "metadata": {},
   "source": [
    "### 11.2.3 위험균형 포트폴리오 계산하기"
   ]
  },
  {
   "cell_type": "markdown",
   "metadata": {},
   "source": [
    "목적조건: $min \\sum_{i=1}^{n}(Target RC_{i} - RC_{i})^2$\n",
    "\n",
    "제약조건: $\\sum_{i=1}^{n}w_i = 1, w_i \\ge 0 $"
   ]
  },
  {
   "cell_type": "code",
   "execution_count": 43,
   "metadata": {},
   "outputs": [],
   "source": [
    "# 목적식\n",
    "def RiskParity_objective(weight) :\n",
    "    \n",
    "    weight = np.array(weight)\n",
    "    variance = weight.T @ covmat @ weight\n",
    "    sigma = variance ** 0.5\n",
    "    mrc = 1/sigma * (weight @ covmat)\n",
    "    rc = weight * mrc\n",
    "    rc = rc / rc.sum()\n",
    "    \n",
    "    target = np.array([0.1, 0.1, 0.1, 0.1, 0.1, 0.1, 0.1, 0.1, 0.1, 0.1])\n",
    "    risk_diffs = rc - target\n",
    "    sum_risk_diffs_squared = np.sum(np.square(risk_diffs.values))\n",
    "    return (sum_risk_diffs_squared)\n",
    "\n",
    "# 제약조건 1: 합계가 1\n",
    "def weight_sum_constraint(x) :\n",
    "    return(x.sum() - 1.0 )\n",
    "\n",
    "# 제약조건 2: 비중이 0보다 클 것\n",
    "def weight_longonly(x) :\n",
    "    return(x)"
   ]
  },
  {
   "cell_type": "code",
   "execution_count": 46,
   "metadata": {},
   "outputs": [],
   "source": [
    "def RiskParity(covmat) :\n",
    "    \n",
    "    x0 = np.repeat(0.1, 10) \n",
    "    bnds = ((0, 1), ) * 10\n",
    "    \n",
    "    constraints = ({'type': 'eq', 'fun': weight_sum_constraint},\n",
    "                   {'type': 'ineq', 'fun': weight_longonly})\n",
    "    options = {'ftol': 1e-20, 'maxiter': 800}\n",
    "    \n",
    "    result = minimize(fun = RiskParity_objective,\n",
    "                      x0 = x0,\n",
    "                      method = 'SLSQP',\n",
    "                      bounds = bnds,\n",
    "                      constraints = constraints,                      \n",
    "                      options = options)\n",
    "    return(result['x'])"
   ]
  },
  {
   "cell_type": "code",
   "execution_count": 47,
   "metadata": {},
   "outputs": [],
   "source": [
    "from scipy.optimize import minimize\n",
    "import numpy as np\n",
    "\n",
    "res = RiskParity(covmat)"
   ]
  },
  {
   "cell_type": "code",
   "execution_count": 48,
   "metadata": {},
   "outputs": [
    {
     "data": {
      "text/plain": [
       "array([0.05824497, 0.05037431, 0.06472055, 0.04440103, 0.14331185,\n",
       "       0.36599374, 0.04607843, 0.05267282, 0.09258011, 0.0816222 ])"
      ]
     },
     "execution_count": 48,
     "metadata": {},
     "output_type": "execute_result"
    }
   ],
   "source": [
    "res"
   ]
  },
  {
   "cell_type": "code",
   "execution_count": 49,
   "metadata": {},
   "outputs": [
    {
     "data": {
      "text/plain": [
       "<AxesSubplot:>"
      ]
     },
     "execution_count": 49,
     "metadata": {},
     "output_type": "execute_result"
    },
    {
     "data": {
      "image/png": "[encoded data removed]",
      "text/plain": [
       "<Figure size 432x288 with 1 Axes>"
      ]
     },
     "metadata": {
      "needs_background": "light"
     },
     "output_type": "display_data"
    }
   ],
   "source": [
    "res_df = pd.DataFrame(res).set_index(rets.columns)\n",
    "res_df.plot(kind = 'bar', legend = False)"
   ]
  },
  {
   "cell_type": "code",
   "execution_count": 29,
   "metadata": {},
   "outputs": [
    {
     "data": {
      "text/plain": [
       "SPY    0.1\n",
       "IEV    0.1\n",
       "EWJ    0.1\n",
       "EEM    0.1\n",
       "TLT    0.1\n",
       "IEF    0.1\n",
       "IYR    0.1\n",
       "RWX    0.1\n",
       "GLD    0.1\n",
       "DBC    0.1\n",
       "dtype: float64"
      ]
     },
     "execution_count": 29,
     "metadata": {},
     "output_type": "execute_result"
    }
   ],
   "source": [
    "RC(res.x, covmat)"
   ]
  },
  {
   "cell_type": "markdown",
   "metadata": {},
   "source": [
    "### 11.2.4 위험예산 포트폴리오"
   ]
  },
  {
   "cell_type": "code",
   "execution_count": 50,
   "metadata": {},
   "outputs": [],
   "source": [
    "def RiskParity_objective(weight) :\n",
    "    \n",
    "    weight = np.array(weight)\n",
    "    variance = weight.T @ covmat @ weight\n",
    "    sigma = variance ** 0.5\n",
    "    mrc = 1/sigma * (weight @ covmat)\n",
    "    rc = weight * mrc\n",
    "    rc = rc / rc.sum()\n",
    "    \n",
    "    target = np.array([0.15, 0.15, 0.15, 0.15, 0.10, 0.10, 0.05, 0.05, 0.05, 0.05])\n",
    "    risk_diffs = rc - target\n",
    "    sum_risk_diffs_squared = np.sum(np.square(risk_diffs.values))\n",
    "    return (sum_risk_diffs_squared)\n",
    "\n",
    "# 제약조건 1: 합계가 1\n",
    "def weight_sum_constraint(x) :\n",
    "    return(x.sum() - 1.0 )\n",
    "\n",
    "# 제약조건 2: 비중이 0보다 클 것\n",
    "def weight_longonly(x) :\n",
    "    return(x)\n",
    "\n",
    "def RiskParity(covmat) :\n",
    "    \n",
    "    x0 = np.repeat(0.1, 10) \n",
    "    # target = np.array(target)\n",
    "    constraints = ({'type': 'eq', 'fun': weight_sum_constraint},\n",
    "                   {'type': 'ineq', 'fun': weight_longonly})\n",
    "    options = {'ftol': 1e-20, 'maxiter': 800}\n",
    "    \n",
    "    result = minimize(fun = RiskParity_objective,\n",
    "                      x0 = x0,\n",
    "                      method = 'SLSQP',\n",
    "                      constraints = constraints,                      \n",
    "                      options = options)\n",
    "    return(result['x'])\n",
    "\n",
    "res_rc = RiskParity(covmat)"
   ]
  },
  {
   "cell_type": "code",
   "execution_count": 52,
   "metadata": {},
   "outputs": [
    {
     "data": {
      "text/html": [
       "<div>\n",
       "<style scoped>\n",
       "    .dataframe tbody tr th:only-of-type {\n",
       "        vertical-align: middle;\n",
       "    }\n",
       "\n",
       "    .dataframe tbody tr th {\n",
       "        vertical-align: top;\n",
       "    }\n",
       "\n",
       "    .dataframe thead th {\n",
       "        text-align: right;\n",
       "    }\n",
       "</style>\n",
       "<table border=\"1\" class=\"dataframe\">\n",
       "  <thead>\n",
       "    <tr style=\"text-align: right;\">\n",
       "      <th></th>\n",
       "      <th>0</th>\n",
       "    </tr>\n",
       "  </thead>\n",
       "  <tbody>\n",
       "    <tr>\n",
       "      <th>SPY</th>\n",
       "      <td>0.080432</td>\n",
       "    </tr>\n",
       "    <tr>\n",
       "      <th>IEV</th>\n",
       "      <td>0.070358</td>\n",
       "    </tr>\n",
       "    <tr>\n",
       "      <th>EWJ</th>\n",
       "      <td>0.087400</td>\n",
       "    </tr>\n",
       "    <tr>\n",
       "      <th>EEM</th>\n",
       "      <td>0.061755</td>\n",
       "    </tr>\n",
       "    <tr>\n",
       "      <th>TLT</th>\n",
       "      <td>0.151115</td>\n",
       "    </tr>\n",
       "    <tr>\n",
       "      <th>IEF</th>\n",
       "      <td>0.398800</td>\n",
       "    </tr>\n",
       "    <tr>\n",
       "      <th>IYR</th>\n",
       "      <td>0.022985</td>\n",
       "    </tr>\n",
       "    <tr>\n",
       "      <th>RWX</th>\n",
       "      <td>0.026236</td>\n",
       "    </tr>\n",
       "    <tr>\n",
       "      <th>GLD</th>\n",
       "      <td>0.055406</td>\n",
       "    </tr>\n",
       "    <tr>\n",
       "      <th>DBC</th>\n",
       "      <td>0.045512</td>\n",
       "    </tr>\n",
       "  </tbody>\n",
       "</table>\n",
       "</div>"
      ],
      "text/plain": [
       "            0\n",
       "SPY  0.080432\n",
       "IEV  0.070358\n",
       "EWJ  0.087400\n",
       "EEM  0.061755\n",
       "TLT  0.151115\n",
       "IEF  0.398800\n",
       "IYR  0.022985\n",
       "RWX  0.026236\n",
       "GLD  0.055406\n",
       "DBC  0.045512"
      ]
     },
     "execution_count": 52,
     "metadata": {},
     "output_type": "execute_result"
    }
   ],
   "source": [
    "pd.DataFrame(res_rc).set_index(rets.columns)"
   ]
  },
  {
   "cell_type": "code",
   "execution_count": 53,
   "metadata": {},
   "outputs": [
    {
     "data": {
      "text/plain": [
       "SPY    0.15\n",
       "IEV    0.15\n",
       "EWJ    0.15\n",
       "EEM    0.15\n",
       "TLT    0.10\n",
       "IEF    0.10\n",
       "IYR    0.05\n",
       "RWX    0.05\n",
       "GLD    0.05\n",
       "DBC    0.05\n",
       "dtype: float64"
      ]
     },
     "execution_count": 53,
     "metadata": {},
     "output_type": "execute_result"
    }
   ],
   "source": [
    "RC(res_rc, covmat)"
   ]
  },
  {
   "cell_type": "code",
   "execution_count": null,
   "metadata": {},
   "outputs": [],
   "source": []
  }
 ],
 "metadata": {
  "kernelspec": {
   "display_name": "Python 3",
   "language": "python",
   "name": "python3"
  },
  "language_info": {
   "codemirror_mode": {
    "name": "ipython",
    "version": 3
   },
   "file_extension": ".py",
   "mimetype": "text/x-python",
   "name": "python",
   "nbconvert_exporter": "python",
   "pygments_lexer": "ipython3",
   "version": "3.8.5"
  }
 },
 "nbformat": 4,
 "nbformat_minor": 4
}
